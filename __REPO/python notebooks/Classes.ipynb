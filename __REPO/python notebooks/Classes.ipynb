{
 "cells": [
  {
   "cell_type": "code",
   "execution_count": 0,
   "metadata": {
    "application/vnd.databricks.v1+cell": {
     "cellMetadata": {},
     "inputWidgets": {},
     "nuid": "c46e545f-68ff-4c77-897e-9ec8a50c67a0",
     "showTitle": false,
     "tableResultSettingsMap": {},
     "title": ""
    }
   },
   "outputs": [],
   "source": [
    "# Create a class Book with two attributes: title and author. \n",
    "# When initializing, set both. Then create a book called \"1984\" by \"George Orwell\".\n",
    "\n",
    "class Book:\n",
    "    def __init__(self, title, author):\n",
    "        self.title = title\n",
    "        self.author = author\n",
    "\n",
    "    def display(self):\n",
    "        print(\"Title:\", self.title, \"| Author:\", self.author)\n",
    "\n",
    "\n",
    "my_book = Book(\"1984\", \"George Orwell\")\n",
    "\n",
    "my_book.display()"
   ]
  },
  {
   "cell_type": "code",
   "execution_count": 0,
   "metadata": {
    "application/vnd.databricks.v1+cell": {
     "cellMetadata": {},
     "inputWidgets": {},
     "nuid": "44ce2914-0084-4b46-b276-1f33f3ec1ca7",
     "showTitle": false,
     "tableResultSettingsMap": {},
     "title": ""
    }
   },
   "outputs": [],
   "source": [
    "# In a Person class, how would you make an attribute age optional with a default value of 30?\n",
    "\n",
    "class Person:\n",
    "    def __init__(self, age=30):\n",
    "        self.age = age\n",
    "\n",
    "adam = Person()\n",
    "\n",
    "adam.age"
   ]
  },
  {
   "cell_type": "code",
   "execution_count": 0,
   "metadata": {
    "application/vnd.databricks.v1+cell": {
     "cellMetadata": {},
     "inputWidgets": {},
     "nuid": "591b3d53-8d16-45d2-8fa0-9120e0a39986",
     "showTitle": false,
     "tableResultSettingsMap": {},
     "title": ""
    }
   },
   "outputs": [],
   "source": [
    "# Create a base class Animal with a method speak(). \n",
    "# Then create a subclass Cat that inherits from Animal and overrides the speak() method to print \"Meow\".\n",
    "\n",
    "class Animal:\n",
    "    def __init__(self):\n",
    "        pass\n",
    "\n",
    "    def speak(self):\n",
    "        print(\"speak\")\n",
    "\n",
    "class Cat(Animal):\n",
    "    def __init__(self):\n",
    "        super().__init__()\n",
    "\n",
    "    def speak(self):\n",
    "        print(\"Meow\")   \n",
    "\n",
    "\n",
    "# Test it\n",
    "my_cat = Cat()\n",
    "my_cat.speak()  # Output: Meow\n"
   ]
  },
  {
   "cell_type": "code",
   "execution_count": 0,
   "metadata": {
    "application/vnd.databricks.v1+cell": {
     "cellMetadata": {},
     "inputWidgets": {},
     "nuid": "2e492f9d-4dc1-48a0-98c9-2b3d784923f2",
     "showTitle": false,
     "tableResultSettingsMap": {},
     "title": ""
    }
   },
   "outputs": [],
   "source": [
    "# What happens if a method in a child class has the same name as one in its parent class?\n",
    "\n",
    "# When a method in a child class has the same name as one in its parent class, \n",
    "# it overrides (or \"overwrites\") the parent class method.\n",
    "\n",
    "# This is known as method overriding, and it's a core concept in inheritance and\n",
    "# polymorphism in object-oriented programming."
   ]
  },
  {
   "cell_type": "code",
   "execution_count": 0,
   "metadata": {
    "application/vnd.databricks.v1+cell": {
     "cellMetadata": {},
     "inputWidgets": {},
     "nuid": "7695bb6a-2427-4ce4-a62f-983033b5e40f",
     "showTitle": false,
     "tableResultSettingsMap": {},
     "title": ""
    }
   },
   "outputs": [],
   "source": [
    "# Define a parent class Employee with name and salary. \n",
    "# Then define a child class Manager that also includes department. \n",
    "# Use super() to call the parent constructor.\n",
    "\n",
    "class Employee:\n",
    "    def __init__(self, name, salary):\n",
    "        self.name = name\n",
    "        self.salary = salary\n",
    "\n",
    "\n",
    "class Manager(Employee):\n",
    "    def __init__(self, name, salary, department):\n",
    "        super().__init__(name, salary)\n",
    "        self.department = department\n",
    "\n",
    "\n",
    "man = Manager(\"Adam\", 120000, \"Marketing\")\n",
    "print(man.name, man.salary, man.department)"
   ]
  },
  {
   "cell_type": "code",
   "execution_count": 0,
   "metadata": {
    "application/vnd.databricks.v1+cell": {
     "cellMetadata": {},
     "inputWidgets": {},
     "nuid": "7e5f73ef-dbb3-4758-adaa-9709028e6188",
     "showTitle": false,
     "tableResultSettingsMap": {},
     "title": ""
    }
   },
   "outputs": [],
   "source": [
    "# Add a method to Manager called display() that prints name, salary, and department.\n",
    "\n",
    "\n",
    "class Employee:\n",
    "    def __init__(self, name, salary):\n",
    "        self.name = name\n",
    "        self.salary = salary\n",
    "\n",
    "\n",
    "class Manager(Employee):\n",
    "    def __init__(self, name, salary, department):\n",
    "        super().__init__(name, salary)\n",
    "        self.department = department\n",
    "\n",
    "    def display(self):\n",
    "        print(self.name)\n",
    "        print(self.salary)\n",
    "        print(self.department)\n",
    "\n",
    "## testing\n",
    "\n",
    "many = Manager(\"Adam\", 120000, \"Marketing\")\n",
    "\n",
    "many.display()\n",
    "\n"
   ]
  },
  {
   "cell_type": "code",
   "execution_count": 0,
   "metadata": {
    "application/vnd.databricks.v1+cell": {
     "cellMetadata": {},
     "inputWidgets": {},
     "nuid": "f897c43b-ee38-4d54-bc7e-962129cf339d",
     "showTitle": false,
     "tableResultSettingsMap": {},
     "title": ""
    }
   },
   "outputs": [],
   "source": []
  },
  {
   "cell_type": "code",
   "execution_count": 0,
   "metadata": {
    "application/vnd.databricks.v1+cell": {
     "cellMetadata": {},
     "inputWidgets": {},
     "nuid": "c1762d27-ba8c-4428-b4c4-31efeaaa78a8",
     "showTitle": false,
     "tableResultSettingsMap": {},
     "title": ""
    }
   },
   "outputs": [],
   "source": [
    "# Create a class `Laptop` with attributes `brand` and `price`, and a method `specs()` to print them.\n",
    "\n",
    "class Laptop:\n",
    "    def __init__(self, brand, price):\n",
    "        self.brand = brand\n",
    "        self.price = price\n",
    "\n",
    "    def specs(self):\n",
    "        print(\"Brand:\", self.brand)\n",
    "        print(\"Price: $\", self.price)\n",
    "\n",
    "\n",
    "my_laptop = Laptop(\"Mac\", 1200)\n",
    "\n",
    "my_laptop.specs()"
   ]
  },
  {
   "cell_type": "code",
   "execution_count": 0,
   "metadata": {
    "application/vnd.databricks.v1+cell": {
     "cellMetadata": {},
     "inputWidgets": {},
     "nuid": "cf3b2d55-2018-4ddb-a48c-ac5540aca7d3",
     "showTitle": false,
     "tableResultSettingsMap": {},
     "title": ""
    }
   },
   "outputs": [],
   "source": [
    "# What is the difference between `self.attribute` and a local variable inside a method?\n",
    "\n",
    "# Local variable is only accessible and exists within the method, not outside of method. \n",
    "\n",
    "# self.attribute can be accessed by all the methods within the class."
   ]
  },
  {
   "cell_type": "code",
   "execution_count": 0,
   "metadata": {
    "application/vnd.databricks.v1+cell": {
     "cellMetadata": {},
     "inputWidgets": {},
     "nuid": "02aa9220-a970-4d8b-95a5-8033c8939d5a",
     "showTitle": false,
     "tableResultSettingsMap": {},
     "title": ""
    }
   },
   "outputs": [],
   "source": [
    "# Add a default value for an attribute:\n",
    "# Create a class `Circle` with a radius attribute. Set the default radius to 1.\n",
    "\n",
    "class Circle:\n",
    "    def __init__(self, radius=1):\n",
    "        self.radius = radius\n",
    "\n",
    "    def area(self):\n",
    "        print(f\"Area of a circle with a radius={self.radius} is\", 3*(self.radius**2))\n",
    "\n",
    "\n",
    "my_circle = Circle(2)\n",
    "\n",
    "my_circle.area()\n",
    "\n",
    " "
   ]
  },
  {
   "cell_type": "code",
   "execution_count": 0,
   "metadata": {
    "application/vnd.databricks.v1+cell": {
     "cellMetadata": {},
     "inputWidgets": {},
     "nuid": "2693d02f-11e2-49ba-9cf4-ede585ba76f1",
     "showTitle": false,
     "tableResultSettingsMap": {},
     "title": ""
    }
   },
   "outputs": [],
   "source": [
    "# What happens if you forget `self` in method parameters?\n",
    "\n",
    "# Python will raise a TypeError "
   ]
  },
  {
   "cell_type": "code",
   "execution_count": 0,
   "metadata": {
    "application/vnd.databricks.v1+cell": {
     "cellMetadata": {},
     "inputWidgets": {},
     "nuid": "3be134c0-a62f-471d-9c87-74692032f81e",
     "showTitle": false,
     "tableResultSettingsMap": {},
     "title": ""
    }
   },
   "outputs": [],
   "source": [
    "# Create an object of a class `Movie` with attributes `title`, `year`, and `genre`.\n",
    "\n",
    "class Movie:\n",
    "    def __init__(self, title, year, genre):\n",
    "        self.title = title\n",
    "        self.year = year\n",
    "        self.genre = genre\n",
    "    \n",
    "    def display(self):\n",
    "        print(\"movie title:\", self.title)\n",
    "        print(\"movie year:\", self.year)\n",
    "        print(\"movie genre:\", self.genre)\n",
    "\n",
    "my_movie = Movie(\"john wick\", 2015, \"action\")\n",
    "\n",
    "my_movie.display()"
   ]
  },
  {
   "cell_type": "code",
   "execution_count": 0,
   "metadata": {
    "application/vnd.databricks.v1+cell": {
     "cellMetadata": {},
     "inputWidgets": {},
     "nuid": "f5330dac-b4de-47c3-9a94-02458df97324",
     "showTitle": false,
     "tableResultSettingsMap": {},
     "title": ""
    }
   },
   "outputs": [],
   "source": [
    "# Create a base class `Shape` with a method `area()` that returns 0. \n",
    "# Create two subclasses `Rectangle` and `Triangle`, and override `area()` for each.\n",
    "\n",
    "class Shape:\n",
    "    def __init__(self):\n",
    "        pass\n",
    "\n",
    "    def area(self):\n",
    "        return 0\n",
    "    \n",
    "class Rectangle(Shape):\n",
    "    def __init__(self, a, b):\n",
    "        super().__init__()\n",
    "        self.a = a\n",
    "        self.b = b \n",
    "\n",
    "    def area(self):\n",
    "        return self.a*self.b\n",
    "\n",
    "\n",
    "class Triangle(Shape):\n",
    "    def __init__(self, a, b):\n",
    "        super().__init__()\n",
    "        self.a = a\n",
    "        self.b = b \n",
    "\n",
    "    def area(self):\n",
    "        return self.a*self.b/2\n",
    "    \n",
    "\n",
    "### testing\n",
    "\n",
    "r = Rectangle(10, 5)\n",
    "t = Triangle(10, 5)\n",
    "\n",
    "print(\"Rectangle area:\", r.area())  # Output: 50\n",
    "print(\"Triangle area:\", t.area())   # Output: 25.0"
   ]
  },
  {
   "cell_type": "code",
   "execution_count": 0,
   "metadata": {
    "application/vnd.databricks.v1+cell": {
     "cellMetadata": {},
     "inputWidgets": {},
     "nuid": "e773c89a-03ab-4421-b595-a5fa4dd34458",
     "showTitle": false,
     "tableResultSettingsMap": {},
     "title": ""
    }
   },
   "outputs": [],
   "source": [
    "# What is method overriding in Python? Give an example.\n",
    "\n",
    "# Method overriding occurs when a child (subclass) defines a method with the same name as a method in its parent (superclass). \n",
    "# This allows the subclass to provide a specific implementation of the method that replaces (or overrides) the parent class’s version."
   ]
  },
  {
   "cell_type": "code",
   "execution_count": 0,
   "metadata": {
    "application/vnd.databricks.v1+cell": {
     "cellMetadata": {},
     "inputWidgets": {},
     "nuid": "24baf0ab-8453-4d99-b574-8294debb3a35",
     "showTitle": false,
     "tableResultSettingsMap": {},
     "title": ""
    }
   },
   "outputs": [],
   "source": [
    "\n",
    "\n",
    "\n",
    "7. \n",
    "\n",
    "8. **Use `super()`** to extend functionality:\n",
    "\n",
    "   > Create a class `Person`, and a subclass `Student` that adds `school`. Use `super()` to call the base constructor.\n",
    "\n",
    "9. Explain how `super()` works and why it is useful in Python classes.\n",
    "\n",
    "10. Create a class with a class variable shared by all instances. Give an example of how instance variables differ.\n",
    "\n",
    "---\n",
    "\n",
    "### 🔴 **Advanced: Encapsulation, Static/Class Methods, UDFs**\n",
    "\n",
    "11. Use **private variables** (`__var`) in a class and show how to access them.\n",
    "\n",
    "12. What’s the difference between:\n",
    "\n",
    "    * Instance method\n",
    "    * Class method\n",
    "    * Static method\n",
    "      Provide a short example of each.\n",
    "\n",
    "13. Create a class `Counter` with a class variable `count`, and a class method `increment()` that adds 1 to `count`.\n",
    "\n",
    "14. Write a class that keeps a **list of all created objects' names** using a class-level list.\n",
    "\n",
    "15. What is the difference between composition and inheritance? When would you use each?\n",
    "\n",
    "---\n",
    "\n",
    "### ⚡ Bonus: Object-Oriented Design Thinking\n",
    "\n",
    "16. Design a class structure for an **online bookstore**. Think in terms of:\n",
    "\n",
    "    * `Book`\n",
    "    * `Author`\n",
    "    * `Customer`\n",
    "    * `Cart`\n",
    "\n",
    "17. Design a `BankAccount` class with `deposit()`, `withdraw()`, and `check_balance()` methods. Then subclass it into `SavingsAccount` and `CheckingAccount` with different withdrawal rules.\n",
    "\n",
    "---\n",
    "\n",
    "Would you like me to turn any of these into live coding exercises with answer templates?\n"
   ]
  }
 ],
 "metadata": {
  "application/vnd.databricks.v1+notebook": {
   "computePreferences": null,
   "dashboards": [],
   "environmentMetadata": null,
   "inputWidgetPreferences": null,
   "language": "python",
   "notebookMetadata": {
    "pythonIndentUnit": 4
   },
   "notebookName": "Classes",
   "widgets": {}
  },
  "kernelspec": {
   "display_name": "Python 3",
   "language": "python",
   "name": "python3"
  },
  "language_info": {
   "name": "python"
  },
  "orig_nbformat": 4,
  "vscode": {
   "interpreter": {
    "hash": "aee8b7b246df8f9039afb4144a1f6fd8d2ca17a180786b69acc140d282b71a49"
   }
  }
 },
 "nbformat": 4,
 "nbformat_minor": 0
}
