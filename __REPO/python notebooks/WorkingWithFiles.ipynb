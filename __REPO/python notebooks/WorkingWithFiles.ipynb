{
 "cells": [
  {
   "cell_type": "markdown",
   "metadata": {},
   "source": [
    "# Working With Files\n"
   ]
  },
  {
   "cell_type": "markdown",
   "metadata": {},
   "source": [
    "## The pathlib module\n",
    "The pathlib module is documented at https://docs.python.org/3/library/pathlib.html \n",
    "The module documentaion states:\n",
    "\n",
    "\"If you’ve never used this module before or just aren’t sure which class is right for your task, Path is most likely what you need. It instantiates a concrete path for the platform the code is running on.\"\n",
    "\n",
    "Path lets you separate the folders and files in a path with a forward slash, which then works on both windows and other operating systems like Mac or Linux that use forward slashes."
   ]
  },
  {
   "cell_type": "code",
   "execution_count": 4,
   "metadata": {},
   "outputs": [
    {
     "name": "stdout",
     "output_type": "stream",
     "text": [
      "as a string the path is:  /Users/cagilalbayrak/LAS792/data\n"
     ]
    },
    {
     "data": {
      "text/plain": [
       "'/Users/cagilalbayrak/LAS792/data'"
      ]
     },
     "execution_count": 4,
     "metadata": {},
     "output_type": "execute_result"
    }
   ],
   "source": [
    "from pathlib import Path\n",
    "\n",
    "dataDirectory = r'/Users/cagilalbayrak/LAS792/data'\n",
    "\n",
    "DataFolder = Path(r'/Users/cagilalbayrak/LAS792/data')\n",
    "#DataFolder = Path(r'C:\\Users\\zambrana\\OneDrive - The University of Kansas\\LAS792_Fall2021_ForStudents')\n",
    "print(\"as a string the path is: \", str(DataFolder))\n",
    "\n",
    "str(DataFolder)\n"
   ]
  },
  {
   "cell_type": "markdown",
   "metadata": {},
   "source": [
    "### Concatening Path elements\n",
    "\n",
    "The Path method can concatenate arguments into a single path\n",
    "\n",
    "The / operator can do the same **for Path objects**"
   ]
  },
  {
   "cell_type": "code",
   "execution_count": 7,
   "metadata": {
    "scrolled": true
   },
   "outputs": [
    {
     "name": "stdout",
     "output_type": "stream",
     "text": [
      "/Users/cagilalbayrak/LAS792/data/firstDay\n",
      "/Users/cagilalbayrak/LAS792/data/firstDay\n"
     ]
    }
   ],
   "source": [
    "newPath = Path(DataFolder,\"firstDay\")\n",
    "print(newPath)\n",
    "\n",
    "alternative = DataFolder / \"firstDay\"\n",
    "print(alternative)"
   ]
  },
  {
   "cell_type": "markdown",
   "metadata": {},
   "source": [
    "### Current home directory"
   ]
  },
  {
   "cell_type": "code",
   "execution_count": 8,
   "metadata": {},
   "outputs": [
    {
     "data": {
      "text/plain": [
       "PosixPath('/Users/cagilalbayrak')"
      ]
     },
     "execution_count": 8,
     "metadata": {},
     "output_type": "execute_result"
    }
   ],
   "source": [
    "Path.home()"
   ]
  },
  {
   "cell_type": "markdown",
   "metadata": {},
   "source": [
    "### Current working directory"
   ]
  },
  {
   "cell_type": "code",
   "execution_count": 14,
   "metadata": {},
   "outputs": [
    {
     "data": {
      "text/plain": [
       "PosixPath('/Users/cagilalbayrak/LAS792')"
      ]
     },
     "execution_count": 14,
     "metadata": {},
     "output_type": "execute_result"
    }
   ],
   "source": [
    "Path.cwd()"
   ]
  },
  {
   "cell_type": "markdown",
   "metadata": {},
   "source": [
    "### Making a new folder\n",
    "The Path.mkdir() method makes a new folder. It returns an error it the folder already exists."
   ]
  },
  {
   "cell_type": "code",
   "execution_count": 10,
   "metadata": {
    "tags": [
     "raises-exception"
    ]
   },
   "outputs": [
    {
     "ename": "FileExistsError",
     "evalue": "[Errno 17] File exists: '/Users/cagilalbayrak/testFolder'",
     "output_type": "error",
     "traceback": [
      "\u001b[0;31m---------------------------------------------------------------------------\u001b[0m",
      "\u001b[0;31mFileExistsError\u001b[0m                           Traceback (most recent call last)",
      "\u001b[0;32m<ipython-input-10-29fc5ced6ff2>\u001b[0m in \u001b[0;36m<module>\u001b[0;34m\u001b[0m\n\u001b[1;32m      1\u001b[0m \u001b[0mnewFolderPath\u001b[0m \u001b[0;34m=\u001b[0m \u001b[0mPath\u001b[0m\u001b[0;34m.\u001b[0m\u001b[0mhome\u001b[0m\u001b[0;34m(\u001b[0m\u001b[0;34m)\u001b[0m \u001b[0;34m/\u001b[0m \u001b[0;34m\"testFolder\"\u001b[0m\u001b[0;34m\u001b[0m\u001b[0;34m\u001b[0m\u001b[0m\n\u001b[0;32m----> 2\u001b[0;31m \u001b[0mPath\u001b[0m\u001b[0;34m(\u001b[0m\u001b[0mnewFolderPath\u001b[0m\u001b[0;34m)\u001b[0m\u001b[0;34m.\u001b[0m\u001b[0mmkdir\u001b[0m\u001b[0;34m(\u001b[0m\u001b[0;34m)\u001b[0m\u001b[0;34m\u001b[0m\u001b[0;34m\u001b[0m\u001b[0m\n\u001b[0m\u001b[1;32m      3\u001b[0m \u001b[0;34m\u001b[0m\u001b[0m\n",
      "\u001b[0;32m~/opt/anaconda3/lib/python3.8/pathlib.py\u001b[0m in \u001b[0;36mmkdir\u001b[0;34m(self, mode, parents, exist_ok)\u001b[0m\n\u001b[1;32m   1285\u001b[0m             \u001b[0mself\u001b[0m\u001b[0;34m.\u001b[0m\u001b[0m_raise_closed\u001b[0m\u001b[0;34m(\u001b[0m\u001b[0;34m)\u001b[0m\u001b[0;34m\u001b[0m\u001b[0;34m\u001b[0m\u001b[0m\n\u001b[1;32m   1286\u001b[0m         \u001b[0;32mtry\u001b[0m\u001b[0;34m:\u001b[0m\u001b[0;34m\u001b[0m\u001b[0;34m\u001b[0m\u001b[0m\n\u001b[0;32m-> 1287\u001b[0;31m             \u001b[0mself\u001b[0m\u001b[0;34m.\u001b[0m\u001b[0m_accessor\u001b[0m\u001b[0;34m.\u001b[0m\u001b[0mmkdir\u001b[0m\u001b[0;34m(\u001b[0m\u001b[0mself\u001b[0m\u001b[0;34m,\u001b[0m \u001b[0mmode\u001b[0m\u001b[0;34m)\u001b[0m\u001b[0;34m\u001b[0m\u001b[0;34m\u001b[0m\u001b[0m\n\u001b[0m\u001b[1;32m   1288\u001b[0m         \u001b[0;32mexcept\u001b[0m \u001b[0mFileNotFoundError\u001b[0m\u001b[0;34m:\u001b[0m\u001b[0;34m\u001b[0m\u001b[0;34m\u001b[0m\u001b[0m\n\u001b[1;32m   1289\u001b[0m             \u001b[0;32mif\u001b[0m \u001b[0;32mnot\u001b[0m \u001b[0mparents\u001b[0m \u001b[0;32mor\u001b[0m \u001b[0mself\u001b[0m\u001b[0;34m.\u001b[0m\u001b[0mparent\u001b[0m \u001b[0;34m==\u001b[0m \u001b[0mself\u001b[0m\u001b[0;34m:\u001b[0m\u001b[0;34m\u001b[0m\u001b[0;34m\u001b[0m\u001b[0m\n",
      "\u001b[0;31mFileExistsError\u001b[0m: [Errno 17] File exists: '/Users/cagilalbayrak/testFolder'"
     ]
    }
   ],
   "source": [
    "\n",
    "otherPath = Path(r'/Users/cagilalbayrak/LAS792/data')\n",
    "\n",
    "newFolderPath = Path.home() / \"testFolder\"\n",
    "Path(newFolderPath).mkdir()\n",
    "\n",
    "\n"
   ]
  },
  {
   "cell_type": "markdown",
   "metadata": {},
   "source": [
    "### Catching errors\n",
    "\n",
    "Sometimes you want to catch and error and do something with it and then proceed instead of halting.\n",
    "The try ... except lets you do that.\n",
    "\n",
    "You should \"catch\" only the specific error(s) you might expect. Fid them by generating the error (like the \"*FileExistsError*\" above).\n",
    "\n",
    "Try changing the folder name below and then running it twice."
   ]
  },
  {
   "cell_type": "code",
   "execution_count": 12,
   "metadata": {},
   "outputs": [
    {
     "name": "stdout",
     "output_type": "stream",
     "text": [
      "/Users/cagilalbayrak/testFolder2  already exists ... cool\n"
     ]
    }
   ],
   "source": [
    "try:\n",
    "    newFolderPath2 = Path.home() / \"testFolder2\"\n",
    "    Path(newFolderPath2).mkdir()\n",
    "except FileExistsError:\n",
    "    print(newFolderPath2, \" already exists ... cool\")"
   ]
  },
  {
   "cell_type": "markdown",
   "metadata": {},
   "source": [
    "### Path parts\n",
    "Path has methods to extract parts of a path. The example below shows which parts of the path are extracted by these properties of the path object.\n",
    "\n",
    "- pathObject.anchor\n",
    "- pathObject.parent\n",
    "- pathObject.name\n",
    "- pathObject.stem\n",
    "- pathObject.suffix"
   ]
  },
  {
   "cell_type": "code",
   "execution_count": 13,
   "metadata": {},
   "outputs": [
    {
     "name": "stdout",
     "output_type": "stream",
     "text": [
      "For the path:  /Users/cagilalbayrak/testFolder/junk.txt\n",
      "\n",
      "anchor:  /  ;  type:  <class 'str'>\n",
      "parent:  /Users/cagilalbayrak/testFolder  ;  type:  <class 'pathlib.PosixPath'>\n",
      "name:  junk.txt  ;  type:  <class 'str'>\n",
      "stem:  junk  ;  type:  <class 'str'>\n",
      "suffix:  .txt  ;  type:  <class 'str'>\n"
     ]
    }
   ],
   "source": [
    "\n",
    "newFilePath = newFolderPath / \"junk.txt\"\n",
    "print(\"For the path: \", newFilePath)\n",
    "\n",
    "print(\"\\nanchor: \", newFilePath.anchor, \" ;  type: \",  type(newFolderPath.anchor))\n",
    "print(\"parent: \", newFilePath.parent, \" ;  type: \",   type(newFolderPath.parent))\n",
    "print(\"name: \", newFilePath.name, \" ;  type: \",   type(newFolderPath.name))\n",
    "print(\"stem: \", newFilePath.stem, \" ;  type: \",   type(newFolderPath.stem))\n",
    "print(\"suffix: \", newFilePath.suffix, \" ;  type: \",   type(newFolderPath.suffix))"
   ]
  },
  {
   "cell_type": "markdown",
   "metadata": {},
   "source": [
    "### Does it exist, and if so what kind of beast is it?"
   ]
  },
  {
   "cell_type": "code",
   "execution_count": 15,
   "metadata": {},
   "outputs": [
    {
     "name": "stdout",
     "output_type": "stream",
     "text": [
      "False\n",
      "False\n",
      "True\n"
     ]
    }
   ],
   "source": [
    "print(newFilePath.exists())\n",
    "print(newFolderPath.is_file())\n",
    "print(newFolderPath.is_dir())"
   ]
  },
  {
   "cell_type": "markdown",
   "metadata": {},
   "source": [
    "### Writing to a new file\n",
    "You can open a path to a file that does not exist. Python will create the file. see https://docs.python.org/3/library/functions.html#open \n",
    "The second argument states how to open the file:\n",
    "\n",
    "- 'r' open for reading (default)\n",
    "\n",
    "- 'w' open for writing, truncating the file first\n",
    "\n",
    "- 'x' - open for exclusive creation, failing if the file already exists\n",
    "\n",
    "- 'a' - open for writing, appending to the end of the file if it exists\n",
    "\n",
    "- 'b' - binary mode\n",
    "\n",
    "- 't' - text mode (default)\n",
    "\n",
    "- '+' - open for updating (reading and writing)\n",
    "\n",
    "\n",
    "In the code that follows the new file will contain:\n",
    "\n",
    "this is the first line.  this more on that line.\n",
    "<br>this is the second line. \n"
   ]
  },
  {
   "cell_type": "code",
   "execution_count": 20,
   "metadata": {},
   "outputs": [
    {
     "name": "stdout",
     "output_type": "stream",
     "text": [
      "writing to file  /Users/cagilalbayrak/testFolder/junk.txt\n",
      "The three writes wrote  74  characters\n"
     ]
    }
   ],
   "source": [
    "testFile = open(newFilePath, 'w')\n",
    "print(\"writing to file \", newFilePath)\n",
    "charsWritten = 0\n",
    "\n",
    "#In Python \"X += Y\" is the same as \"X = X + Y\"\n",
    "#in stata, ++'i'\n",
    "# i++ means use the value of i hen increase by i\n",
    "\n",
    "charsWritten  += testFile.write(\"this is the first line. \")\n",
    "charsWritten  += testFile.write(\" this more on that line.\")\n",
    "charsWritten  += testFile.write(\"\\nthis is the second line. \") #note the \\n that starts the new line\n",
    "\n",
    "print(\"The three writes wrote \", charsWritten, \" characters\")\n",
    "testFile.close()"
   ]
  },
  {
   "cell_type": "code",
   "execution_count": 21,
   "metadata": {},
   "outputs": [],
   "source": [
    "with open(newFilePath, 'a') as f:  #append is a write is w\n",
    "    f.write(\"\\nSome other line\")"
   ]
  },
  {
   "cell_type": "markdown",
   "metadata": {},
   "source": [
    "### trying to write without permission"
   ]
  },
  {
   "cell_type": "code",
   "execution_count": 22,
   "metadata": {
    "tags": [
     "raises-exception"
    ]
   },
   "outputs": [
    {
     "ename": "UnsupportedOperation",
     "evalue": "not writable",
     "output_type": "error",
     "traceback": [
      "\u001b[0;31m---------------------------------------------------------------------------\u001b[0m",
      "\u001b[0;31mUnsupportedOperation\u001b[0m                      Traceback (most recent call last)",
      "\u001b[0;32m<ipython-input-22-ccb31ffad863>\u001b[0m in \u001b[0;36m<module>\u001b[0;34m\u001b[0m\n\u001b[1;32m      3\u001b[0m \u001b[0mcharsWritten\u001b[0m \u001b[0;34m=\u001b[0m \u001b[0;36m0\u001b[0m\u001b[0;34m\u001b[0m\u001b[0;34m\u001b[0m\u001b[0m\n\u001b[1;32m      4\u001b[0m \u001b[0;34m\u001b[0m\u001b[0m\n\u001b[0;32m----> 5\u001b[0;31m \u001b[0mcharsWritten\u001b[0m  \u001b[0;34m+=\u001b[0m \u001b[0mtestFile\u001b[0m\u001b[0;34m.\u001b[0m\u001b[0mwrite\u001b[0m\u001b[0;34m(\u001b[0m\u001b[0;34m\"written in text mode. \"\u001b[0m\u001b[0;34m)\u001b[0m\u001b[0;34m\u001b[0m\u001b[0;34m\u001b[0m\u001b[0m\n\u001b[0m\u001b[1;32m      6\u001b[0m \u001b[0;34m\u001b[0m\u001b[0m\n\u001b[1;32m      7\u001b[0m \u001b[0mprint\u001b[0m\u001b[0;34m(\u001b[0m\u001b[0;34m\"The three writes wrote \"\u001b[0m\u001b[0;34m,\u001b[0m \u001b[0mcharsWritten\u001b[0m\u001b[0;34m,\u001b[0m \u001b[0;34m\" characters\"\u001b[0m\u001b[0;34m)\u001b[0m\u001b[0;34m\u001b[0m\u001b[0;34m\u001b[0m\u001b[0m\n",
      "\u001b[0;31mUnsupportedOperation\u001b[0m: not writable"
     ]
    }
   ],
   "source": [
    "# open in default text mode and try to write\n",
    "testFile = open(newFilePath)\n",
    "charsWritten = 0\n",
    "\n",
    "charsWritten  += testFile.write(\"written in text mode. \")\n",
    "\n",
    "print(\"The three writes wrote \", charsWritten, \" characters\")\n",
    "\n",
    "testFile.close()"
   ]
  },
  {
   "cell_type": "markdown",
   "metadata": {},
   "source": [
    "## Archiving Python data objects\n",
    "Native Python objects (like a dict)  can be archived as the text that creates them. The pprint.pformat method produces the text that would recreate a Python object. It does not do so for a Pandas DataFrame.\n",
    "The DataFrame can be expressed as a dictionary that would recreate it when called as the argument to the pd.DataFrame method."
   ]
  },
  {
   "cell_type": "code",
   "execution_count": 71,
   "metadata": {},
   "outputs": [
    {
     "name": "stdout",
     "output_type": "stream",
     "text": [
      "      Name  Age\n",
      "zero  John   21\n",
      "one   Jane   20\n",
      "two   Emma   30\n",
      "{'Age': {'one': 20, 'two': 30, 'zero': 21},\n",
      " 'Name': {'one': 'Jane', 'two': 'Emma', 'zero': 'John'}}\n"
     ]
    },
    {
     "data": {
      "text/html": [
       "<div>\n",
       "<style scoped>\n",
       "    .dataframe tbody tr th:only-of-type {\n",
       "        vertical-align: middle;\n",
       "    }\n",
       "\n",
       "    .dataframe tbody tr th {\n",
       "        vertical-align: top;\n",
       "    }\n",
       "\n",
       "    .dataframe thead th {\n",
       "        text-align: right;\n",
       "    }\n",
       "</style>\n",
       "<table border=\"1\" class=\"dataframe\">\n",
       "  <thead>\n",
       "    <tr style=\"text-align: right;\">\n",
       "      <th></th>\n",
       "      <th>Age</th>\n",
       "      <th>Name</th>\n",
       "    </tr>\n",
       "  </thead>\n",
       "  <tbody>\n",
       "    <tr>\n",
       "      <th>one</th>\n",
       "      <td>20</td>\n",
       "      <td>Jane</td>\n",
       "    </tr>\n",
       "    <tr>\n",
       "      <th>two</th>\n",
       "      <td>30</td>\n",
       "      <td>Emma</td>\n",
       "    </tr>\n",
       "    <tr>\n",
       "      <th>zero</th>\n",
       "      <td>21</td>\n",
       "      <td>John</td>\n",
       "    </tr>\n",
       "  </tbody>\n",
       "</table>\n",
       "</div>"
      ],
      "text/plain": [
       "      Age  Name\n",
       "one    20  Jane\n",
       "two    30  Emma\n",
       "zero   21  John"
      ]
     },
     "execution_count": 71,
     "metadata": {},
     "output_type": "execute_result"
    }
   ],
   "source": [
    "import pandas as pd\n",
    "import pprint\n",
    "myDataAsDict = {'Name':[\"John\", \"Jane\", \"Emma\"],\n",
    "                    'Age':[21,20,30]}\n",
    "\n",
    "myDf = pd.DataFrame(myDataAsDict, index=['zero', 'one', 'two'])\n",
    "\n",
    "pprint.pprint(myDf)\n",
    "\n",
    "myDfAsText = pprint.pformat(myDf.to_dict())\n",
    "print(myDfAsText)\n",
    "\n",
    "\n",
    "# recreate the DataFrame by evaluating the string\n",
    "myDfFromDict = pd.DataFrame(eval(myDfAsText))\n",
    "myDfFromDict"
   ]
  },
  {
   "cell_type": "markdown",
   "metadata": {},
   "source": [
    "### writing a module\n",
    "The function below makes the DataFrame statement that will recreate a DataFrame. \n",
    "It could be written to a .py file.  Importing that file makes the DataFrame a \n",
    "property of the module."
   ]
  },
  {
   "cell_type": "code",
   "execution_count": 72,
   "metadata": {},
   "outputs": [
    {
     "name": "stdout",
     "output_type": "stream",
     "text": [
      "myNewDf = pd.DataFrame({'Age': {'one': 20, 'two': 30, 'zero': 21},\n",
      " 'Name': {'one': 'Jane', 'two': 'Emma', 'zero': 'John'}})\n"
     ]
    },
    {
     "data": {
      "text/html": [
       "<div>\n",
       "<style scoped>\n",
       "    .dataframe tbody tr th:only-of-type {\n",
       "        vertical-align: middle;\n",
       "    }\n",
       "\n",
       "    .dataframe tbody tr th {\n",
       "        vertical-align: top;\n",
       "    }\n",
       "\n",
       "    .dataframe thead th {\n",
       "        text-align: right;\n",
       "    }\n",
       "</style>\n",
       "<table border=\"1\" class=\"dataframe\">\n",
       "  <thead>\n",
       "    <tr style=\"text-align: right;\">\n",
       "      <th></th>\n",
       "      <th>Age</th>\n",
       "      <th>Name</th>\n",
       "    </tr>\n",
       "  </thead>\n",
       "  <tbody>\n",
       "    <tr>\n",
       "      <th>one</th>\n",
       "      <td>20</td>\n",
       "      <td>Jane</td>\n",
       "    </tr>\n",
       "    <tr>\n",
       "      <th>two</th>\n",
       "      <td>30</td>\n",
       "      <td>Emma</td>\n",
       "    </tr>\n",
       "    <tr>\n",
       "      <th>zero</th>\n",
       "      <td>21</td>\n",
       "      <td>John</td>\n",
       "    </tr>\n",
       "  </tbody>\n",
       "</table>\n",
       "</div>"
      ],
      "text/plain": [
       "      Age  Name\n",
       "one    20  Jane\n",
       "two    30  Emma\n",
       "zero   21  John"
      ]
     },
     "execution_count": 72,
     "metadata": {},
     "output_type": "execute_result"
    }
   ],
   "source": [
    "import pandas as pd\n",
    "\n",
    "def DfToText(dFname, dFrame):\n",
    "    # converts a dataframe to text code that would recreate the data frame\n",
    "    DfAsDictText = pprint.pformat(myDf.to_dict())\n",
    "    return dFname + \" = pd.DataFrame(\" + DfAsDictText + \")\"\n",
    "print(DfToText(\"myNewDf\", myDf))\n",
    "\n",
    "dFSaveFile = open(\"dFcode.py\", 'w')\n",
    "\n",
    "dFSaveFile.write(\"import pandas as pd\\n\")\n",
    "dFSaveFile.write(DfToText(\"myNewDf\", myDf))\n",
    "dFSaveFile.write(\"\\n\")\n",
    "\n",
    "dFSaveFile.close()\n",
    "\n",
    "# The objects created in the file dFcode.py \n",
    "# become properties of the module dFcode\n",
    "import dFcode\n",
    "# This is the myNewDf property\n",
    "dFcode.myNewDf"
   ]
  },
  {
   "cell_type": "code",
   "execution_count": null,
   "metadata": {},
   "outputs": [],
   "source": [
    "## this is revised try this as well.\n",
    "\n",
    "import pandas as pd\n",
    "myDf2 = myDf.copy()\n",
    "myDf2['foo'] = 1 \n",
    "print (myDf2)\n",
    "\n",
    "def DfToText(dFname, dFrame):\n",
    "    # converts a dataframe to text code that would recreate the data frame\n",
    "    DfAsDictText = pprint.pformat(dFrame.to_dict())\n",
    "    return dFname + \" = pd.DataFrame(\" + DfAsDictText + \")\"\n",
    "print(DfToText(\"myNewDf\", myDf2))\n",
    "\n",
    "dFSaveFile = open(\"dFcode.py\", 'w')\n",
    "\n",
    "dFSaveFile.write(\"import pandas as pd\\n\")\n",
    "dFSaveFile.write(DfToText(\"myNewDf\", myDf))\n",
    "dFSaveFile.write(\"\\n\")\n",
    "\n",
    "dFSaveFile.close()\n",
    "\n",
    "# The objects created in the file dFcode.py \n",
    "# become properties of the module dFcode\n",
    "import dFcode\n",
    "# This is the myNewDf property\n",
    "dFcode.myNewDf"
   ]
  },
  {
   "cell_type": "markdown",
   "metadata": {},
   "source": [
    "## Traversing a folder with os.walk()\n",
    "The os.walk() function from the os module https://docs.python.org/3/library/os.html  traverses a given folder and returns all of the folders and files in that older and all of its subfolders.\n",
    "\n"
   ]
  },
  {
   "cell_type": "markdown",
   "metadata": {},
   "source": [
    "### Listing folder contents\n",
    "This code prints a list of the contents of each folder in the tree"
   ]
  },
  {
   "cell_type": "code",
   "execution_count": 73,
   "metadata": {},
   "outputs": [
    {
     "name": "stdout",
     "output_type": "stream",
     "text": [
      "\n",
      " C:\\Users\\zambrana\\OneDrive - The University of Kansas\\LAS792_Fall2021\\JupyterNotebooks\n",
      "Folders: \n",
      ".ipynb_checkpoints\n",
      "__pycache__\n",
      "\n",
      "Files: \n",
      "Characters.ipynb\n",
      "DataFrameIndexes.ipynb\n",
      "dFcode.py\n",
      "Examples2021_02_18.ipynb\n",
      "Examples2021_09_07.ipynb\n",
      "Exercises2021_02_11.ipynb\n",
      "fixedHD5.h5\n",
      "IteratingDataFrames.ipynb\n",
      "JSON.ipynb\n",
      "Merging_Tables_with_Pandas-Copy1.ipynb\n",
      "Merging_Tables_with_Pandas.ipynb\n",
      "PythonBasics.ipynb\n",
      "PythonBasics_Exercises_08_26_2021.ipynb\n",
      "PythonFunctions.ipynb\n",
      "PythonPlots.ipynb\n",
      "Reading1.ipynb\n",
      "Reading2.ipynb\n",
      "RegularExpressionsInPython.ipynb\n",
      "RestructuringData.ipynb\n",
      "RestructuringData_20210921.ipynb\n",
      "SentinelAndMissing.ipynb\n",
      "SQLCreateInsertEtc.ipynb\n",
      "SQLjoin.ipynb\n",
      "SQLselect.ipynb\n",
      "SQLsubqueriesAndSets.ipynb\n",
      "stubs.ipynb\n",
      "Transforming.ipynb\n",
      "Transforming_20210914.ipynb\n",
      "WorkingWithFiles.ipynb\n",
      "XML.ipynb\n",
      "\n",
      " C:\\Users\\zambrana\\OneDrive - The University of Kansas\\LAS792_Fall2021\\JupyterNotebooks\n",
      "Folders: \n",
      "\n",
      "Files: \n",
      "Characters-checkpoint.ipynb\n",
      "DataFrameIndexes-checkpoint.ipynb\n",
      "Examples2021_02_18-checkpoint.ipynb\n",
      "Examples2021_09_07-checkpoint.ipynb\n",
      "Exercises2021_02_11-checkpoint.ipynb\n",
      "IteratingDataFrames-checkpoint.ipynb\n",
      "Merging_Tables_with_Pandas-checkpoint.ipynb\n",
      "Merging_Tables_with_Pandas-Copy1-checkpoint.ipynb\n",
      "PythonBasics (2)-checkpoint.ipynb\n",
      "PythonBasics-checkpoint.ipynb\n",
      "PythonBasics_Exercises_08_26_2021-checkpoint.ipynb\n",
      "PythonFunctions-checkpoint.ipynb\n",
      "PythonPlots-checkpoint.ipynb\n",
      "Reading1-checkpoint.ipynb\n",
      "Reading2-checkpoint.ipynb\n",
      "RegularExpressionsInPython-checkpoint.ipynb\n",
      "RestructuringData-checkpoint.ipynb\n",
      "RestructuringData_20210921-checkpoint.ipynb\n",
      "SentinelAndMissing-checkpoint.ipynb\n",
      "SQLCreateInsertEtc-checkpoint.ipynb\n",
      "SQLjoin-checkpoint.ipynb\n",
      "SQLselect-checkpoint.ipynb\n",
      "SQLsubqueriesAndSets-checkpoint.ipynb\n",
      "stubs-checkpoint.ipynb\n",
      "Transforming-checkpoint.ipynb\n",
      "Transforming_20210914-checkpoint.ipynb\n",
      "WorkingWithFiles-checkpoint.ipynb\n",
      "XML-checkpoint.ipynb\n",
      "\n",
      " C:\\Users\\zambrana\\OneDrive - The University of Kansas\\LAS792_Fall2021\\JupyterNotebooks\n",
      "Folders: \n",
      "\n",
      "Files: \n",
      "dFcode.cpython-37.pyc\n"
     ]
    }
   ],
   "source": [
    "# a simple listing of names\n",
    "import os\n",
    "from pathlib import Path\n",
    "\n",
    "newPath = Path.cwd()\n",
    "\n",
    "for targetFolder, folders, files in os.walk(str(newPath)):\n",
    "    print('\\n', newPath)\n",
    "    print('Folders: ')\n",
    "    for folder in folders:\n",
    "        print(folder)\n",
    "    print('\\nFiles: ')\n",
    "    for file in files:\n",
    "        print(file)                                            "
   ]
  },
  {
   "cell_type": "markdown",
   "metadata": {},
   "source": [
    "### Listing files as paths\n",
    "This code only lists files, returning the full path of the file."
   ]
  },
  {
   "cell_type": "code",
   "execution_count": 74,
   "metadata": {},
   "outputs": [
    {
     "name": "stdout",
     "output_type": "stream",
     "text": [
      "['C:\\\\Users\\\\zambrana\\\\OneDrive - The University of '\n",
      " 'Kansas\\\\LAS792_Fall2021\\\\JupyterNotebooks\\\\Characters.ipynb',\n",
      " 'C:\\\\Users\\\\zambrana\\\\OneDrive - The University of '\n",
      " 'Kansas\\\\LAS792_Fall2021\\\\JupyterNotebooks\\\\DataFrameIndexes.ipynb',\n",
      " 'C:\\\\Users\\\\zambrana\\\\OneDrive - The University of '\n",
      " 'Kansas\\\\LAS792_Fall2021\\\\JupyterNotebooks\\\\dFcode.py',\n",
      " 'C:\\\\Users\\\\zambrana\\\\OneDrive - The University of '\n",
      " 'Kansas\\\\LAS792_Fall2021\\\\JupyterNotebooks\\\\Examples2021_02_18.ipynb',\n",
      " 'C:\\\\Users\\\\zambrana\\\\OneDrive - The University of '\n",
      " 'Kansas\\\\LAS792_Fall2021\\\\JupyterNotebooks\\\\Examples2021_09_07.ipynb',\n",
      " 'C:\\\\Users\\\\zambrana\\\\OneDrive - The University of '\n",
      " 'Kansas\\\\LAS792_Fall2021\\\\JupyterNotebooks\\\\Exercises2021_02_11.ipynb',\n",
      " 'C:\\\\Users\\\\zambrana\\\\OneDrive - The University of '\n",
      " 'Kansas\\\\LAS792_Fall2021\\\\JupyterNotebooks\\\\fixedHD5.h5',\n",
      " 'C:\\\\Users\\\\zambrana\\\\OneDrive - The University of '\n",
      " 'Kansas\\\\LAS792_Fall2021\\\\JupyterNotebooks\\\\IteratingDataFrames.ipynb',\n",
      " 'C:\\\\Users\\\\zambrana\\\\OneDrive - The University of '\n",
      " 'Kansas\\\\LAS792_Fall2021\\\\JupyterNotebooks\\\\JSON.ipynb',\n",
      " 'C:\\\\Users\\\\zambrana\\\\OneDrive - The University of '\n",
      " 'Kansas\\\\LAS792_Fall2021\\\\JupyterNotebooks\\\\Merging_Tables_with_Pandas-Copy1.ipynb',\n",
      " 'C:\\\\Users\\\\zambrana\\\\OneDrive - The University of '\n",
      " 'Kansas\\\\LAS792_Fall2021\\\\JupyterNotebooks\\\\Merging_Tables_with_Pandas.ipynb',\n",
      " 'C:\\\\Users\\\\zambrana\\\\OneDrive - The University of '\n",
      " 'Kansas\\\\LAS792_Fall2021\\\\JupyterNotebooks\\\\PythonBasics.ipynb',\n",
      " 'C:\\\\Users\\\\zambrana\\\\OneDrive - The University of '\n",
      " 'Kansas\\\\LAS792_Fall2021\\\\JupyterNotebooks\\\\PythonBasics_Exercises_08_26_2021.ipynb',\n",
      " 'C:\\\\Users\\\\zambrana\\\\OneDrive - The University of '\n",
      " 'Kansas\\\\LAS792_Fall2021\\\\JupyterNotebooks\\\\PythonFunctions.ipynb',\n",
      " 'C:\\\\Users\\\\zambrana\\\\OneDrive - The University of '\n",
      " 'Kansas\\\\LAS792_Fall2021\\\\JupyterNotebooks\\\\PythonPlots.ipynb',\n",
      " 'C:\\\\Users\\\\zambrana\\\\OneDrive - The University of '\n",
      " 'Kansas\\\\LAS792_Fall2021\\\\JupyterNotebooks\\\\Reading1.ipynb',\n",
      " 'C:\\\\Users\\\\zambrana\\\\OneDrive - The University of '\n",
      " 'Kansas\\\\LAS792_Fall2021\\\\JupyterNotebooks\\\\Reading2.ipynb',\n",
      " 'C:\\\\Users\\\\zambrana\\\\OneDrive - The University of '\n",
      " 'Kansas\\\\LAS792_Fall2021\\\\JupyterNotebooks\\\\RegularExpressionsInPython.ipynb',\n",
      " 'C:\\\\Users\\\\zambrana\\\\OneDrive - The University of '\n",
      " 'Kansas\\\\LAS792_Fall2021\\\\JupyterNotebooks\\\\RestructuringData.ipynb',\n",
      " 'C:\\\\Users\\\\zambrana\\\\OneDrive - The University of '\n",
      " 'Kansas\\\\LAS792_Fall2021\\\\JupyterNotebooks\\\\RestructuringData_20210921.ipynb',\n",
      " 'C:\\\\Users\\\\zambrana\\\\OneDrive - The University of '\n",
      " 'Kansas\\\\LAS792_Fall2021\\\\JupyterNotebooks\\\\SentinelAndMissing.ipynb',\n",
      " 'C:\\\\Users\\\\zambrana\\\\OneDrive - The University of '\n",
      " 'Kansas\\\\LAS792_Fall2021\\\\JupyterNotebooks\\\\SQLCreateInsertEtc.ipynb',\n",
      " 'C:\\\\Users\\\\zambrana\\\\OneDrive - The University of '\n",
      " 'Kansas\\\\LAS792_Fall2021\\\\JupyterNotebooks\\\\SQLjoin.ipynb',\n",
      " 'C:\\\\Users\\\\zambrana\\\\OneDrive - The University of '\n",
      " 'Kansas\\\\LAS792_Fall2021\\\\JupyterNotebooks\\\\SQLselect.ipynb',\n",
      " 'C:\\\\Users\\\\zambrana\\\\OneDrive - The University of '\n",
      " 'Kansas\\\\LAS792_Fall2021\\\\JupyterNotebooks\\\\SQLsubqueriesAndSets.ipynb',\n",
      " 'C:\\\\Users\\\\zambrana\\\\OneDrive - The University of '\n",
      " 'Kansas\\\\LAS792_Fall2021\\\\JupyterNotebooks\\\\stubs.ipynb',\n",
      " 'C:\\\\Users\\\\zambrana\\\\OneDrive - The University of '\n",
      " 'Kansas\\\\LAS792_Fall2021\\\\JupyterNotebooks\\\\Transforming.ipynb',\n",
      " 'C:\\\\Users\\\\zambrana\\\\OneDrive - The University of '\n",
      " 'Kansas\\\\LAS792_Fall2021\\\\JupyterNotebooks\\\\Transforming_20210914.ipynb',\n",
      " 'C:\\\\Users\\\\zambrana\\\\OneDrive - The University of '\n",
      " 'Kansas\\\\LAS792_Fall2021\\\\JupyterNotebooks\\\\WorkingWithFiles.ipynb',\n",
      " 'C:\\\\Users\\\\zambrana\\\\OneDrive - The University of '\n",
      " 'Kansas\\\\LAS792_Fall2021\\\\JupyterNotebooks\\\\XML.ipynb',\n",
      " 'C:\\\\Users\\\\zambrana\\\\OneDrive - The University of '\n",
      " 'Kansas\\\\LAS792_Fall2021\\\\JupyterNotebooks\\\\.ipynb_checkpoints\\\\Characters-checkpoint.ipynb',\n",
      " 'C:\\\\Users\\\\zambrana\\\\OneDrive - The University of '\n",
      " 'Kansas\\\\LAS792_Fall2021\\\\JupyterNotebooks\\\\.ipynb_checkpoints\\\\DataFrameIndexes-checkpoint.ipynb',\n",
      " 'C:\\\\Users\\\\zambrana\\\\OneDrive - The University of '\n",
      " 'Kansas\\\\LAS792_Fall2021\\\\JupyterNotebooks\\\\.ipynb_checkpoints\\\\Examples2021_02_18-checkpoint.ipynb',\n",
      " 'C:\\\\Users\\\\zambrana\\\\OneDrive - The University of '\n",
      " 'Kansas\\\\LAS792_Fall2021\\\\JupyterNotebooks\\\\.ipynb_checkpoints\\\\Examples2021_09_07-checkpoint.ipynb',\n",
      " 'C:\\\\Users\\\\zambrana\\\\OneDrive - The University of '\n",
      " 'Kansas\\\\LAS792_Fall2021\\\\JupyterNotebooks\\\\.ipynb_checkpoints\\\\Exercises2021_02_11-checkpoint.ipynb',\n",
      " 'C:\\\\Users\\\\zambrana\\\\OneDrive - The University of '\n",
      " 'Kansas\\\\LAS792_Fall2021\\\\JupyterNotebooks\\\\.ipynb_checkpoints\\\\IteratingDataFrames-checkpoint.ipynb',\n",
      " 'C:\\\\Users\\\\zambrana\\\\OneDrive - The University of '\n",
      " 'Kansas\\\\LAS792_Fall2021\\\\JupyterNotebooks\\\\.ipynb_checkpoints\\\\Merging_Tables_with_Pandas-checkpoint.ipynb',\n",
      " 'C:\\\\Users\\\\zambrana\\\\OneDrive - The University of '\n",
      " 'Kansas\\\\LAS792_Fall2021\\\\JupyterNotebooks\\\\.ipynb_checkpoints\\\\Merging_Tables_with_Pandas-Copy1-checkpoint.ipynb',\n",
      " 'C:\\\\Users\\\\zambrana\\\\OneDrive - The University of '\n",
      " 'Kansas\\\\LAS792_Fall2021\\\\JupyterNotebooks\\\\.ipynb_checkpoints\\\\PythonBasics '\n",
      " '(2)-checkpoint.ipynb',\n",
      " 'C:\\\\Users\\\\zambrana\\\\OneDrive - The University of '\n",
      " 'Kansas\\\\LAS792_Fall2021\\\\JupyterNotebooks\\\\.ipynb_checkpoints\\\\PythonBasics-checkpoint.ipynb',\n",
      " 'C:\\\\Users\\\\zambrana\\\\OneDrive - The University of '\n",
      " 'Kansas\\\\LAS792_Fall2021\\\\JupyterNotebooks\\\\.ipynb_checkpoints\\\\PythonBasics_Exercises_08_26_2021-checkpoint.ipynb',\n",
      " 'C:\\\\Users\\\\zambrana\\\\OneDrive - The University of '\n",
      " 'Kansas\\\\LAS792_Fall2021\\\\JupyterNotebooks\\\\.ipynb_checkpoints\\\\PythonFunctions-checkpoint.ipynb',\n",
      " 'C:\\\\Users\\\\zambrana\\\\OneDrive - The University of '\n",
      " 'Kansas\\\\LAS792_Fall2021\\\\JupyterNotebooks\\\\.ipynb_checkpoints\\\\PythonPlots-checkpoint.ipynb',\n",
      " 'C:\\\\Users\\\\zambrana\\\\OneDrive - The University of '\n",
      " 'Kansas\\\\LAS792_Fall2021\\\\JupyterNotebooks\\\\.ipynb_checkpoints\\\\Reading1-checkpoint.ipynb',\n",
      " 'C:\\\\Users\\\\zambrana\\\\OneDrive - The University of '\n",
      " 'Kansas\\\\LAS792_Fall2021\\\\JupyterNotebooks\\\\.ipynb_checkpoints\\\\Reading2-checkpoint.ipynb',\n",
      " 'C:\\\\Users\\\\zambrana\\\\OneDrive - The University of '\n",
      " 'Kansas\\\\LAS792_Fall2021\\\\JupyterNotebooks\\\\.ipynb_checkpoints\\\\RegularExpressionsInPython-checkpoint.ipynb',\n",
      " 'C:\\\\Users\\\\zambrana\\\\OneDrive - The University of '\n",
      " 'Kansas\\\\LAS792_Fall2021\\\\JupyterNotebooks\\\\.ipynb_checkpoints\\\\RestructuringData-checkpoint.ipynb',\n",
      " 'C:\\\\Users\\\\zambrana\\\\OneDrive - The University of '\n",
      " 'Kansas\\\\LAS792_Fall2021\\\\JupyterNotebooks\\\\.ipynb_checkpoints\\\\RestructuringData_20210921-checkpoint.ipynb',\n",
      " 'C:\\\\Users\\\\zambrana\\\\OneDrive - The University of '\n",
      " 'Kansas\\\\LAS792_Fall2021\\\\JupyterNotebooks\\\\.ipynb_checkpoints\\\\SentinelAndMissing-checkpoint.ipynb',\n",
      " 'C:\\\\Users\\\\zambrana\\\\OneDrive - The University of '\n",
      " 'Kansas\\\\LAS792_Fall2021\\\\JupyterNotebooks\\\\.ipynb_checkpoints\\\\SQLCreateInsertEtc-checkpoint.ipynb',\n",
      " 'C:\\\\Users\\\\zambrana\\\\OneDrive - The University of '\n",
      " 'Kansas\\\\LAS792_Fall2021\\\\JupyterNotebooks\\\\.ipynb_checkpoints\\\\SQLjoin-checkpoint.ipynb',\n",
      " 'C:\\\\Users\\\\zambrana\\\\OneDrive - The University of '\n",
      " 'Kansas\\\\LAS792_Fall2021\\\\JupyterNotebooks\\\\.ipynb_checkpoints\\\\SQLselect-checkpoint.ipynb',\n",
      " 'C:\\\\Users\\\\zambrana\\\\OneDrive - The University of '\n",
      " 'Kansas\\\\LAS792_Fall2021\\\\JupyterNotebooks\\\\.ipynb_checkpoints\\\\SQLsubqueriesAndSets-checkpoint.ipynb',\n",
      " 'C:\\\\Users\\\\zambrana\\\\OneDrive - The University of '\n",
      " 'Kansas\\\\LAS792_Fall2021\\\\JupyterNotebooks\\\\.ipynb_checkpoints\\\\stubs-checkpoint.ipynb',\n",
      " 'C:\\\\Users\\\\zambrana\\\\OneDrive - The University of '\n",
      " 'Kansas\\\\LAS792_Fall2021\\\\JupyterNotebooks\\\\.ipynb_checkpoints\\\\Transforming-checkpoint.ipynb',\n",
      " 'C:\\\\Users\\\\zambrana\\\\OneDrive - The University of '\n",
      " 'Kansas\\\\LAS792_Fall2021\\\\JupyterNotebooks\\\\.ipynb_checkpoints\\\\Transforming_20210914-checkpoint.ipynb',\n",
      " 'C:\\\\Users\\\\zambrana\\\\OneDrive - The University of '\n",
      " 'Kansas\\\\LAS792_Fall2021\\\\JupyterNotebooks\\\\.ipynb_checkpoints\\\\WorkingWithFiles-checkpoint.ipynb',\n",
      " 'C:\\\\Users\\\\zambrana\\\\OneDrive - The University of '\n",
      " 'Kansas\\\\LAS792_Fall2021\\\\JupyterNotebooks\\\\.ipynb_checkpoints\\\\XML-checkpoint.ipynb',\n",
      " 'C:\\\\Users\\\\zambrana\\\\OneDrive - The University of '\n",
      " 'Kansas\\\\LAS792_Fall2021\\\\JupyterNotebooks\\\\__pycache__\\\\dFcode.cpython-37.pyc']\n"
     ]
    }
   ],
   "source": [
    "# make one list of all files including in all subfolders as full paths\n",
    "import os\n",
    "import pprint\n",
    "\n",
    "fileList = []\n",
    "\n",
    "for targetFolder, folders, files in os.walk(newPath):\n",
    "    fileList += [os.path.join(targetFolder, file) for file in files]\n",
    "pprint.pprint(fileList)\n",
    "    "
   ]
  },
  {
   "cell_type": "markdown",
   "metadata": {},
   "source": [
    "### A function listing files with a given extension\n",
    "The function shown here uses a list comprehension having a regular expresion clause limiting the list to just files with the provided extension."
   ]
  },
  {
   "cell_type": "code",
   "execution_count": 75,
   "metadata": {},
   "outputs": [
    {
     "name": "stdout",
     "output_type": "stream",
     "text": [
      "[]\n"
     ]
    }
   ],
   "source": [
    "# function to list all files with a given extension\n",
    "import os\n",
    "import pprint\n",
    "import re\n",
    "\n",
    "def listFiles(targetPath, extension):\n",
    "    fileList = []\n",
    "\n",
    "    for targetFolder, folders, files in os.walk(newPath):\n",
    "        fileList += [os.path.join(targetFolder, fileName) for fileName in files if re.search(r'\\.'+extension+'$',\n",
    "                                                                                             fileName) != None]\n",
    "    return fileList\n",
    "\n",
    "foundFiles = listFiles(Path(DataFolder,'data/firstDay'), 'txt')\n",
    "\n",
    "pprint.pprint(foundFiles)"
   ]
  },
  {
   "cell_type": "markdown",
   "metadata": {},
   "source": [
    "### Computing checksums (hashing file contents)\n",
    "We'll use hashlib for this to write code to hash the contents of files. There are higher level modules that will do this for us, but they are not part of the Anaconda distribution that we have installed.\n",
    "\n",
    "\n",
    "example adapted from https://www.pythoncentral.io/hashing-files-with-python/\n",
    "\n",
    "The code below reads the whole file into memory. This might blow up for very large files. A small modification to the code shown in the web page referenced above would read the file in blocks, allowing this to work for very large files."
   ]
  },
  {
   "cell_type": "code",
   "execution_count": 76,
   "metadata": {},
   "outputs": [
    {
     "name": "stdout",
     "output_type": "stream",
     "text": [
      "<class 'list'>\n",
      "[]\n"
     ]
    }
   ],
   "source": [
    "import hashlib\n",
    "import pprint \n",
    "\n",
    "def getMd5(filePath):\n",
    "    hasher = hashlib.md5()\n",
    "    with open(filePath, 'rb') as afile:\n",
    "        buf = afile.read()\n",
    "        hasher.update(buf)\n",
    "    return hasher.hexdigest()\n",
    "\n",
    "tupleList = list(zip([getMd5(aFilePath) for aFilePath in foundFiles],\n",
    "                      foundFiles, ))\n",
    "print(type(tupleList))\n",
    "\n",
    "sorted(tupleList)\n",
    "pprint.pprint(tupleList[0:2])"
   ]
  },
  {
   "cell_type": "code",
   "execution_count": null,
   "metadata": {},
   "outputs": [],
   "source": []
  }
 ],
 "metadata": {
  "kernelspec": {
   "display_name": "Python 3",
   "language": "python",
   "name": "python3"
  },
  "language_info": {
   "codemirror_mode": {
    "name": "ipython",
    "version": 3
   },
   "file_extension": ".py",
   "mimetype": "text/x-python",
   "name": "python",
   "nbconvert_exporter": "python",
   "pygments_lexer": "ipython3",
   "version": "3.8.8"
  }
 },
 "nbformat": 4,
 "nbformat_minor": 2
}
