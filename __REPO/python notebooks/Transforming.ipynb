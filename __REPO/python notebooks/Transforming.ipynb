{
 "cells": [
  {
   "cell_type": "markdown",
   "metadata": {},
   "source": [
    "# Transforming Data in Python\n",
    "In these examples the data will be in Pandas objects, Series or DataFrames.\n",
    "\n",
    "Pandas documentation is found at:\n",
    "https://pandas.pydata.org/pandas-docs/stable/ \n",
    "and official tutorials are at:\n",
    "https://pandas.pydata.org/pandas-docs/version/0.15/tutorials.html\n"
   ]
  },
  {
   "cell_type": "markdown",
   "metadata": {},
   "source": [
    "# setup"
   ]
  },
  {
   "cell_type": "code",
   "execution_count": 45,
   "metadata": {},
   "outputs": [],
   "source": [
    "import pandas as pd\n",
    "import pprint\n",
    "import numpy as np\n",
    "gradeDataPath = r\"C:\\Users\\Carlos Zambrana\\OD\\LAS792_Spring2021_ForStudents\\data\\gradeExample.csv\"\n",
    "\n"
   ]
  },
  {
   "cell_type": "code",
   "execution_count": 46,
   "metadata": {},
   "outputs": [
    {
     "name": "stdout",
     "output_type": "stream",
     "text": [
      "/Users/cagilalbayrak/LAS792\n"
     ]
    }
   ],
   "source": [
    "from pathlib import Path\n",
    "\n",
    "print(Path.cwd())"
   ]
  },
  {
   "cell_type": "markdown",
   "metadata": {},
   "source": [
    "### DataFrame Structure - Indexing and Selecting Data\n",
    "\n",
    "Documentation on indexing and selecting data for Pandas is at\n",
    "https://pandas.pydata.org/pandas-docs/stable/user_guide/indexing.html "
   ]
  },
  {
   "cell_type": "markdown",
   "metadata": {},
   "source": [
    "### Creating a DataFrame by columns\n",
    "While you will most likely be importing a DataFrame from a file, \n",
    "for this notebook we will be creating example DataFrames with a call to a DataFrame constructor function.\n",
    "\n",
    "First let's look at the structure of a DataFrame. DataFrame objects have built in indices for rows and columns.\n",
    "\n",
    "This DataFrame is constructed from a dictionary that has keys of column names and values of lists of values in the column. The lists mus be in the same order (of rows) and nave the same number of entries."
   ]
  },
  {
   "cell_type": "code",
   "execution_count": 47,
   "metadata": {},
   "outputs": [
    {
     "name": "stdout",
     "output_type": "stream",
     "text": [
      "\n",
      " dictionary columnDict\n",
      "\n",
      "{'age': [10, 20, 30], 'textAge': ['ten', 'twenty', 'thirty']}\n",
      "\n",
      " DataFrame myDf\n"
     ]
    },
    {
     "data": {
      "text/html": [
       "<div>\n",
       "<style scoped>\n",
       "    .dataframe tbody tr th:only-of-type {\n",
       "        vertical-align: middle;\n",
       "    }\n",
       "\n",
       "    .dataframe tbody tr th {\n",
       "        vertical-align: top;\n",
       "    }\n",
       "\n",
       "    .dataframe thead th {\n",
       "        text-align: right;\n",
       "    }\n",
       "</style>\n",
       "<table border=\"1\" class=\"dataframe\">\n",
       "  <thead>\n",
       "    <tr style=\"text-align: right;\">\n",
       "      <th></th>\n",
       "      <th>age</th>\n",
       "      <th>textAge</th>\n",
       "    </tr>\n",
       "  </thead>\n",
       "  <tbody>\n",
       "    <tr>\n",
       "      <th>0</th>\n",
       "      <td>10</td>\n",
       "      <td>ten</td>\n",
       "    </tr>\n",
       "    <tr>\n",
       "      <th>1</th>\n",
       "      <td>20</td>\n",
       "      <td>twenty</td>\n",
       "    </tr>\n",
       "    <tr>\n",
       "      <th>2</th>\n",
       "      <td>30</td>\n",
       "      <td>thirty</td>\n",
       "    </tr>\n",
       "  </tbody>\n",
       "</table>\n",
       "</div>"
      ],
      "text/plain": [
       "   age textAge\n",
       "0   10     ten\n",
       "1   20  twenty\n",
       "2   30  thirty"
      ]
     },
     "execution_count": 47,
     "metadata": {},
     "output_type": "execute_result"
    }
   ],
   "source": [
    "columnDict = {'age':[10,20,30],\n",
    "            'textAge':['ten', 'twenty', 'thirty']}\n",
    "print('\\n dictionary columnDict\\n')\n",
    "pprint.pprint(columnDict)\n",
    "\n",
    "print('\\n DataFrame myDf')\n",
    "\n",
    "# Creating a DataFrame from a dictionary object\n",
    "# The column index is created from the keys\n",
    "# the row index defaults to range(n) where range is the number of rows\n",
    "myDf = pd.DataFrame(columnDict)\n",
    "myDf"
   ]
  },
  {
   "cell_type": "code",
   "execution_count": 48,
   "metadata": {},
   "outputs": [
    {
     "data": {
      "text/html": [
       "<div>\n",
       "<style scoped>\n",
       "    .dataframe tbody tr th:only-of-type {\n",
       "        vertical-align: middle;\n",
       "    }\n",
       "\n",
       "    .dataframe tbody tr th {\n",
       "        vertical-align: top;\n",
       "    }\n",
       "\n",
       "    .dataframe thead th {\n",
       "        text-align: right;\n",
       "    }\n",
       "</style>\n",
       "<table border=\"1\" class=\"dataframe\">\n",
       "  <thead>\n",
       "    <tr style=\"text-align: right;\">\n",
       "      <th></th>\n",
       "      <th>age</th>\n",
       "      <th>textAge</th>\n",
       "    </tr>\n",
       "  </thead>\n",
       "  <tbody>\n",
       "    <tr>\n",
       "      <th>r0</th>\n",
       "      <td>10</td>\n",
       "      <td>ten</td>\n",
       "    </tr>\n",
       "    <tr>\n",
       "      <th>r1</th>\n",
       "      <td>20</td>\n",
       "      <td>twenty</td>\n",
       "    </tr>\n",
       "    <tr>\n",
       "      <th>r2</th>\n",
       "      <td>30</td>\n",
       "      <td>thirty</td>\n",
       "    </tr>\n",
       "  </tbody>\n",
       "</table>\n",
       "</div>"
      ],
      "text/plain": [
       "    age textAge\n",
       "r0   10     ten\n",
       "r1   20  twenty\n",
       "r2   30  thirty"
      ]
     },
     "execution_count": 48,
     "metadata": {},
     "output_type": "execute_result"
    }
   ],
   "source": [
    "# specify a row index explicitly\n",
    "myDf = pd.DataFrame(columnDict, \n",
    "                    index = ['r0','r1','r2'])\n",
    "myDf"
   ]
  },
  {
   "cell_type": "markdown",
   "metadata": {},
   "source": [
    "### Creating a DataFrame by rows\n",
    "A DataFrame can also be constructed from a list of dictionaries, each one represents a row"
   ]
  },
  {
   "cell_type": "code",
   "execution_count": 49,
   "metadata": {},
   "outputs": [
    {
     "name": "stdout",
     "output_type": "stream",
     "text": [
      "rowlist is  [{'age': 10, 'textAge': 'ten'}, {'age': 20, 'textAge': 'twenty'}, {'age': 30, 'textAge': 'thirty'}]\n"
     ]
    },
    {
     "data": {
      "text/html": [
       "<div>\n",
       "<style scoped>\n",
       "    .dataframe tbody tr th:only-of-type {\n",
       "        vertical-align: middle;\n",
       "    }\n",
       "\n",
       "    .dataframe tbody tr th {\n",
       "        vertical-align: top;\n",
       "    }\n",
       "\n",
       "    .dataframe thead th {\n",
       "        text-align: right;\n",
       "    }\n",
       "</style>\n",
       "<table border=\"1\" class=\"dataframe\">\n",
       "  <thead>\n",
       "    <tr style=\"text-align: right;\">\n",
       "      <th></th>\n",
       "      <th>age</th>\n",
       "      <th>textAge</th>\n",
       "    </tr>\n",
       "  </thead>\n",
       "  <tbody>\n",
       "    <tr>\n",
       "      <th>r0</th>\n",
       "      <td>10</td>\n",
       "      <td>ten</td>\n",
       "    </tr>\n",
       "    <tr>\n",
       "      <th>r1</th>\n",
       "      <td>20</td>\n",
       "      <td>twenty</td>\n",
       "    </tr>\n",
       "    <tr>\n",
       "      <th>r2</th>\n",
       "      <td>30</td>\n",
       "      <td>thirty</td>\n",
       "    </tr>\n",
       "  </tbody>\n",
       "</table>\n",
       "</div>"
      ],
      "text/plain": [
       "    age textAge\n",
       "r0   10     ten\n",
       "r1   20  twenty\n",
       "r2   30  thirty"
      ]
     },
     "execution_count": 49,
     "metadata": {},
     "output_type": "execute_result"
    }
   ],
   "source": [
    "rowList = [{'age':10, 'textAge':'ten'},\n",
    "           {'age':20, 'textAge':'twenty'},\n",
    "           {'age':30, 'textAge':'thirty'}]\n",
    "print('rowlist is ', rowList)  \n",
    "\n",
    "myDf = pd.DataFrame(rowList, \n",
    "                    index = ['r0','r1','r2'])\n",
    "myDf"
   ]
  },
  {
   "cell_type": "markdown",
   "metadata": {},
   "source": [
    "### Selecting one column from a DataFrame - dot notation\n",
    "A single column of a DataFrame may be referenced using a dot notation like in this example."
   ]
  },
  {
   "cell_type": "code",
   "execution_count": 50,
   "metadata": {},
   "outputs": [
    {
     "name": "stdout",
     "output_type": "stream",
     "text": [
      "    age textAge\n",
      "r0   10     ten\n",
      "r1   20  twenty\n",
      "r2   30  thirty\n"
     ]
    },
    {
     "data": {
      "text/plain": [
       "r0    10\n",
       "r1    20\n",
       "r2    30\n",
       "Name: age, dtype: int64"
      ]
     },
     "execution_count": 50,
     "metadata": {},
     "output_type": "execute_result"
    }
   ],
   "source": [
    "import pandas as pd\n",
    "import pprint\n",
    "myDf = pd.DataFrame( {'age':[10,     20,       30],\n",
    "                  'textAge':['ten', 'twenty', 'thirty']},\n",
    "                   index = ['r0','r1','r2'])\n",
    "pprint.pprint(myDf)\n",
    "myDf.age"
   ]
  },
  {
   "cell_type": "markdown",
   "metadata": {},
   "source": [
    "### A DataFrame column referenced dictionary style\n",
    "A column may also be referenced like a value in a dictionary, using a column name as a key"
   ]
  },
  {
   "cell_type": "code",
   "execution_count": 51,
   "metadata": {},
   "outputs": [
    {
     "name": "stdout",
     "output_type": "stream",
     "text": [
      "<class 'pandas.core.series.Series'>\n",
      "r0    10\n",
      "r1    20\n",
      "r2    30\n",
      "Name: age, dtype: int64\n"
     ]
    }
   ],
   "source": [
    "col = myDf['age']\n",
    "print(type(col))\n",
    "pprint.pprint(col)\n"
   ]
  },
  {
   "cell_type": "markdown",
   "metadata": {},
   "source": [
    "### Columns\n",
    "The column names are an index to the column axis"
   ]
  },
  {
   "cell_type": "code",
   "execution_count": 52,
   "metadata": {},
   "outputs": [
    {
     "data": {
      "text/plain": [
       "Index(['age', 'textAge'], dtype='object')"
      ]
     },
     "execution_count": 52,
     "metadata": {},
     "output_type": "execute_result"
    }
   ],
   "source": [
    "myDf.columns"
   ]
  },
  {
   "cell_type": "markdown",
   "metadata": {},
   "source": [
    "### The Row Index\n",
    "The row index may be retrieved and changed via the index attribute of the DataFrame"
   ]
  },
  {
   "cell_type": "code",
   "execution_count": 53,
   "metadata": {},
   "outputs": [
    {
     "name": "stdout",
     "output_type": "stream",
     "text": [
      " the row index for myDf is  Index(['r0', 'r1', 'r2'], dtype='object')\n"
     ]
    },
    {
     "data": {
      "text/html": [
       "<div>\n",
       "<style scoped>\n",
       "    .dataframe tbody tr th:only-of-type {\n",
       "        vertical-align: middle;\n",
       "    }\n",
       "\n",
       "    .dataframe tbody tr th {\n",
       "        vertical-align: top;\n",
       "    }\n",
       "\n",
       "    .dataframe thead th {\n",
       "        text-align: right;\n",
       "    }\n",
       "</style>\n",
       "<table border=\"1\" class=\"dataframe\">\n",
       "  <thead>\n",
       "    <tr style=\"text-align: right;\">\n",
       "      <th></th>\n",
       "      <th>age</th>\n",
       "      <th>textAge</th>\n",
       "    </tr>\n",
       "  </thead>\n",
       "  <tbody>\n",
       "    <tr>\n",
       "      <th>row1</th>\n",
       "      <td>10</td>\n",
       "      <td>ten</td>\n",
       "    </tr>\n",
       "    <tr>\n",
       "      <th>row2</th>\n",
       "      <td>20</td>\n",
       "      <td>twenty</td>\n",
       "    </tr>\n",
       "    <tr>\n",
       "      <th>row3</th>\n",
       "      <td>30</td>\n",
       "      <td>thirty</td>\n",
       "    </tr>\n",
       "  </tbody>\n",
       "</table>\n",
       "</div>"
      ],
      "text/plain": [
       "      age textAge\n",
       "row1   10     ten\n",
       "row2   20  twenty\n",
       "row3   30  thirty"
      ]
     },
     "execution_count": 53,
     "metadata": {},
     "output_type": "execute_result"
    }
   ],
   "source": [
    "# Display the row index\n",
    "print(' the row index for myDf is ', myDf.index)\n",
    "\n",
    "# now change it\n",
    "myDf.index=['row1','row2','row3']\n",
    "myDf"
   ]
  },
  {
   "cell_type": "markdown",
   "metadata": {},
   "source": [
    "### Row index \n",
    "The row index can be changed in an existing DataFrame, or can be specified in the initial DataFrame function."
   ]
  },
  {
   "cell_type": "code",
   "execution_count": 54,
   "metadata": {},
   "outputs": [
    {
     "data": {
      "text/html": [
       "<div>\n",
       "<style scoped>\n",
       "    .dataframe tbody tr th:only-of-type {\n",
       "        vertical-align: middle;\n",
       "    }\n",
       "\n",
       "    .dataframe tbody tr th {\n",
       "        vertical-align: top;\n",
       "    }\n",
       "\n",
       "    .dataframe thead th {\n",
       "        text-align: right;\n",
       "    }\n",
       "</style>\n",
       "<table border=\"1\" class=\"dataframe\">\n",
       "  <thead>\n",
       "    <tr style=\"text-align: right;\">\n",
       "      <th></th>\n",
       "      <th>age</th>\n",
       "      <th>textAge</th>\n",
       "      <th>ID</th>\n",
       "      <th>fourthCol</th>\n",
       "    </tr>\n",
       "  </thead>\n",
       "  <tbody>\n",
       "    <tr>\n",
       "      <th>r1</th>\n",
       "      <td>10</td>\n",
       "      <td>ten</td>\n",
       "      <td>3</td>\n",
       "      <td>foo</td>\n",
       "    </tr>\n",
       "    <tr>\n",
       "      <th>r2</th>\n",
       "      <td>20</td>\n",
       "      <td>twenty</td>\n",
       "      <td>2</td>\n",
       "      <td>bar</td>\n",
       "    </tr>\n",
       "    <tr>\n",
       "      <th>r3</th>\n",
       "      <td>30</td>\n",
       "      <td>thirty</td>\n",
       "      <td>1</td>\n",
       "      <td>baz</td>\n",
       "    </tr>\n",
       "  </tbody>\n",
       "</table>\n",
       "</div>"
      ],
      "text/plain": [
       "    age textAge  ID fourthCol\n",
       "r1   10     ten   3       foo\n",
       "r2   20  twenty   2       bar\n",
       "r3   30  thirty   1       baz"
      ]
     },
     "execution_count": 54,
     "metadata": {},
     "output_type": "execute_result"
    }
   ],
   "source": [
    "inputDict2 = {'age':[10,20,30],\n",
    "            'textAge':['ten', 'twenty', 'thirty'],\n",
    "             'ID':[3,2,1],\n",
    "             'fourthCol':['foo','bar','baz']}\n",
    "\n",
    "myDf2 = pd.DataFrame(inputDict2, \n",
    "                     index=['r1','r2','r3'])\n",
    "myDf2"
   ]
  },
  {
   "cell_type": "markdown",
   "metadata": {},
   "source": [
    "# Boolean Indexing\n",
    "Elements of a Series can be selected via a Series of boolean values"
   ]
  },
  {
   "cell_type": "code",
   "execution_count": 55,
   "metadata": {},
   "outputs": [
    {
     "data": {
      "text/plain": [
       "0    zero is first\n",
       "2     two is third\n",
       "dtype: object"
      ]
     },
     "execution_count": 55,
     "metadata": {},
     "output_type": "execute_result"
    }
   ],
   "source": [
    "import pandas as pd\n",
    "import pprint\n",
    "\n",
    "exampleSeries = pd.Series(['zero is first', \n",
    "               'one is second', \n",
    "               'two is third', \n",
    "               'three is fourth', \n",
    "               'four is last here'])\n",
    "\n",
    "# This tuple is True for the first and third element\n",
    "isFirstOrThird = pd.Series((True,\n",
    "                 False,\n",
    "                 True,\n",
    "                 False,\n",
    "                 False))\n",
    "exampleSeries[isFirstOrThird]\n"
   ]
  },
  {
   "cell_type": "markdown",
   "metadata": {},
   "source": [
    "### Using an expression to generate the Boolean Series\n",
    "The Boolean Series can be generated by an expression"
   ]
  },
  {
   "cell_type": "code",
   "execution_count": 56,
   "metadata": {},
   "outputs": [
    {
     "name": "stdout",
     "output_type": "stream",
     "text": [
      "<class 'pandas.core.series.Series'> \n",
      " 0    False\n",
      "1    False\n",
      "2    False\n",
      "3    False\n",
      "4     True\n",
      "5     True\n",
      "6     True\n",
      "7     True\n",
      "8     True\n",
      "9     True\n",
      "dtype: bool\n"
     ]
    },
    {
     "data": {
      "text/plain": [
       "4    4\n",
       "5    5\n",
       "6    6\n",
       "7    7\n",
       "8    8\n",
       "9    9\n",
       "dtype: int64"
      ]
     },
     "execution_count": 56,
     "metadata": {},
     "output_type": "execute_result"
    }
   ],
   "source": [
    "r = pd.Series(range(0, 10))\n",
    "print(type(r>3),'\\n',r>3)\n",
    "r[r > 3]\n"
   ]
  },
  {
   "cell_type": "markdown",
   "metadata": {},
   "source": [
    "### recommended indexing methods\n",
    "\n",
    "The documentation at:\n",
    "https://pandas.pydata.org/pandas-docs/stable/user_guide/indexing.html\n",
    "notes that the same indexing operators that can be used with python iterables can be used with Pandas objects, the *.loc* and *.iloc* access methods are recommended.\n",
    "\n",
    "*.loc* uses the labels of the row or column indices\n",
    "\n",
    "*.iloc* uses a numeric position index (0 based)\n",
    "\n",
    "\n"
   ]
  },
  {
   "cell_type": "markdown",
   "metadata": {},
   "source": [
    "### by row number"
   ]
  },
  {
   "cell_type": "code",
   "execution_count": 57,
   "metadata": {},
   "outputs": [
    {
     "name": "stdout",
     "output_type": "stream",
     "text": [
      "age            20\n",
      "textAge    twenty\n",
      "Name: row2, dtype: object\n",
      "<class 'pandas.core.series.Series'>\n"
     ]
    }
   ],
   "source": [
    "# The second row of myDf, returned as a Series\n",
    "rowTwo = myDf.iloc[1]\n",
    "\n",
    "pprint.pprint(rowTwo)\n",
    "print(type(rowTwo))\n"
   ]
  },
  {
   "cell_type": "markdown",
   "metadata": {},
   "source": [
    "### all rows and some columns by index"
   ]
  },
  {
   "cell_type": "code",
   "execution_count": 58,
   "metadata": {},
   "outputs": [
    {
     "name": "stdout",
     "output_type": "stream",
     "text": [
      "    age textAge\n",
      "r1   10     ten\n",
      "r2   20  twenty\n",
      "r3   30  thirty\n",
      "<class 'pandas.core.frame.DataFrame'>\n"
     ]
    }
   ],
   "source": [
    "\n",
    "# All rows, and the first and second column of myDf2, returned as a DataFrame\n",
    "cols = myDf2.iloc[:,0:2]\n",
    "\n",
    "pprint.pprint(cols)\n",
    "print(type(cols))\n"
   ]
  },
  {
   "cell_type": "markdown",
   "metadata": {},
   "source": [
    "### a sub DataFrame"
   ]
  },
  {
   "cell_type": "code",
   "execution_count": 59,
   "metadata": {},
   "outputs": [
    {
     "name": "stdout",
     "output_type": "stream",
     "text": [
      "    age  ID\n",
      "r2   20   2\n",
      "r1   10   3\n",
      "<class 'pandas.core.frame.DataFrame'>\n"
     ]
    }
   ],
   "source": [
    "# a sub-DataFrame selected by lists of labels\n",
    "\n",
    "mySlice = myDf2.loc[['r2','r1'],  ['age','ID']]\n",
    "pprint.pprint(mySlice)\n",
    "print(type(mySlice))"
   ]
  },
  {
   "cell_type": "markdown",
   "metadata": {},
   "source": [
    "### all rows and some columns by name"
   ]
  },
  {
   "cell_type": "code",
   "execution_count": 60,
   "metadata": {},
   "outputs": [
    {
     "data": {
      "text/html": [
       "<div>\n",
       "<style scoped>\n",
       "    .dataframe tbody tr th:only-of-type {\n",
       "        vertical-align: middle;\n",
       "    }\n",
       "\n",
       "    .dataframe tbody tr th {\n",
       "        vertical-align: top;\n",
       "    }\n",
       "\n",
       "    .dataframe thead th {\n",
       "        text-align: right;\n",
       "    }\n",
       "</style>\n",
       "<table border=\"1\" class=\"dataframe\">\n",
       "  <thead>\n",
       "    <tr style=\"text-align: right;\">\n",
       "      <th></th>\n",
       "      <th>ID</th>\n",
       "      <th>age</th>\n",
       "    </tr>\n",
       "  </thead>\n",
       "  <tbody>\n",
       "    <tr>\n",
       "      <th>r1</th>\n",
       "      <td>3</td>\n",
       "      <td>10</td>\n",
       "    </tr>\n",
       "    <tr>\n",
       "      <th>r2</th>\n",
       "      <td>2</td>\n",
       "      <td>20</td>\n",
       "    </tr>\n",
       "    <tr>\n",
       "      <th>r3</th>\n",
       "      <td>1</td>\n",
       "      <td>30</td>\n",
       "    </tr>\n",
       "  </tbody>\n",
       "</table>\n",
       "</div>"
      ],
      "text/plain": [
       "    ID  age\n",
       "r1   3   10\n",
       "r2   2   20\n",
       "r3   1   30"
      ]
     },
     "execution_count": 60,
     "metadata": {},
     "output_type": "execute_result"
    }
   ],
   "source": [
    "mySlice = myDf2.loc[:,  ['ID', 'age']]\n",
    "mySlice"
   ]
  },
  {
   "cell_type": "code",
   "execution_count": 61,
   "metadata": {},
   "outputs": [
    {
     "ename": "TypeError",
     "evalue": "'DataFrame' object is not callable",
     "output_type": "error",
     "traceback": [
      "\u001b[0;31m---------------------------------------------------------------------------\u001b[0m",
      "\u001b[0;31mTypeError\u001b[0m                                 Traceback (most recent call last)",
      "\u001b[0;32m<ipython-input-61-a746535b29ba>\u001b[0m in \u001b[0;36m<module>\u001b[0;34m\u001b[0m\n\u001b[1;32m      1\u001b[0m \u001b[0;31m#just one equal would change all to 3 but two equals just calls in the ID which is 3.\u001b[0m\u001b[0;34m\u001b[0m\u001b[0;34m\u001b[0m\u001b[0;34m\u001b[0m\u001b[0m\n\u001b[1;32m      2\u001b[0m \u001b[0mmyDf2\u001b[0m\u001b[0;34m.\u001b[0m\u001b[0mID\u001b[0m\u001b[0;34m==\u001b[0m\u001b[0;36m3\u001b[0m\u001b[0;34m\u001b[0m\u001b[0;34m\u001b[0m\u001b[0m\n\u001b[0;32m----> 3\u001b[0;31m \u001b[0mmyDf2\u001b[0m\u001b[0;34m(\u001b[0m\u001b[0mmyDf2\u001b[0m\u001b[0;34m.\u001b[0m\u001b[0mID\u001b[0m\u001b[0;34m==\u001b[0m\u001b[0;36m3\u001b[0m\u001b[0;34m)\u001b[0m\u001b[0;34m\u001b[0m\u001b[0;34m\u001b[0m\u001b[0m\n\u001b[0m",
      "\u001b[0;31mTypeError\u001b[0m: 'DataFrame' object is not callable"
     ]
    }
   ],
   "source": [
    "#just one equal would change all to 3 but two equals just calls in the ID which is 3.\n",
    "myDf2.ID==3\n",
    "myDf2(myDf2.ID==3)"
   ]
  },
  {
   "cell_type": "markdown",
   "metadata": {},
   "source": [
    "### Some rows and all columns"
   ]
  },
  {
   "cell_type": "code",
   "execution_count": null,
   "metadata": {},
   "outputs": [],
   "source": [
    "mySlice = myDf2.loc[['r2','r1'],  :]\n",
    "mySlice"
   ]
  },
  {
   "cell_type": "markdown",
   "metadata": {},
   "source": [
    "### Boolean subsetting"
   ]
  },
  {
   "cell_type": "code",
   "execution_count": null,
   "metadata": {},
   "outputs": [],
   "source": [
    "# a subset of rows by an expression on a value\n",
    "\n",
    "mySlice2 = myDf2[myDf2.ID>1]\n",
    "pprint.pprint(mySlice2)\n",
    "print(type(mySlice2))"
   ]
  },
  {
   "cell_type": "markdown",
   "metadata": {},
   "source": [
    "### Copy vs view\n",
    "These methods return a copy "
   ]
  },
  {
   "cell_type": "code",
   "execution_count": null,
   "metadata": {},
   "outputs": [],
   "source": [
    "mySlice2['fourthCol'] = 'xxxxx'\n",
    "myDf2\n"
   ]
  },
  {
   "cell_type": "code",
   "execution_count": null,
   "metadata": {},
   "outputs": [],
   "source": [
    "mySliceWithLoc= myDf2.loc[['r2','r1'],  ['fourthCol']]\n",
    "mySliceWithLoc = \"xxxxx\"\n",
    "myDf2"
   ]
  },
  {
   "cell_type": "markdown",
   "metadata": {},
   "source": [
    "### Subsetting on the left hand side of an assignment"
   ]
  },
  {
   "cell_type": "code",
   "execution_count": null,
   "metadata": {},
   "outputs": [],
   "source": [
    "myDf2.loc[['r2','r1'],  ['fourthCol']] = 'xxxx'\n",
    "myDf2"
   ]
  },
  {
   "cell_type": "code",
   "execution_count": null,
   "metadata": {},
   "outputs": [],
   "source": [
    "df = myDf2.copy()\n",
    "df\n",
    "df.loc[df.fourthCol=='baz','textAge']='other' #[:,df.fourthCol=='baz'] ='other'\n",
    "df"
   ]
  },
  {
   "cell_type": "markdown",
   "metadata": {},
   "source": [
    "The editing example below will use a logical expression on a column. Here is an example. It returns a Series with boolean values."
   ]
  },
  {
   "cell_type": "markdown",
   "metadata": {},
   "source": [
    "### Ranges\n",
    "The *range* sequence will be mentioned below. Here are some examples of its usage."
   ]
  },
  {
   "cell_type": "code",
   "execution_count": null,
   "metadata": {},
   "outputs": [],
   "source": [
    "# the range sequence returns a sequence of integers\n",
    "#https://docs.python.org/3/library/functions.html#func-range \n",
    "# https://docs.python.org/3/library/stdtypes.html#typesseq \n",
    "\n",
    "# range with only a stop value\n",
    "print(list( range(4) ) )\n",
    "    \n",
    "# range with a start and stop  not that the stop value is not included\n",
    "print(list( range(4,6) ) )\n",
    "\n",
    "# range with a start and stop and a step\n",
    "print(list( range(6,12,2) ) )"
   ]
  },
  {
   "cell_type": "markdown",
   "metadata": {},
   "source": [
    "### selecting rows with a range"
   ]
  },
  {
   "cell_type": "code",
   "execution_count": 64,
   "metadata": {},
   "outputs": [
    {
     "data": {
      "text/html": [
       "<div>\n",
       "<style scoped>\n",
       "    .dataframe tbody tr th:only-of-type {\n",
       "        vertical-align: middle;\n",
       "    }\n",
       "\n",
       "    .dataframe tbody tr th {\n",
       "        vertical-align: top;\n",
       "    }\n",
       "\n",
       "    .dataframe thead th {\n",
       "        text-align: right;\n",
       "    }\n",
       "</style>\n",
       "<table border=\"1\" class=\"dataframe\">\n",
       "  <thead>\n",
       "    <tr style=\"text-align: right;\">\n",
       "      <th></th>\n",
       "      <th>age</th>\n",
       "      <th>textAge</th>\n",
       "      <th>ID</th>\n",
       "      <th>fourthCol</th>\n",
       "    </tr>\n",
       "  </thead>\n",
       "  <tbody>\n",
       "    <tr>\n",
       "      <th>r1</th>\n",
       "      <td>10</td>\n",
       "      <td>ten</td>\n",
       "      <td>3</td>\n",
       "      <td>foo</td>\n",
       "    </tr>\n",
       "    <tr>\n",
       "      <th>r2</th>\n",
       "      <td>20</td>\n",
       "      <td>twenty</td>\n",
       "      <td>2</td>\n",
       "      <td>bar</td>\n",
       "    </tr>\n",
       "  </tbody>\n",
       "</table>\n",
       "</div>"
      ],
      "text/plain": [
       "    age textAge  ID fourthCol\n",
       "r1   10     ten   3       foo\n",
       "r2   20  twenty   2       bar"
      ]
     },
     "execution_count": 64,
     "metadata": {},
     "output_type": "execute_result"
    }
   ],
   "source": [
    "myDf2.iloc[range(0,2)]"
   ]
  },
  {
   "cell_type": "code",
   "execution_count": null,
   "metadata": {},
   "outputs": [],
   "source": [
    "### another dataframe example"
   ]
  },
  {
   "cell_type": "code",
   "execution_count": 65,
   "metadata": {},
   "outputs": [
    {
     "data": {
      "text/html": [
       "<div>\n",
       "<style scoped>\n",
       "    .dataframe tbody tr th:only-of-type {\n",
       "        vertical-align: middle;\n",
       "    }\n",
       "\n",
       "    .dataframe tbody tr th {\n",
       "        vertical-align: top;\n",
       "    }\n",
       "\n",
       "    .dataframe thead th {\n",
       "        text-align: right;\n",
       "    }\n",
       "</style>\n",
       "<table border=\"1\" class=\"dataframe\">\n",
       "  <thead>\n",
       "    <tr style=\"text-align: right;\">\n",
       "      <th></th>\n",
       "      <th>letter</th>\n",
       "      <th>number</th>\n",
       "    </tr>\n",
       "  </thead>\n",
       "  <tbody>\n",
       "    <tr>\n",
       "      <th>0x1</th>\n",
       "      <td>a</td>\n",
       "      <td>1</td>\n",
       "    </tr>\n",
       "    <tr>\n",
       "      <th>0x2</th>\n",
       "      <td>b</td>\n",
       "      <td>2</td>\n",
       "    </tr>\n",
       "    <tr>\n",
       "      <th>0x3</th>\n",
       "      <td>a</td>\n",
       "      <td>3</td>\n",
       "    </tr>\n",
       "    <tr>\n",
       "      <th>0x4</th>\n",
       "      <td>b</td>\n",
       "      <td>4</td>\n",
       "    </tr>\n",
       "    <tr>\n",
       "      <th>0x5</th>\n",
       "      <td>a</td>\n",
       "      <td>5</td>\n",
       "    </tr>\n",
       "    <tr>\n",
       "      <th>0x6</th>\n",
       "      <td>b</td>\n",
       "      <td>6</td>\n",
       "    </tr>\n",
       "    <tr>\n",
       "      <th>0x7</th>\n",
       "      <td>a</td>\n",
       "      <td>7</td>\n",
       "    </tr>\n",
       "    <tr>\n",
       "      <th>0x8</th>\n",
       "      <td>b</td>\n",
       "      <td>8</td>\n",
       "    </tr>\n",
       "    <tr>\n",
       "      <th>0x9</th>\n",
       "      <td>a</td>\n",
       "      <td>9</td>\n",
       "    </tr>\n",
       "    <tr>\n",
       "      <th>0xa</th>\n",
       "      <td>b</td>\n",
       "      <td>10</td>\n",
       "    </tr>\n",
       "    <tr>\n",
       "      <th>0xb</th>\n",
       "      <td>a</td>\n",
       "      <td>11</td>\n",
       "    </tr>\n",
       "    <tr>\n",
       "      <th>0xc</th>\n",
       "      <td>b</td>\n",
       "      <td>12</td>\n",
       "    </tr>\n",
       "    <tr>\n",
       "      <th>0xd</th>\n",
       "      <td>a</td>\n",
       "      <td>13</td>\n",
       "    </tr>\n",
       "    <tr>\n",
       "      <th>0xe</th>\n",
       "      <td>b</td>\n",
       "      <td>14</td>\n",
       "    </tr>\n",
       "    <tr>\n",
       "      <th>0xf</th>\n",
       "      <td>a</td>\n",
       "      <td>15</td>\n",
       "    </tr>\n",
       "    <tr>\n",
       "      <th>0x10</th>\n",
       "      <td>b</td>\n",
       "      <td>16</td>\n",
       "    </tr>\n",
       "    <tr>\n",
       "      <th>0x11</th>\n",
       "      <td>a</td>\n",
       "      <td>17</td>\n",
       "    </tr>\n",
       "    <tr>\n",
       "      <th>0x12</th>\n",
       "      <td>b</td>\n",
       "      <td>18</td>\n",
       "    </tr>\n",
       "    <tr>\n",
       "      <th>0x13</th>\n",
       "      <td>a</td>\n",
       "      <td>19</td>\n",
       "    </tr>\n",
       "    <tr>\n",
       "      <th>0x14</th>\n",
       "      <td>b</td>\n",
       "      <td>20</td>\n",
       "    </tr>\n",
       "  </tbody>\n",
       "</table>\n",
       "</div>"
      ],
      "text/plain": [
       "     letter  number\n",
       "0x1       a       1\n",
       "0x2       b       2\n",
       "0x3       a       3\n",
       "0x4       b       4\n",
       "0x5       a       5\n",
       "0x6       b       6\n",
       "0x7       a       7\n",
       "0x8       b       8\n",
       "0x9       a       9\n",
       "0xa       b      10\n",
       "0xb       a      11\n",
       "0xc       b      12\n",
       "0xd       a      13\n",
       "0xe       b      14\n",
       "0xf       a      15\n",
       "0x10      b      16\n",
       "0x11      a      17\n",
       "0x12      b      18\n",
       "0x13      a      19\n",
       "0x14      b      20"
      ]
     },
     "execution_count": 65,
     "metadata": {},
     "output_type": "execute_result"
    }
   ],
   "source": [
    "rowNumbers = list(range(1,21))\n",
    "anotherDF = pd.DataFrame({'letter':['a','b']*10,\n",
    "                     'number':rowNumbers},\n",
    "                        index=[hex(r) for r in rowNumbers])\n",
    "anotherDF"
   ]
  },
  {
   "cell_type": "markdown",
   "metadata": {},
   "source": [
    "### Subsetting by postion with a defined range\n",
    "This will find the rows 6, 8, and 10. Note that this is positional, since the labels for the rows (the row index) are hex strings."
   ]
  },
  {
   "cell_type": "code",
   "execution_count": 66,
   "metadata": {},
   "outputs": [
    {
     "data": {
      "text/html": [
       "<div>\n",
       "<style scoped>\n",
       "    .dataframe tbody tr th:only-of-type {\n",
       "        vertical-align: middle;\n",
       "    }\n",
       "\n",
       "    .dataframe tbody tr th {\n",
       "        vertical-align: top;\n",
       "    }\n",
       "\n",
       "    .dataframe thead th {\n",
       "        text-align: right;\n",
       "    }\n",
       "</style>\n",
       "<table border=\"1\" class=\"dataframe\">\n",
       "  <thead>\n",
       "    <tr style=\"text-align: right;\">\n",
       "      <th></th>\n",
       "      <th>letter</th>\n",
       "      <th>number</th>\n",
       "    </tr>\n",
       "  </thead>\n",
       "  <tbody>\n",
       "    <tr>\n",
       "      <th>0x7</th>\n",
       "      <td>a</td>\n",
       "      <td>7</td>\n",
       "    </tr>\n",
       "    <tr>\n",
       "      <th>0x9</th>\n",
       "      <td>a</td>\n",
       "      <td>9</td>\n",
       "    </tr>\n",
       "    <tr>\n",
       "      <th>0xb</th>\n",
       "      <td>a</td>\n",
       "      <td>11</td>\n",
       "    </tr>\n",
       "  </tbody>\n",
       "</table>\n",
       "</div>"
      ],
      "text/plain": [
       "    letter  number\n",
       "0x7      a       7\n",
       "0x9      a       9\n",
       "0xb      a      11"
      ]
     },
     "execution_count": 66,
     "metadata": {},
     "output_type": "execute_result"
    }
   ],
   "source": [
    "myRange = range(6,12,2)\n",
    "rowNumbers = list(range(1,21))\n",
    "\n",
    "anotherDF.iloc[list(myRange)]"
   ]
  },
  {
   "cell_type": "markdown",
   "metadata": {},
   "source": [
    "### Subsetting by a list of row ***index values (row names)***\n",
    "Here the loc function is used to extract the rows with a set of labels"
   ]
  },
  {
   "cell_type": "code",
   "execution_count": null,
   "metadata": {},
   "outputs": [],
   "source": [
    "rowLabelSubset = [hex(r) for r in myRange]\n",
    "print('rowLabelSubset is ', rowLabelSubset)\n",
    "anotherDF.loc[rowLabelSubset]"
   ]
  },
  {
   "cell_type": "markdown",
   "metadata": {},
   "source": [
    "### Subsetting by a list of values in one of the columns\n",
    "Here all of the rows with values in a listindex  of values in a particular column are selected. The trick is to make a Boolean list to subset the DataFrame"
   ]
  },
  {
   "cell_type": "code",
   "execution_count": 67,
   "metadata": {},
   "outputs": [
    {
     "name": "stdout",
     "output_type": "stream",
     "text": [
      "wanted Rows [False, True, False, False, True, False, True, False, False, False, False, False, False, False, False, False, False, False, False, False]\n",
      "\n",
      "  The Resulting DataFrame\n"
     ]
    },
    {
     "data": {
      "text/html": [
       "<div>\n",
       "<style scoped>\n",
       "    .dataframe tbody tr th:only-of-type {\n",
       "        vertical-align: middle;\n",
       "    }\n",
       "\n",
       "    .dataframe tbody tr th {\n",
       "        vertical-align: top;\n",
       "    }\n",
       "\n",
       "    .dataframe thead th {\n",
       "        text-align: right;\n",
       "    }\n",
       "</style>\n",
       "<table border=\"1\" class=\"dataframe\">\n",
       "  <thead>\n",
       "    <tr style=\"text-align: right;\">\n",
       "      <th></th>\n",
       "      <th>letter</th>\n",
       "      <th>number</th>\n",
       "    </tr>\n",
       "  </thead>\n",
       "  <tbody>\n",
       "    <tr>\n",
       "      <th>0x2</th>\n",
       "      <td>b</td>\n",
       "      <td>2</td>\n",
       "    </tr>\n",
       "    <tr>\n",
       "      <th>0x5</th>\n",
       "      <td>a</td>\n",
       "      <td>5</td>\n",
       "    </tr>\n",
       "    <tr>\n",
       "      <th>0x7</th>\n",
       "      <td>a</td>\n",
       "      <td>7</td>\n",
       "    </tr>\n",
       "  </tbody>\n",
       "</table>\n",
       "</div>"
      ],
      "text/plain": [
       "    letter  number\n",
       "0x2      b       2\n",
       "0x5      a       5\n",
       "0x7      a       7"
      ]
     },
     "execution_count": 67,
     "metadata": {},
     "output_type": "execute_result"
    }
   ],
   "source": [
    "wantedRows = [n in [5,2,7] for n in anotherDF.number]\n",
    "print('wanted Rows', wantedRows)\n",
    "print('\\n  The Resulting DataFrame')\n",
    "anotherDF[wantedRows]"
   ]
  },
  {
   "cell_type": "markdown",
   "metadata": {},
   "source": [
    "### myDf2"
   ]
  },
  {
   "cell_type": "code",
   "execution_count": 63,
   "metadata": {},
   "outputs": [
    {
     "data": {
      "text/html": [
       "<div>\n",
       "<style scoped>\n",
       "    .dataframe tbody tr th:only-of-type {\n",
       "        vertical-align: middle;\n",
       "    }\n",
       "\n",
       "    .dataframe tbody tr th {\n",
       "        vertical-align: top;\n",
       "    }\n",
       "\n",
       "    .dataframe thead th {\n",
       "        text-align: right;\n",
       "    }\n",
       "</style>\n",
       "<table border=\"1\" class=\"dataframe\">\n",
       "  <thead>\n",
       "    <tr style=\"text-align: right;\">\n",
       "      <th></th>\n",
       "      <th>age</th>\n",
       "      <th>textAge</th>\n",
       "      <th>ID</th>\n",
       "      <th>fourthCol</th>\n",
       "    </tr>\n",
       "  </thead>\n",
       "  <tbody>\n",
       "    <tr>\n",
       "      <th>r1</th>\n",
       "      <td>10</td>\n",
       "      <td>ten</td>\n",
       "      <td>3</td>\n",
       "      <td>foo</td>\n",
       "    </tr>\n",
       "    <tr>\n",
       "      <th>r2</th>\n",
       "      <td>20</td>\n",
       "      <td>twenty</td>\n",
       "      <td>2</td>\n",
       "      <td>bar</td>\n",
       "    </tr>\n",
       "    <tr>\n",
       "      <th>r3</th>\n",
       "      <td>30</td>\n",
       "      <td>thirty</td>\n",
       "      <td>1</td>\n",
       "      <td>baz</td>\n",
       "    </tr>\n",
       "  </tbody>\n",
       "</table>\n",
       "</div>"
      ],
      "text/plain": [
       "    age textAge  ID fourthCol\n",
       "r1   10     ten   3       foo\n",
       "r2   20  twenty   2       bar\n",
       "r3   30  thirty   1       baz"
      ]
     },
     "execution_count": 63,
     "metadata": {},
     "output_type": "execute_result"
    }
   ],
   "source": [
    "inputDict2 = {'age':[10,20,30],\n",
    "            'textAge':['ten', 'twenty', 'thirty'],\n",
    "             'ID':[3,2,1],\n",
    "             'fourthCol':['foo','bar','baz']}\n",
    "\n",
    "myDf2 = pd.DataFrame(inputDict2, \n",
    "                     index=['r1','r2','r3'])\n",
    "myDf2"
   ]
  },
  {
   "cell_type": "markdown",
   "metadata": {},
   "source": [
    "### Editing a Value \n",
    "\n",
    "Indexing can be used to specify a value to be updated. Editing a DataFrame in place may not be the best practice. Also note that since DataFrames are mutable, in the example below ***myDf2 and myDf3 are both references to the same DataFrame object so they \"both\" get changed***."
   ]
  },
  {
   "cell_type": "code",
   "execution_count": 24,
   "metadata": {},
   "outputs": [
    {
     "name": "stdout",
     "output_type": "stream",
     "text": [
      "    age textAge  ID fourthCol\n",
      "r1   10     ten   3       foo\n",
      "r2   20  twenty   2       bar\n",
      "r3   11  thirty   1       baz\n"
     ]
    },
    {
     "data": {
      "text/html": [
       "<div>\n",
       "<style scoped>\n",
       "    .dataframe tbody tr th:only-of-type {\n",
       "        vertical-align: middle;\n",
       "    }\n",
       "\n",
       "    .dataframe tbody tr th {\n",
       "        vertical-align: top;\n",
       "    }\n",
       "\n",
       "    .dataframe thead th {\n",
       "        text-align: right;\n",
       "    }\n",
       "</style>\n",
       "<table border=\"1\" class=\"dataframe\">\n",
       "  <thead>\n",
       "    <tr style=\"text-align: right;\">\n",
       "      <th></th>\n",
       "      <th>age</th>\n",
       "      <th>textAge</th>\n",
       "      <th>ID</th>\n",
       "      <th>fourthCol</th>\n",
       "    </tr>\n",
       "  </thead>\n",
       "  <tbody>\n",
       "    <tr>\n",
       "      <th>r1</th>\n",
       "      <td>10</td>\n",
       "      <td>ten</td>\n",
       "      <td>3</td>\n",
       "      <td>foo</td>\n",
       "    </tr>\n",
       "    <tr>\n",
       "      <th>r2</th>\n",
       "      <td>20</td>\n",
       "      <td>twenty</td>\n",
       "      <td>2</td>\n",
       "      <td>bar</td>\n",
       "    </tr>\n",
       "    <tr>\n",
       "      <th>r3</th>\n",
       "      <td>11</td>\n",
       "      <td>thirty</td>\n",
       "      <td>1</td>\n",
       "      <td>baz</td>\n",
       "    </tr>\n",
       "  </tbody>\n",
       "</table>\n",
       "</div>"
      ],
      "text/plain": [
       "    age textAge  ID fourthCol\n",
       "r1   10     ten   3       foo\n",
       "r2   20  twenty   2       bar\n",
       "r3   11  thirty   1       baz"
      ]
     },
     "execution_count": 24,
     "metadata": {},
     "output_type": "execute_result"
    }
   ],
   "source": [
    "myDf3 = myDf2\n",
    "\n",
    "myDf2.loc[myDf2.ID == 1, 'age'] = 11\n",
    "pprint.pprint(myDf2)\n",
    "\n",
    "myDf3"
   ]
  },
  {
   "cell_type": "markdown",
   "metadata": {},
   "source": [
    "### Mutability \n",
    "If you want a copy of a DataFrame, not just another reference to the same DataFrame, use the .copy method of the DataFrame."
   ]
  },
  {
   "cell_type": "code",
   "execution_count": 25,
   "metadata": {
    "tags": [
     "raises-exception"
    ]
   },
   "outputs": [
    {
     "name": "stdout",
     "output_type": "stream",
     "text": [
      "myDf2 and myDf3 point to the same DataFrame. It changed. \n",
      "     age textAge  ID fourthCol\n",
      "r1   10     ten   3       foo\n",
      "r2   20  twenty   2       bar\n",
      "r3   11  thirty   1       baz\n",
      "    age textAge  ID fourthCol\n",
      "r1   10     ten   3       foo\n",
      "r2   20  twenty   2       bar\n",
      "r3   11  thirty   1       baz\n",
      "myDf4 is not changed \n",
      "\n"
     ]
    },
    {
     "data": {
      "text/html": [
       "<div>\n",
       "<style scoped>\n",
       "    .dataframe tbody tr th:only-of-type {\n",
       "        vertical-align: middle;\n",
       "    }\n",
       "\n",
       "    .dataframe tbody tr th {\n",
       "        vertical-align: top;\n",
       "    }\n",
       "\n",
       "    .dataframe thead th {\n",
       "        text-align: right;\n",
       "    }\n",
       "</style>\n",
       "<table border=\"1\" class=\"dataframe\">\n",
       "  <thead>\n",
       "    <tr style=\"text-align: right;\">\n",
       "      <th></th>\n",
       "      <th>age</th>\n",
       "      <th>textAge</th>\n",
       "      <th>ID</th>\n",
       "      <th>fourthCol</th>\n",
       "    </tr>\n",
       "  </thead>\n",
       "  <tbody>\n",
       "    <tr>\n",
       "      <th>r1</th>\n",
       "      <td>10</td>\n",
       "      <td>ten</td>\n",
       "      <td>3</td>\n",
       "      <td>foo</td>\n",
       "    </tr>\n",
       "    <tr>\n",
       "      <th>r2</th>\n",
       "      <td>20</td>\n",
       "      <td>twenty</td>\n",
       "      <td>2</td>\n",
       "      <td>bar</td>\n",
       "    </tr>\n",
       "    <tr>\n",
       "      <th>r3</th>\n",
       "      <td>30</td>\n",
       "      <td>thirty</td>\n",
       "      <td>1</td>\n",
       "      <td>baz</td>\n",
       "    </tr>\n",
       "  </tbody>\n",
       "</table>\n",
       "</div>"
      ],
      "text/plain": [
       "    age textAge  ID fourthCol\n",
       "r1   10     ten   3       foo\n",
       "r2   20  twenty   2       bar\n",
       "r3   30  thirty   1       baz"
      ]
     },
     "execution_count": 25,
     "metadata": {},
     "output_type": "execute_result"
    }
   ],
   "source": [
    "inputDict2 = {'age':[10,20,30],\n",
    "            'textAge':['ten', 'twenty', 'thirty'],\n",
    "             'ID':[3,2,1],\n",
    "             'fourthCol':['foo','bar','baz']}\n",
    "myDf2 = pd.DataFrame(inputDict2, \n",
    "                     index=['r1','r2','r3'])\n",
    "myDf3 = pd.DataFrame(myDf2)\n",
    "\n",
    "# this is the same as pd.DataFrame(myDf2, copy=True) \n",
    "myDf4 = myDf2.copy()\n",
    "\n",
    "myDf2.loc[myDf2.ID == 1, 'age'] = 11\n",
    "print('myDf2 and myDf3 point to the same DataFrame. It changed. \\n',myDf2)\n",
    "print(myDf3)\n",
    "\n",
    "print('myDf4 is not changed \\n')\n",
    "myDf4"
   ]
  },
  {
   "cell_type": "markdown",
   "metadata": {},
   "source": [
    "### Beware\n",
    "The following increases a cell by 10 percent each time it is run. This could be really bad if you don't keep an original copy of the data and run it more times than intended. This is an example of where you need to create your processes so that they are reproducible. \n",
    "\n",
    "Try running it several times.\n"
   ]
  },
  {
   "cell_type": "code",
   "execution_count": 26,
   "metadata": {},
   "outputs": [
    {
     "name": "stdout",
     "output_type": "stream",
     "text": [
      "     age textAge  ID fourthCol\n",
      "r1  10.0     ten   3       foo\n",
      "r2  20.0  twenty   2       bar\n",
      "r3  12.1  thirty   1       baz\n"
     ]
    }
   ],
   "source": [
    "myDf2.loc[myDf2.ID == 1, 'age'] *= 1.1\n",
    "pprint.pprint(myDf2)\n"
   ]
  },
  {
   "cell_type": "markdown",
   "metadata": {},
   "source": [
    "# Expressions\n",
    "In Python expressions are built up from *atoms* and operators. In the expression\n",
    "\n",
    "1 + myVar\n",
    "\n",
    "`\n",
    " the + is an operator\n",
    " the 1 is a literal\n",
    " \"myVar\" is an identifier(name) of an object (a variable)\n",
    "`\n",
    "\n",
    "When the expression is evaluated the value of each atom is fed to the appropriate operator.\n",
    "\n",
    "The formal rules for expressions can be found at:\n",
    "https://docs.python.org/3/reference/expressions.html\n",
    "\n"
   ]
  },
  {
   "cell_type": "markdown",
   "metadata": {},
   "source": [
    "### operations on scalars"
   ]
  },
  {
   "cell_type": "code",
   "execution_count": 27,
   "metadata": {},
   "outputs": [
    {
     "name": "stdout",
     "output_type": "stream",
     "text": [
      " the expression 1 + myVar returns  8\n"
     ]
    }
   ],
   "source": [
    "myVar = 7\n",
    "print(\" the expression 1 + myVar returns \", 1 + myVar)\n"
   ]
  },
  {
   "cell_type": "markdown",
   "metadata": {},
   "source": [
    "### Computations among objects\n",
    "arithmetic operations among indexed objects will associate cells with the same indices\n"
   ]
  },
  {
   "cell_type": "markdown",
   "metadata": {},
   "source": [
    "### first the DataFrames\n",
    "these examples are from McKinney *Python for Data Analysis*  pages 148,149"
   ]
  },
  {
   "cell_type": "code",
   "execution_count": 28,
   "metadata": {},
   "outputs": [
    {
     "data": {
      "text/html": [
       "<div>\n",
       "<style scoped>\n",
       "    .dataframe tbody tr th:only-of-type {\n",
       "        vertical-align: middle;\n",
       "    }\n",
       "\n",
       "    .dataframe tbody tr th {\n",
       "        vertical-align: top;\n",
       "    }\n",
       "\n",
       "    .dataframe thead th {\n",
       "        text-align: right;\n",
       "    }\n",
       "</style>\n",
       "<table border=\"1\" class=\"dataframe\">\n",
       "  <thead>\n",
       "    <tr style=\"text-align: right;\">\n",
       "      <th></th>\n",
       "      <th>a</th>\n",
       "      <th>b</th>\n",
       "      <th>c</th>\n",
       "      <th>d</th>\n",
       "    </tr>\n",
       "  </thead>\n",
       "  <tbody>\n",
       "    <tr>\n",
       "      <th>0</th>\n",
       "      <td>0.0</td>\n",
       "      <td>1.0</td>\n",
       "      <td>2.0</td>\n",
       "      <td>3.0</td>\n",
       "    </tr>\n",
       "    <tr>\n",
       "      <th>1</th>\n",
       "      <td>4.0</td>\n",
       "      <td>5.0</td>\n",
       "      <td>6.0</td>\n",
       "      <td>7.0</td>\n",
       "    </tr>\n",
       "    <tr>\n",
       "      <th>2</th>\n",
       "      <td>8.0</td>\n",
       "      <td>9.0</td>\n",
       "      <td>10.0</td>\n",
       "      <td>11.0</td>\n",
       "    </tr>\n",
       "  </tbody>\n",
       "</table>\n",
       "</div>"
      ],
      "text/plain": [
       "     a    b     c     d\n",
       "0  0.0  1.0   2.0   3.0\n",
       "1  4.0  5.0   6.0   7.0\n",
       "2  8.0  9.0  10.0  11.0"
      ]
     },
     "execution_count": 28,
     "metadata": {},
     "output_type": "execute_result"
    }
   ],
   "source": [
    "Df1 = pd.DataFrame(np.arange(12.).reshape((3,4)),\n",
    "                  columns=list('abcd'))\n",
    "Df1"
   ]
  },
  {
   "cell_type": "code",
   "execution_count": 29,
   "metadata": {},
   "outputs": [
    {
     "data": {
      "text/html": [
       "<div>\n",
       "<style scoped>\n",
       "    .dataframe tbody tr th:only-of-type {\n",
       "        vertical-align: middle;\n",
       "    }\n",
       "\n",
       "    .dataframe tbody tr th {\n",
       "        vertical-align: top;\n",
       "    }\n",
       "\n",
       "    .dataframe thead th {\n",
       "        text-align: right;\n",
       "    }\n",
       "</style>\n",
       "<table border=\"1\" class=\"dataframe\">\n",
       "  <thead>\n",
       "    <tr style=\"text-align: right;\">\n",
       "      <th></th>\n",
       "      <th>a</th>\n",
       "      <th>b</th>\n",
       "      <th>c</th>\n",
       "      <th>d</th>\n",
       "      <th>e</th>\n",
       "    </tr>\n",
       "  </thead>\n",
       "  <tbody>\n",
       "    <tr>\n",
       "      <th>0</th>\n",
       "      <td>0.0</td>\n",
       "      <td>1.0</td>\n",
       "      <td>2.0</td>\n",
       "      <td>3.0</td>\n",
       "      <td>4.0</td>\n",
       "    </tr>\n",
       "    <tr>\n",
       "      <th>1</th>\n",
       "      <td>5.0</td>\n",
       "      <td>6.0</td>\n",
       "      <td>7.0</td>\n",
       "      <td>8.0</td>\n",
       "      <td>9.0</td>\n",
       "    </tr>\n",
       "    <tr>\n",
       "      <th>2</th>\n",
       "      <td>10.0</td>\n",
       "      <td>11.0</td>\n",
       "      <td>12.0</td>\n",
       "      <td>13.0</td>\n",
       "      <td>14.0</td>\n",
       "    </tr>\n",
       "    <tr>\n",
       "      <th>3</th>\n",
       "      <td>15.0</td>\n",
       "      <td>16.0</td>\n",
       "      <td>17.0</td>\n",
       "      <td>18.0</td>\n",
       "      <td>19.0</td>\n",
       "    </tr>\n",
       "  </tbody>\n",
       "</table>\n",
       "</div>"
      ],
      "text/plain": [
       "      a     b     c     d     e\n",
       "0   0.0   1.0   2.0   3.0   4.0\n",
       "1   5.0   6.0   7.0   8.0   9.0\n",
       "2  10.0  11.0  12.0  13.0  14.0\n",
       "3  15.0  16.0  17.0  18.0  19.0"
      ]
     },
     "execution_count": 29,
     "metadata": {},
     "output_type": "execute_result"
    }
   ],
   "source": [
    "Df2 = pd.DataFrame(np.arange(20.).reshape((4,5)),\n",
    "                  columns=list('abcde'))\n",
    "Df2"
   ]
  },
  {
   "cell_type": "markdown",
   "metadata": {},
   "source": [
    "### Adding two DataFrames\n",
    "Corresponding cells of the two DataFrames are added together. New cells that did not have a match in one of the DataFrames are given a missing value."
   ]
  },
  {
   "cell_type": "code",
   "execution_count": 30,
   "metadata": {},
   "outputs": [
    {
     "data": {
      "text/html": [
       "<div>\n",
       "<style scoped>\n",
       "    .dataframe tbody tr th:only-of-type {\n",
       "        vertical-align: middle;\n",
       "    }\n",
       "\n",
       "    .dataframe tbody tr th {\n",
       "        vertical-align: top;\n",
       "    }\n",
       "\n",
       "    .dataframe thead th {\n",
       "        text-align: right;\n",
       "    }\n",
       "</style>\n",
       "<table border=\"1\" class=\"dataframe\">\n",
       "  <thead>\n",
       "    <tr style=\"text-align: right;\">\n",
       "      <th></th>\n",
       "      <th>a</th>\n",
       "      <th>b</th>\n",
       "      <th>c</th>\n",
       "      <th>d</th>\n",
       "      <th>e</th>\n",
       "    </tr>\n",
       "  </thead>\n",
       "  <tbody>\n",
       "    <tr>\n",
       "      <th>0</th>\n",
       "      <td>0.0</td>\n",
       "      <td>2.0</td>\n",
       "      <td>4.0</td>\n",
       "      <td>6.0</td>\n",
       "      <td>NaN</td>\n",
       "    </tr>\n",
       "    <tr>\n",
       "      <th>1</th>\n",
       "      <td>9.0</td>\n",
       "      <td>11.0</td>\n",
       "      <td>13.0</td>\n",
       "      <td>15.0</td>\n",
       "      <td>NaN</td>\n",
       "    </tr>\n",
       "    <tr>\n",
       "      <th>2</th>\n",
       "      <td>18.0</td>\n",
       "      <td>20.0</td>\n",
       "      <td>22.0</td>\n",
       "      <td>24.0</td>\n",
       "      <td>NaN</td>\n",
       "    </tr>\n",
       "    <tr>\n",
       "      <th>3</th>\n",
       "      <td>NaN</td>\n",
       "      <td>NaN</td>\n",
       "      <td>NaN</td>\n",
       "      <td>NaN</td>\n",
       "      <td>NaN</td>\n",
       "    </tr>\n",
       "  </tbody>\n",
       "</table>\n",
       "</div>"
      ],
      "text/plain": [
       "      a     b     c     d   e\n",
       "0   0.0   2.0   4.0   6.0 NaN\n",
       "1   9.0  11.0  13.0  15.0 NaN\n",
       "2  18.0  20.0  22.0  24.0 NaN\n",
       "3   NaN   NaN   NaN   NaN NaN"
      ]
     },
     "execution_count": 30,
     "metadata": {},
     "output_type": "execute_result"
    }
   ],
   "source": [
    "Df1 + Df2"
   ]
  },
  {
   "cell_type": "markdown",
   "metadata": {},
   "source": [
    "### Using methods to do transformations\n",
    "There may be methods that have extra features to perform operations that simple operators cannot. In this example misssing values are replaced with a zero. You can find these methods in the documentation for the object (in this case the DataFrame)."
   ]
  },
  {
   "cell_type": "code",
   "execution_count": 31,
   "metadata": {},
   "outputs": [
    {
     "data": {
      "text/html": [
       "<div>\n",
       "<style scoped>\n",
       "    .dataframe tbody tr th:only-of-type {\n",
       "        vertical-align: middle;\n",
       "    }\n",
       "\n",
       "    .dataframe tbody tr th {\n",
       "        vertical-align: top;\n",
       "    }\n",
       "\n",
       "    .dataframe thead th {\n",
       "        text-align: right;\n",
       "    }\n",
       "</style>\n",
       "<table border=\"1\" class=\"dataframe\">\n",
       "  <thead>\n",
       "    <tr style=\"text-align: right;\">\n",
       "      <th></th>\n",
       "      <th>a</th>\n",
       "      <th>b</th>\n",
       "      <th>c</th>\n",
       "      <th>d</th>\n",
       "      <th>e</th>\n",
       "    </tr>\n",
       "  </thead>\n",
       "  <tbody>\n",
       "    <tr>\n",
       "      <th>0</th>\n",
       "      <td>0.0</td>\n",
       "      <td>2.0</td>\n",
       "      <td>4.0</td>\n",
       "      <td>6.0</td>\n",
       "      <td>4.0</td>\n",
       "    </tr>\n",
       "    <tr>\n",
       "      <th>1</th>\n",
       "      <td>9.0</td>\n",
       "      <td>11.0</td>\n",
       "      <td>13.0</td>\n",
       "      <td>15.0</td>\n",
       "      <td>9.0</td>\n",
       "    </tr>\n",
       "    <tr>\n",
       "      <th>2</th>\n",
       "      <td>18.0</td>\n",
       "      <td>20.0</td>\n",
       "      <td>22.0</td>\n",
       "      <td>24.0</td>\n",
       "      <td>14.0</td>\n",
       "    </tr>\n",
       "    <tr>\n",
       "      <th>3</th>\n",
       "      <td>15.0</td>\n",
       "      <td>16.0</td>\n",
       "      <td>17.0</td>\n",
       "      <td>18.0</td>\n",
       "      <td>19.0</td>\n",
       "    </tr>\n",
       "  </tbody>\n",
       "</table>\n",
       "</div>"
      ],
      "text/plain": [
       "      a     b     c     d     e\n",
       "0   0.0   2.0   4.0   6.0   4.0\n",
       "1   9.0  11.0  13.0  15.0   9.0\n",
       "2  18.0  20.0  22.0  24.0  14.0\n",
       "3  15.0  16.0  17.0  18.0  19.0"
      ]
     },
     "execution_count": 31,
     "metadata": {},
     "output_type": "execute_result"
    }
   ],
   "source": [
    "Df1.add(Df2, fill_value=0)"
   ]
  },
  {
   "cell_type": "markdown",
   "metadata": {},
   "source": [
    "### Function Calls\n",
    "An expression can also include a function call. In the first example below the + operator fails when asked to operate on a string and a number.\n",
    "In the second example below the *str* function is called to convert the value of the literal 1 to a string before concatenating it to the preceeding literal string. Without that casting the operation throws an error.\n",
    "\n",
    "You may have also noted that the call to the print function itself is an expression that has the side effect of printing a string to the console."
   ]
  },
  {
   "cell_type": "code",
   "execution_count": 32,
   "metadata": {
    "tags": [
     "raises-exception"
    ]
   },
   "outputs": [
    {
     "ename": "TypeError",
     "evalue": "can only concatenate str (not \"int\") to str",
     "output_type": "error",
     "traceback": [
      "\u001b[1;31m---------------------------------------------------------------------------\u001b[0m",
      "\u001b[1;31mTypeError\u001b[0m                                 Traceback (most recent call last)",
      "\u001b[1;32m<ipython-input-32-0785d7463cbe>\u001b[0m in \u001b[0;36m<module>\u001b[1;34m\u001b[0m\n\u001b[1;32m----> 1\u001b[1;33m \u001b[0mprint\u001b[0m\u001b[1;33m(\u001b[0m\u001b[1;34m\"number \"\u001b[0m\u001b[1;33m+\u001b[0m \u001b[1;36m1\u001b[0m\u001b[1;33m)\u001b[0m\u001b[1;33m\u001b[0m\u001b[1;33m\u001b[0m\u001b[0m\n\u001b[0m",
      "\u001b[1;31mTypeError\u001b[0m: can only concatenate str (not \"int\") to str"
     ]
    }
   ],
   "source": [
    "print(\"number \"+ 1)"
   ]
  },
  {
   "cell_type": "code",
   "execution_count": 33,
   "metadata": {},
   "outputs": [
    {
     "name": "stdout",
     "output_type": "stream",
     "text": [
      "number 1\n"
     ]
    }
   ],
   "source": [
    "print(\"number \"+ str(1))"
   ]
  },
  {
   "cell_type": "markdown",
   "metadata": {},
   "source": [
    "### Operators as Functions\n",
    "\n",
    "Operators are functions that also have a special built in syntax, like the + sign in the expression 2+2 .  \n",
    "https://docs.python.org/3/library/operator.html \n",
    "\n",
    "There is a module, *operator*, that defines a function for each intrinsic operator in Python. In the example below the *add* function is used to add two and two"
   ]
  },
  {
   "cell_type": "code",
   "execution_count": 34,
   "metadata": {},
   "outputs": [
    {
     "name": "stdout",
     "output_type": "stream",
     "text": [
      "4\n"
     ]
    }
   ],
   "source": [
    "import operator\n",
    "print(operator.add(2,2))"
   ]
  },
  {
   "cell_type": "markdown",
   "metadata": {},
   "source": [
    "### Precedence\n",
    "Expressions are evaluated from left to right, but the precedence of operators must be taken into account.\n",
    "\n",
    "The precedence of operators is listed in section 6.16 of the Python documentation\n",
    "https://docs.python.org/3/reference/expressions.html"
   ]
  },
  {
   "cell_type": "code",
   "execution_count": 35,
   "metadata": {},
   "outputs": [
    {
     "name": "stdout",
     "output_type": "stream",
     "text": [
      "2.0\n",
      "1.5\n"
     ]
    }
   ],
   "source": [
    "# Since / has a higher precedence than +  \n",
    "# the division is performed first\n",
    "print(1 + 2 / 2)\n",
    "\n",
    "\n",
    "# This forces the addition to be first\n",
    "print( (1+2) / 2     )"
   ]
  },
  {
   "cell_type": "markdown",
   "metadata": {},
   "source": [
    "### Another Function Example\n",
    "In the following a user written function uses expressions within the for loop of the definition to turn a list of objects into a camel case string."
   ]
  },
  {
   "cell_type": "code",
   "execution_count": 36,
   "metadata": {},
   "outputs": [],
   "source": [
    "import string\n",
    "def camelize(stringList):\n",
    "    camelString = ''\n",
    "    for aString in stringList:\n",
    "        aString = str(aString)\n",
    "        camelString =   camelString + aString.capitalize()\n",
    "    return camelString"
   ]
  },
  {
   "cell_type": "markdown",
   "metadata": {},
   "source": [
    "the call to the camelize function appears in an expression. The argument to the function call is an expression."
   ]
  },
  {
   "cell_type": "code",
   "execution_count": 37,
   "metadata": {},
   "outputs": [
    {
     "name": "stdout",
     "output_type": "stream",
     "text": [
      "the camelized string is: FooBar1\n"
     ]
    }
   ],
   "source": [
    "expressionResult = \"the camelized string is: \" + camelize([\"foo\", \"bar\", 1])\n",
    "print(expressionResult)"
   ]
  },
  {
   "cell_type": "markdown",
   "metadata": {},
   "source": [
    "### Recoding with Dictionaries - The replace() Function\n",
    "For variables with discrete values you can specify a dictionary that describes the transformation. IN this example the recoded series is added as a new column\n"
   ]
  },
  {
   "cell_type": "code",
   "execution_count": 38,
   "metadata": {
    "tags": [
     "raises-exception"
    ]
   },
   "outputs": [
    {
     "name": "stdout",
     "output_type": "stream",
     "text": [
      "  v1  v2\n",
      "0  a   1\n",
      "1  c   2\n",
      "2  b   3\n"
     ]
    },
    {
     "data": {
      "text/html": [
       "<div>\n",
       "<style scoped>\n",
       "    .dataframe tbody tr th:only-of-type {\n",
       "        vertical-align: middle;\n",
       "    }\n",
       "\n",
       "    .dataframe tbody tr th {\n",
       "        vertical-align: top;\n",
       "    }\n",
       "\n",
       "    .dataframe thead th {\n",
       "        text-align: right;\n",
       "    }\n",
       "</style>\n",
       "<table border=\"1\" class=\"dataframe\">\n",
       "  <thead>\n",
       "    <tr style=\"text-align: right;\">\n",
       "      <th></th>\n",
       "      <th>v1</th>\n",
       "      <th>v2</th>\n",
       "      <th>v3</th>\n",
       "    </tr>\n",
       "  </thead>\n",
       "  <tbody>\n",
       "    <tr>\n",
       "      <th>0</th>\n",
       "      <td>a</td>\n",
       "      <td>1</td>\n",
       "      <td>1</td>\n",
       "    </tr>\n",
       "    <tr>\n",
       "      <th>1</th>\n",
       "      <td>c</td>\n",
       "      <td>2</td>\n",
       "      <td>c</td>\n",
       "    </tr>\n",
       "    <tr>\n",
       "      <th>2</th>\n",
       "      <td>b</td>\n",
       "      <td>3</td>\n",
       "      <td>2</td>\n",
       "    </tr>\n",
       "  </tbody>\n",
       "</table>\n",
       "</div>"
      ],
      "text/plain": [
       "  v1  v2 v3\n",
       "0  a   1  1\n",
       "1  c   2  c\n",
       "2  b   3  2"
      ]
     },
     "execution_count": 38,
     "metadata": {},
     "output_type": "execute_result"
    }
   ],
   "source": [
    "transform = {\"a\":1, \"b\":2}\n",
    "\n",
    "\n",
    "myDf = pd.DataFrame({'v1':['a','c','b'], 'v2':[1,2,3]})\n",
    "\n",
    "print(myDf)\n",
    "myDf['v3'] = myDf.v1.replace(transform.keys(),transform.values() )\n",
    "myDf"
   ]
  },
  {
   "cell_type": "markdown",
   "metadata": {},
   "source": [
    "### in place\n",
    "THe ***inplace*** parameter allows for changing a series in place"
   ]
  },
  {
   "cell_type": "code",
   "execution_count": 39,
   "metadata": {},
   "outputs": [
    {
     "name": "stdout",
     "output_type": "stream",
     "text": [
      "  v1  v2\n",
      "0  a   1\n",
      "1  c   2\n",
      "2  b   3\n"
     ]
    },
    {
     "data": {
      "text/html": [
       "<div>\n",
       "<style scoped>\n",
       "    .dataframe tbody tr th:only-of-type {\n",
       "        vertical-align: middle;\n",
       "    }\n",
       "\n",
       "    .dataframe tbody tr th {\n",
       "        vertical-align: top;\n",
       "    }\n",
       "\n",
       "    .dataframe thead th {\n",
       "        text-align: right;\n",
       "    }\n",
       "</style>\n",
       "<table border=\"1\" class=\"dataframe\">\n",
       "  <thead>\n",
       "    <tr style=\"text-align: right;\">\n",
       "      <th></th>\n",
       "      <th>v1</th>\n",
       "      <th>v2</th>\n",
       "    </tr>\n",
       "  </thead>\n",
       "  <tbody>\n",
       "    <tr>\n",
       "      <th>0</th>\n",
       "      <td>1</td>\n",
       "      <td>1</td>\n",
       "    </tr>\n",
       "    <tr>\n",
       "      <th>1</th>\n",
       "      <td>c</td>\n",
       "      <td>2</td>\n",
       "    </tr>\n",
       "    <tr>\n",
       "      <th>2</th>\n",
       "      <td>2</td>\n",
       "      <td>3</td>\n",
       "    </tr>\n",
       "  </tbody>\n",
       "</table>\n",
       "</div>"
      ],
      "text/plain": [
       "  v1  v2\n",
       "0  1   1\n",
       "1  c   2\n",
       "2  2   3"
      ]
     },
     "execution_count": 39,
     "metadata": {},
     "output_type": "execute_result"
    }
   ],
   "source": [
    "myDf = pd.DataFrame({'v1':['a','c','b'], 'v2':[1,2,3]})\n",
    "\n",
    "print(myDf)\n",
    "myDf.v1.replace(transform.keys(),transform.values() , inplace=True)\n",
    "myDf"
   ]
  },
  {
   "cell_type": "markdown",
   "metadata": {},
   "source": [
    "## transforming with functions\n"
   ]
  },
  {
   "cell_type": "markdown",
   "metadata": {},
   "source": [
    "### applying a dictionary with map"
   ]
  },
  {
   "cell_type": "code",
   "execution_count": 40,
   "metadata": {},
   "outputs": [
    {
     "name": "stdout",
     "output_type": "stream",
     "text": [
      "    v1  v2\n",
      "0    a   1\n",
      "1    c   2\n",
      "2    B   3\n",
      "3  NaN   4\n"
     ]
    },
    {
     "data": {
      "text/html": [
       "<div>\n",
       "<style scoped>\n",
       "    .dataframe tbody tr th:only-of-type {\n",
       "        vertical-align: middle;\n",
       "    }\n",
       "\n",
       "    .dataframe tbody tr th {\n",
       "        vertical-align: top;\n",
       "    }\n",
       "\n",
       "    .dataframe thead th {\n",
       "        text-align: right;\n",
       "    }\n",
       "</style>\n",
       "<table border=\"1\" class=\"dataframe\">\n",
       "  <thead>\n",
       "    <tr style=\"text-align: right;\">\n",
       "      <th></th>\n",
       "      <th>v1</th>\n",
       "      <th>v2</th>\n",
       "    </tr>\n",
       "  </thead>\n",
       "  <tbody>\n",
       "    <tr>\n",
       "      <th>0</th>\n",
       "      <td>1.0</td>\n",
       "      <td>1</td>\n",
       "    </tr>\n",
       "    <tr>\n",
       "      <th>1</th>\n",
       "      <td>NaN</td>\n",
       "      <td>2</td>\n",
       "    </tr>\n",
       "    <tr>\n",
       "      <th>2</th>\n",
       "      <td>NaN</td>\n",
       "      <td>3</td>\n",
       "    </tr>\n",
       "    <tr>\n",
       "      <th>3</th>\n",
       "      <td>-9.0</td>\n",
       "      <td>4</td>\n",
       "    </tr>\n",
       "  </tbody>\n",
       "</table>\n",
       "</div>"
      ],
      "text/plain": [
       "    v1  v2\n",
       "0  1.0   1\n",
       "1  NaN   2\n",
       "2  NaN   3\n",
       "3 -9.0   4"
      ]
     },
     "execution_count": 40,
     "metadata": {},
     "output_type": "execute_result"
    }
   ],
   "source": [
    "transform = {\"a\":1, \"b\":2, np.nan:-9}\n",
    "myDf = pd.DataFrame({'v1':['a','c','B',np.nan], 'v2':[1,2,3,4]})\n",
    "\n",
    "print(myDf)\n",
    "myDf.v1 = myDf.v1.map(transform)\n",
    "myDf"
   ]
  },
  {
   "cell_type": "markdown",
   "metadata": {},
   "source": [
    "### applying a function  with map\n",
    "For a simple function that has one argument the map function can be used to apply said function to each element of a series. "
   ]
  },
  {
   "cell_type": "code",
   "execution_count": 41,
   "metadata": {},
   "outputs": [
    {
     "name": "stdout",
     "output_type": "stream",
     "text": [
      "    v1  v2\n",
      "0    a   1\n",
      "1    c   2\n",
      "2    B   3\n",
      "3  NaN   4\n"
     ]
    },
    {
     "data": {
      "text/html": [
       "<div>\n",
       "<style scoped>\n",
       "    .dataframe tbody tr th:only-of-type {\n",
       "        vertical-align: middle;\n",
       "    }\n",
       "\n",
       "    .dataframe tbody tr th {\n",
       "        vertical-align: top;\n",
       "    }\n",
       "\n",
       "    .dataframe thead th {\n",
       "        text-align: right;\n",
       "    }\n",
       "</style>\n",
       "<table border=\"1\" class=\"dataframe\">\n",
       "  <thead>\n",
       "    <tr style=\"text-align: right;\">\n",
       "      <th></th>\n",
       "      <th>v1</th>\n",
       "      <th>v2</th>\n",
       "    </tr>\n",
       "  </thead>\n",
       "  <tbody>\n",
       "    <tr>\n",
       "      <th>0</th>\n",
       "      <td>aaa</td>\n",
       "      <td>1</td>\n",
       "    </tr>\n",
       "    <tr>\n",
       "      <th>1</th>\n",
       "      <td>ccc</td>\n",
       "      <td>2</td>\n",
       "    </tr>\n",
       "    <tr>\n",
       "      <th>2</th>\n",
       "      <td>BBB</td>\n",
       "      <td>3</td>\n",
       "    </tr>\n",
       "    <tr>\n",
       "      <th>3</th>\n",
       "      <td>NaN</td>\n",
       "      <td>4</td>\n",
       "    </tr>\n",
       "  </tbody>\n",
       "</table>\n",
       "</div>"
      ],
      "text/plain": [
       "    v1  v2\n",
       "0  aaa   1\n",
       "1  ccc   2\n",
       "2  BBB   3\n",
       "3  NaN   4"
      ]
     },
     "execution_count": 41,
     "metadata": {},
     "output_type": "execute_result"
    }
   ],
   "source": [
    "def triplit(charCell):\n",
    "    if pd.isna(charCell):\n",
    "        return charCell\n",
    "    else:\n",
    "        return charCell*3\n",
    "\n",
    "myDf = pd.DataFrame({'v1':['a','c','B',np.nan], 'v2':[1,2,3,4]})\n",
    "print(myDf)\n",
    "myDf.v1 = myDf.v1.map(triplit)\n",
    "myDf"
   ]
  },
  {
   "cell_type": "markdown",
   "metadata": {},
   "source": [
    "### applying a function with apply\n",
    "The apply function allows for specifying additional arguments."
   ]
  },
  {
   "cell_type": "code",
   "execution_count": 42,
   "metadata": {},
   "outputs": [
    {
     "data": {
      "text/html": [
       "<div>\n",
       "<style scoped>\n",
       "    .dataframe tbody tr th:only-of-type {\n",
       "        vertical-align: middle;\n",
       "    }\n",
       "\n",
       "    .dataframe tbody tr th {\n",
       "        vertical-align: top;\n",
       "    }\n",
       "\n",
       "    .dataframe thead th {\n",
       "        text-align: right;\n",
       "    }\n",
       "</style>\n",
       "<table border=\"1\" class=\"dataframe\">\n",
       "  <thead>\n",
       "    <tr style=\"text-align: right;\">\n",
       "      <th></th>\n",
       "      <th>v1</th>\n",
       "      <th>v2</th>\n",
       "      <th>v3</th>\n",
       "    </tr>\n",
       "  </thead>\n",
       "  <tbody>\n",
       "    <tr>\n",
       "      <th>0</th>\n",
       "      <td>a</td>\n",
       "      <td>1</td>\n",
       "      <td>1</td>\n",
       "    </tr>\n",
       "    <tr>\n",
       "      <th>1</th>\n",
       "      <td>c</td>\n",
       "      <td>2</td>\n",
       "      <td>c</td>\n",
       "    </tr>\n",
       "    <tr>\n",
       "      <th>2</th>\n",
       "      <td>B</td>\n",
       "      <td>3</td>\n",
       "      <td>2</td>\n",
       "    </tr>\n",
       "    <tr>\n",
       "      <th>3</th>\n",
       "      <td>NaN</td>\n",
       "      <td>4</td>\n",
       "      <td>-9</td>\n",
       "    </tr>\n",
       "  </tbody>\n",
       "</table>\n",
       "</div>"
      ],
      "text/plain": [
       "    v1  v2  v3\n",
       "0    a   1   1\n",
       "1    c   2   c\n",
       "2    B   3   2\n",
       "3  NaN   4  -9"
      ]
     },
     "execution_count": 42,
     "metadata": {},
     "output_type": "execute_result"
    }
   ],
   "source": [
    "def upDict(seriesValue, mappingDict, missingValue):\n",
    "    '''\n",
    "    maps lowercased values using a dictionary,\n",
    "    maps missing to specified value'''\n",
    "    if pd.isnull(seriesValue):\n",
    "        return missingValue\n",
    "    newValue = mappingDict.get(seriesValue.lower(), None)\n",
    "    if newValue == None:\n",
    "        return seriesValue\n",
    "    else:\n",
    "        return newValue\n",
    "    \n",
    "transform = {\"a\":1, \"b\":2}\n",
    "\n",
    "myDf = pd.DataFrame({'v1':['a','c','B',np.nan], 'v2':[1,2,3,4]})\n",
    "\n",
    "myDf['v3'] = myDf.v1.apply(upDict, args=(transform,-9))\n",
    "\n",
    "myDf"
   ]
  },
  {
   "cell_type": "markdown",
   "metadata": {},
   "source": [
    "## Binning\n",
    "Sometimes it is useful to convert continuous data into categorical (binned) data"
   ]
  },
  {
   "cell_type": "markdown",
   "metadata": {},
   "source": [
    "### the cut method"
   ]
  },
  {
   "cell_type": "code",
   "execution_count": 43,
   "metadata": {},
   "outputs": [
    {
     "data": {
      "text/html": [
       "<div>\n",
       "<style scoped>\n",
       "    .dataframe tbody tr th:only-of-type {\n",
       "        vertical-align: middle;\n",
       "    }\n",
       "\n",
       "    .dataframe tbody tr th {\n",
       "        vertical-align: top;\n",
       "    }\n",
       "\n",
       "    .dataframe thead th {\n",
       "        text-align: right;\n",
       "    }\n",
       "</style>\n",
       "<table border=\"1\" class=\"dataframe\">\n",
       "  <thead>\n",
       "    <tr style=\"text-align: right;\">\n",
       "      <th></th>\n",
       "      <th>weightLbs</th>\n",
       "      <th>heightIn</th>\n",
       "      <th>bmi</th>\n",
       "      <th>bmiInt</th>\n",
       "      <th>bmiCat</th>\n",
       "    </tr>\n",
       "  </thead>\n",
       "  <tbody>\n",
       "    <tr>\n",
       "      <th>0</th>\n",
       "      <td>124.440661</td>\n",
       "      <td>70.338370</td>\n",
       "      <td>17.682067</td>\n",
       "      <td>(16.0, 18.5]</td>\n",
       "      <td>Underweight</td>\n",
       "    </tr>\n",
       "    <tr>\n",
       "      <th>1</th>\n",
       "      <td>164.840341</td>\n",
       "      <td>62.666798</td>\n",
       "      <td>29.508275</td>\n",
       "      <td>(25.0, 30.0]</td>\n",
       "      <td>Overweight</td>\n",
       "    </tr>\n",
       "    <tr>\n",
       "      <th>2</th>\n",
       "      <td>135.646367</td>\n",
       "      <td>78.725313</td>\n",
       "      <td>15.386318</td>\n",
       "      <td>(15.0, 16.0]</td>\n",
       "      <td>Severely underweight</td>\n",
       "    </tr>\n",
       "    <tr>\n",
       "      <th>3</th>\n",
       "      <td>138.164945</td>\n",
       "      <td>76.181998</td>\n",
       "      <td>16.735877</td>\n",
       "      <td>(16.0, 18.5]</td>\n",
       "      <td>Underweight</td>\n",
       "    </tr>\n",
       "    <tr>\n",
       "      <th>4</th>\n",
       "      <td>147.313518</td>\n",
       "      <td>72.313646</td>\n",
       "      <td>19.804205</td>\n",
       "      <td>(18.5, 25.0]</td>\n",
       "      <td>Normal (healthy weight)</td>\n",
       "    </tr>\n",
       "    <tr>\n",
       "      <th>5</th>\n",
       "      <td>158.315725</td>\n",
       "      <td>70.698424</td>\n",
       "      <td>22.266908</td>\n",
       "      <td>(18.5, 25.0]</td>\n",
       "      <td>Normal (healthy weight)</td>\n",
       "    </tr>\n",
       "    <tr>\n",
       "      <th>6</th>\n",
       "      <td>150.951876</td>\n",
       "      <td>62.743958</td>\n",
       "      <td>26.955663</td>\n",
       "      <td>(25.0, 30.0]</td>\n",
       "      <td>Overweight</td>\n",
       "    </tr>\n",
       "    <tr>\n",
       "      <th>7</th>\n",
       "      <td>154.953405</td>\n",
       "      <td>76.410115</td>\n",
       "      <td>18.657555</td>\n",
       "      <td>(18.5, 25.0]</td>\n",
       "      <td>Normal (healthy weight)</td>\n",
       "    </tr>\n",
       "    <tr>\n",
       "      <th>8</th>\n",
       "      <td>172.235595</td>\n",
       "      <td>66.746842</td>\n",
       "      <td>27.177956</td>\n",
       "      <td>(25.0, 30.0]</td>\n",
       "      <td>Overweight</td>\n",
       "    </tr>\n",
       "    <tr>\n",
       "      <th>9</th>\n",
       "      <td>137.870922</td>\n",
       "      <td>56.300291</td>\n",
       "      <td>30.577834</td>\n",
       "      <td>(30.0, 35.0]</td>\n",
       "      <td>Obese Class I (Moderately obese)</td>\n",
       "    </tr>\n",
       "  </tbody>\n",
       "</table>\n",
       "</div>"
      ],
      "text/plain": [
       "    weightLbs   heightIn        bmi        bmiInt  \\\n",
       "0  124.440661  70.338370  17.682067  (16.0, 18.5]   \n",
       "1  164.840341  62.666798  29.508275  (25.0, 30.0]   \n",
       "2  135.646367  78.725313  15.386318  (15.0, 16.0]   \n",
       "3  138.164945  76.181998  16.735877  (16.0, 18.5]   \n",
       "4  147.313518  72.313646  19.804205  (18.5, 25.0]   \n",
       "5  158.315725  70.698424  22.266908  (18.5, 25.0]   \n",
       "6  150.951876  62.743958  26.955663  (25.0, 30.0]   \n",
       "7  154.953405  76.410115  18.657555  (18.5, 25.0]   \n",
       "8  172.235595  66.746842  27.177956  (25.0, 30.0]   \n",
       "9  137.870922  56.300291  30.577834  (30.0, 35.0]   \n",
       "\n",
       "                              bmiCat  \n",
       "0                        Underweight  \n",
       "1                         Overweight  \n",
       "2              Severely underweight   \n",
       "3                        Underweight  \n",
       "4           Normal (healthy weight)   \n",
       "5           Normal (healthy weight)   \n",
       "6                         Overweight  \n",
       "7           Normal (healthy weight)   \n",
       "8                         Overweight  \n",
       "9  Obese Class I (Moderately obese)   "
      ]
     },
     "execution_count": 43,
     "metadata": {},
     "output_type": "execute_result"
    }
   ],
   "source": [
    "bios = pd.DataFrame(20*np.random.randn(10,1)+150, columns=['weightLbs'])\n",
    "\n",
    "bios['heightIn'] = pd.Series(8*np.random.randn(10)+68)\n",
    "\n",
    "bios['bmi'] = 703 * bios.weightLbs / (bios.heightIn**2)\n",
    "\n",
    "bmiCutVals = [0,15,16,18.5,25,30,35,40,99]\n",
    "\n",
    "bmiLabels = ['Very severely underweight ',\n",
    "             'Severely underweight ',\n",
    "             'Underweight',\n",
    "             'Normal (healthy weight) ',\n",
    "             'Overweight',\n",
    "             'Obese Class I (Moderately obese) ',\n",
    "             'Obese Class II (Severely obese)',\n",
    "             'Obese Class III (Very severely obese) ' ]\n",
    "\n",
    "bios['bmiInt'] = pd.cut(bios.bmi,bmiCutVals)\n",
    "bios['bmiCat'] = pd.cut(bios.bmi,bmiCutVals, labels=bmiLabels)\n",
    "bios"
   ]
  },
  {
   "cell_type": "markdown",
   "metadata": {},
   "source": [
    "### Intervals vs interval labels\n",
    "The cell below shows the difference between obtaining an interval from cut and a label. The former is a special pandas object that describes an open or closed interval. The latter is just a string."
   ]
  },
  {
   "cell_type": "code",
   "execution_count": 44,
   "metadata": {},
   "outputs": [
    {
     "name": "stdout",
     "output_type": "stream",
     "text": [
      "<class 'pandas._libs.interval.Interval'>\n",
      "<class 'str'>\n"
     ]
    }
   ],
   "source": [
    "bios = pd.DataFrame(20*np.random.randn(10,1)+150, columns=['weightLbs'])\n",
    "\n",
    "bios['heightIn'] = pd.Series(8*np.random.randn(10)+68)\n",
    "\n",
    "bios['bmi'] = 703 * bios.weightLbs / (bios.heightIn**2)\n",
    "\n",
    "bmiCutVals = [0,15,16,18.5,25,30,35,40,99]\n",
    "\n",
    "bmiLabels = ['Very severely underweight ',\n",
    "             'Severely underweight ',\n",
    "             'Underweight',\n",
    "             'Normal (healthy weight) ',\n",
    "             'Overweight',\n",
    "             'Obese Class I (Moderately obese) ',\n",
    "             'Obese Class II (Severely obese)',\n",
    "             'Obese Class III (Very severely obese) ' ]\n",
    "\n",
    "bios['bmiInt'] = pd.cut(bios.bmi,bmiCutVals)\n",
    "bios['bmiCat'] = pd.cut(bios.bmi,bmiCutVals, labels=bmiLabels)\n",
    "print(type(bios['bmiInt'][0]))\n",
    "print(type(bios['bmiCat'][0]))\n"
   ]
  },
  {
   "cell_type": "markdown",
   "metadata": {},
   "source": [
    "## groupby"
   ]
  },
  {
   "cell_type": "code",
   "execution_count": 50,
   "metadata": {},
   "outputs": [],
   "source": [
    "### example data"
   ]
  },
  {
   "cell_type": "code",
   "execution_count": 18,
   "metadata": {},
   "outputs": [
    {
     "data": {
      "text/html": [
       "<div>\n",
       "<style scoped>\n",
       "    .dataframe tbody tr th:only-of-type {\n",
       "        vertical-align: middle;\n",
       "    }\n",
       "\n",
       "    .dataframe tbody tr th {\n",
       "        vertical-align: top;\n",
       "    }\n",
       "\n",
       "    .dataframe thead th {\n",
       "        text-align: right;\n",
       "    }\n",
       "</style>\n",
       "<table border=\"1\" class=\"dataframe\">\n",
       "  <thead>\n",
       "    <tr style=\"text-align: right;\">\n",
       "      <th></th>\n",
       "      <th>gender</th>\n",
       "      <th>class</th>\n",
       "      <th>grade1</th>\n",
       "      <th>grade2</th>\n",
       "    </tr>\n",
       "  </thead>\n",
       "  <tbody>\n",
       "    <tr>\n",
       "      <th>0</th>\n",
       "      <td>female</td>\n",
       "      <td>senior</td>\n",
       "      <td>94</td>\n",
       "      <td>96</td>\n",
       "    </tr>\n",
       "    <tr>\n",
       "      <th>1</th>\n",
       "      <td>female</td>\n",
       "      <td>senior</td>\n",
       "      <td>90</td>\n",
       "      <td>92</td>\n",
       "    </tr>\n",
       "    <tr>\n",
       "      <th>2</th>\n",
       "      <td>female</td>\n",
       "      <td>junior</td>\n",
       "      <td>95</td>\n",
       "      <td>93</td>\n",
       "    </tr>\n",
       "    <tr>\n",
       "      <th>3</th>\n",
       "      <td>male</td>\n",
       "      <td>senior</td>\n",
       "      <td>86</td>\n",
       "      <td>88</td>\n",
       "    </tr>\n",
       "    <tr>\n",
       "      <th>4</th>\n",
       "      <td>female</td>\n",
       "      <td>sophmore</td>\n",
       "      <td>82</td>\n",
       "      <td>79</td>\n",
       "    </tr>\n",
       "    <tr>\n",
       "      <th>5</th>\n",
       "      <td>male</td>\n",
       "      <td>junior</td>\n",
       "      <td>90</td>\n",
       "      <td>93</td>\n",
       "    </tr>\n",
       "    <tr>\n",
       "      <th>6</th>\n",
       "      <td>male</td>\n",
       "      <td>sophmore</td>\n",
       "      <td>83</td>\n",
       "      <td>85</td>\n",
       "    </tr>\n",
       "    <tr>\n",
       "      <th>7</th>\n",
       "      <td>female</td>\n",
       "      <td>junior</td>\n",
       "      <td>97</td>\n",
       "      <td>94</td>\n",
       "    </tr>\n",
       "    <tr>\n",
       "      <th>8</th>\n",
       "      <td>male</td>\n",
       "      <td>sophmore</td>\n",
       "      <td>90</td>\n",
       "      <td>87</td>\n",
       "    </tr>\n",
       "    <tr>\n",
       "      <th>9</th>\n",
       "      <td>male</td>\n",
       "      <td>junior</td>\n",
       "      <td>96</td>\n",
       "      <td>97</td>\n",
       "    </tr>\n",
       "    <tr>\n",
       "      <th>10</th>\n",
       "      <td>female</td>\n",
       "      <td>junior</td>\n",
       "      <td>82</td>\n",
       "      <td>84</td>\n",
       "    </tr>\n",
       "    <tr>\n",
       "      <th>11</th>\n",
       "      <td>female</td>\n",
       "      <td>sophmore</td>\n",
       "      <td>98</td>\n",
       "      <td>99</td>\n",
       "    </tr>\n",
       "    <tr>\n",
       "      <th>12</th>\n",
       "      <td>male</td>\n",
       "      <td>senior</td>\n",
       "      <td>93</td>\n",
       "      <td>90</td>\n",
       "    </tr>\n",
       "    <tr>\n",
       "      <th>13</th>\n",
       "      <td>male</td>\n",
       "      <td>sophmore</td>\n",
       "      <td>86</td>\n",
       "      <td>86</td>\n",
       "    </tr>\n",
       "    <tr>\n",
       "      <th>14</th>\n",
       "      <td>female</td>\n",
       "      <td>senior</td>\n",
       "      <td>96</td>\n",
       "      <td>92</td>\n",
       "    </tr>\n",
       "  </tbody>\n",
       "</table>\n",
       "</div>"
      ],
      "text/plain": [
       "    gender     class  grade1  grade2\n",
       "0   female    senior      94      96\n",
       "1   female    senior      90      92\n",
       "2   female    junior      95      93\n",
       "3     male    senior      86      88\n",
       "4   female  sophmore      82      79\n",
       "5     male    junior      90      93\n",
       "6     male  sophmore      83      85\n",
       "7   female    junior      97      94\n",
       "8     male  sophmore      90      87\n",
       "9     male    junior      96      97\n",
       "10  female    junior      82      84\n",
       "11  female  sophmore      98      99\n",
       "12    male    senior      93      90\n",
       "13    male  sophmore      86      86\n",
       "14  female    senior      96      92"
      ]
     },
     "execution_count": 18,
     "metadata": {},
     "output_type": "execute_result"
    }
   ],
   "source": [
    "grades = pd.read_csv(gradeDataPath,\n",
    "            names=['gender', 'class',  'grade1',  'grade2'])\n",
    "grades"
   ]
  },
  {
   "cell_type": "markdown",
   "metadata": {},
   "source": [
    "### the groupby method"
   ]
  },
  {
   "cell_type": "code",
   "execution_count": 64,
   "metadata": {},
   "outputs": [
    {
     "data": {
      "text/plain": [
       "<pandas.core.groupby.generic.DataFrameGroupBy object at 0x000002C24AD4D3C8>"
      ]
     },
     "execution_count": 64,
     "metadata": {},
     "output_type": "execute_result"
    }
   ],
   "source": [
    "classGroup = grades.groupby('class')\n",
    "classGroup"
   ]
  },
  {
   "cell_type": "markdown",
   "metadata": {},
   "source": [
    "### groupby is an iterator \n",
    "It returns a tuple having the key values and the subset for that combination of keys"
   ]
  },
  {
   "cell_type": "code",
   "execution_count": 65,
   "metadata": {},
   "outputs": [
    {
     "name": "stdout",
     "output_type": "stream",
     "text": [
      "\n",
      "key is  junior\n",
      "    gender   class  grade1  grade2\n",
      "2   female  junior      95      93\n",
      "5     male  junior      90      93\n",
      "7   female  junior      97      94\n",
      "9     male  junior      96      97\n",
      "10  female  junior      82      84\n",
      "\n",
      "key is  senior\n",
      "    gender   class  grade1  grade2\n",
      "0   female  senior      94      96\n",
      "1   female  senior      90      92\n",
      "3     male  senior      86      88\n",
      "12    male  senior      93      90\n",
      "14  female  senior      96      92\n",
      "\n",
      "key is  sophmore\n",
      "    gender     class  grade1  grade2\n",
      "4   female  sophmore      82      79\n",
      "6     male  sophmore      83      85\n",
      "8     male  sophmore      90      87\n",
      "11  female  sophmore      98      99\n",
      "13    male  sophmore      86      86\n"
     ]
    }
   ],
   "source": [
    "for key,subset in classGroup:\n",
    "    print('\\nkey is ', key)\n",
    "    print(subset)"
   ]
  },
  {
   "cell_type": "markdown",
   "metadata": {},
   "source": [
    "### Its indices attribute shows a little of how it works\n",
    "This dictionary shows that for each key the groupby can produce the indices of the rows in the original table that have that key."
   ]
  },
  {
   "cell_type": "code",
   "execution_count": 60,
   "metadata": {},
   "outputs": [
    {
     "data": {
      "text/plain": [
       "{'junior': array([ 2,  5,  7,  9, 10], dtype=int64),\n",
       " 'senior': array([ 0,  1,  3, 12, 14], dtype=int64),\n",
       " 'sophmore': array([ 4,  6,  8, 11, 13], dtype=int64)}"
      ]
     },
     "execution_count": 60,
     "metadata": {},
     "output_type": "execute_result"
    }
   ],
   "source": [
    "classGroup.indices"
   ]
  },
  {
   "cell_type": "markdown",
   "metadata": {},
   "source": [
    "### you can retrieve individual subsets by the key"
   ]
  },
  {
   "cell_type": "code",
   "execution_count": 63,
   "metadata": {},
   "outputs": [
    {
     "data": {
      "text/html": [
       "<div>\n",
       "<style scoped>\n",
       "    .dataframe tbody tr th:only-of-type {\n",
       "        vertical-align: middle;\n",
       "    }\n",
       "\n",
       "    .dataframe tbody tr th {\n",
       "        vertical-align: top;\n",
       "    }\n",
       "\n",
       "    .dataframe thead th {\n",
       "        text-align: right;\n",
       "    }\n",
       "</style>\n",
       "<table border=\"1\" class=\"dataframe\">\n",
       "  <thead>\n",
       "    <tr style=\"text-align: right;\">\n",
       "      <th></th>\n",
       "      <th>gender</th>\n",
       "      <th>class</th>\n",
       "      <th>grade1</th>\n",
       "      <th>grade2</th>\n",
       "    </tr>\n",
       "  </thead>\n",
       "  <tbody>\n",
       "    <tr>\n",
       "      <th>0</th>\n",
       "      <td>female</td>\n",
       "      <td>senior</td>\n",
       "      <td>94</td>\n",
       "      <td>96</td>\n",
       "    </tr>\n",
       "    <tr>\n",
       "      <th>1</th>\n",
       "      <td>female</td>\n",
       "      <td>senior</td>\n",
       "      <td>90</td>\n",
       "      <td>92</td>\n",
       "    </tr>\n",
       "    <tr>\n",
       "      <th>3</th>\n",
       "      <td>male</td>\n",
       "      <td>senior</td>\n",
       "      <td>86</td>\n",
       "      <td>88</td>\n",
       "    </tr>\n",
       "    <tr>\n",
       "      <th>12</th>\n",
       "      <td>male</td>\n",
       "      <td>senior</td>\n",
       "      <td>93</td>\n",
       "      <td>90</td>\n",
       "    </tr>\n",
       "    <tr>\n",
       "      <th>14</th>\n",
       "      <td>female</td>\n",
       "      <td>senior</td>\n",
       "      <td>96</td>\n",
       "      <td>92</td>\n",
       "    </tr>\n",
       "  </tbody>\n",
       "</table>\n",
       "</div>"
      ],
      "text/plain": [
       "    gender   class  grade1  grade2\n",
       "0   female  senior      94      96\n",
       "1   female  senior      90      92\n",
       "3     male  senior      86      88\n",
       "12    male  senior      93      90\n",
       "14  female  senior      96      92"
      ]
     },
     "execution_count": 63,
     "metadata": {},
     "output_type": "execute_result"
    }
   ],
   "source": [
    "classGroup.get_group('senior')"
   ]
  },
  {
   "cell_type": "markdown",
   "metadata": {},
   "source": [
    "### compound keys\n",
    "Keys can be composed of multiple columns"
   ]
  },
  {
   "cell_type": "code",
   "execution_count": 69,
   "metadata": {},
   "outputs": [
    {
     "data": {
      "text/plain": [
       "{('junior', 'female'): array([ 2,  7, 10], dtype=int64),\n",
       " ('junior', 'male'): array([5, 9], dtype=int64),\n",
       " ('senior', 'female'): array([ 0,  1, 14], dtype=int64),\n",
       " ('senior', 'male'): array([ 3, 12], dtype=int64),\n",
       " ('sophmore', 'female'): array([ 4, 11], dtype=int64),\n",
       " ('sophmore', 'male'): array([ 6,  8, 13], dtype=int64)}"
      ]
     },
     "execution_count": 69,
     "metadata": {},
     "output_type": "execute_result"
    }
   ],
   "source": [
    "genderClassGroup = grades.groupby(['class', 'gender'])\n",
    "genderClassGroup.indices"
   ]
  },
  {
   "cell_type": "markdown",
   "metadata": {},
   "source": [
    "## Aggregations\n",
    "The GroupBy has a number of predefined mathods that return a single aggregated row for each group. In the example below the mean of each column is returned. Note that the non-numeric gender column is not returned"
   ]
  },
  {
   "cell_type": "code",
   "execution_count": 75,
   "metadata": {},
   "outputs": [
    {
     "name": "stdout",
     "output_type": "stream",
     "text": [
      "Juniors  92.0\n"
     ]
    },
    {
     "data": {
      "text/html": [
       "<div>\n",
       "<style scoped>\n",
       "    .dataframe tbody tr th:only-of-type {\n",
       "        vertical-align: middle;\n",
       "    }\n",
       "\n",
       "    .dataframe tbody tr th {\n",
       "        vertical-align: top;\n",
       "    }\n",
       "\n",
       "    .dataframe thead th {\n",
       "        text-align: right;\n",
       "    }\n",
       "</style>\n",
       "<table border=\"1\" class=\"dataframe\">\n",
       "  <thead>\n",
       "    <tr style=\"text-align: right;\">\n",
       "      <th></th>\n",
       "      <th>grade1</th>\n",
       "      <th>grade2</th>\n",
       "    </tr>\n",
       "    <tr>\n",
       "      <th>class</th>\n",
       "      <th></th>\n",
       "      <th></th>\n",
       "    </tr>\n",
       "  </thead>\n",
       "  <tbody>\n",
       "    <tr>\n",
       "      <th>junior</th>\n",
       "      <td>92.0</td>\n",
       "      <td>92.2</td>\n",
       "    </tr>\n",
       "    <tr>\n",
       "      <th>senior</th>\n",
       "      <td>91.8</td>\n",
       "      <td>91.6</td>\n",
       "    </tr>\n",
       "    <tr>\n",
       "      <th>sophmore</th>\n",
       "      <td>87.8</td>\n",
       "      <td>87.2</td>\n",
       "    </tr>\n",
       "  </tbody>\n",
       "</table>\n",
       "</div>"
      ],
      "text/plain": [
       "          grade1  grade2\n",
       "class                   \n",
       "junior      92.0    92.2\n",
       "senior      91.8    91.6\n",
       "sophmore    87.8    87.2"
      ]
     },
     "execution_count": 75,
     "metadata": {},
     "output_type": "execute_result"
    }
   ],
   "source": [
    "print('Juniors ', (95+90+97+96+82)/5)\n",
    "grades.groupby('class').mean()"
   ]
  },
  {
   "cell_type": "markdown",
   "metadata": {},
   "source": [
    "### Grouping of columns\n",
    "The axis parameter allows for specifying whether to group together rows (axis=0) or columns (axis=1). It's more clear if the word 'rows' or 'columns' is used. The mapping dictionary is used to indicate how to group the columns when axis=1"
   ]
  },
  {
   "cell_type": "code",
   "execution_count": 100,
   "metadata": {},
   "outputs": [
    {
     "data": {
      "text/html": [
       "<div>\n",
       "<style scoped>\n",
       "    .dataframe tbody tr th:only-of-type {\n",
       "        vertical-align: middle;\n",
       "    }\n",
       "\n",
       "    .dataframe tbody tr th {\n",
       "        vertical-align: top;\n",
       "    }\n",
       "\n",
       "    .dataframe thead th {\n",
       "        text-align: right;\n",
       "    }\n",
       "</style>\n",
       "<table border=\"1\" class=\"dataframe\">\n",
       "  <thead>\n",
       "    <tr style=\"text-align: right;\">\n",
       "      <th></th>\n",
       "      <th>CombinedKey</th>\n",
       "      <th>total</th>\n",
       "    </tr>\n",
       "  </thead>\n",
       "  <tbody>\n",
       "    <tr>\n",
       "      <th>0</th>\n",
       "      <td>femalesenior</td>\n",
       "      <td>190</td>\n",
       "    </tr>\n",
       "    <tr>\n",
       "      <th>1</th>\n",
       "      <td>femalesenior</td>\n",
       "      <td>182</td>\n",
       "    </tr>\n",
       "    <tr>\n",
       "      <th>2</th>\n",
       "      <td>femalejunior</td>\n",
       "      <td>188</td>\n",
       "    </tr>\n",
       "    <tr>\n",
       "      <th>3</th>\n",
       "      <td>malesenior</td>\n",
       "      <td>174</td>\n",
       "    </tr>\n",
       "    <tr>\n",
       "      <th>4</th>\n",
       "      <td>femalesophmore</td>\n",
       "      <td>161</td>\n",
       "    </tr>\n",
       "    <tr>\n",
       "      <th>5</th>\n",
       "      <td>malejunior</td>\n",
       "      <td>183</td>\n",
       "    </tr>\n",
       "    <tr>\n",
       "      <th>6</th>\n",
       "      <td>malesophmore</td>\n",
       "      <td>168</td>\n",
       "    </tr>\n",
       "    <tr>\n",
       "      <th>7</th>\n",
       "      <td>femalejunior</td>\n",
       "      <td>191</td>\n",
       "    </tr>\n",
       "    <tr>\n",
       "      <th>8</th>\n",
       "      <td>malesophmore</td>\n",
       "      <td>177</td>\n",
       "    </tr>\n",
       "    <tr>\n",
       "      <th>9</th>\n",
       "      <td>malejunior</td>\n",
       "      <td>193</td>\n",
       "    </tr>\n",
       "    <tr>\n",
       "      <th>10</th>\n",
       "      <td>femalejunior</td>\n",
       "      <td>166</td>\n",
       "    </tr>\n",
       "    <tr>\n",
       "      <th>11</th>\n",
       "      <td>femalesophmore</td>\n",
       "      <td>197</td>\n",
       "    </tr>\n",
       "    <tr>\n",
       "      <th>12</th>\n",
       "      <td>malesenior</td>\n",
       "      <td>183</td>\n",
       "    </tr>\n",
       "    <tr>\n",
       "      <th>13</th>\n",
       "      <td>malesophmore</td>\n",
       "      <td>172</td>\n",
       "    </tr>\n",
       "    <tr>\n",
       "      <th>14</th>\n",
       "      <td>femalesenior</td>\n",
       "      <td>188</td>\n",
       "    </tr>\n",
       "  </tbody>\n",
       "</table>\n",
       "</div>"
      ],
      "text/plain": [
       "       CombinedKey  total\n",
       "0     femalesenior    190\n",
       "1     femalesenior    182\n",
       "2     femalejunior    188\n",
       "3       malesenior    174\n",
       "4   femalesophmore    161\n",
       "5       malejunior    183\n",
       "6     malesophmore    168\n",
       "7     femalejunior    191\n",
       "8     malesophmore    177\n",
       "9       malejunior    193\n",
       "10    femalejunior    166\n",
       "11  femalesophmore    197\n",
       "12      malesenior    183\n",
       "13    malesophmore    172\n",
       "14    femalesenior    188"
      ]
     },
     "execution_count": 100,
     "metadata": {},
     "output_type": "execute_result"
    }
   ],
   "source": [
    "mapping={'gender':'CombinedKey', 'class':'CombinedKey',\n",
    "    'grade1':'total', 'grade2':'total'}\n",
    "sums = grades.groupby(mapping, axis='columns').sum()\n",
    "sums"
   ]
  },
  {
   "cell_type": "markdown",
   "metadata": {},
   "source": [
    "### merging the results\n",
    "The result of the groupby.sum() has the same index as the original data, so the two DataFrames can be merged. We’ll look at the details of how merge works in a later session.\n"
   ]
  },
  {
   "cell_type": "code",
   "execution_count": 107,
   "metadata": {},
   "outputs": [
    {
     "data": {
      "text/html": [
       "<div>\n",
       "<style scoped>\n",
       "    .dataframe tbody tr th:only-of-type {\n",
       "        vertical-align: middle;\n",
       "    }\n",
       "\n",
       "    .dataframe tbody tr th {\n",
       "        vertical-align: top;\n",
       "    }\n",
       "\n",
       "    .dataframe thead th {\n",
       "        text-align: right;\n",
       "    }\n",
       "</style>\n",
       "<table border=\"1\" class=\"dataframe\">\n",
       "  <thead>\n",
       "    <tr style=\"text-align: right;\">\n",
       "      <th></th>\n",
       "      <th>gender</th>\n",
       "      <th>class</th>\n",
       "      <th>grade1</th>\n",
       "      <th>grade2</th>\n",
       "      <th>CombinedKey</th>\n",
       "      <th>total</th>\n",
       "    </tr>\n",
       "  </thead>\n",
       "  <tbody>\n",
       "    <tr>\n",
       "      <th>0</th>\n",
       "      <td>female</td>\n",
       "      <td>senior</td>\n",
       "      <td>94</td>\n",
       "      <td>96</td>\n",
       "      <td>femalesenior</td>\n",
       "      <td>190</td>\n",
       "    </tr>\n",
       "    <tr>\n",
       "      <th>1</th>\n",
       "      <td>female</td>\n",
       "      <td>senior</td>\n",
       "      <td>90</td>\n",
       "      <td>92</td>\n",
       "      <td>femalesenior</td>\n",
       "      <td>182</td>\n",
       "    </tr>\n",
       "    <tr>\n",
       "      <th>2</th>\n",
       "      <td>female</td>\n",
       "      <td>junior</td>\n",
       "      <td>95</td>\n",
       "      <td>93</td>\n",
       "      <td>femalejunior</td>\n",
       "      <td>188</td>\n",
       "    </tr>\n",
       "    <tr>\n",
       "      <th>3</th>\n",
       "      <td>male</td>\n",
       "      <td>senior</td>\n",
       "      <td>86</td>\n",
       "      <td>88</td>\n",
       "      <td>malesenior</td>\n",
       "      <td>174</td>\n",
       "    </tr>\n",
       "    <tr>\n",
       "      <th>4</th>\n",
       "      <td>female</td>\n",
       "      <td>sophmore</td>\n",
       "      <td>82</td>\n",
       "      <td>79</td>\n",
       "      <td>femalesophmore</td>\n",
       "      <td>161</td>\n",
       "    </tr>\n",
       "    <tr>\n",
       "      <th>5</th>\n",
       "      <td>male</td>\n",
       "      <td>junior</td>\n",
       "      <td>90</td>\n",
       "      <td>93</td>\n",
       "      <td>malejunior</td>\n",
       "      <td>183</td>\n",
       "    </tr>\n",
       "    <tr>\n",
       "      <th>6</th>\n",
       "      <td>male</td>\n",
       "      <td>sophmore</td>\n",
       "      <td>83</td>\n",
       "      <td>85</td>\n",
       "      <td>malesophmore</td>\n",
       "      <td>168</td>\n",
       "    </tr>\n",
       "    <tr>\n",
       "      <th>7</th>\n",
       "      <td>female</td>\n",
       "      <td>junior</td>\n",
       "      <td>97</td>\n",
       "      <td>94</td>\n",
       "      <td>femalejunior</td>\n",
       "      <td>191</td>\n",
       "    </tr>\n",
       "    <tr>\n",
       "      <th>8</th>\n",
       "      <td>male</td>\n",
       "      <td>sophmore</td>\n",
       "      <td>90</td>\n",
       "      <td>87</td>\n",
       "      <td>malesophmore</td>\n",
       "      <td>177</td>\n",
       "    </tr>\n",
       "    <tr>\n",
       "      <th>9</th>\n",
       "      <td>male</td>\n",
       "      <td>junior</td>\n",
       "      <td>96</td>\n",
       "      <td>97</td>\n",
       "      <td>malejunior</td>\n",
       "      <td>193</td>\n",
       "    </tr>\n",
       "    <tr>\n",
       "      <th>10</th>\n",
       "      <td>female</td>\n",
       "      <td>junior</td>\n",
       "      <td>82</td>\n",
       "      <td>84</td>\n",
       "      <td>femalejunior</td>\n",
       "      <td>166</td>\n",
       "    </tr>\n",
       "    <tr>\n",
       "      <th>11</th>\n",
       "      <td>female</td>\n",
       "      <td>sophmore</td>\n",
       "      <td>98</td>\n",
       "      <td>99</td>\n",
       "      <td>femalesophmore</td>\n",
       "      <td>197</td>\n",
       "    </tr>\n",
       "    <tr>\n",
       "      <th>12</th>\n",
       "      <td>male</td>\n",
       "      <td>senior</td>\n",
       "      <td>93</td>\n",
       "      <td>90</td>\n",
       "      <td>malesenior</td>\n",
       "      <td>183</td>\n",
       "    </tr>\n",
       "    <tr>\n",
       "      <th>13</th>\n",
       "      <td>male</td>\n",
       "      <td>sophmore</td>\n",
       "      <td>86</td>\n",
       "      <td>86</td>\n",
       "      <td>malesophmore</td>\n",
       "      <td>172</td>\n",
       "    </tr>\n",
       "    <tr>\n",
       "      <th>14</th>\n",
       "      <td>female</td>\n",
       "      <td>senior</td>\n",
       "      <td>96</td>\n",
       "      <td>92</td>\n",
       "      <td>femalesenior</td>\n",
       "      <td>188</td>\n",
       "    </tr>\n",
       "  </tbody>\n",
       "</table>\n",
       "</div>"
      ],
      "text/plain": [
       "    gender     class  grade1  grade2     CombinedKey  total\n",
       "0   female    senior      94      96    femalesenior    190\n",
       "1   female    senior      90      92    femalesenior    182\n",
       "2   female    junior      95      93    femalejunior    188\n",
       "3     male    senior      86      88      malesenior    174\n",
       "4   female  sophmore      82      79  femalesophmore    161\n",
       "5     male    junior      90      93      malejunior    183\n",
       "6     male  sophmore      83      85    malesophmore    168\n",
       "7   female    junior      97      94    femalejunior    191\n",
       "8     male  sophmore      90      87    malesophmore    177\n",
       "9     male    junior      96      97      malejunior    193\n",
       "10  female    junior      82      84    femalejunior    166\n",
       "11  female  sophmore      98      99  femalesophmore    197\n",
       "12    male    senior      93      90      malesenior    183\n",
       "13    male  sophmore      86      86    malesophmore    172\n",
       "14  female    senior      96      92    femalesenior    188"
      ]
     },
     "execution_count": 107,
     "metadata": {},
     "output_type": "execute_result"
    }
   ],
   "source": [
    "pd.merge(grades,sums, left_index=True, right_index=True)"
   ]
  },
  {
   "cell_type": "markdown",
   "metadata": {},
   "source": [
    "### transform\n",
    "The transform applies a function to each key group and then combines that result with the original index. In the example below that is then appended to the original dataset. This would allow computing the difference fromt the group mean for each individual"
   ]
  },
  {
   "cell_type": "code",
   "execution_count": 116,
   "metadata": {},
   "outputs": [
    {
     "name": "stdout",
     "output_type": "stream",
     "text": [
      "Juniors  92.0\n"
     ]
    },
    {
     "data": {
      "text/html": [
       "<div>\n",
       "<style scoped>\n",
       "    .dataframe tbody tr th:only-of-type {\n",
       "        vertical-align: middle;\n",
       "    }\n",
       "\n",
       "    .dataframe tbody tr th {\n",
       "        vertical-align: top;\n",
       "    }\n",
       "\n",
       "    .dataframe thead th {\n",
       "        text-align: right;\n",
       "    }\n",
       "</style>\n",
       "<table border=\"1\" class=\"dataframe\">\n",
       "  <thead>\n",
       "    <tr style=\"text-align: right;\">\n",
       "      <th></th>\n",
       "      <th>gender</th>\n",
       "      <th>class</th>\n",
       "      <th>grade1</th>\n",
       "      <th>grade2</th>\n",
       "      <th>g1Mean</th>\n",
       "    </tr>\n",
       "  </thead>\n",
       "  <tbody>\n",
       "    <tr>\n",
       "      <th>0</th>\n",
       "      <td>female</td>\n",
       "      <td>senior</td>\n",
       "      <td>94</td>\n",
       "      <td>96</td>\n",
       "      <td>91.8</td>\n",
       "    </tr>\n",
       "    <tr>\n",
       "      <th>1</th>\n",
       "      <td>female</td>\n",
       "      <td>senior</td>\n",
       "      <td>90</td>\n",
       "      <td>92</td>\n",
       "      <td>91.8</td>\n",
       "    </tr>\n",
       "    <tr>\n",
       "      <th>2</th>\n",
       "      <td>female</td>\n",
       "      <td>junior</td>\n",
       "      <td>95</td>\n",
       "      <td>93</td>\n",
       "      <td>92.0</td>\n",
       "    </tr>\n",
       "    <tr>\n",
       "      <th>3</th>\n",
       "      <td>male</td>\n",
       "      <td>senior</td>\n",
       "      <td>86</td>\n",
       "      <td>88</td>\n",
       "      <td>91.8</td>\n",
       "    </tr>\n",
       "    <tr>\n",
       "      <th>4</th>\n",
       "      <td>female</td>\n",
       "      <td>sophmore</td>\n",
       "      <td>82</td>\n",
       "      <td>79</td>\n",
       "      <td>87.8</td>\n",
       "    </tr>\n",
       "    <tr>\n",
       "      <th>5</th>\n",
       "      <td>male</td>\n",
       "      <td>junior</td>\n",
       "      <td>90</td>\n",
       "      <td>93</td>\n",
       "      <td>92.0</td>\n",
       "    </tr>\n",
       "    <tr>\n",
       "      <th>6</th>\n",
       "      <td>male</td>\n",
       "      <td>sophmore</td>\n",
       "      <td>83</td>\n",
       "      <td>85</td>\n",
       "      <td>87.8</td>\n",
       "    </tr>\n",
       "    <tr>\n",
       "      <th>7</th>\n",
       "      <td>female</td>\n",
       "      <td>junior</td>\n",
       "      <td>97</td>\n",
       "      <td>94</td>\n",
       "      <td>92.0</td>\n",
       "    </tr>\n",
       "    <tr>\n",
       "      <th>8</th>\n",
       "      <td>male</td>\n",
       "      <td>sophmore</td>\n",
       "      <td>90</td>\n",
       "      <td>87</td>\n",
       "      <td>87.8</td>\n",
       "    </tr>\n",
       "    <tr>\n",
       "      <th>9</th>\n",
       "      <td>male</td>\n",
       "      <td>junior</td>\n",
       "      <td>96</td>\n",
       "      <td>97</td>\n",
       "      <td>92.0</td>\n",
       "    </tr>\n",
       "    <tr>\n",
       "      <th>10</th>\n",
       "      <td>female</td>\n",
       "      <td>junior</td>\n",
       "      <td>82</td>\n",
       "      <td>84</td>\n",
       "      <td>92.0</td>\n",
       "    </tr>\n",
       "    <tr>\n",
       "      <th>11</th>\n",
       "      <td>female</td>\n",
       "      <td>sophmore</td>\n",
       "      <td>98</td>\n",
       "      <td>99</td>\n",
       "      <td>87.8</td>\n",
       "    </tr>\n",
       "    <tr>\n",
       "      <th>12</th>\n",
       "      <td>male</td>\n",
       "      <td>senior</td>\n",
       "      <td>93</td>\n",
       "      <td>90</td>\n",
       "      <td>91.8</td>\n",
       "    </tr>\n",
       "    <tr>\n",
       "      <th>13</th>\n",
       "      <td>male</td>\n",
       "      <td>sophmore</td>\n",
       "      <td>86</td>\n",
       "      <td>86</td>\n",
       "      <td>87.8</td>\n",
       "    </tr>\n",
       "    <tr>\n",
       "      <th>14</th>\n",
       "      <td>female</td>\n",
       "      <td>senior</td>\n",
       "      <td>96</td>\n",
       "      <td>92</td>\n",
       "      <td>91.8</td>\n",
       "    </tr>\n",
       "  </tbody>\n",
       "</table>\n",
       "</div>"
      ],
      "text/plain": [
       "    gender     class  grade1  grade2  g1Mean\n",
       "0   female    senior      94      96    91.8\n",
       "1   female    senior      90      92    91.8\n",
       "2   female    junior      95      93    92.0\n",
       "3     male    senior      86      88    91.8\n",
       "4   female  sophmore      82      79    87.8\n",
       "5     male    junior      90      93    92.0\n",
       "6     male  sophmore      83      85    87.8\n",
       "7   female    junior      97      94    92.0\n",
       "8     male  sophmore      90      87    87.8\n",
       "9     male    junior      96      97    92.0\n",
       "10  female    junior      82      84    92.0\n",
       "11  female  sophmore      98      99    87.8\n",
       "12    male    senior      93      90    91.8\n",
       "13    male  sophmore      86      86    87.8\n",
       "14  female    senior      96      92    91.8"
      ]
     },
     "execution_count": 116,
     "metadata": {},
     "output_type": "execute_result"
    }
   ],
   "source": [
    "print('Juniors ', (95+90+97+96+82)/5)\n",
    "grades['g1Mean'] = grades[['class','grade1']].groupby('class').transform('mean')\n",
    "grades\n"
   ]
  },
  {
   "cell_type": "markdown",
   "metadata": {},
   "source": [
    "### agg\n",
    "The agg method allows for user written avvregation functions to be applied to each group. In the example below a string with a note is generated. First, reset the grades dataset."
   ]
  },
  {
   "cell_type": "code",
   "execution_count": 131,
   "metadata": {},
   "outputs": [],
   "source": [
    "grades = pd.read_fwf(gradeDataPath,\n",
    "            cols=['gender', 'class',  'grade1',  'grade2'])\n"
   ]
  },
  {
   "cell_type": "code",
   "execution_count": 152,
   "metadata": {},
   "outputs": [
    {
     "name": "stdout",
     "output_type": "stream",
     "text": [
      " testing uniqueStrings returns: 1,2,3,4,9\n"
     ]
    },
    {
     "data": {
      "text/plain": [
       "gender\n",
       "female    82,90,94,95,96,97,98\n",
       "male            83,86,90,93,96\n",
       "Name: grade1, dtype: object"
      ]
     },
     "execution_count": 152,
     "metadata": {},
     "output_type": "execute_result"
    }
   ],
   "source": [
    "def uniqueStrings(arr):\n",
    "    stArr = [str(v) for v in arr]\n",
    "    return ','.join(sorted(set(stArr)))\n",
    "print(' testing uniqueStrings returns:', uniqueStrings([1,2,9,3,4,3,2,9]))\n",
    "genderGrouped = grades.groupby('gender')\n",
    "genderGrouped['grade1'].agg(uniqueStrings)\n"
   ]
  },
  {
   "cell_type": "markdown",
   "metadata": {},
   "source": [
    "### separate functions for each column\n",
    "In this example the argument for agg is a dictionary with the keys the column names and the values a function or list of functions to be applied. Note that the user function is not in quotes, the built in method of groupby is.\n"
   ]
  },
  {
   "cell_type": "code",
   "execution_count": 155,
   "metadata": {},
   "outputs": [
    {
     "name": "stdout",
     "output_type": "stream",
     "text": [
      " testing uniqueStrings returns: 1,2,3,4,9\n"
     ]
    },
    {
     "data": {
      "text/html": [
       "<div>\n",
       "<style scoped>\n",
       "    .dataframe tbody tr th:only-of-type {\n",
       "        vertical-align: middle;\n",
       "    }\n",
       "\n",
       "    .dataframe tbody tr th {\n",
       "        vertical-align: top;\n",
       "    }\n",
       "\n",
       "    .dataframe thead tr th {\n",
       "        text-align: left;\n",
       "    }\n",
       "\n",
       "    .dataframe thead tr:last-of-type th {\n",
       "        text-align: right;\n",
       "    }\n",
       "</style>\n",
       "<table border=\"1\" class=\"dataframe\">\n",
       "  <thead>\n",
       "    <tr>\n",
       "      <th></th>\n",
       "      <th>class</th>\n",
       "      <th colspan=\"3\" halign=\"left\">grade1</th>\n",
       "    </tr>\n",
       "    <tr>\n",
       "      <th></th>\n",
       "      <th>uniqueStrings</th>\n",
       "      <th>mean</th>\n",
       "      <th>max</th>\n",
       "      <th>min</th>\n",
       "    </tr>\n",
       "    <tr>\n",
       "      <th>gender</th>\n",
       "      <th></th>\n",
       "      <th></th>\n",
       "      <th></th>\n",
       "      <th></th>\n",
       "    </tr>\n",
       "  </thead>\n",
       "  <tbody>\n",
       "    <tr>\n",
       "      <th>female</th>\n",
       "      <td>junior,senior,sophmore</td>\n",
       "      <td>91.750000</td>\n",
       "      <td>98</td>\n",
       "      <td>82</td>\n",
       "    </tr>\n",
       "    <tr>\n",
       "      <th>male</th>\n",
       "      <td>junior,senior,sophmore</td>\n",
       "      <td>89.142857</td>\n",
       "      <td>96</td>\n",
       "      <td>83</td>\n",
       "    </tr>\n",
       "  </tbody>\n",
       "</table>\n",
       "</div>"
      ],
      "text/plain": [
       "                         class     grade1        \n",
       "                 uniqueStrings       mean max min\n",
       "gender                                           \n",
       "female  junior,senior,sophmore  91.750000  98  82\n",
       "male    junior,senior,sophmore  89.142857  96  83"
      ]
     },
     "execution_count": 155,
     "metadata": {},
     "output_type": "execute_result"
    }
   ],
   "source": [
    "def uniqueStrings(arr):\n",
    "    stArr = [str(v) for v in arr]\n",
    "    return ','.join(sorted(set(stArr)))\n",
    "print(' testing uniqueStrings returns:', uniqueStrings([1,2,9,3,4,3,2,9]))\n",
    "genderGrouped = grades.groupby('gender')\n",
    "genderGrouped.agg({'class': uniqueStrings, \n",
    "                  'grade1': ['mean', 'max', 'min']})\n"
   ]
  },
  {
   "cell_type": "code",
   "execution_count": 45,
   "metadata": {},
   "outputs": [
    {
     "name": "stdout",
     "output_type": "stream",
     "text": [
      "that's all folks\n"
     ]
    }
   ],
   "source": [
    "print(\"that's all folks\")"
   ]
  },
  {
   "cell_type": "code",
   "execution_count": null,
   "metadata": {},
   "outputs": [],
   "source": []
  },
  {
   "cell_type": "code",
   "execution_count": null,
   "metadata": {},
   "outputs": [],
   "source": []
  }
 ],
 "metadata": {
  "kernelspec": {
   "display_name": "Python 3",
   "language": "python",
   "name": "python3"
  },
  "language_info": {
   "codemirror_mode": {
    "name": "ipython",
    "version": 3
   },
   "file_extension": ".py",
   "mimetype": "text/x-python",
   "name": "python",
   "nbconvert_exporter": "python",
   "pygments_lexer": "ipython3",
   "version": "3.8.8"
  }
 },
 "nbformat": 4,
 "nbformat_minor": 2
}
