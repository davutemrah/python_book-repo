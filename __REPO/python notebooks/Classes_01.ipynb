{
 "cells": [
  {
   "cell_type": "code",
   "execution_count": 0,
   "metadata": {
    "application/vnd.databricks.v1+cell": {
     "cellMetadata": {},
     "inputWidgets": {},
     "nuid": "c46e545f-68ff-4c77-897e-9ec8a50c67a0",
     "showTitle": false,
     "tableResultSettingsMap": {},
     "title": ""
    }
   },
   "outputs": [],
   "source": [
    "# Create a class Book with two attributes: title and author. \n",
    "# When initializing, set both. Then create a book called \"1984\" by \"George Orwell\".\n",
    "\n",
    "class Book:\n",
    "    def __init__(self, title, author):\n",
    "        self.title = title\n",
    "        self.author = author\n",
    "\n",
    "    def display(self):\n",
    "        print(\"Title:\", self.title, \"| Author:\", self.author)\n",
    "\n",
    "\n",
    "my_book = Book(\"1984\", \"George Orwell\")\n",
    "\n",
    "my_book.display()"
   ]
  },
  {
   "cell_type": "code",
   "execution_count": 0,
   "metadata": {
    "application/vnd.databricks.v1+cell": {
     "cellMetadata": {},
     "inputWidgets": {},
     "nuid": "44ce2914-0084-4b46-b276-1f33f3ec1ca7",
     "showTitle": false,
     "tableResultSettingsMap": {},
     "title": ""
    }
   },
   "outputs": [],
   "source": [
    "# In a Person class, how would you make an attribute age optional with a default value of 30?\n",
    "\n",
    "class Person:\n",
    "    def __init__(self, age=30):\n",
    "        self.age = age\n",
    "\n",
    "adam = Person()\n",
    "\n",
    "adam.age"
   ]
  },
  {
   "cell_type": "code",
   "execution_count": 0,
   "metadata": {
    "application/vnd.databricks.v1+cell": {
     "cellMetadata": {},
     "inputWidgets": {},
     "nuid": "591b3d53-8d16-45d2-8fa0-9120e0a39986",
     "showTitle": false,
     "tableResultSettingsMap": {},
     "title": ""
    }
   },
   "outputs": [],
   "source": [
    "# Create a base class Animal with a method speak(). \n",
    "# Then create a subclass Cat that inherits from Animal and overrides the speak() method to print \"Meow\".\n",
    "\n",
    "class Animal:\n",
    "    def __init__(self):\n",
    "        pass\n",
    "\n",
    "    def speak(self):\n",
    "        print(\"speak\")\n",
    "\n",
    "class Cat(Animal):\n",
    "    def __init__(self):\n",
    "        super().__init__()\n",
    "\n",
    "    def speak(self):\n",
    "        print(\"Meow\")   \n",
    "\n",
    "\n",
    "# Test it\n",
    "my_cat = Cat()\n",
    "my_cat.speak()  # Output: Meow\n"
   ]
  },
  {
   "cell_type": "code",
   "execution_count": 0,
   "metadata": {
    "application/vnd.databricks.v1+cell": {
     "cellMetadata": {},
     "inputWidgets": {},
     "nuid": "2e492f9d-4dc1-48a0-98c9-2b3d784923f2",
     "showTitle": false,
     "tableResultSettingsMap": {},
     "title": ""
    }
   },
   "outputs": [],
   "source": [
    "# What happens if a method in a child class has the same name as one in its parent class?\n",
    "\n",
    "# When a method in a child class has the same name as one in its parent class, \n",
    "# it overrides (or \"overwrites\") the parent class method.\n",
    "\n",
    "# This is known as method overriding, and it's a core concept in inheritance and\n",
    "# polymorphism in object-oriented programming."
   ]
  },
  {
   "cell_type": "code",
   "execution_count": 1,
   "metadata": {
    "application/vnd.databricks.v1+cell": {
     "cellMetadata": {},
     "inputWidgets": {},
     "nuid": "7695bb6a-2427-4ce4-a62f-983033b5e40f",
     "showTitle": false,
     "tableResultSettingsMap": {},
     "title": ""
    }
   },
   "outputs": [
    {
     "name": "stdout",
     "output_type": "stream",
     "text": [
      "Adam 120000 Marketing\n"
     ]
    }
   ],
   "source": [
    "# Define a parent class Employee with name and salary. \n",
    "# Then define a child class Manager that also includes department. \n",
    "# Use super() to call the parent constructor.\n",
    "\n",
    "class Employee:\n",
    "    def __init__(self, name, salary):\n",
    "        self.name = name\n",
    "        self.salary = salary\n",
    "\n",
    "\n",
    "class Manager(Employee):\n",
    "    def __init__(self, name, salary, department):\n",
    "        super().__init__(name, salary)\n",
    "        self.department = department\n",
    "\n",
    "\n",
    "man = Manager(\"Adam\", 120000, \"Marketing\")\n",
    "print(man.name, man.salary, man.department)"
   ]
  },
  {
   "cell_type": "code",
   "execution_count": 2,
   "metadata": {
    "application/vnd.databricks.v1+cell": {
     "cellMetadata": {},
     "inputWidgets": {},
     "nuid": "7e5f73ef-dbb3-4758-adaa-9709028e6188",
     "showTitle": false,
     "tableResultSettingsMap": {},
     "title": ""
    }
   },
   "outputs": [
    {
     "name": "stdout",
     "output_type": "stream",
     "text": [
      "Adam\n",
      "120000\n",
      "Marketing\n"
     ]
    }
   ],
   "source": [
    "# Add a method to Manager called display() that prints name, salary, and department.\n",
    "\n",
    "\n",
    "class Employee:\n",
    "    def __init__(self, name, salary):\n",
    "        self.name = name\n",
    "        self.salary = salary\n",
    "\n",
    "\n",
    "class Manager(Employee):\n",
    "    def __init__(self, name, salary, department):\n",
    "        super().__init__(name, salary)\n",
    "        self.department = department\n",
    "\n",
    "    def display(self):\n",
    "        print(self.name)\n",
    "        print(self.salary)\n",
    "        print(self.department)\n",
    "\n",
    "## testing\n",
    "\n",
    "many = Manager(\"Adam\", 120000, \"Marketing\")\n",
    "\n",
    "many.display()\n",
    "\n"
   ]
  },
  {
   "cell_type": "code",
   "execution_count": 0,
   "metadata": {
    "application/vnd.databricks.v1+cell": {
     "cellMetadata": {},
     "inputWidgets": {},
     "nuid": "f897c43b-ee38-4d54-bc7e-962129cf339d",
     "showTitle": false,
     "tableResultSettingsMap": {},
     "title": ""
    }
   },
   "outputs": [],
   "source": []
  },
  {
   "cell_type": "code",
   "execution_count": 0,
   "metadata": {
    "application/vnd.databricks.v1+cell": {
     "cellMetadata": {},
     "inputWidgets": {},
     "nuid": "c1762d27-ba8c-4428-b4c4-31efeaaa78a8",
     "showTitle": false,
     "tableResultSettingsMap": {},
     "title": ""
    }
   },
   "outputs": [],
   "source": [
    "# Create a class `Laptop` with attributes `brand` and `price`, and a method `specs()` to print them.\n",
    "\n",
    "class Laptop:\n",
    "    def __init__(self, brand, price):\n",
    "        self.brand = brand\n",
    "        self.price = price\n",
    "\n",
    "    def specs(self):\n",
    "        print(\"Brand:\", self.brand)\n",
    "        print(\"Price: $\", self.price)\n",
    "\n",
    "\n",
    "my_laptop = Laptop(\"Mac\", 1200)\n",
    "\n",
    "my_laptop.specs()"
   ]
  },
  {
   "cell_type": "code",
   "execution_count": 0,
   "metadata": {
    "application/vnd.databricks.v1+cell": {
     "cellMetadata": {},
     "inputWidgets": {},
     "nuid": "cf3b2d55-2018-4ddb-a48c-ac5540aca7d3",
     "showTitle": false,
     "tableResultSettingsMap": {},
     "title": ""
    }
   },
   "outputs": [],
   "source": [
    "# What is the difference between `self.attribute` and a local variable inside a method?\n",
    "\n",
    "# Local variable is only accessible and exists within the method, not outside of method. \n",
    "\n",
    "# self.attribute can be accessed by all the methods within the class."
   ]
  },
  {
   "cell_type": "code",
   "execution_count": 0,
   "metadata": {
    "application/vnd.databricks.v1+cell": {
     "cellMetadata": {},
     "inputWidgets": {},
     "nuid": "02aa9220-a970-4d8b-95a5-8033c8939d5a",
     "showTitle": false,
     "tableResultSettingsMap": {},
     "title": ""
    }
   },
   "outputs": [],
   "source": [
    "# Add a default value for an attribute:\n",
    "# Create a class `Circle` with a radius attribute. Set the default radius to 1.\n",
    "\n",
    "class Circle:\n",
    "    def __init__(self, radius=1):\n",
    "        self.radius = radius\n",
    "\n",
    "    def area(self):\n",
    "        print(f\"Area of a circle with a radius={self.radius} is\", 3*(self.radius**2))\n",
    "\n",
    "\n",
    "my_circle = Circle(2)\n",
    "\n",
    "my_circle.area()\n",
    "\n",
    " "
   ]
  },
  {
   "cell_type": "code",
   "execution_count": 0,
   "metadata": {
    "application/vnd.databricks.v1+cell": {
     "cellMetadata": {},
     "inputWidgets": {},
     "nuid": "2693d02f-11e2-49ba-9cf4-ede585ba76f1",
     "showTitle": false,
     "tableResultSettingsMap": {},
     "title": ""
    }
   },
   "outputs": [],
   "source": [
    "# What happens if you forget `self` in method parameters?\n",
    "\n",
    "# Python will raise a TypeError "
   ]
  },
  {
   "cell_type": "code",
   "execution_count": 0,
   "metadata": {
    "application/vnd.databricks.v1+cell": {
     "cellMetadata": {},
     "inputWidgets": {},
     "nuid": "3be134c0-a62f-471d-9c87-74692032f81e",
     "showTitle": false,
     "tableResultSettingsMap": {},
     "title": ""
    }
   },
   "outputs": [],
   "source": [
    "# Create an object of a class `Movie` with attributes `title`, `year`, and `genre`.\n",
    "\n",
    "class Movie:\n",
    "    def __init__(self, title, year, genre):\n",
    "        self.title = title\n",
    "        self.year = year\n",
    "        self.genre = genre\n",
    "    \n",
    "    def display(self):\n",
    "        print(\"movie title:\", self.title)\n",
    "        print(\"movie year:\", self.year)\n",
    "        print(\"movie genre:\", self.genre)\n",
    "\n",
    "my_movie = Movie(\"john wick\", 2015, \"action\")\n",
    "\n",
    "my_movie.display()"
   ]
  },
  {
   "cell_type": "code",
   "execution_count": 0,
   "metadata": {
    "application/vnd.databricks.v1+cell": {
     "cellMetadata": {},
     "inputWidgets": {},
     "nuid": "f5330dac-b4de-47c3-9a94-02458df97324",
     "showTitle": false,
     "tableResultSettingsMap": {},
     "title": ""
    }
   },
   "outputs": [],
   "source": [
    "# Create a base class `Shape` with a method `area()` that returns 0. \n",
    "# Create two subclasses `Rectangle` and `Triangle`, and override `area()` for each.\n",
    "\n",
    "class Shape:\n",
    "    def __init__(self):\n",
    "        pass\n",
    "\n",
    "    def area(self):\n",
    "        return 0\n",
    "    \n",
    "class Rectangle(Shape):\n",
    "    def __init__(self, a, b):\n",
    "        super().__init__()\n",
    "        self.a = a\n",
    "        self.b = b \n",
    "\n",
    "    def area(self):\n",
    "        return self.a*self.b\n",
    "\n",
    "\n",
    "class Triangle(Shape):\n",
    "    def __init__(self, a, b):\n",
    "        super().__init__()\n",
    "        self.a = a\n",
    "        self.b = b \n",
    "\n",
    "    def area(self):\n",
    "        return self.a*self.b/2\n",
    "    \n",
    "\n",
    "### testing\n",
    "\n",
    "r = Rectangle(10, 5)\n",
    "t = Triangle(10, 5)\n",
    "\n",
    "print(\"Rectangle area:\", r.area())  # Output: 50\n",
    "print(\"Triangle area:\", t.area())   # Output: 25.0"
   ]
  },
  {
   "cell_type": "code",
   "execution_count": 0,
   "metadata": {
    "application/vnd.databricks.v1+cell": {
     "cellMetadata": {},
     "inputWidgets": {},
     "nuid": "e773c89a-03ab-4421-b595-a5fa4dd34458",
     "showTitle": false,
     "tableResultSettingsMap": {},
     "title": ""
    }
   },
   "outputs": [],
   "source": [
    "# What is method overriding in Python? Give an example.\n",
    "\n",
    "# Method overriding occurs when a child (subclass) defines a method with the same name as a method in its parent (superclass). \n",
    "# This allows the subclass to provide a specific implementation of the method that replaces (or overrides) the parent class’s version."
   ]
  },
  {
   "cell_type": "code",
   "execution_count": 2,
   "metadata": {},
   "outputs": [
    {
     "name": "stdout",
     "output_type": "stream",
     "text": [
      "First name: Adam\n",
      "Last name: Baker\n",
      "School: University of Kansas\n"
     ]
    }
   ],
   "source": [
    "# Use `super()` to extend functionality:\n",
    "# Create a class `Person`, and a subclass `Student` that adds `school`. \n",
    "# Use `super()` to call the base constructor.\n",
    "\n",
    "\n",
    "class Person:\n",
    "    def __init__(self, fname, lname):\n",
    "        self.fname = fname\n",
    "        self.lname = lname\n",
    "\n",
    "class Student(Person):\n",
    "    def __init__(self, fname, lname, school):\n",
    "        super().__init__(fname, lname)\n",
    "        self.school = school\n",
    "\n",
    "    def display(self):\n",
    "        print(\"First name:\", self.fname)\n",
    "        print(\"Last name:\", self.lname)\n",
    "        print(\"School:\", self.school)\n",
    "\n",
    "\n",
    "# testing\n",
    "adam = Student(\"Adam\", \"Baker\", \"University of Kansas\")\n",
    "adam.display()\n"
   ]
  },
  {
   "cell_type": "code",
   "execution_count": null,
   "metadata": {},
   "outputs": [],
   "source": [
    "#  Explain how `super()` works and why it is useful in Python classes.\n",
    "\n",
    "# super() is a built-in function in Python that allows you to call methods \n",
    "# from a parent (or superclass) class from within a child (or subclass) class.\n",
    "\n",
    "\n",
    "# ✅ Why is super() useful?\n",
    "# Code Reuse: You don’t need to rewrite the logic that’s already in the parent class.\n",
    "# Maintainability: If the parent class changes, child classes automatically inherit the updated behavior.\n",
    "# Supports Multiple Inheritance: Helps avoid complexity in multi-parent scenarios \n",
    "# (via Method Resolution Order - MRO).\n"
   ]
  },
  {
   "cell_type": "code",
   "execution_count": 5,
   "metadata": {},
   "outputs": [
    {
     "name": "stdout",
     "output_type": "stream",
     "text": [
      "Name: Alice, Total Count: 2\n",
      "Name: Bob, Total Count: 2\n",
      "Name: Charlie, Total Count: 3\n"
     ]
    }
   ],
   "source": [
    "# 10. Create a class with a class variable shared by all instances. \n",
    "# Give an example of how instance variables differ.\n",
    "\n",
    "### ✅ Code Example:\n",
    "\n",
    "class Counter:\n",
    "    # Class variable: shared by all instances\n",
    "    count = 0\n",
    "\n",
    "    def __init__(self, name):\n",
    "        self.name = name         # Instance variable: unique to each object\n",
    "        Counter.count += 1       # Update class variable\n",
    "\n",
    "    def display(self):\n",
    "        print(f\"Name: {self.name}, Total Count: {Counter.count}\")\n",
    "\n",
    "\n",
    "### 🧪 Create Objects and See the Difference:\n",
    "\n",
    "a = Counter(\"Alice\")\n",
    "b = Counter(\"Bob\")\n",
    "\n",
    "a.display()   # Name: Alice, Total Count: 3\n",
    "b.display()   # Name: Bob, Total Count: 3\n",
    "\n",
    "c = Counter(\"Charlie\")\n",
    "c.display()   # Name: Charlie, Total Count: 3\n"
   ]
  },
  {
   "cell_type": "code",
   "execution_count": 6,
   "metadata": {},
   "outputs": [
    {
     "name": "stdout",
     "output_type": "stream",
     "text": [
      "Alice\n",
      "Bob\n",
      "3\n"
     ]
    }
   ],
   "source": [
    "print(a.name)       # Alice → instance variable\n",
    "print(b.name)       # Bob → instance variable\n",
    "print(Counter.count)  # 3 → class variable (shared)\n"
   ]
  },
  {
   "cell_type": "markdown",
   "metadata": {},
   "source": [
    "### 🧠 Key Concepts:\n",
    "\n",
    "| Feature      | Instance Variable        | Class Variable            |\n",
    "| ------------ | ------------------------ | ------------------------- |\n",
    "| Belongs to   | Each object individually | The class (shared by all) |\n",
    "| Defined in   | `__init__`               | Outside all methods       |\n",
    "| Accessed via | `self.variable`          | `ClassName.variable`      |\n",
    "| Example      | `self.name`              | `Counter.count`           |"
   ]
  },
  {
   "cell_type": "code",
   "execution_count": null,
   "metadata": {},
   "outputs": [],
   "source": []
  },
  {
   "cell_type": "code",
   "execution_count": null,
   "metadata": {},
   "outputs": [],
   "source": [
    "# 11. Use **private variables** (`__var`) in a class and show how to access them.\n",
    "\n"
   ]
  },
  {
   "cell_type": "code",
   "execution_count": null,
   "metadata": {},
   "outputs": [],
   "source": [
    "### 🔴 **Advanced: Encapsulation, Static/Class Methods, UDFs**\n",
    "\n",
    "# 12. What’s the difference between:\n",
    "\n",
    "#     * Instance method\n",
    "#     * Class method\n",
    "#     * Static method\n",
    "#       Provide a short example of each."
   ]
  },
  {
   "cell_type": "code",
   "execution_count": null,
   "metadata": {},
   "outputs": [],
   "source": [
    "# 13. Create a class `Counter` with a class variable `count`, and a class method `increment()` that adds 1 to `count`.\n"
   ]
  },
  {
   "cell_type": "code",
   "execution_count": null,
   "metadata": {},
   "outputs": [],
   "source": [
    "# 14. Write a class that keeps a **list of all created objects' names** using a class-level list.\n"
   ]
  },
  {
   "cell_type": "code",
   "execution_count": null,
   "metadata": {},
   "outputs": [],
   "source": [
    "# 15. What is the difference between composition and inheritance? When would you use each?\n"
   ]
  },
  {
   "cell_type": "code",
   "execution_count": null,
   "metadata": {},
   "outputs": [],
   "source": [
    "# 16. Design a class structure for an **online bookstore**. Think in terms of:\n",
    "\n",
    "#     * `Book`\n",
    "#     * `Author`\n",
    "#     * `Customer`\n",
    "#     * `Cart`"
   ]
  },
  {
   "cell_type": "code",
   "execution_count": 0,
   "metadata": {
    "application/vnd.databricks.v1+cell": {
     "cellMetadata": {},
     "inputWidgets": {},
     "nuid": "24baf0ab-8453-4d99-b574-8294debb3a35",
     "showTitle": false,
     "tableResultSettingsMap": {},
     "title": ""
    }
   },
   "outputs": [],
   "source": [
    "# 17. Design a `BankAccount` class with `deposit()`, `withdraw()`, and `check_balance()` methods.\n",
    "#  Then subclass it into `SavingsAccount` and `CheckingAccount` with different withdrawal rules.\n",
    "\n"
   ]
  },
  {
   "cell_type": "code",
   "execution_count": null,
   "metadata": {},
   "outputs": [],
   "source": [
    "1. **What is the purpose of the `__str__()` method? How does it differ from `__repr__()`?**\n"
   ]
  },
  {
   "cell_type": "code",
   "execution_count": null,
   "metadata": {},
   "outputs": [],
   "source": [
    "2. **What does it mean for a class attribute to be \"shadowed\" by an instance attribute?**\n"
   ]
  },
  {
   "cell_type": "code",
   "execution_count": null,
   "metadata": {},
   "outputs": [],
   "source": [
    "3. **What’s the difference between `@classmethod`, `@staticmethod`, and instance methods? Provide examples.**\n"
   ]
  },
  {
   "cell_type": "code",
   "execution_count": null,
   "metadata": {},
   "outputs": [],
   "source": [
    "4. **What happens if you forget to call `super().__init__()` in a subclass?**\n"
   ]
  },
  {
   "cell_type": "code",
   "execution_count": null,
   "metadata": {},
   "outputs": [],
   "source": [
    "5. **What is the difference between composition and inheritance? When would you use one over the other?**\n"
   ]
  },
  {
   "cell_type": "code",
   "execution_count": null,
   "metadata": {},
   "outputs": [],
   "source": [
    "6. **How do class-level and instance-level variables behave when mutated (e.g., using lists or dicts)?**\n"
   ]
  },
  {
   "cell_type": "code",
   "execution_count": null,
   "metadata": {},
   "outputs": [],
   "source": [
    "7. **What is method resolution order (MRO), and how does Python determine it in multiple inheritance?**\n"
   ]
  },
  {
   "cell_type": "code",
   "execution_count": null,
   "metadata": {},
   "outputs": [],
   "source": [
    "8. **How would you implement a singleton pattern in Python using a class?**"
   ]
  },
  {
   "cell_type": "code",
   "execution_count": null,
   "metadata": {},
   "outputs": [],
   "source": [
    "1. **Write a class `Logger` that logs messages to a file and includes timestamps. Use class variables to set a default file path.**\n"
   ]
  },
  {
   "cell_type": "code",
   "execution_count": null,
   "metadata": {},
   "outputs": [],
   "source": [
    "2. **Create a base class `DataProcessor` with a method `load_data()`, and override this method in subclasses `CSVProcessor` and `JSONProcessor`.**\n"
   ]
  },
  {
   "cell_type": "code",
   "execution_count": null,
   "metadata": {},
   "outputs": [],
   "source": [
    "3. **Implement a class `Vector2D` with `+` and `-` operator overloading. (Hint: Use `__add__`, `__sub__`)**\n"
   ]
  },
  {
   "cell_type": "code",
   "execution_count": null,
   "metadata": {},
   "outputs": [],
   "source": [
    "4. **Design a class `ModelTrainer` that accepts a model object and a dataset. Include methods like `.train()`, `.evaluate()` and store training history.**\n"
   ]
  },
  {
   "cell_type": "code",
   "execution_count": null,
   "metadata": {},
   "outputs": [],
   "source": [
    "5. **Create a class that tracks how many instances have been created (via a class variable). Decrease the counter in `__del__`.**\n"
   ]
  },
  {
   "cell_type": "code",
   "execution_count": null,
   "metadata": {},
   "outputs": [],
   "source": [
    "6. **Write a decorator class `Timer` that times any function you decorate with it.**\n"
   ]
  },
  {
   "cell_type": "code",
   "execution_count": null,
   "metadata": {},
   "outputs": [],
   "source": [
    "1. **You're building a modular ETL system. How would you design classes like `Extractor`, `Transformer`, and `Loader` using inheritance and polymorphism?**\n"
   ]
  },
  {
   "cell_type": "code",
   "execution_count": null,
   "metadata": {},
   "outputs": [],
   "source": [
    "2. **How would you implement lazy loading of a large data file in a class, so that it only loads when needed?**\n"
   ]
  },
  {
   "cell_type": "code",
   "execution_count": null,
   "metadata": {},
   "outputs": [],
   "source": [
    "\n",
    "3. **How would you refactor this procedural code into a class-based structure with encapsulation and reusable methods?**\n",
    "   *(Provide a chunk of code for them to clean up.)*"
   ]
  },
  {
   "cell_type": "code",
   "execution_count": null,
   "metadata": {},
   "outputs": [],
   "source": [
    "4. **Design a class structure to model a simplified ML pipeline: Data Cleaning → Feature Selection → Model Training → Evaluation. Each step is an interchangeable component.**\n"
   ]
  },
  {
   "cell_type": "code",
   "execution_count": null,
   "metadata": {},
   "outputs": [],
   "source": [
    "5. **What design pattern would you use if you want to dynamically add functionality to objects without modifying their class? (Hint: Decorator Pattern)**\n"
   ]
  },
  {
   "cell_type": "code",
   "execution_count": null,
   "metadata": {},
   "outputs": [],
   "source": [
    "\n",
    "\n",
    "* Dunder methods (`__len__`, `__getitem__`, etc.)\n",
    "* Abstract Base Classes (from `abc` module)\n",
    "* Property decorators: `@property`, `@<property>.setter`\n",
    "* Context managers (`__enter__`, `__exit__`)\n",
    "* Metaclasses (for very advanced customization, rarely needed in interviews)\n",
    "\n",
    "---\n",
    "\n",
    "Would you like me to turn these into mini quizzes, live coding challenges, or flashcards?\n"
   ]
  },
  {
   "cell_type": "code",
   "execution_count": null,
   "metadata": {},
   "outputs": [],
   "source": [
    "## 🧩 Python Decorators — Interview Questions\n",
    "\n",
    "### ✅ Conceptual Questions\n",
    "\n",
    "1. **What is a decorator in Python? How does it work under the hood?**\n",
    "2. **What’s the difference between `@staticmethod`, `@classmethod`, and a user-defined decorator?**\n",
    "3. **What are some real-world use cases for decorators in data science or web development?**\n",
    "4. **How can you pass arguments to a decorator?**\n",
    "5. **What is `functools.wraps` used for? Why should you use it in custom decorators?**\n",
    "\n",
    "---\n",
    "\n",
    "### 🧪 Decorator Coding Practice\n",
    "\n",
    "1. **Basic Decorator:**\n",
    "   Write a decorator `@logger` that prints `\"Function <name> called\"` before running the function.\n",
    "\n",
    "2. **Decorator with Arguments:**\n",
    "   Write a decorator `@repeat(n)` that runs a function `n` times.\n",
    "\n",
    "3. **Time a Function:**\n",
    "   Create a `@timer` decorator that prints how long a function takes to execute.\n",
    "\n",
    "4. **Decorator with Condition:**\n",
    "   Write a decorator `@only_if_logged_in` that only runs a function if a `user.is_logged_in` flag is `True`.\n",
    "\n",
    "5. **Stacking Decorators:**\n",
    "   Combine two decorators: one logs calls and one times execution.\n",
    "\n",
    "---\n",
    "\n",
    "## 🧠 Shallow vs. Deep Copy — Interview Questions\n",
    "\n",
    "### ✅ Conceptual Questions\n",
    "\n",
    "1. **What is the difference between shallow copy and deep copy in Python?**\n",
    "2. **What module provides `deepcopy` in Python?**\n",
    "3. **If you copy a list of lists using `copy.copy()`, what gets copied and what doesn't?**\n",
    "4. **What problems can shallow copies cause when mutating nested structures?**\n",
    "5. **Explain how mutable vs. immutable types behave when copied shallowly.**\n",
    "\n",
    "---\n",
    "\n",
    "### 🧪 Shallow & Deep Copy Coding Practice\n",
    "\n",
    "1. **Basic Test:**\n",
    "\n",
    "   ```python\n",
    "   import copy\n",
    "   a = [1, [2, 3]]\n",
    "   b = copy.copy(a)\n",
    "   c = copy.deepcopy(a)\n",
    "   a[1][0] = 999\n",
    "   print(b)\n",
    "   print(c)\n",
    "   ```\n",
    "\n",
    "   ❓ Predict the output. Why does it behave that way?\n",
    "\n",
    "2. **Modify Top-Level Only:**\n",
    "   Prove that `copy.copy()` only copies the top-level structure using a dict of lists.\n",
    "\n",
    "3. **Prevent Bugs:**\n",
    "   Write a function that safely duplicates a configuration dictionary without shared references.\n",
    "\n",
    "4. **Compare ID vs. Content:**\n",
    "   Use `id()` and `is` to show how deep vs. shallow copies share or break references.\n",
    "\n",
    "5. **Custom Copy in a Class:**\n",
    "   Implement `__copy__()` and `__deepcopy__()` in a custom class to control behavior.\n",
    "\n",
    "---\n",
    "\n",
    "Would you like code snippets to go with any of these or want to run mini-quiz questions on decorators and copy concepts now?\n"
   ]
  }
 ],
 "metadata": {
  "application/vnd.databricks.v1+notebook": {
   "computePreferences": null,
   "dashboards": [],
   "environmentMetadata": null,
   "inputWidgetPreferences": null,
   "language": "python",
   "notebookMetadata": {
    "pythonIndentUnit": 4
   },
   "notebookName": "Classes",
   "widgets": {}
  },
  "kernelspec": {
   "display_name": "Python 3",
   "language": "python",
   "name": "python3"
  },
  "language_info": {
   "codemirror_mode": {
    "name": "ipython",
    "version": 3
   },
   "file_extension": ".py",
   "mimetype": "text/x-python",
   "name": "python",
   "nbconvert_exporter": "python",
   "pygments_lexer": "ipython3",
   "version": "3.10.3"
  },
  "orig_nbformat": 4,
  "vscode": {
   "interpreter": {
    "hash": "aee8b7b246df8f9039afb4144a1f6fd8d2ca17a180786b69acc140d282b71a49"
   }
  }
 },
 "nbformat": 4,
 "nbformat_minor": 0
}
