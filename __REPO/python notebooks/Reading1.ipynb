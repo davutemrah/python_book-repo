{
 "cells": [
  {
   "cell_type": "code",
   "execution_count": null,
   "metadata": {},
   "outputs": [],
   "source": []
  },
  {
   "cell_type": "markdown",
   "metadata": {},
   "source": [
    "# Reading Data In Python\n",
    "Tabular data files may be formatted in many ways including:\n",
    "* Free formatted – separated by spaces\n",
    "* Delimited – separated by other characters\n",
    "* Quoted strings – strings contain the delimiter\n",
    "* Aligned – each variable always in same location\n",
    "* Multiple lines – each case spans several lines\n",
    "* Structured – e.g. \"marked up\" as with XML\n",
    "* Unstructured – e.g. an interview transcript\n",
    "* Mixed – any combination of the above\n",
    "\n",
    "Data are arranged in tables because the tools we typically use require tables.\n",
    "\n",
    "The Python package that is commonly used for tabular data is **Pandas**. The Pandas DataFrame is the table structure we will use. https://pandas.pydata.org/pandas-docs/stable/reference/api/pandas.DataFrame.html\n",
    "\n",
    "\n"
   ]
  },
  {
   "cell_type": "markdown",
   "metadata": {},
   "source": [
    "## CSV Files\n",
    "\n",
    "The first file we'll read is a Comma Separated Variable **(CSV)** file. CSV files are becoming a very common way of formatting raw data.  Se, for example, https://en.wikipedia.org/wiki/Comma-separated_values \n",
    "\n",
    "We'll use the Pandas **read_csv** function to read the file see: \n",
    "https://pandas.pydata.org/pandas-docs/stable/reference/api/pandas.read_csv.html \n",
    "\n",
    "The data file looks like the following:"
   ]
  },
  {
   "cell_type": "markdown",
   "metadata": {},
   "source": [
    "`Name,Species,Gender,Weight,Fur,Temper,Bites\n",
    "102,2,BOY,8,M,2,9\n",
    "103,1,GIRL,31,11,3,14\n",
    "104,1,BOY,26,12,1,3\n",
    "105,2,BOY,14,9,3,15\n",
    "106,1,GIRL,64,7,3,16\n",
    "107,2,GIRL,15,3,M,10\n",
    "108,1,GIRL,9,17,2,11\n",
    "109,1,BOY,38,4,1,2\n",
    "110,2,GIRL,12,14,2,12\n",
    "111,1,BOY,41,2,3,17\n",
    "112,1,BOY,52,10,1,4\n",
    "113,2,GIRL,9,10,1,3\n",
    "`"
   ]
  },
  {
   "cell_type": "markdown",
   "metadata": {},
   "source": [
    "### Setup\n",
    "First import the packages we need and define paths to folders we'll use. It is good practice to put this stuff at the top of a project. Then, if you use a different folder you don't need to look through the whole script to make changes."
   ]
  },
  {
   "cell_type": "code",
   "execution_count": 17,
   "metadata": {},
   "outputs": [],
   "source": [
    "# import the pandas package with the local name \"pd\"\n",
    "import pandas as pd\n",
    "\n",
    "# the numpy package for datatypes\n",
    "import numpy as np\n",
    "\n",
    "# capture the path to the data directory\n",
    "dataDirectory = r'/Users/cagilalbayrak/Downloads/792 Managing Research Data/data/reading1' + '/'\n",
    "# the 'r' before the quotes tell Python to treat this string as a RAW string, \n",
    "# meaning that it should read it literally (i.e. to not interpret the backslash as an escape character in this case)\n"
   ]
  },
  {
   "cell_type": "markdown",
   "metadata": {},
   "source": [
    "# The Pandas read_csv method\n",
    "The Pandas read_csv method can import a CSV file into a Pandas DataFrame."
   ]
  },
  {
   "cell_type": "code",
   "execution_count": 18,
   "metadata": {},
   "outputs": [],
   "source": [
    "# import the csv\n",
    "dogsDf = pd.read_csv(dataDirectory+\"DOGGYDATA.csv\")"
   ]
  },
  {
   "cell_type": "code",
   "execution_count": 19,
   "metadata": {},
   "outputs": [
    {
     "data": {
      "text/html": [
       "<div>\n",
       "<style scoped>\n",
       "    .dataframe tbody tr th:only-of-type {\n",
       "        vertical-align: middle;\n",
       "    }\n",
       "\n",
       "    .dataframe tbody tr th {\n",
       "        vertical-align: top;\n",
       "    }\n",
       "\n",
       "    .dataframe thead th {\n",
       "        text-align: right;\n",
       "    }\n",
       "</style>\n",
       "<table border=\"1\" class=\"dataframe\">\n",
       "  <thead>\n",
       "    <tr style=\"text-align: right;\">\n",
       "      <th></th>\n",
       "      <th>Name</th>\n",
       "      <th>Species</th>\n",
       "      <th>Gender</th>\n",
       "      <th>Weight</th>\n",
       "      <th>Fur</th>\n",
       "      <th>Temper</th>\n",
       "      <th>Bites</th>\n",
       "    </tr>\n",
       "  </thead>\n",
       "  <tbody>\n",
       "    <tr>\n",
       "      <th>0</th>\n",
       "      <td>102</td>\n",
       "      <td>2</td>\n",
       "      <td>BOY</td>\n",
       "      <td>8</td>\n",
       "      <td>M</td>\n",
       "      <td>2</td>\n",
       "      <td>9</td>\n",
       "    </tr>\n",
       "    <tr>\n",
       "      <th>1</th>\n",
       "      <td>103</td>\n",
       "      <td>1</td>\n",
       "      <td>GIRL</td>\n",
       "      <td>31</td>\n",
       "      <td>11</td>\n",
       "      <td>3</td>\n",
       "      <td>14</td>\n",
       "    </tr>\n",
       "    <tr>\n",
       "      <th>2</th>\n",
       "      <td>104</td>\n",
       "      <td>1</td>\n",
       "      <td>BOY</td>\n",
       "      <td>26</td>\n",
       "      <td>12</td>\n",
       "      <td>1</td>\n",
       "      <td>3</td>\n",
       "    </tr>\n",
       "    <tr>\n",
       "      <th>3</th>\n",
       "      <td>105</td>\n",
       "      <td>2</td>\n",
       "      <td>BOY</td>\n",
       "      <td>14</td>\n",
       "      <td>9</td>\n",
       "      <td>3</td>\n",
       "      <td>15</td>\n",
       "    </tr>\n",
       "    <tr>\n",
       "      <th>4</th>\n",
       "      <td>106</td>\n",
       "      <td>1</td>\n",
       "      <td>GIRL</td>\n",
       "      <td>64</td>\n",
       "      <td>7</td>\n",
       "      <td>3</td>\n",
       "      <td>16</td>\n",
       "    </tr>\n",
       "    <tr>\n",
       "      <th>5</th>\n",
       "      <td>107</td>\n",
       "      <td>2</td>\n",
       "      <td>GIRL</td>\n",
       "      <td>15</td>\n",
       "      <td>3</td>\n",
       "      <td>M</td>\n",
       "      <td>10</td>\n",
       "    </tr>\n",
       "    <tr>\n",
       "      <th>6</th>\n",
       "      <td>108</td>\n",
       "      <td>1</td>\n",
       "      <td>GIRL</td>\n",
       "      <td>9</td>\n",
       "      <td>17</td>\n",
       "      <td>2</td>\n",
       "      <td>11</td>\n",
       "    </tr>\n",
       "    <tr>\n",
       "      <th>7</th>\n",
       "      <td>109</td>\n",
       "      <td>1</td>\n",
       "      <td>BOY</td>\n",
       "      <td>38</td>\n",
       "      <td>4</td>\n",
       "      <td>1</td>\n",
       "      <td>2</td>\n",
       "    </tr>\n",
       "    <tr>\n",
       "      <th>8</th>\n",
       "      <td>110</td>\n",
       "      <td>2</td>\n",
       "      <td>GIRL</td>\n",
       "      <td>12</td>\n",
       "      <td>14</td>\n",
       "      <td>2</td>\n",
       "      <td>12</td>\n",
       "    </tr>\n",
       "    <tr>\n",
       "      <th>9</th>\n",
       "      <td>111</td>\n",
       "      <td>1</td>\n",
       "      <td>BOY</td>\n",
       "      <td>41</td>\n",
       "      <td>2</td>\n",
       "      <td>3</td>\n",
       "      <td>17</td>\n",
       "    </tr>\n",
       "    <tr>\n",
       "      <th>10</th>\n",
       "      <td>112</td>\n",
       "      <td>1</td>\n",
       "      <td>BOY</td>\n",
       "      <td>52</td>\n",
       "      <td>10</td>\n",
       "      <td>1</td>\n",
       "      <td>4</td>\n",
       "    </tr>\n",
       "    <tr>\n",
       "      <th>11</th>\n",
       "      <td>113</td>\n",
       "      <td>2</td>\n",
       "      <td>GIRL</td>\n",
       "      <td>9</td>\n",
       "      <td>10</td>\n",
       "      <td>1</td>\n",
       "      <td>3</td>\n",
       "    </tr>\n",
       "  </tbody>\n",
       "</table>\n",
       "</div>"
      ],
      "text/plain": [
       "    Name  Species Gender  Weight Fur Temper  Bites\n",
       "0    102        2    BOY       8   M      2      9\n",
       "1    103        1   GIRL      31  11      3     14\n",
       "2    104        1    BOY      26  12      1      3\n",
       "3    105        2    BOY      14   9      3     15\n",
       "4    106        1   GIRL      64   7      3     16\n",
       "5    107        2   GIRL      15   3      M     10\n",
       "6    108        1   GIRL       9  17      2     11\n",
       "7    109        1    BOY      38   4      1      2\n",
       "8    110        2   GIRL      12  14      2     12\n",
       "9    111        1    BOY      41   2      3     17\n",
       "10   112        1    BOY      52  10      1      4\n",
       "11   113        2   GIRL       9  10      1      3"
      ]
     },
     "execution_count": 19,
     "metadata": {},
     "output_type": "execute_result"
    }
   ],
   "source": [
    "# display the DataFrame\n",
    "dogsDf"
   ]
  },
  {
   "cell_type": "code",
   "execution_count": 10,
   "metadata": {},
   "outputs": [
    {
     "ename": "NameError",
     "evalue": "name 'dogsDf' is not defined",
     "output_type": "error",
     "traceback": [
      "\u001b[0;31m---------------------------------------------------------------------------\u001b[0m",
      "\u001b[0;31mNameError\u001b[0m                                 Traceback (most recent call last)",
      "\u001b[0;32m<ipython-input-10-bfdfa6897519>\u001b[0m in \u001b[0;36m<module>\u001b[0;34m\u001b[0m\n\u001b[0;32m----> 1\u001b[0;31m \u001b[0mprint\u001b[0m\u001b[0;34m(\u001b[0m\u001b[0;34m\"The typeof dogsDf is: \"\u001b[0m\u001b[0;34m,\u001b[0m \u001b[0mtype\u001b[0m\u001b[0;34m(\u001b[0m\u001b[0mdogsDf\u001b[0m\u001b[0;34m)\u001b[0m\u001b[0;34m)\u001b[0m\u001b[0;34m\u001b[0m\u001b[0;34m\u001b[0m\u001b[0m\n\u001b[0m",
      "\u001b[0;31mNameError\u001b[0m: name 'dogsDf' is not defined"
     ]
    }
   ],
   "source": [
    "print(\"The typeof dogsDf is: \", type(dogsDf))"
   ]
  },
  {
   "cell_type": "markdown",
   "metadata": {},
   "source": [
    "### Information about the DataFrame\n",
    "The info() method returns basic information about the DataFrame"
   ]
  },
  {
   "cell_type": "code",
   "execution_count": null,
   "metadata": {
    "scrolled": true
   },
   "outputs": [],
   "source": [
    "dogsDf.info()"
   ]
  },
  {
   "cell_type": "markdown",
   "metadata": {},
   "source": [
    "### Let's get descriptive statistics for the numeric variables. \n",
    "What happened to the Fur, Gender, and Temper columns? They are not numeric."
   ]
  },
  {
   "cell_type": "code",
   "execution_count": null,
   "metadata": {
    "scrolled": true
   },
   "outputs": [],
   "source": [
    "dogsDf.describe()"
   ]
  },
  {
   "cell_type": "markdown",
   "metadata": {},
   "source": [
    "### selecting a Series from a DataFrame\n",
    "There are several methods of subsetting DataFrames. In the example below the Gender Series is extracted just like a value from a dictionary."
   ]
  },
  {
   "cell_type": "code",
   "execution_count": null,
   "metadata": {},
   "outputs": [],
   "source": [
    "GenderSeries = dogsDf['Gender']\n",
    "GenderSeries"
   ]
  },
  {
   "cell_type": "code",
   "execution_count": null,
   "metadata": {},
   "outputs": [],
   "source": [
    "type(GenderSeries)"
   ]
  },
  {
   "cell_type": "markdown",
   "metadata": {},
   "source": [
    "### Using dot notation to select a column"
   ]
  },
  {
   "cell_type": "code",
   "execution_count": null,
   "metadata": {},
   "outputs": [],
   "source": [
    "dogsDf.Fur"
   ]
  },
  {
   "cell_type": "markdown",
   "metadata": {},
   "source": [
    "### Value counts for categorical variables \n",
    "Text or numeric variables may be categorical - having a specific set of values. Counts of each value can be obtained with the value_counts method of a Series."
   ]
  },
  {
   "cell_type": "code",
   "execution_count": null,
   "metadata": {},
   "outputs": [],
   "source": [
    "# get the value counts for Gender\n",
    "dogsDf['Gender'].value_counts()"
   ]
  },
  {
   "cell_type": "markdown",
   "metadata": {},
   "source": [
    "### Numeric columns can be tabulated too"
   ]
  },
  {
   "cell_type": "code",
   "execution_count": null,
   "metadata": {},
   "outputs": [],
   "source": [
    "# get the value counts for a numeric categorical column\n",
    "dogsDf['Species'].value_counts()"
   ]
  },
  {
   "cell_type": "markdown",
   "metadata": {},
   "source": [
    "### Tabulating a non-categorical numeric column may not be helpful\n",
    "Although it might be useful for finding duplicate values where none should exist. With weight, duplicates are possible."
   ]
  },
  {
   "cell_type": "code",
   "execution_count": null,
   "metadata": {},
   "outputs": [],
   "source": [
    "# get the value counts for a numeric column\n",
    "dogsDf['Weight'].value_counts()"
   ]
  },
  {
   "cell_type": "markdown",
   "metadata": {},
   "source": [
    "### Notice that value_counts() returns a Series"
   ]
  },
  {
   "cell_type": "code",
   "execution_count": null,
   "metadata": {},
   "outputs": [],
   "source": [
    "speciesTab = dogsDf['Species'].value_counts()\n",
    "type(speciesTab)"
   ]
  },
  {
   "cell_type": "markdown",
   "metadata": {},
   "source": [
    "### Inferred Datatypes\n",
    "Because of the M in row 1, Fur is read as of type \"object\" - the most genera datatype. Each value in the column, though, may have a more specific datatype, in this case a string.\n",
    "Trying to compute the mean of a set of strings doesn't work so well.\n",
    "Can you figure out why the funny value 'M11129731741421010'? in the error message?\n"
   ]
  },
  {
   "cell_type": "code",
   "execution_count": null,
   "metadata": {
    "tags": [
     "raises-exception"
    ]
   },
   "outputs": [],
   "source": [
    "print('the value of Fur in row 1 is: ',\n",
    "      dogsDf.Fur[0],\n",
    "        'of type: ', type(dogsDf.Fur[0]))\n",
    "print('the value of Fur in row 2 is: ',\n",
    "      dogsDf.Fur[1],\n",
    "        'of type: ', type(dogsDf.Fur[1]))\n",
    "print('The mean of Fur is: ', dogsDf.Fur.mean())"
   ]
  },
  {
   "cell_type": "markdown",
   "metadata": {},
   "source": [
    "### The importance of Metadata\n",
    "\n",
    "In order to really understand these data we need some data about the data - **metadata**. \n",
    "The data comes with a codebook that describes the data and the variables in the dataset. The documentation for the fur variable is:\n",
    "\n",
    "    Fur - Fur Length\n",
    "    Type\tNumeric (Integer)\n",
    "    Measurement Unit\tcm\n",
    "    Numeric Details\tDecimals: 0\n",
    "    Description\tLength of fur in cm\n",
    "\n",
    "    Missing Value\n",
    "    M\n"
   ]
  },
  {
   "cell_type": "markdown",
   "metadata": {},
   "source": [
    "### Getting explicit - specifying a datatype.\n",
    "The default for read_csv is to make any column that has a text value have the datatype object. We need to make this column numeric and read the \"M\" as a missing value. The read_csv method has options that can do this.\n",
    "\n",
    "First define the Fur and Temper columns as floating point numbers."
   ]
  },
  {
   "cell_type": "code",
   "execution_count": null,
   "metadata": {
    "scrolled": true,
    "tags": [
     "raises-exception"
    ]
   },
   "outputs": [],
   "source": [
    "# import the csv with Fur and Temper as numeric\n",
    "dogsDf = pd.read_csv(dataDirectory+\"DOGGYDATA.csv\", \n",
    "                     dtype={'Fur':np.float64, 'TEMPER':np.float64})"
   ]
  },
  {
   "cell_type": "markdown",
   "metadata": {},
   "source": [
    "### Missing Data\n",
    "The error message above says that an \"M\" can't be read as a number. We need to describe the string \"M\" as a **sentinel value** that stands for missing. Sentinel values are values in the data that are not part of the **substantive value domain**, the possible values for our measurement.\n",
    "In Pandas there are the values NaN \n",
    "https://pandas.pydata.org/pandas-docs/stable/user_guide/missing_data.html \n"
   ]
  },
  {
   "cell_type": "code",
   "execution_count": null,
   "metadata": {},
   "outputs": [],
   "source": [
    "#Oops we need to tell Python what an \"M\" means\n",
    "dogsDf = pd.read_csv(dataDirectory+\"DOGGYDATA.csv\",  \n",
    "                        dtype={'Fur':np.float64, \n",
    "                               'TEMPER':np.float64}, \n",
    "                        na_values=['M'])\n",
    "\n",
    "print('the value of Fur in row 1 is: ',\n",
    "      dogsDf.Fur[0],\n",
    "        'of type: ', type(dogsDf.Fur[0]))\n",
    "dogsDf"
   ]
  },
  {
   "cell_type": "markdown",
   "metadata": {},
   "source": [
    "We can see the datatypes of the columns in DogsDf by looking at the \"dtypes\" attribute, or the \"info()\" method of the DataFrame.\n",
    "The default for the columns that had no decimal places is integer. We forced the Fur and Temper columns to be floating point values."
   ]
  },
  {
   "cell_type": "code",
   "execution_count": null,
   "metadata": {},
   "outputs": [],
   "source": [
    "dogsDf.dtypes"
   ]
  },
  {
   "cell_type": "code",
   "execution_count": null,
   "metadata": {},
   "outputs": [],
   "source": [
    "dogsDf.info()"
   ]
  },
  {
   "cell_type": "markdown",
   "metadata": {},
   "source": [
    "### How are missing values managed?\n",
    "By default missing values are excluded. Note that there are 12 rows in the table, but these counts add up to 11."
   ]
  },
  {
   "cell_type": "code",
   "execution_count": null,
   "metadata": {},
   "outputs": [],
   "source": [
    "dogsDf['Temper'].value_counts()"
   ]
  },
  {
   "cell_type": "markdown",
   "metadata": {},
   "source": [
    "The missing values can be counted by specifying dropna=False"
   ]
  },
  {
   "cell_type": "code",
   "execution_count": null,
   "metadata": {},
   "outputs": [],
   "source": [
    "dogsDf['Temper'].value_counts(dropna=False)"
   ]
  },
  {
   "cell_type": "markdown",
   "metadata": {},
   "source": [
    "CSV files are a special case of **Delimited Files**. To read other kinds of delimited files use pd.read_table and specify a delimeter parameter."
   ]
  },
  {
   "cell_type": "markdown",
   "metadata": {},
   "source": [
    "## Fixed Column Layouts\n",
    "The file below is arranged in fixed columns. It could be read as a space delimited file, but one could also specify the row positions in which each dataframe column is found. The first variable, for example, is found in positions 0 to 2 of each record.\n",
    "\n",
    "Note that there are no column names in this file. They will need to be specified in the Python code that reads the file. The method used to read a file like this is pd.read_fwf()  https://pandas.pydata.org/pandas-docs/stable/reference/api/pandas.read_fwf.html"
   ]
  },
  {
   "cell_type": "markdown",
   "metadata": {},
   "source": [
    "`\n",
    "102 2  BOY   08   M      2   09\n",
    "103 1  GIRL  31   11     3   14\n",
    "104 1  BOY   26   12     1   03\n",
    "105 2  BOY   14   09     3   15\n",
    "106 1  GIRL  64   07     3   16\n",
    "107 2  GIRL  15   03     M   10\n",
    "108 1  GIRL  09   17     2   11\n",
    "109 1  BOY   38   04     1   02\n",
    "110 2  GIRL  12   14     2   12\n",
    "111 1  BOY   41   02     3   17\n",
    "112 1  BOY   52   10     1   04\n",
    "113 2  GIRL  09   10     1   03\n",
    "`"
   ]
  },
  {
   "cell_type": "markdown",
   "metadata": {},
   "source": [
    "### Inferring the Columns\n",
    "pd.read_fwf() can infer the columns by looking at the first few rows (defaults to 100 rows). \n",
    "We still have to tell it that there is no header row and what the column names should be."
   ]
  },
  {
   "cell_type": "code",
   "execution_count": null,
   "metadata": {},
   "outputs": [],
   "source": [
    "\n",
    "dogsDf2 = pd.read_fwf(dataDirectory+\"column.dat\", \n",
    "                      header=None, \n",
    "                      names=['Name', 'Species', 'Gender', \n",
    "                             'Weight', 'Fur', 'Temper', 'Bites'])\n",
    "dogsDf2"
   ]
  },
  {
   "cell_type": "markdown",
   "metadata": {},
   "source": [
    "### Being Specific About the Columns\n",
    "Sometimes it is necessary to be explicit about where the dataframe columns can be found in the record.\n",
    "**IMPORTANT** note that the tuples describe half-open intervals, i.e. (0,3) means starting at 0 up to but not including 3. In other words columns 0, 1, and 2.\n",
    "Note also the names and na_values parameters are not described in the documentation for pd.read_fwf. Instead they are described in the parent object of that function pandas textfilereader. See the \"online docs for IO Tools.\" referenced in the read_fwf() documentation. https://pandas.pydata.org/pandas-docs/stable/user_guide/io.html \n",
    "\n",
    "Note that the following code relies on the \"positions\" list and the \"namesList\" list to be in the same order. If the two orders are different the column names will be wrong."
   ]
  },
  {
   "cell_type": "code",
   "execution_count": null,
   "metadata": {},
   "outputs": [],
   "source": [
    "positions = [(0,3), \n",
    "             (4,5), \n",
    "             (7,11), \n",
    "             (13,15), \n",
    "             (18,20), \n",
    "             (25,26), \n",
    "             (29,31)]\n",
    "namesList=['Name', \n",
    "           'Species', \n",
    "           'Gender', \n",
    "           'Weight', \n",
    "           'Fur', \n",
    "           'Temper', \n",
    "           'Bites']\n",
    "# using default datatypes\n",
    "dogsDf2 = pd.read_fwf(dataDirectory+\"column.dat\", \n",
    "                      header=None, \n",
    "                      colspecs=positions,\n",
    "                      names=namesList,\n",
    "                     na_values=['M'])\n",
    "\n",
    "print(\"the first time datatype of the Bites column is: \", dogsDf2.Bites.dtype )\n",
    "\n",
    "# using explicit datatypes\n",
    "dogsDf2 = pd.read_fwf(dataDirectory+\"column.dat\", \n",
    "                      header=None, \n",
    "                      colspecs=positions,\n",
    "                      names=namesList,\n",
    "                     na_values=['M'],\n",
    "                     dtype={\"Name\":str, \"Bites\":float})\n",
    "print(\"the second time datatype of the Bites column is: \", dogsDf2.Bites.dtype )\n",
    "\n",
    "print(\"the datatype of the Name column is: \", dogsDf2.Name.dtype )\n",
    "\n",
    "dogsDf2"
   ]
  },
  {
   "cell_type": "code",
   "execution_count": null,
   "metadata": {},
   "outputs": [],
   "source": [
    "dogsDf2.info()"
   ]
  },
  {
   "cell_type": "markdown",
   "metadata": {},
   "source": [
    "### Inferrence Can Fail\n",
    "In some cases it is not possible for read_fwf to infer the columns. In the following example two abutting DataFrame columns have been added:\n",
    "\n",
    "Rating in positions 34 through 48\n",
    "\n",
    "and \n",
    "\n",
    "Sequence in positions 49 through 50\n",
    "(remember that the first position is denoted as \"0\")\n",
    "\n",
    "There are also some numerals in position 51 to be ignored\n",
    "\n",
    "Here is the data file\n",
    "\n",
    "`\n",
    "102 2  BOY   08   M      2   09   blarney        1  \n",
    "103 1  GIRL  31   11     3   14   ridiculousstuff2  \n",
    "104 1  BOY   26   12     1   03   absurd         3  \n",
    "105 2  BOY   14   09     3   15   silly          4  \n",
    "106 1  GIRL  64   07     3   16   completely nuts5  \n",
    "107 2  GIRL  15   03     M   10   ludicrous      6  \n",
    "108 1  GIRL  09   17     2   11   preposterous   7  \n",
    "109 1  BOY   38   04     1   02   absurd         8  \n",
    "110 2  GIRL  12   14     2   12   outlandish     9 5\n",
    "111 1  BOY   41   02     3   17   outrageous     105\n",
    "112 1  BOY   52   10     1   04   bizzare        116\n",
    "113 2  GIRL  09   10     1   03   incredible     127\n",
    "`\n"
   ]
  },
  {
   "cell_type": "code",
   "execution_count": null,
   "metadata": {
    "scrolled": true
   },
   "outputs": [],
   "source": [
    "dogsDf3_1 = pd.read_fwf(dataDirectory+\"column2.dat\", \n",
    "                      header=None, \n",
    "                      names=['Name', \n",
    "                             'Species', \n",
    "                             'Gender', \n",
    "                             'Weight', \n",
    "                             'Fur', \n",
    "                             'Temper', \n",
    "                             'Bites',\n",
    "                             'Rating',\n",
    "                             'Sequence'],\n",
    "                     na_values=['M'])\n",
    "dogsDf3_1"
   ]
  },
  {
   "cell_type": "markdown",
   "metadata": {},
   "source": [
    "### OOPS!\n",
    "Note that the Rating and Sequence columns were not read correctly. since they were not separated in the raw file. Here is the result when the columns are specified.\n",
    "\n",
    "In this case the names and columns are placed together in a dict structure. This is a much safer way to specify them, being easier to proofread.  \n",
    "\n",
    "The function positions.values() returns a dict_values object. A list of the values can be returned by list(positions.values()).\n",
    "\n",
    "Similarly a list of the keys (the names in this case) can be returned by list(positions.keys())."
   ]
  },
  {
   "cell_type": "code",
   "execution_count": null,
   "metadata": {},
   "outputs": [],
   "source": [
    "positions = {'Name':(0,3), \n",
    "             'Species':(4,5), \n",
    "             'Gender':(7,11), \n",
    "             'Weight':(13,15), \n",
    "             'Fur':(18,20), \n",
    "             'Temper':(25,26), \n",
    "             'Bites':(29,31),\n",
    "             'Rating':(34,49),\n",
    "             'Sequence':(49,51)}\n",
    "dogsDf3 = pd.read_fwf(dataDirectory+\"column2.dat\", \n",
    "                      header=None, \n",
    "                      colspecs=list(positions.values()),\n",
    "                      names=list(positions.keys()),\n",
    "                     na_values=['M'])\n",
    "dogsDf3"
   ]
  },
  {
   "cell_type": "markdown",
   "metadata": {},
   "source": [
    "### Order and Rereading\n",
    "In the code snippet below the order of the DafaFrame columns has been changed. While Name appears first in the raw data file, the DataFrame has Sequence at the beginning.\n",
    "\n",
    "This is another advantage of using a dict structure for names and positions. The names and positions are reordered together, making it less likely to reorder just one of the two.\n",
    "\n",
    "The first character of the Gender code has also been reread into a new column Gender1. "
   ]
  },
  {
   "cell_type": "code",
   "execution_count": null,
   "metadata": {},
   "outputs": [],
   "source": [
    "positions = {'Sequence':(49,51),\n",
    "             'Name':(0,3), \n",
    "             'Species':(4,5), \n",
    "             'Gender':(7,11), \n",
    "             'Gender1':(7,8),\n",
    "             'Weight':(13,15), \n",
    "             'Fur':(18,20), \n",
    "             'Temper':(25,26), \n",
    "             'Bites':(29,31),\n",
    "             'Rating':(34,49)\n",
    "             }\n",
    "dogsDf3reordered = pd.read_fwf(dataDirectory+\"column2.dat\", \n",
    "                      header=None, \n",
    "                      colspecs=list(positions.values()),\n",
    "                      names=list(positions.keys()),\n",
    "                     na_values=['M'])\n",
    "dogsDf3reordered"
   ]
  },
  {
   "cell_type": "markdown",
   "metadata": {},
   "source": [
    "### Contiguous Columns\n",
    "Next we could create a new example column oriented dataset where there were no delimiters at all. All values are the same width and are contiguous.\n",
    "This will use a DataFrame **values** property https://pandas.pydata.org/pandas-docs/stable/reference/api/pandas.DataFrame.html\n",
    "\n",
    "the **enumerate()** function to get each list of values in a row https://docs.python.org/3/library/functions.html#enumerate\n",
    "\n",
    "the **str()** function to force the data to a string  https://docs.python.org/3/library/functions.html#func-str\n",
    "\n",
    "and the **ljust()** or **rjust**function of the string to fix the width of the string. Strings are left justified and everything else is right justified.\n",
    "https://docs.python.org/3/library/stdtypes.html#str\n",
    "\n",
    "Numeric missing values (NaN) are written out as \"M\", left justified to the column width."
   ]
  },
  {
   "cell_type": "markdown",
   "metadata": {},
   "source": [
    "### here is dogsDf3.values"
   ]
  },
  {
   "cell_type": "code",
   "execution_count": null,
   "metadata": {},
   "outputs": [],
   "source": [
    "dogsDf3.values"
   ]
  },
  {
   "cell_type": "code",
   "execution_count": null,
   "metadata": {},
   "outputs": [],
   "source": [
    "colWidth =  {'Name':3, \n",
    "             'Species':1, \n",
    "             'Gender':4, \n",
    "             'Weight':2, \n",
    "             'Fur':2, \n",
    "             'Temper':1, \n",
    "             'Bites':2,\n",
    "             'Rating':15,\n",
    "             'Sequence':2}\n",
    "for valueList in dogsDf3.values:\n",
    "    rowString = ''\n",
    "    for ixValue,value in enumerate(valueList):\n",
    "         if type(value) == str:\n",
    "            valueString = str(value).ljust(list(colWidth.values())[ixValue])\n",
    "         else:\n",
    "            stringValue =  str(value) \n",
    "            if stringValue == \"nan\":\n",
    "                valueString = \"M\".ljust(list(colWidth.values())[ixValue],\" \")\n",
    "            else:\n",
    "                valueString = str(int(value)).rjust(list(colWidth.values())[ixValue],\"0\")\n",
    "         rowString = rowString + valueString   \n",
    "    print(rowString)        "
   ]
  },
  {
   "cell_type": "markdown",
   "metadata": {},
   "source": [
    "### Metadata are Essential\n",
    "Files like this were very common years ago. Storage space was expensive, so data files were usually made as compact as possible.\n",
    "You might find data like this if you needed to read, for example, census files from the 1980s.\n",
    "\n",
    "Note that a file like this is not useful without **metadata** that describes how to identify the variables in each row.\n",
    "\n",
    "We could read such a file as follows:"
   ]
  },
  {
   "cell_type": "code",
   "execution_count": null,
   "metadata": {},
   "outputs": [],
   "source": [
    "colWidth =  {'Name':3, \n",
    "             'Species':1, \n",
    "             'Gender':4, \n",
    "             'Weight':2, \n",
    "             'Fur':2, \n",
    "             'Temper':1, \n",
    "             'Bites':2,\n",
    "             'Rating':15,\n",
    "             'Sequence':2}\n",
    "dogsDf4 = pd.read_fwf(dataDirectory+\"noDelimiters.dat\", \n",
    "                      header=None, \n",
    "                      widths=list(colWidth.values()),\n",
    "                      names=list(colWidth.keys()),\n",
    "                      na_values=['nan'])\n",
    "dogsDf4"
   ]
  },
  {
   "cell_type": "markdown",
   "metadata": {},
   "source": [
    "### Comparisons\n",
    "The following compares cells in the two tables. The iloc DataFrame attribute is used to locate cells by numeric indices."
   ]
  },
  {
   "cell_type": "code",
   "execution_count": null,
   "metadata": {},
   "outputs": [],
   "source": [
    "print(  dogsDf3.iloc[1,7]  )\n",
    "dogsDf3.iloc[1,7] == dogsDf4.iloc[1,7]"
   ]
  },
  {
   "cell_type": "markdown",
   "metadata": {},
   "source": [
    "### Folded input lines\n",
    "Very commonly in the past, due to restrictions on how many characters an \n",
    "input line might have, Dataset records were split up into multiple lines in the input file.\n",
    "\n",
    "An example might be the following file where each row of the dataset is folded into two rows in the input file.\n",
    "In this example the first line has \n",
    "\n",
    "id in positions 0-4 first line\n",
    "age in positions 6-7 first line\n",
    "gender in position 9 first line\n",
    "heightInches in position 2-3 second line\n",
    "weightPounds in position 5-7 second line\n",
    "\n",
    "`\n",
    "Case1 14 M\n",
    "  65 125\n",
    "Case2 20 F\n",
    "  62 115\n",
    "Case3 17 M\n",
    "  71 160\n",
    "Case4 18 M\n",
    "  76 190\n",
    "`\n",
    "\n",
    "The Pandas read functions cannot deal with this layout.\n",
    "One approach would be to unfold the lines - to read the file with one string per line and then concatenate the pairs of lines that go together.\n",
    "\n",
    "The readline() function reads one line from the file and then positions the file object to read the next line."
   ]
  },
  {
   "cell_type": "code",
   "execution_count": null,
   "metadata": {},
   "outputs": [],
   "source": [
    "# read this file and join the first two lines\n",
    "foldedFile=open(dataDirectory+\"FoldedLines.dat\")\n",
    "\n",
    "longLine = foldedFile.readline()[:-1] + foldedFile.readline()\n",
    "\n",
    "foldedFile.close()\n",
    "longLine"
   ]
  },
  {
   "cell_type": "markdown",
   "metadata": {},
   "source": [
    "### the join function"
   ]
  },
  {
   "cell_type": "code",
   "execution_count": null,
   "metadata": {},
   "outputs": [],
   "source": [
    "# iterate through a string and insert a comma between each character\n",
    "\",\".join(\"abc\")"
   ]
  },
  {
   "cell_type": "markdown",
   "metadata": {},
   "source": [
    "### Using the file iterator\n",
    "The file object is an iterator of its lines. It can be read with a for loop.  When reading the file pairs of lines can be concatenated together."
   ]
  },
  {
   "cell_type": "code",
   "execution_count": null,
   "metadata": {},
   "outputs": [],
   "source": [
    "# read this file\n",
    "foldedFile=open(dataDirectory+\"FoldedLines.dat\")\n",
    "# the list that will contain the concatenated lines\n",
    "newStructure = []\n",
    "\n",
    "for ixLine,line in enumerate(foldedFile):    \n",
    "    if ixLine % 2 == 0:\n",
    "        # the first, third ... line\n",
    "        # delete the trailing newline\n",
    "        firstPart = line[:-1]\n",
    "    else:\n",
    "        # the second, fourth ... line\n",
    "        fullLine = firstPart + line[:-1]\n",
    "        newStructure.append(fullLine)\n",
    "newStructure"
   ]
  },
  {
   "cell_type": "markdown",
   "metadata": {},
   "source": [
    "### Using a While loop\n",
    "Another alternative is to use a *while* loop to explicitly loop through the file"
   ]
  },
  {
   "cell_type": "code",
   "execution_count": null,
   "metadata": {},
   "outputs": [],
   "source": [
    "# read this file\n",
    "foldedFile=open(dataDirectory+\"FoldedLines.dat\")\n",
    "# the list that will contain the concatenated lines\n",
    "newStructure = []\n",
    "#a list of the lines in one new line\n",
    "newLineList=[]\n",
    "# a counter for lines within each new longer line\n",
    "# when we start on a new long line this becomes 0, the list beginning\n",
    "lineIndex=-1\n",
    "while True:\n",
    "    #get a line without the trailing newline\n",
    "    line = foldedFile.readline()[:-1]\n",
    "    # stop the loop if we hit the end of the file\n",
    "    if line == '':\n",
    "        break\n",
    "    # add it to the list\n",
    "    newLineList = newLineList + [line]\n",
    "    lineIndex = lineIndex + 1        \n",
    "    # when newLineList is full, concatenate the lines in it \n",
    "    # and add them to the new structure\n",
    "    if lineIndex == 1:\n",
    "        combinedLine = \"\".join(newLineList)\n",
    "        newStructure += [combinedLine]\n",
    "        lineIndex = -1\n",
    "        newLineList=[]\n",
    "\n",
    "    \n",
    "foldedFile.close()\n",
    "newStructure"
   ]
  },
  {
   "cell_type": "markdown",
   "metadata": {},
   "source": [
    "### make one string from the list\n",
    "Separate each line with a newline character"
   ]
  },
  {
   "cell_type": "code",
   "execution_count": null,
   "metadata": {},
   "outputs": [],
   "source": [
    "bigString = '\\n'.join(newStructure)\n",
    "bigString"
   ]
  },
  {
   "cell_type": "markdown",
   "metadata": {},
   "source": [
    "### use the StringIO function to read the string as if it were a file"
   ]
  },
  {
   "cell_type": "code",
   "execution_count": null,
   "metadata": {},
   "outputs": [],
   "source": [
    "import io\n",
    "bigString = '\\n'.join(newStructure)\n",
    "pd.read_fwf(io.StringIO(bigString), \n",
    "                      header=None, \n",
    "                      names=['id', 'age', 'gender', 'heightInches','weightPounds'])"
   ]
  },
  {
   "cell_type": "code",
   "execution_count": null,
   "metadata": {},
   "outputs": [],
   "source": []
  }
 ],
 "metadata": {
  "kernelspec": {
   "display_name": "Python 3",
   "language": "python",
   "name": "python3"
  },
  "language_info": {
   "codemirror_mode": {
    "name": "ipython",
    "version": 3
   },
   "file_extension": ".py",
   "mimetype": "text/x-python",
   "name": "python",
   "nbconvert_exporter": "python",
   "pygments_lexer": "ipython3",
   "version": "3.8.8"
  }
 },
 "nbformat": 4,
 "nbformat_minor": 2
}
