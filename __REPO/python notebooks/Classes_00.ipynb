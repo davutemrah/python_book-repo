{
 "cells": [
  {
   "cell_type": "markdown",
   "metadata": {
    "application/vnd.databricks.v1+cell": {
     "cellMetadata": {},
     "inputWidgets": {},
     "nuid": "d6ae0c02-a30e-4218-b2e0-dad82d561298",
     "showTitle": false,
     "tableResultSettingsMap": {},
     "title": ""
    }
   },
   "source": [
    "\n",
    "Classes and objects are the two core concepts in object-oriented programming.\n",
    "\n",
    "A class defines what an object should look like, and an object is created based on that class.\n",
    "\n",
    "Python Classes/Objects\n",
    "\n",
    "Python is an object oriented programming language.\n",
    "\n",
    "Almost everything in Python is an object, with its properties and methods.\n",
    "\n",
    "A Class is like an object constructor, or a \"blueprint\" for creating objects."
   ]
  },
  {
   "cell_type": "code",
   "execution_count": 0,
   "metadata": {
    "application/vnd.databricks.v1+cell": {
     "cellMetadata": {
      "byteLimit": 2048000,
      "rowLimit": 10000
     },
     "inputWidgets": {},
     "nuid": "3cf00f5c-522f-4023-b364-16befa0f5f4d",
     "showTitle": false,
     "tableResultSettingsMap": {},
     "title": ""
    }
   },
   "outputs": [],
   "source": [
    "class MyClass:\n",
    "  x = 5\n",
    "\n",
    "\n",
    "p1 = MyClass()\n",
    "\n",
    "print(p1.x) "
   ]
  },
  {
   "cell_type": "markdown",
   "metadata": {
    "application/vnd.databricks.v1+cell": {
     "cellMetadata": {},
     "inputWidgets": {},
     "nuid": "85c68252-c081-4331-9582-20aa4b105461",
     "showTitle": false,
     "tableResultSettingsMap": {},
     "title": ""
    }
   },
   "source": [
    "\n",
    "The `__init__()` Function\n",
    "\n",
    "The examples above are classes and objects in their simplest form, and are not really useful in real life applications.\n",
    "\n",
    "To understand the meaning of classes we have to understand the built-in `__init__()` function.\n",
    "\n",
    "All classes have a function called `__init__()`, which is always executed when the class is being initiated.\n",
    "\n",
    "Use the `__init__()` function to assign values to object properties, or other operations that are necessary to do when the object is being created:"
   ]
  },
  {
   "cell_type": "code",
   "execution_count": 0,
   "metadata": {
    "application/vnd.databricks.v1+cell": {
     "cellMetadata": {
      "byteLimit": 2048000,
      "rowLimit": 10000
     },
     "inputWidgets": {},
     "nuid": "ac6f83c6-7483-4ff7-bb72-fd863bd9f29f",
     "showTitle": false,
     "tableResultSettingsMap": {},
     "title": ""
    }
   },
   "outputs": [],
   "source": [
    "class Person:\n",
    "  def __init__(self, name, age):\n",
    "    self.name_attr = name\n",
    "    self.age_attr = age\n",
    "\n",
    "p1 = Person(\"John\", 36)\n",
    "\n",
    "print(p1.name_attr)\n",
    "print(p1.age_attr)"
   ]
  },
  {
   "cell_type": "code",
   "execution_count": 0,
   "metadata": {
    "application/vnd.databricks.v1+cell": {
     "cellMetadata": {},
     "inputWidgets": {},
     "nuid": "7e930d98-c531-4dd6-9915-9bd618f928ef",
     "showTitle": false,
     "tableResultSettingsMap": {},
     "title": ""
    }
   },
   "outputs": [],
   "source": []
  },
  {
   "cell_type": "markdown",
   "metadata": {
    "application/vnd.databricks.v1+cell": {
     "cellMetadata": {},
     "inputWidgets": {},
     "nuid": "61664827-1d05-43cf-ba0d-013b23e833a0",
     "showTitle": false,
     "tableResultSettingsMap": {},
     "title": ""
    }
   },
   "source": [
    "The `__str__()` Function\n",
    "\n",
    "The `__str__()` function controls what should be returned when the class object is represented as a string.\n",
    "\n",
    "If the `__str__()` function is not set, the string representation of the object is returned:"
   ]
  },
  {
   "cell_type": "code",
   "execution_count": 0,
   "metadata": {
    "application/vnd.databricks.v1+cell": {
     "cellMetadata": {
      "byteLimit": 2048000,
      "rowLimit": 10000
     },
     "inputWidgets": {},
     "nuid": "8ff2b439-aadc-4602-9911-dc19e1dcfd7c",
     "showTitle": false,
     "tableResultSettingsMap": {},
     "title": ""
    }
   },
   "outputs": [],
   "source": [
    "class Person:\n",
    "  def __init__(self, name, age):\n",
    "    self.name = name\n",
    "    self.age = age\n",
    "\n",
    "  def __str__(self):\n",
    "    return f\"{self.name}({self.age})\"\n",
    "\n",
    "p1 = Person(\"John\", 36)\n",
    "\n",
    "print(p1)"
   ]
  },
  {
   "cell_type": "code",
   "execution_count": 0,
   "metadata": {
    "application/vnd.databricks.v1+cell": {
     "cellMetadata": {
      "byteLimit": 2048000,
      "rowLimit": 10000
     },
     "inputWidgets": {},
     "nuid": "95c047e3-a245-4872-a60a-54391821a62b",
     "showTitle": false,
     "tableResultSettingsMap": {},
     "title": ""
    }
   },
   "outputs": [],
   "source": [
    "class Person:\n",
    "  def __init__(self, name, age):\n",
    "    self.name_attr = name\n",
    "    self.age_attr = age\n",
    "\n",
    "  def myfunc(self):\n",
    "    print(\"Hello my name is \" + self.name_attr)\n",
    "\n",
    "p1 = Person(\"John\", 36)\n",
    "p1.myfunc()"
   ]
  },
  {
   "cell_type": "markdown",
   "metadata": {
    "application/vnd.databricks.v1+cell": {
     "cellMetadata": {},
     "inputWidgets": {},
     "nuid": "d8e9df95-e6ea-493e-a753-435e7b7c809b",
     "showTitle": false,
     "tableResultSettingsMap": {},
     "title": ""
    }
   },
   "source": [
    "The `self` parameter is a reference to the current instance of the class, and is used to access variables that belong to the class.\n",
    "\n",
    "It does not have to be named `self`, you can call it whatever you like, but it has to be the first parameter of any function in the class:"
   ]
  },
  {
   "cell_type": "code",
   "execution_count": 0,
   "metadata": {
    "application/vnd.databricks.v1+cell": {
     "cellMetadata": {
      "byteLimit": 2048000,
      "rowLimit": 10000
     },
     "inputWidgets": {},
     "nuid": "4edf5480-7d5d-4b15-9d0c-fc982ae969b9",
     "showTitle": false,
     "tableResultSettingsMap": {},
     "title": ""
    }
   },
   "outputs": [],
   "source": [
    "class Person:\n",
    "  def __init__(mysillyobject, name, age):\n",
    "    mysillyobject.name_attr = name\n",
    "    mysillyobject.age_attr = age\n",
    "\n",
    "  def myfunc(abc):\n",
    "    print(\"Hello my name is \" + abc.name_attr)\n",
    "\n",
    "p1 = Person(\"John\", 36)\n",
    "p1.myfunc()"
   ]
  },
  {
   "cell_type": "markdown",
   "metadata": {
    "application/vnd.databricks.v1+cell": {
     "cellMetadata": {},
     "inputWidgets": {},
     "nuid": "f4266e56-e49f-4f2d-bbfa-12111859b25e",
     "showTitle": false,
     "tableResultSettingsMap": {},
     "title": ""
    }
   },
   "source": [
    "1. Use self instead of custom names like mysillyobject or abc\n",
    "Although technically valid, using self is the convention in Python for instance methods and makes your code easier to understand.\n",
    "\n",
    "2. Attribute naming\n",
    "You used name_attr and age_attr instead of just name and age. Unless you have a specific reason to differentiate, shorter names are clearer and more common."
   ]
  },
  {
   "cell_type": "code",
   "execution_count": 0,
   "metadata": {
    "application/vnd.databricks.v1+cell": {
     "cellMetadata": {
      "byteLimit": 2048000,
      "rowLimit": 10000
     },
     "inputWidgets": {},
     "nuid": "dba30671-6c6e-4560-9c54-46edc1761d7c",
     "showTitle": false,
     "tableResultSettingsMap": {},
     "title": ""
    }
   },
   "outputs": [],
   "source": [
    "p1.age = 40  # updating age\n",
    "\n",
    "# del p1.age  ## deleting object"
   ]
  },
  {
   "cell_type": "code",
   "execution_count": 0,
   "metadata": {
    "application/vnd.databricks.v1+cell": {
     "cellMetadata": {
      "byteLimit": 2048000,
      "rowLimit": 10000
     },
     "inputWidgets": {},
     "nuid": "ca299cda-f849-4d55-ad0a-8d0921ce70c3",
     "showTitle": false,
     "tableResultSettingsMap": {},
     "title": ""
    }
   },
   "outputs": [],
   "source": [
    "p1.age"
   ]
  },
  {
   "cell_type": "markdown",
   "metadata": {
    "application/vnd.databricks.v1+cell": {
     "cellMetadata": {},
     "inputWidgets": {},
     "nuid": "19097666-8e18-410e-982f-c044cc0c82ac",
     "showTitle": false,
     "tableResultSettingsMap": {},
     "title": ""
    }
   },
   "source": [
    "Python Inheritance\n",
    "\n",
    "Inheritance allows us to define a class that inherits all the methods and properties from another class.\n",
    "\n",
    "Parent class is the class being inherited from, also called base class.\n",
    "\n",
    "Child class is the class that inherits from another class, also called derived class."
   ]
  },
  {
   "cell_type": "code",
   "execution_count": 0,
   "metadata": {
    "application/vnd.databricks.v1+cell": {
     "cellMetadata": {
      "byteLimit": 2048000,
      "rowLimit": 10000
     },
     "inputWidgets": {},
     "nuid": "671aedb6-e8d0-4298-a36d-b2680219137b",
     "showTitle": false,
     "tableResultSettingsMap": {},
     "title": ""
    }
   },
   "outputs": [],
   "source": [
    "## Parent class\n",
    "\n",
    "class Person:\n",
    "  def __init__(self, fname, lname):\n",
    "    self.firstname = fname\n",
    "    self.lastname = lname\n",
    "\n",
    "  def printname(self):\n",
    "    print(self.firstname, self.lastname)\n",
    "\n",
    "#Use the Person class to create an object, and then execute the printname method:\n",
    "\n",
    "x = Person(\"John\", \"Doe\")\n",
    "x.printname()"
   ]
  },
  {
   "cell_type": "code",
   "execution_count": 0,
   "metadata": {
    "application/vnd.databricks.v1+cell": {
     "cellMetadata": {
      "byteLimit": 2048000,
      "rowLimit": 10000
     },
     "inputWidgets": {},
     "nuid": "6f4cf87d-9fd5-417e-a7c2-4b446bdbac22",
     "showTitle": false,
     "tableResultSettingsMap": {},
     "title": ""
    }
   },
   "outputs": [],
   "source": [
    "## Create a class named Student, which will inherit the properties and methods from the Person class:\n",
    "\n",
    "## you can add more properties or add none \n",
    "\n",
    "class Student(Person):\n",
    "  pass"
   ]
  },
  {
   "cell_type": "code",
   "execution_count": 0,
   "metadata": {
    "application/vnd.databricks.v1+cell": {
     "cellMetadata": {
      "byteLimit": 2048000,
      "rowLimit": 10000
     },
     "inputWidgets": {},
     "nuid": "8171cac5-30a5-49cc-9081-2a2bfc56fab2",
     "showTitle": false,
     "tableResultSettingsMap": {},
     "title": ""
    }
   },
   "outputs": [],
   "source": [
    "x = Student(\"Mike\", \"Olsen\")\n",
    "x.printname()"
   ]
  },
  {
   "cell_type": "code",
   "execution_count": 0,
   "metadata": {
    "application/vnd.databricks.v1+cell": {
     "cellMetadata": {},
     "inputWidgets": {},
     "nuid": "56d482bc-0fd6-484b-a34f-dd70b4badad1",
     "showTitle": false,
     "tableResultSettingsMap": {},
     "title": ""
    }
   },
   "outputs": [],
   "source": []
  },
  {
   "cell_type": "code",
   "execution_count": 0,
   "metadata": {
    "application/vnd.databricks.v1+cell": {
     "cellMetadata": {},
     "inputWidgets": {},
     "nuid": "2efe4499-70fb-4780-aea9-10787374dea8",
     "showTitle": false,
     "tableResultSettingsMap": {},
     "title": ""
    }
   },
   "outputs": [],
   "source": [
    "# Add the __init__() function to the Student class:\n",
    "\n",
    "class Student(Person):\n",
    "  def __init__(self, fname, lname):\n",
    "    #add properties etc.\n",
    "\n",
    "# When you add the __init__() function, the child class will no longer inherit the parent's __init__() function.\n",
    "\n",
    "# Note: The child's __init__() function overrides the inheritance of the parent's __init__() function.\n",
    "\n",
    "# To keep the inheritance of the parent's __init__() function, add a call to the parent's __init__() function:"
   ]
  },
  {
   "cell_type": "code",
   "execution_count": 0,
   "metadata": {
    "application/vnd.databricks.v1+cell": {
     "cellMetadata": {},
     "inputWidgets": {},
     "nuid": "07cf398c-b610-409f-a5de-b8aac71a676c",
     "showTitle": false,
     "tableResultSettingsMap": {},
     "title": ""
    }
   },
   "outputs": [],
   "source": [
    "class Student(Person):\n",
    "  def __init__(self, fname, lname):\n",
    "    Person.__init__(self, fname, lname)"
   ]
  },
  {
   "cell_type": "markdown",
   "metadata": {
    "application/vnd.databricks.v1+cell": {
     "cellMetadata": {},
     "inputWidgets": {},
     "nuid": "7fe814db-c331-49e8-a058-94c2e537c0ec",
     "showTitle": false,
     "tableResultSettingsMap": {},
     "title": ""
    }
   },
   "source": [
    "### Use the super() Function\n",
    "\n",
    "Python also has a super() function that will make the child class inherit all the methods and properties from its parent:\n",
    "\n",
    "By using the super() function, you do not have to use the name of the parent element, it will automatically inherit the methods and properties from its parent.\n",
    "\n"
   ]
  },
  {
   "cell_type": "code",
   "execution_count": 0,
   "metadata": {
    "application/vnd.databricks.v1+cell": {
     "cellMetadata": {},
     "inputWidgets": {},
     "nuid": "0cf9d50d-7224-490f-8b1b-1168c840c169",
     "showTitle": false,
     "tableResultSettingsMap": {},
     "title": ""
    }
   },
   "outputs": [],
   "source": [
    "class Student(Person):\n",
    "  def __init__(self, fname, lname):\n",
    "    super().__init__(fname, lname)"
   ]
  },
  {
   "cell_type": "code",
   "execution_count": 0,
   "metadata": {
    "application/vnd.databricks.v1+cell": {
     "cellMetadata": {
      "byteLimit": 2048000,
      "rowLimit": 10000
     },
     "inputWidgets": {},
     "nuid": "b5a81038-43f5-4695-9e44-4c91ed58e1c6",
     "showTitle": false,
     "tableResultSettingsMap": {},
     "title": ""
    }
   },
   "outputs": [],
   "source": [
    "# Add a property called graduationyear to the Student class:\n",
    "\n",
    "class Student(Person):\n",
    "  def __init__(self, fname, lname):\n",
    "    super().__init__(fname, lname)\n",
    "    self.graduationyear = 2019"
   ]
  },
  {
   "cell_type": "code",
   "execution_count": 0,
   "metadata": {
    "application/vnd.databricks.v1+cell": {
     "cellMetadata": {
      "byteLimit": 2048000,
      "rowLimit": 10000
     },
     "inputWidgets": {},
     "nuid": "7199fcff-9727-45e7-959f-4f092ada92e9",
     "showTitle": false,
     "tableResultSettingsMap": {},
     "title": ""
    }
   },
   "outputs": [],
   "source": [
    "# Add a year parameter, and pass the correct year when creating objects:\n",
    "\n",
    "class Student(Person):\n",
    "  def __init__(self, fname, lname, year):\n",
    "    super().__init__(fname, lname)\n",
    "    self.graduationyear = year\n",
    "\n",
    "x = Student(\"Mike\", \"Olsen\", 2019)\n",
    "\n",
    "print(x.firstname, x.lastname, x.graduationyear)"
   ]
  },
  {
   "cell_type": "code",
   "execution_count": 0,
   "metadata": {
    "application/vnd.databricks.v1+cell": {
     "cellMetadata": {
      "byteLimit": 2048000,
      "rowLimit": 10000
     },
     "inputWidgets": {},
     "nuid": "79922051-017e-4097-8b62-92125ef3200c",
     "showTitle": false,
     "tableResultSettingsMap": {},
     "title": ""
    }
   },
   "outputs": [],
   "source": [
    "# Add a method called welcome to the Student class:\n",
    "\n",
    "class Person:\n",
    "  def __init__(self, fname, lname):\n",
    "    self.firstname = fname\n",
    "    self.lastname = lname\n",
    "\n",
    "class Student(Person):\n",
    "  def __init__(self, fname, lname, year):\n",
    "    super().__init__(fname, lname)\n",
    "    self.graduationyear = year\n",
    "\n",
    "  def welcome(self):\n",
    "    print(\"Welcome\", self.firstname, self.lastname, \"to the class of\", self.graduationyear)\n",
    "\n",
    "\n",
    "# If you add a method in the child class with the same name as a function in the parent class, the inheritance of the parent method will be overridden.\n",
    "\n",
    "y = Student(\"Mike\", \"Olsen\", 2019)\n",
    "\n",
    "y.welcome()"
   ]
  },
  {
   "cell_type": "code",
   "execution_count": 0,
   "metadata": {
    "application/vnd.databricks.v1+cell": {
     "cellMetadata": {
      "byteLimit": 2048000,
      "rowLimit": 10000
     },
     "inputWidgets": {},
     "nuid": "10747a0d-feda-4931-bd31-c573d3df5474",
     "showTitle": false,
     "tableResultSettingsMap": {},
     "title": ""
    }
   },
   "outputs": [],
   "source": [
    "# Student is a class that inherits from Person.\n",
    "\n",
    "# When you do Student(\"Mike\", \"Olsen\", 2019), you're creating an object of type Student, passing \"Mike\" as the first name, \"Olsen\" as the last name, and 2019 as the graduation year.\n",
    "\n",
    "# y now holds that object."
   ]
  },
  {
   "cell_type": "markdown",
   "metadata": {
    "application/vnd.databricks.v1+cell": {
     "cellMetadata": {},
     "inputWidgets": {},
     "nuid": "5160857d-ca89-4eee-8bd8-5de1a42563bf",
     "showTitle": false,
     "tableResultSettingsMap": {},
     "title": ""
    }
   },
   "source": [
    "\n",
    "✅ Level 1: Basics of Class and Object\n",
    "\n"
   ]
  },
  {
   "cell_type": "code",
   "execution_count": 0,
   "metadata": {
    "application/vnd.databricks.v1+cell": {
     "cellMetadata": {
      "byteLimit": 2048000,
      "rowLimit": 10000
     },
     "inputWidgets": {},
     "nuid": "bb9bc4d0-500e-46f0-b62a-1b8a2b03f6ae",
     "showTitle": false,
     "tableResultSettingsMap": {},
     "title": ""
    }
   },
   "outputs": [],
   "source": [
    "# Define a class called Car with an attribute brand, and create an object for a Toyota. (additional print method)\n",
    "\n",
    "class Car:\n",
    "    def __init__(self, brand):\n",
    "        self.brand = brand\n",
    "\n",
    "    def display_brand(self):\n",
    "        print(self.brand)\n",
    "\n",
    "toyota = Car(\"Toyota\")\n",
    "\n",
    "# call the method\n",
    "toyota.display_brand()"
   ]
  },
  {
   "cell_type": "code",
   "execution_count": 0,
   "metadata": {
    "application/vnd.databricks.v1+cell": {
     "cellMetadata": {},
     "inputWidgets": {},
     "nuid": "c76675f0-c716-43f2-905a-ebb99599619a",
     "showTitle": false,
     "tableResultSettingsMap": {},
     "title": ""
    }
   },
   "outputs": [],
   "source": [
    "# What is the difference between a class and an object in Python?\n",
    "\n",
    "# A class in Python is a blueprint or template for creating objects. It defines attributes (data) and methods (functions) that describe what an object of that class will have and can do.\n",
    "\n",
    "# An object is a specific instance of a class. It contains actual values for the attributes defined in the class and can use the class's methods."
   ]
  },
  {
   "cell_type": "code",
   "execution_count": 0,
   "metadata": {
    "application/vnd.databricks.v1+cell": {
     "cellMetadata": {
      "byteLimit": 2048000,
      "rowLimit": 10000
     },
     "inputWidgets": {},
     "nuid": "b2101133-51d4-46fd-8fae-db78e2239eea",
     "showTitle": false,
     "tableResultSettingsMap": {},
     "title": ""
    }
   },
   "outputs": [],
   "source": [
    "# Create a class Dog with a method bark() that prints \"Woof!\". Then create a Dog object and call bark(). Optional Enhancement (add a name to the dog):\n",
    "\n",
    "class Dog:\n",
    "    def __init__(self, fname):\n",
    "        self.fname = fname\n",
    "\n",
    "    def bark(self):\n",
    "        print(f\"{self.fname} says Woof!\")\n",
    "\n",
    "my_dog = Dog(\"Prince\")\n",
    "\n",
    "my_dog.bark()"
   ]
  },
  {
   "cell_type": "code",
   "execution_count": 0,
   "metadata": {
    "application/vnd.databricks.v1+cell": {
     "cellMetadata": {
      "byteLimit": 2048000,
      "rowLimit": 10000
     },
     "inputWidgets": {},
     "nuid": "377e30a0-2aff-42aa-8c69-973e32928031",
     "showTitle": false,
     "tableResultSettingsMap": {},
     "title": ""
    }
   },
   "outputs": [],
   "source": [
    "# Create a class Book with two attributes: title and author. When initializing, set both. Then create a book called \"1984\" by \"George Orwell\".\n",
    "\n",
    "class Book:\n",
    "    def __init__(self, title, author):\n",
    "        self.title = title\n",
    "        self.author = author\n",
    "\n",
    "    def print_the_book(self):\n",
    "        print(\"Title:\", self.title, \"and author is\", self.author)\n",
    "\n",
    "my_book = Book(\"1984\", \"George Orwell\")\n",
    "\n",
    "my_book.print_the_book()"
   ]
  },
  {
   "cell_type": "code",
   "execution_count": 0,
   "metadata": {
    "application/vnd.databricks.v1+cell": {
     "cellMetadata": {
      "byteLimit": 2048000,
      "rowLimit": 10000
     },
     "inputWidgets": {},
     "nuid": "17e6282e-cfef-47ce-9238-dd02705d17fe",
     "showTitle": false,
     "tableResultSettingsMap": {},
     "title": ""
    }
   },
   "outputs": [],
   "source": [
    "# In a Person class, how would you make an attribute age optional with a default value of 30?\n",
    "\n",
    "class Person:\n",
    "    def __init__(self, age=30):\n",
    "        self.age = age\n",
    "\n",
    "adam = Person()\n",
    "print(adam.age)"
   ]
  },
  {
   "cell_type": "code",
   "execution_count": 0,
   "metadata": {
    "application/vnd.databricks.v1+cell": {
     "cellMetadata": {
      "byteLimit": 2048000,
      "rowLimit": 10000
     },
     "inputWidgets": {},
     "nuid": "bc8a0976-38f0-4121-92ef-ef329515a322",
     "showTitle": false,
     "tableResultSettingsMap": {},
     "title": ""
    }
   },
   "outputs": [],
   "source": [
    "class Person:\n",
    "    def __init__(self, name, age=30):\n",
    "        self.age = age\n",
    "        self.name = name\n",
    "\n",
    "adam = Person(\"Adam\")\n",
    "\n",
    "print(adam.name, adam.age)"
   ]
  }
 ],
 "metadata": {
  "application/vnd.databricks.v1+notebook": {
   "computePreferences": null,
   "dashboards": [],
   "environmentMetadata": {
    "base_environment": "",
    "environment_version": "2"
   },
   "inputWidgetPreferences": null,
   "language": "python",
   "notebookMetadata": {
    "pythonIndentUnit": 4
   },
   "notebookName": "Classes (1)",
   "widgets": {}
  },
  "language_info": {
   "name": "python"
  }
 },
 "nbformat": 4,
 "nbformat_minor": 0
}
