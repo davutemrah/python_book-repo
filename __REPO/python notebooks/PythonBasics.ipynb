{
 "cells": [
  {
   "cell_type": "markdown",
   "metadata": {},
   "source": [
    "# Python Basics - A Very Quick Tour\n",
    "This is an example of a Jupyter Notebook \n",
    "(https://jupyter-notebook.readthedocs.io/en/stable/ ) \n",
    "\n",
    "This first cell is a Markdown cell. A summary of Markdown syntax can be found here https://daringfireball.net/projects/markdown/syntax.\n",
    "You can use Markdown to describe your process. The cell below this is a Code cell. You'll put segments of your code in these cells. When you run a code cell, by default the output will appear in the cell with the code.\n",
    "\n",
    "The availability of Markdown cells interspersed with code cells enables *literate programming*, a concept pioneered by Donald Knuth.\n",
    "https://en.wikipedia.org/wiki/Literate_programming\n",
    "\n",
    "\n",
    "The base Python language can be extended by importing *modules*. The example below imports the *math* module to get access to the constant *pi*.\n",
    "Documentation for the math module is at:\n",
    "https://docs.python.org/3/library/math.html\n",
    "\n",
    "In the next cell there is a vary simple Python script. When you run it, it retrieves the constant PI from the math module. You can do a lot with Python without using any modules, but much of what you will do with data is made much easier by using code that others have already made available. One way to search for available modules is to start from:\n",
    "\n",
    "https://wiki.python.org/moin/UsefulModules\n",
    "\n",
    "or\n",
    "\n",
    "https://pypi.org/\n",
    "\n",
    "In addition to the Markdown cells Python scripts can have embedded comments. Use these to describe details of your code.\n",
    "\n",
    "THis class will use version 3 of Python.  The Language Reference for Python 3 is available at\n",
    "https://docs.python.org/3/reference/index.html\n",
    "\n",
    "\n",
    "Version 2 of Python is still used, but will be at \"end Of Life\" in January 2020. See https://wiki.python.org/moin/Python2orPython3\n",
    "\n"
   ]
  },
  {
   "cell_type": "markdown",
   "metadata": {},
   "source": [
    "### Comments\n",
    "A python program or \"script\" is a sequence of lines of text. A special kind of line is a comment. The text to the right of a # sign is ignored when the program is run.\n",
    "A comment doesn't \"do\" anything, but comments are important. They document what you intend your program to do and \n",
    "can give details about what the code does. \n",
    "\n",
    "The audience for comments may be someone else, or it may be you in the future. When your programs get complex, \n",
    "having comments can be very helpful."
   ]
  },
  {
   "cell_type": "code",
   "execution_count": null,
   "metadata": {},
   "outputs": [],
   "source": [
    "# This is a comment\n",
    "\n",
    "# this is a second comment "
   ]
  },
  {
   "cell_type": "markdown",
   "metadata": {},
   "source": [
    "### Statements\n",
    "Non-comment lines of text in your program are interpreted as executable statements. This example contains a print command. When run it generates some output. More about this leter."
   ]
  },
  {
   "cell_type": "code",
   "execution_count": null,
   "metadata": {},
   "outputs": [],
   "source": [
    "print('hello KU')"
   ]
  },
  {
   "cell_type": "markdown",
   "metadata": {},
   "source": [
    "### Objects\n",
    "Everything in Python is an object. In the example below the module *math* is an object. It is also a \n",
    "package of python code that extends the base part of Python.\n",
    "\n",
    "### Objects have properties\n",
    "The math object has a property \"*pi*\" that has the value of pi (or as close to it as can be represented in Python. A property of an object is referenced with the *dot notation* seen below."
   ]
  },
  {
   "cell_type": "code",
   "execution_count": null,
   "metadata": {},
   "outputs": [],
   "source": [
    "# This is a comment\n",
    "\n",
    "# The next statement imports the math module, \n",
    "#  making all of its objects available.\n",
    "import math\n",
    "\n",
    "# Retrieve the Pi constant. \n",
    "# When you run this it will print the value in an Out section\n",
    "math.pi"
   ]
  },
  {
   "cell_type": "markdown",
   "metadata": {},
   "source": [
    "### Assignment statements\n",
    "This next statement is an assignment statement. \n",
    " On the left is a ***name*** that is a reference to some object. \n",
    " \n",
    " On the right of the = sign is an expression. The expression is evaluated an returns an object, in this case the value of Pi multiplied by 2. The name \"tau\" points to that object. A name that points to an object is sometimes also referred to as a \"***variable***\"\n",
    " \n",
    "More than one name can point to the same object. This is different in Python than in some other programming languages. More about this later."
   ]
  },
  {
   "cell_type": "markdown",
   "metadata": {},
   "source": [
    "### Expressions\n",
    "The right hand side of the second statement below is an ***expression***. The simplist expressions are built up of names, literals,  and operators. In this example, the * (asterisk) is the multiplication operator and the \"2\" is a literal that references the object having the value of 2."
   ]
  },
  {
   "cell_type": "markdown",
   "metadata": {},
   "source": [
    "### Expression statements\n",
    "Some statements are expressions. In the example below the last statement is an expression consisting of just the name \"tau\". \n",
    "When the last statement in a cell is an expression the value of the expression is sent to the output of the cell."
   ]
  },
  {
   "cell_type": "code",
   "execution_count": null,
   "metadata": {},
   "outputs": [],
   "source": [
    "tau = math.pi*2\n",
    "tau"
   ]
  },
  {
   "cell_type": "markdown",
   "metadata": {},
   "source": [
    "### Functions\n",
    "***Functions*** are objects that contain code and which can take input in the form of *parameters*. \n",
    "\n",
    "In the example below Python has a predefined function *print*. The function is *invoked*, or *called*,  by listing its name followed by parentheses containing a list of *arguments*. In this case the argument is the name tau which points to the value we computed earlier. \n",
    "https://docs.python.org/3/library/functions.html#print\n",
    "https://docs.python.org/3/tutorial/inputoutput.html\n",
    "\n",
    "Typically a function returns an object. In the example below \"min(tau,10)\" invokes the built in function \"min\" which returns the smallest value in the list of ***arguments***. That value is plugged into the expression, which in this case adds 0 to it. Arguments are references to objects to be passed to the function.\n",
    "\n",
    "Sometimes functions have ***side effects***. The print function below has the side effect of sending text to the output location. \n",
    "\n",
    "The list of standard functions is here:\n",
    "https://docs.python.org/3/library/functions.html\n",
    "\n",
    "The standard library of Python is here:\n",
    "https://docs.python.org/3/library/index.html\n"
   ]
  },
  {
   "cell_type": "code",
   "execution_count": null,
   "metadata": {},
   "outputs": [],
   "source": [
    "# note that the previous code cell \n",
    "# must have been run for tau to reference a value\n",
    "\n",
    "theLesserOfTwoValues = min(tau,10)+0\n",
    "\n",
    "print(theLesserOfTwoValues)"
   ]
  },
  {
   "cell_type": "markdown",
   "metadata": {},
   "source": [
    "### Datatype\n",
    "The type function returns an object that contains the type of the argument. In this example the literal \"2\" has the type of int (integer) "
   ]
  },
  {
   "cell_type": "code",
   "execution_count": null,
   "metadata": {},
   "outputs": [],
   "source": [
    "type(2)\n"
   ]
  },
  {
   "cell_type": "markdown",
   "metadata": {},
   "source": [
    "### Methods\n",
    "Python objects can have both properties (variables) and functions that can be used. The syntax for using a property or method of an object is to follow the object name with a *period* and the name of the property or a call to the method, using parentheses to enclose arguments to the function.\n",
    "\n",
    "For the object \"math\", which is a module object, there is a property *pi* that has the floating point estimated value of the math constant PI. \n",
    "\n",
    "The math module also has methods (functions) like log10 that can be used.\n",
    "In the example below the log base 10 of 100 is computed as math.log10(100)\n",
    "https://docs.python.org/3/library/math.html\n"
   ]
  },
  {
   "cell_type": "code",
   "execution_count": null,
   "metadata": {},
   "outputs": [],
   "source": [
    "import math\n",
    "print(\"type(math)  is:  \", type(math))\n",
    "\n",
    "print('type(math.pi)  is:  ', type(math.pi))\n",
    "\n",
    "print('type(math.log10)  is:  ', type(math.log10))\n",
    "\n",
    "print('math.log10(100)  is:  ', math.log10(100))\n",
    "\n"
   ]
  },
  {
   "cell_type": "markdown",
   "metadata": {},
   "source": [
    "### Chaining\n",
    "A method returns an object since everything in Python is an object. \n",
    "That will, in turn, have properties and methods. \n",
    "So, for our math.pi example, the property is a floating point number. Floats in Python have a hex() method that returns the value in hexadecimal.\n",
    "The calls to properties and methods can be *\"chained\"* like in the example below.\n",
    "\n"
   ]
  },
  {
   "cell_type": "code",
   "execution_count": null,
   "metadata": {},
   "outputs": [],
   "source": [
    "print(math.pi.hex())\n"
   ]
  },
  {
   "cell_type": "markdown",
   "metadata": {},
   "source": [
    "### How is the chain evaluated?\n",
    "This example shows how the chain is evaluated. It is parsed from left to right. Firse math.pi returns an object. Then the hex() method of that object is executed.\n",
    "The chain of actions can be written in sequence this way:"
   ]
  },
  {
   "cell_type": "code",
   "execution_count": null,
   "metadata": {},
   "outputs": [],
   "source": [
    "myPi = math.pi\n",
    "hexval = myPi.hex()\n",
    "print(hexval)"
   ]
  },
  {
   "cell_type": "markdown",
   "metadata": {},
   "source": [
    "### order matters\n",
    "Order in the chaining matters. \"math\", for example, does not have a hex method, so math.hex().pi returns an error."
   ]
  },
  {
   "cell_type": "code",
   "execution_count": null,
   "metadata": {
    "scrolled": false,
    "tags": [
     "raises-exception"
    ]
   },
   "outputs": [],
   "source": [
    "math.hex().pi"
   ]
  },
  {
   "cell_type": "markdown",
   "metadata": {},
   "source": [
    "### Literals\n",
    "Some objects can be entered as a literal. A literal is an expression that returns a fixed value.\n",
    "https://en.wikipedia.org/wiki/Literal_(computer_programming)\n",
    "The code segment that follows shows many types of Python literals.\n",
    "\n",
    "\n",
    "Python 3 literals are described at\n",
    "https://docs.python.org/3/reference/lexical_analysis.html#literals"
   ]
  },
  {
   "cell_type": "code",
   "execution_count": null,
   "metadata": {
    "scrolled": true
   },
   "outputs": [],
   "source": [
    "# String\n",
    "print('This is a string')\n",
    "print(\"this is another string\")"
   ]
  },
  {
   "cell_type": "code",
   "execution_count": null,
   "metadata": {},
   "outputs": [],
   "source": [
    "# Integer\n",
    "print(1)"
   ]
  },
  {
   "cell_type": "code",
   "execution_count": null,
   "metadata": {},
   "outputs": [],
   "source": [
    "# floating point number\n",
    "print(1.2)\n",
    "print(2.4E5)"
   ]
  },
  {
   "cell_type": "code",
   "execution_count": null,
   "metadata": {},
   "outputs": [],
   "source": [
    "# imaginary number\n",
    "print(10.j)"
   ]
  },
  {
   "cell_type": "code",
   "execution_count": null,
   "metadata": {},
   "outputs": [],
   "source": [
    "import cmath\n",
    "cmath.sqrt(-4.0)"
   ]
  },
  {
   "cell_type": "code",
   "execution_count": null,
   "metadata": {},
   "outputs": [],
   "source": [
    "print(\"foo\")\n",
    "# this is the escape sequence for the new line character. \n",
    "# It causes output to go to the next line.\n",
    "print(\"\\n\")\n",
    "\n",
    "print(\"bar\")"
   ]
  },
  {
   "cell_type": "code",
   "execution_count": null,
   "metadata": {},
   "outputs": [],
   "source": [
    "myVar = 1\n",
    "# this is the literal string \"myVar\"\n",
    "print('myVar')\n",
    "\n",
    "# this is the token (the name of) pointing to the myVar object\n",
    "print(myVar)"
   ]
  },
  {
   "cell_type": "markdown",
   "metadata": {},
   "source": [
    "## Datatypes\n",
    "Python stores data as objects of different types. Data can be stored in a binary form computer with many representations. For numbers data can be stored as \n",
    "\n",
    "integers like 101010, the \"*Answer to the Ultimate Question of Life, the Universe, and Everything*\",   https://en.wikipedia.org/wiki/42_(number)\n",
    "\n",
    "\n",
    "or floating point\n",
    "\n",
    "see https://en.wikipedia.org/wiki/Floating-point_arithmetic \n",
    "\n",
    "It's said that:\n",
    "\"*there are only 10 types of people, those who understand binary integers and those who don't.*\"\n",
    "\n",
    "Some datatype examples follow:\n",
    "\n",
    "\n",
    "You can explicitly change (cast) a value to a different datatype."
   ]
  },
  {
   "cell_type": "code",
   "execution_count": null,
   "metadata": {},
   "outputs": [],
   "source": [
    "int1 = 1\n",
    "\n",
    "print(int1,  \" has type: \", type(int1))\n",
    "print(1.0,   \" has type: \", type(1.0))\n",
    "print(1.0E5, \" has type: \", type(1.0E5))\n",
    "# the numeral 2 in quotes is a string\n",
    "print('\"2\"', \" has type: \", type(\"2\"))"
   ]
  },
  {
   "cell_type": "markdown",
   "metadata": {},
   "source": [
    "### casting to a different type\n",
    "In this example the str function returns a string object from a number. It is then concatenated with the literal string."
   ]
  },
  {
   "cell_type": "code",
   "execution_count": null,
   "metadata": {},
   "outputs": [],
   "source": [
    "a = \"xxxx\" + str(1)\n",
    "print(\"\\n\", a, \" has type: \", type(a))\n"
   ]
  },
  {
   "cell_type": "markdown",
   "metadata": {},
   "source": [
    "### Dates, Times, and DateTimes\n",
    "Dates and times are special objects that can be then used for time series. They also have their own properties and methods."
   ]
  },
  {
   "cell_type": "code",
   "execution_count": null,
   "metadata": {},
   "outputs": [],
   "source": [
    "import datetime\n",
    "\n",
    "t = datetime.date.today()\n",
    "print(\"\\n\", t, \" has type: \", type(t))\n",
    "\n",
    "print(\"the month is \", t.month)\n"
   ]
  },
  {
   "cell_type": "markdown",
   "metadata": {},
   "source": [
    "### Int to float\n",
    "Here the float function creates a floating point number (a real number) from an integer. \n",
    "Note that the comma separated arguments to the function can be indented arbitrarily to enhance readability"
   ]
  },
  {
   "cell_type": "code",
   "execution_count": null,
   "metadata": {},
   "outputs": [],
   "source": [
    "# cast int 1 to float\n",
    "\n",
    "floated1 = float(int1)\n",
    "print(\"\\n\\nint1 has type: \", \n",
    "      type(int1), \n",
    "     \"\\n \",\n",
    "     floated1, \n",
    "      \"floated1 has type: \", \n",
    "      type(floated1))\n"
   ]
  },
  {
   "cell_type": "markdown",
   "metadata": {},
   "source": [
    "### Boolean (Logical)\n",
    "An important datatype is boolean with two possible values - True or False"
   ]
  },
  {
   "cell_type": "code",
   "execution_count": null,
   "metadata": {},
   "outputs": [],
   "source": [
    "print(type(True))\n",
    "\n",
    "# cast a number to bool anything but 0 is True\n",
    "print(\"\\nbool(0) is \",bool(0))\n",
    "print(\"bool(1) is \",bool(1))\n",
    "print(\"bool(2) is \",bool(2))\n",
    "print(\"\\nbool(None) is \", bool(None))"
   ]
  },
  {
   "cell_type": "markdown",
   "metadata": {},
   "source": [
    "### Operators\n",
    "Operators are functions that have a special syntax\n",
    "\n",
    "You are familiar with the \"+\" operator as in\n",
    "1 + 1\n",
    "\n",
    "The \"less than\" operator is \"<\" . In the following case 'a' has a lower value than 'b' so the operator returns True"
   ]
  },
  {
   "cell_type": "code",
   "execution_count": null,
   "metadata": {},
   "outputs": [],
   "source": [
    "print(1 + 1)\n",
    "\n",
    "print('a' < 'b')"
   ]
  },
  {
   "cell_type": "markdown",
   "metadata": {},
   "source": [
    "### Logical operators\n",
    "The less than comparison above returned the logical value True.\n",
    "There are Bolean or Logical operators that can compare those values."
   ]
  },
  {
   "cell_type": "code",
   "execution_count": null,
   "metadata": {},
   "outputs": [],
   "source": [
    "T = True\n",
    "F = False\n",
    "print(\" T And F = \", T and F)\n",
    "print(\"not( T And F) = \", not (T and F))\n",
    "\n",
    "print(\" T or F = \", T or F)\n",
    "\n",
    "a=1\n",
    "b=2\n",
    "\n",
    "print(\"not(a==b)  is \", not(a==b))"
   ]
  },
  {
   "cell_type": "markdown",
   "metadata": {},
   "source": [
    "### Concatenating strings\n",
    "Strings can be concatenated with the + operator.\n",
    "\n",
    "Operators are a kind of function that are built into the Python syntax.\n",
    "The built-in function *concat(stringA,stringB)* can also be expressed as *stringA + stringB*.\n",
    "Documentation of Python operators is found at\n",
    "https://docs.python.org/3/library/operator.html#in-place-operators\n",
    "Scroll down to the **table \"Mapping Operators to Functions\"** to see a list of the operators. \n",
    "\n",
    "Note that the concatenation operator must have strings on both sides. You can use the str() function \n",
    "https://docs.python.org/3/library/functions.html#func-str\n",
    "to **cast** an object of another type to a string."
   ]
  },
  {
   "cell_type": "markdown",
   "metadata": {},
   "source": [
    "### +"
   ]
  },
  {
   "cell_type": "code",
   "execution_count": null,
   "metadata": {},
   "outputs": [],
   "source": [
    "import operator\n",
    "\n",
    "print(operator.concat('stringA','stringB'))\n",
    "\n",
    "print(\"Hello \" + 'World')\n",
    "\n",
    "# this works too because + means concatenation\n",
    "print(\"\\nNumber\" + str(42))"
   ]
  },
  {
   "cell_type": "markdown",
   "metadata": {},
   "source": [
    "### *"
   ]
  },
  {
   "cell_type": "code",
   "execution_count": null,
   "metadata": {},
   "outputs": [],
   "source": [
    "\n",
    "# * is repeated concatenation\n",
    "print(\"Ho \"*3, \"and a bottle of rum.\")\n"
   ]
  },
  {
   "cell_type": "markdown",
   "metadata": {},
   "source": [
    "### Print concatenates arguments"
   ]
  },
  {
   "cell_type": "code",
   "execution_count": null,
   "metadata": {},
   "outputs": [],
   "source": [
    "# this does too because print can convert each argument to a string\n",
    "print(\"\\nNumber again \", 42)\n"
   ]
  },
  {
   "cell_type": "code",
   "execution_count": null,
   "metadata": {
    "tags": [
     "raises-exception"
    ]
   },
   "outputs": [],
   "source": [
    "# this produces an error \n",
    "#because the concatenation operator expects two strings\n",
    "print(\"Number last\" + 42)"
   ]
  },
  {
   "cell_type": "markdown",
   "metadata": {},
   "source": [
    "## More Complex Data Structures\n",
    "see https://docs.python.org/3/tutorial/datastructures.html "
   ]
  },
  {
   "cell_type": "markdown",
   "metadata": {},
   "source": [
    "### Lists and Tuples\n",
    "A very useful kind of object is one that can contain other objects. Python has two similar structures that maintain an ordered collection of objects.\n",
    "First is the *list* which is denoted by square brackets and a comma separated sequence of expressions.\n",
    "Lists are defined with square brackets. Tuples are defined with parentheses."
   ]
  },
  {
   "cell_type": "code",
   "execution_count": null,
   "metadata": {},
   "outputs": [],
   "source": [
    "# a simple list\n",
    "[1,2,3]"
   ]
  },
  {
   "cell_type": "code",
   "execution_count": null,
   "metadata": {},
   "outputs": [],
   "source": [
    "# accessing elements of the list (element 0 is the first one)\n",
    "myList = ['foo', 1, ['bar', 'boo']]\n",
    "print(myList[0])\n",
    "print(myList[1])\n",
    "print(myList[2])"
   ]
  },
  {
   "cell_type": "code",
   "execution_count": null,
   "metadata": {},
   "outputs": [],
   "source": [
    "# a tuple\n",
    "myTuple = (4,5,6)\n",
    "myTuple"
   ]
  },
  {
   "cell_type": "code",
   "execution_count": null,
   "metadata": {},
   "outputs": [],
   "source": [
    "myTuple = (4,5,6)\n",
    "myTuple[1]"
   ]
  },
  {
   "cell_type": "markdown",
   "metadata": {},
   "source": [
    "### Sets\n",
    "A set is like a list, but is unordered and can have no duplicates. A list can be converted to a set with the set function."
   ]
  },
  {
   "cell_type": "code",
   "execution_count": null,
   "metadata": {},
   "outputs": [],
   "source": [
    "aList = [5,2,'8',4,2]\n",
    "aSet = set(aList)\n",
    "aSet"
   ]
  },
  {
   "cell_type": "code",
   "execution_count": null,
   "metadata": {
    "tags": [
     "raises-exception"
    ]
   },
   "outputs": [],
   "source": [
    "aSet[0]"
   ]
  },
  {
   "cell_type": "markdown",
   "metadata": {},
   "source": [
    "## Slicing\n",
    "Python offers powerful facilities for selecting pieces of sequenced objects. For lists and tuples you can select a segment by following the object name with square brackets containing start and stop positions separated by a colon.\n",
    "\n",
    "Note that when a range is specified (both start and stop) the stop value is one higher than the index of the last element\n",
    "\n",
    "Python sequence documentation:\n",
    "https://docs.python.org/3.6/glossary.html#term-sequence\n",
    "\n",
    "slice documentation:\n",
    "https://docs.python.org/3.6/library/functions.html#slice\n",
    "\n",
    "\n",
    "For a description of extended indexing see:\n",
    "https://docs.python.org/2.3/whatsnew/section-slices.html "
   ]
  },
  {
   "cell_type": "markdown",
   "metadata": {},
   "source": [
    "### Ranges"
   ]
  },
  {
   "cell_type": "code",
   "execution_count": null,
   "metadata": {},
   "outputs": [],
   "source": [
    "# a sample list\n",
    "exampleList = ['zero is first', \n",
    "               'one is second', \n",
    "               'two is third', \n",
    "               'three is fourth', \n",
    "               'four is last here']\n",
    "\n",
    "# the first index is value is 0\n",
    "print(exampleList[0])\n",
    "\n",
    "print(\"\\n Ranges\")\n",
    "print(exampleList[1:3])\n",
    "\n",
    "print(\"note that the last element in the slics above has index 2 \", exampleList[2])"
   ]
  },
  {
   "cell_type": "markdown",
   "metadata": {},
   "source": [
    "### default range values"
   ]
  },
  {
   "cell_type": "code",
   "execution_count": null,
   "metadata": {},
   "outputs": [],
   "source": [
    "\n",
    "print(\"\\n Print from the third to the last one\")\n",
    "print(exampleList[2:])\n",
    "\n",
    "print(\"\\n Print from the first to the second\")\n",
    "print(exampleList[:2])\n"
   ]
  },
  {
   "cell_type": "code",
   "execution_count": null,
   "metadata": {},
   "outputs": [],
   "source": [
    "### negative indexes"
   ]
  },
  {
   "cell_type": "code",
   "execution_count": null,
   "metadata": {},
   "outputs": [],
   "source": [
    "print(\"\\n Negative Indices\")\n",
    "print(\"\\n Print the last one\")\n",
    "print(exampleList[-1])\n",
    "\n",
    "print(\"\\n Print all up to but not including the last one\")\n",
    "print(exampleList[:-1])\n"
   ]
  },
  {
   "cell_type": "code",
   "execution_count": null,
   "metadata": {},
   "outputs": [],
   "source": [
    "### step value"
   ]
  },
  {
   "cell_type": "code",
   "execution_count": null,
   "metadata": {},
   "outputs": [],
   "source": [
    "\n",
    "print(\"\\n The even occurrences. This uses extended indexing.\")\n",
    "print(exampleList[1::2])\n",
    "      "
   ]
  },
  {
   "cell_type": "code",
   "execution_count": null,
   "metadata": {},
   "outputs": [],
   "source": [
    "### negative Step values"
   ]
  },
  {
   "cell_type": "code",
   "execution_count": null,
   "metadata": {},
   "outputs": [],
   "source": [
    "print(exampleList[::-1])"
   ]
  },
  {
   "cell_type": "markdown",
   "metadata": {},
   "source": [
    "### Subsetting with comprehensions\n",
    "Comprehensions on sequences can subset the sequence. The example below uses a list comprehension."
   ]
  },
  {
   "cell_type": "code",
   "execution_count": null,
   "metadata": {},
   "outputs": [],
   "source": [
    "exampleList = ['zero is first', \n",
    "               'one is second', \n",
    "               'two is third', \n",
    "               'three is fourth', \n",
    "               'four is last here']\n",
    "\n",
    "listComp = [s for s in exampleList if 'two' in s]\n",
    "listComp"
   ]
  },
  {
   "cell_type": "markdown",
   "metadata": {},
   "source": [
    "### Mutable, Immutable and References\n",
    "Lists are an example of a mutable element. Tuples are immutable. \n",
    "\n",
    "See  https://docs.python.org/3/library/stdtypes.html#mutable-sequence-types  and\n",
    "https://medium.com/@meghamohan/mutable-and-immutable-side-of-python-c2145cf72747 \n",
    "\n",
    "For lists an assignment statement captures a reference to a mutable object. The object can be modified.\n",
    "\n",
    "For tuples the object cannot be changed. \n",
    "\n",
    "Look carefully at the examples below to see the difference."
   ]
  },
  {
   "cell_type": "markdown",
   "metadata": {},
   "source": [
    "### List vs tuple"
   ]
  },
  {
   "cell_type": "code",
   "execution_count": null,
   "metadata": {
    "tags": [
     "raises-exception"
    ]
   },
   "outputs": [],
   "source": [
    "aList = [1,2]\n",
    "aList.append(3)\n",
    "print(aList)\n",
    "\n",
    "aTuple = (1,2)\n",
    "aTuple[0] = 4"
   ]
  },
  {
   "cell_type": "markdown",
   "metadata": {},
   "source": [
    "### Shared references\n",
    "More than one name can reference an object. If the object is mutable, both names will point to the changed object. This is unexpected behavior for those used to other languages where a copy is always made.\n",
    "In the example below the list function returns a copy, so copyOfMyList does not change"
   ]
  },
  {
   "cell_type": "code",
   "execution_count": null,
   "metadata": {},
   "outputs": [],
   "source": [
    "# Lists are mutable, variables can be shared references to the same object\n",
    "myList = ['foo', 1, ['bar', 'boo']]\n",
    "alsoMyList = myList\n",
    "\n",
    "copyOfMyList = list(myList)\n",
    "\n",
    "alsoMyList[0] = 'BAZZZZ'\n",
    "\n",
    "print(\"Both variables point to the changed list\")\n",
    "print(\"mylist is     \", myList)\n",
    "print(\"alsoMyList is \", alsoMyList)\n",
    "\n",
    "print('\\n the copied list doees not change', copyOfMyList)"
   ]
  },
  {
   "cell_type": "code",
   "execution_count": null,
   "metadata": {},
   "outputs": [],
   "source": [
    "# show the identifiers of the two variables\n",
    "print(\"\\nEach Python object has a unique identifier.\", \n",
    "      \" \\nThe two variables point to the same object\")\n",
    "print(\"Id of myList is:       \" + str(id(myList)))\n",
    "print(\"Id of alsoMyList is:   \" + str(id(alsoMyList)))\n",
    "\n",
    "print(\"\\nId of copyOfMyList is:   \" + str(id(copyOfMyList)))\n"
   ]
  },
  {
   "cell_type": "markdown",
   "metadata": {},
   "source": [
    "A tuple is immutable. Note below that trying to change a tuple fails. "
   ]
  },
  {
   "cell_type": "code",
   "execution_count": null,
   "metadata": {
    "tags": [
     "raises-exception"
    ]
   },
   "outputs": [],
   "source": [
    "# tuples are immutable, shared references to the different objects\n",
    "myTuple = ('foo', 1, ['bar', 'boo'])\n",
    "alsomyTuple = myTuple\n",
    "\n",
    "\n",
    "print(myTuple)\n",
    "print(alsomyTuple)\n",
    "\n",
    "# show the identifiers of the two variables\n",
    "print(\"Id of myTuple is: \" + str(id(myTuple)))\n",
    "print(\"Id of alsomyTuple is: \" + str(id(alsomyTuple)))"
   ]
  },
  {
   "cell_type": "markdown",
   "metadata": {},
   "source": [
    "### Dictionaries\n",
    "List and tuple elements are accessed via numeric indices. A more general structure is the Python *dict*. A dictionary is composed of *key*, *value* pairs, where the key can be any immutable object.\n",
    "In other languages this same structure may be called a hash map or and associative array.\n",
    "Dicts are defined with curly braces. Keys and the assicuated value are separated by a colon. "
   ]
  },
  {
   "cell_type": "code",
   "execution_count": null,
   "metadata": {},
   "outputs": [],
   "source": [
    "# a simple dictionary\n",
    "myDict = {1:'one', (2,3):'two_three', 'fourFours':[4,4,4,4]}\n",
    "print(myDict)\n",
    "print(myDict[1])\n",
    "print(myDict[(2,3)])\n",
    "print(myDict['fourFours'])\n"
   ]
  },
  {
   "cell_type": "code",
   "execution_count": null,
   "metadata": {},
   "outputs": [],
   "source": [
    "\n",
    "#add a keyValue pair to the dict\n",
    "myDict[5] = 'a five'\n",
    "print(myDict)"
   ]
  },
  {
   "cell_type": "markdown",
   "metadata": {},
   "source": [
    "## Control Structures\n",
    "A Python script consists of a sequence of statements like the ones you have seen above. Sometimes, though it is extremly useful to be able to iterate over a section of code, or to conditinoally execute a section of code. These are structures that are common to many computing languages.\n",
    "\n",
    "See https://docs.python.org/3/tutorial/controlflow.html \n",
    "and https://docs.python.org/3/reference/compound_stmts.html"
   ]
  },
  {
   "cell_type": "markdown",
   "metadata": {},
   "source": [
    "## For Statements\n",
    "The for statement iterates over the elements of one sequence (the expression_list) and produces an object (target_list) that can be used in a segment of code which is executed once for each element of the expression_list. The code segment is **indented** to show it belongs to the \"for\"\n",
    "https://docs.python.org/3/reference/compound_stmts.html#for \n",
    "\n",
    "In the first example below the *expression_list* is the list myList\n",
    "\n",
    "### Indentation and compound statements\n",
    "Note that the lines after  \"**for listElement in myList:**\" are indented and that line ends with a *colon*. This indicates that the indented lines run once for each element in the expression_list.\n",
    "\n",
    "A for statement is an example of a compound statement. Compound statements have a header line that ends in a : (colon) followed by a sequence of ***indented*** lines, all of which are indented by the same amount.\n",
    "\n",
    "### tabs and spaces\n",
    "Use either all tabs or all spaces for your indentation. **Don't mix them**. My recommendation is to use spaces. These are not subject to tab settings as the code is moved from one environment to another."
   ]
  },
  {
   "cell_type": "markdown",
   "metadata": {},
   "source": [
    "### For statements on lists"
   ]
  },
  {
   "cell_type": "code",
   "execution_count": null,
   "metadata": {},
   "outputs": [],
   "source": [
    "# list is iterable\n",
    "myList = ['foo', 1, ['bar', 'boo']]\n",
    "\n",
    "# iterate over myList and print the list element\n",
    "for listElement in myList:\n",
    "    print( listElement)"
   ]
  },
  {
   "cell_type": "code",
   "execution_count": null,
   "metadata": {},
   "outputs": [],
   "source": [
    "# list is iterable\n",
    "myList = ['foo', 1, ['bar', 'boo']]\n",
    "\n",
    "# iterate over myList and show some details\n",
    "for listElement in myList:\n",
    "    print( listElement)\n",
    "    print(\"type is: \" +str(type(listElement)))\n",
    "    listElement = \"bazzz\"\n",
    "# changing listElement does not change the element in myList \n",
    "print(\"\\nThe list ends up as:\")\n",
    "print(myList)    "
   ]
  },
  {
   "cell_type": "markdown",
   "metadata": {},
   "source": [
    "### A *for* statement on a Dict - returns the keys\n",
    "\n",
    "https://docs.python.org/3/tutorial/datastructures.html#dictionaries"
   ]
  },
  {
   "cell_type": "code",
   "execution_count": null,
   "metadata": {},
   "outputs": [],
   "source": [
    "myDict = {1:'one', (2,3):'two_three', 'fourFours':[4,4,4,4]}\n",
    "\n",
    "# iterate over myDict and show some details\n",
    "for listElement in myDict:\n",
    "    print( listElement)\n",
    "    print(\"type is: \" +str(type(listElement)))\n"
   ]
  },
  {
   "cell_type": "markdown",
   "metadata": {},
   "source": [
    "### the values() method - to get the values\n",
    "Python Dictionaries \n",
    "\n",
    "\n",
    "https://docs.python.org/3/tutorial/datastructures.html#dictionaries"
   ]
  },
  {
   "cell_type": "code",
   "execution_count": null,
   "metadata": {},
   "outputs": [],
   "source": [
    "myDict = {1:'one', (2,3):'two_three', 'fourFours':[4,4,4,4]}\n",
    "\n",
    "# iterate over myDict.values() and show some details\n",
    "for listElement in myDict.values():\n",
    "    print( listElement)\n",
    "    print(\"type is: \" +str(type(listElement)))\n"
   ]
  },
  {
   "cell_type": "markdown",
   "metadata": {},
   "source": [
    "### the items() method -  to get the a (key,value) tuple\n",
    "In this case the target_list is a tuple: dictKey, dictValue"
   ]
  },
  {
   "cell_type": "code",
   "execution_count": null,
   "metadata": {},
   "outputs": [],
   "source": [
    "myDict = {1:'one', (2,3):'two_three', 'fourFours':[4,4,4,4]}\n",
    "\n",
    "# iterate over myDict.values() and show some details\n",
    "for dictKey, dictValue in myDict.items():\n",
    "    print( dictKey)\n",
    "    print( dictValue)\n",
    "\n"
   ]
  },
  {
   "cell_type": "code",
   "execution_count": null,
   "metadata": {},
   "outputs": [],
   "source": [
    "myDict = {1:'one', (2,3):'two_three', 'fourFours':[4,4,4,4]}\n",
    "\n",
    "# iterate over myDict.values() and show some details\n",
    "for tup in myDict.items():\n",
    "    print( \"key: \", tup[0],    \"   value: \", tup[1])\n"
   ]
  },
  {
   "cell_type": "markdown",
   "metadata": {},
   "source": [
    "### The enumerate method - to get an index and a key"
   ]
  },
  {
   "cell_type": "code",
   "execution_count": null,
   "metadata": {},
   "outputs": [],
   "source": [
    "myDict = {1:'one', (2,3):'two_three', 'fourFours':[4,4,4,4]}\n",
    "\n",
    "# iterate over myDict.values() and show some details\n",
    "for keyIndex, keyValue in enumerate(myDict.keys()):\n",
    "\n",
    "    print( \"keyIndex\", keyIndex,   \"    keyValue\",  keyValue )\n",
    "\n"
   ]
  },
  {
   "cell_type": "markdown",
   "metadata": {},
   "source": [
    "## Conditional statements -   if\n",
    "What if, in the preceding example, we wanted to treat the first and second keys differently? Python has an if statement that allows for this.\n",
    "https://docs.python.org/3/reference/compound_stmts.html#if"
   ]
  },
  {
   "cell_type": "code",
   "execution_count": null,
   "metadata": {},
   "outputs": [],
   "source": [
    "myDict = {1:'one', (2,3):'two_three', 'fourFours':[4,4,4,4]}\n",
    "\n",
    "# iterate over myDict.values() and show some details\n",
    "for keyIndex, keyValue in enumerate(myDict):\n",
    "    if keyIndex == 0:\n",
    "        print(\"  First Key\"  )\n",
    "        print( keyIndex)\n",
    "        print( keyValue)\n",
    "    elif keyIndex == 1:\n",
    "        print(\"  Second Key \"  )\n",
    "        print( keyIndex)\n",
    "        print( keyValue) \n",
    "    else:  \n",
    "        print(\"  ELSE\")\n",
    "        print( keyIndex)\n",
    "        print( keyValue) "
   ]
  },
  {
   "cell_type": "markdown",
   "metadata": {},
   "source": [
    "## List Comprehensions\n",
    "A Google search of define:comprehension yields:\n",
    "com·pre·hen·sion\n",
    "/ˌkämprəˈhen(t)SH(ə)n/\n",
    "\n",
    "    1.\n",
    "    the action or capability of understanding something.\n",
    "    \"some won't have the least comprehension of what I'm trying to do\"\n",
    "    \n",
    "    2.\n",
    "    archaic\n",
    "    inclusion.\n",
    "    \n",
    "In Python a *list comprehension* is an expression that yields a list from an iterable. \n",
    "\n",
    "https://docs.python.org/3/tutorial/datastructures.html\n",
    "\n",
    "The example below shows a simple list comprehension that gets the keys of a dict in one variable and then uses that to get the values of "
   ]
  },
  {
   "cell_type": "code",
   "execution_count": null,
   "metadata": {},
   "outputs": [],
   "source": [
    "myDict = {1:'one', (2,3):'two_three', 'fourFours':[4,4,4,4]}\n",
    "\n",
    "myKeysLc = [listElement for listElement in myDict]\n",
    "print(myKeysLc)\n",
    "\n",
    "myValuesLc = [myDict[key] for key in myKeysLc ]\n",
    "print(myValuesLc)              "
   ]
  },
  {
   "cell_type": "markdown",
   "metadata": {},
   "source": [
    "### subsetting the returned list in a comprehension"
   ]
  },
  {
   "cell_type": "code",
   "execution_count": null,
   "metadata": {},
   "outputs": [],
   "source": [
    "myDict = {1:'one', (2,3):'two_three', 'fourFours':[4,4,4,4], ('five','six'):[5,6]}\n",
    "\n",
    "myKeysLc = [listElement for listElement in myDict if type(listElement) == tuple]\n",
    "print(myKeysLc)\n",
    "\n",
    "myValuesLc = [value for value \n",
    "              in myDict.values() \n",
    "              if (type(value) == str) \n",
    "                 and value < 't' ]\n",
    "print(myValuesLc)              "
   ]
  },
  {
   "cell_type": "code",
   "execution_count": null,
   "metadata": {},
   "outputs": [],
   "source": [
    "print(\"that's all folks\")"
   ]
  }
 ],
 "metadata": {
  "kernelspec": {
   "display_name": "Python 3",
   "language": "python",
   "name": "python3"
  },
  "language_info": {
   "codemirror_mode": {
    "name": "ipython",
    "version": 3
   },
   "file_extension": ".py",
   "mimetype": "text/x-python",
   "name": "python",
   "nbconvert_exporter": "python",
   "pygments_lexer": "ipython3",
   "version": "3.8.8"
  }
 },
 "nbformat": 4,
 "nbformat_minor": 4
}
