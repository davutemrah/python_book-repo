{
 "cells": [
  {
   "cell_type": "markdown",
   "metadata": {
    "application/vnd.databricks.v1+cell": {
     "cellMetadata": {},
     "inputWidgets": {},
     "nuid": "f0794f83-4420-4bbc-bb02-71523cd61689",
     "showTitle": false,
     "tableResultSettingsMap": {},
     "title": ""
    }
   },
   "source": [
    "### While Loop\n",
    "\n",
    "continue the process as long as condition is met, otherwise stop"
   ]
  },
  {
   "cell_type": "code",
   "execution_count": 0,
   "metadata": {
    "application/vnd.databricks.v1+cell": {
     "cellMetadata": {
      "byteLimit": 2048000,
      "rowLimit": 10000
     },
     "inputWidgets": {},
     "nuid": "469798b1-89d3-49a6-82a5-e8a4a271ecdb",
     "showTitle": false,
     "tableResultSettingsMap": {},
     "title": ""
    }
   },
   "outputs": [],
   "source": [
    "### 🟢 **Beginner Level**\n",
    "\n",
    "# 1. **Print numbers 1 to 5 using a `while` loop.**\n",
    "\n",
    "i = 1\n",
    "while i <= 5:\n",
    "    print(i)\n",
    "    i += 1"
   ]
  },
  {
   "cell_type": "code",
   "execution_count": 0,
   "metadata": {
    "application/vnd.databricks.v1+cell": {
     "cellMetadata": {},
     "inputWidgets": {},
     "nuid": "9a14820b-7a72-4903-a28d-adc1dbd8eb63",
     "showTitle": false,
     "tableResultSettingsMap": {},
     "title": ""
    }
   },
   "outputs": [],
   "source": []
  },
  {
   "cell_type": "code",
   "execution_count": 0,
   "metadata": {
    "application/vnd.databricks.v1+cell": {
     "cellMetadata": {},
     "inputWidgets": {},
     "nuid": "58e7a1ae-cd63-41e2-a49c-e4900b295236",
     "showTitle": false,
     "tableResultSettingsMap": {},
     "title": ""
    }
   },
   "outputs": [],
   "source": []
  },
  {
   "cell_type": "code",
   "execution_count": 0,
   "metadata": {
    "application/vnd.databricks.v1+cell": {
     "cellMetadata": {},
     "inputWidgets": {},
     "nuid": "b92abd2c-be1d-45d7-800c-3b971522d8d6",
     "showTitle": false,
     "tableResultSettingsMap": {},
     "title": ""
    }
   },
   "outputs": [],
   "source": [
    "2. **Print \"Hello\" 3 times.**\n",
    "\n",
    "```python\n",
    "# Expected Output:\n",
    "# Hello\n",
    "# Hello\n",
    "# Hello\n",
    "```\n",
    "\n",
    "3. **Print even numbers less than 10.**\n",
    "\n",
    "```python\n",
    "# Expected Output: 2 4 6 8\n",
    "```\n",
    "\n",
    "---\n",
    "\n",
    "### 🟡 **Intermediate Level**\n",
    "\n",
    "4. **Calculate the sum of numbers from 1 to `n` using `while`.**\n",
    "\n",
    "```python\n",
    "# Input: 5\n",
    "# Output: 15 (1+2+3+4+5)\n",
    "```\n",
    "\n",
    "5. **Find the factorial of a number using `while`.**\n",
    "\n",
    "```python\n",
    "# Input: 4\n",
    "# Output: 24 (4*3*2*1)\n",
    "```\n",
    "\n",
    "6. **Reverse a given number using `while`.**\n",
    "\n",
    "```python\n",
    "# Input: 1234\n",
    "# Output: 4321\n",
    "```\n",
    "\n",
    "---\n",
    "\n",
    "### 🔴 **Advanced Level**\n",
    "\n",
    "7. **Check if a number is a palindrome using `while`.**\n",
    "\n",
    "```python\n",
    "# Input: 121\n",
    "# Output: True (reads the same forward and backward)\n",
    "```\n",
    "\n",
    "8. **Print the Fibonacci sequence up to `n` terms using `while`.**\n",
    "\n",
    "```python\n",
    "# Input: 7\n",
    "# Output: 0 1 1 2 3 5 8\n",
    "```\n",
    "\n",
    "9. **Simulate a basic login system (3 attempts max).**\n",
    "\n",
    "```python\n",
    "# Expected: \n",
    "# Ask user for password. If incorrect, allow 2 more tries. Block after 3 fails.\n",
    "```\n",
    "\n",
    "10. **Guessing game: Generate a random number between 1-10. Let user guess until correct.**\n",
    "\n",
    "```python\n",
    "# Use: `import random`\n",
    "```\n",
    "\n",
    "---\n",
    "\n",
    "Would you like to start solving them one by one together? Or would you like answers for some to compare your own attempts?\n"
   ]
  },
  {
   "cell_type": "code",
   "execution_count": 0,
   "metadata": {
    "application/vnd.databricks.v1+cell": {
     "cellMetadata": {},
     "inputWidgets": {},
     "nuid": "803e0750-b6cd-4ce9-a260-38692647aacf",
     "showTitle": false,
     "tableResultSettingsMap": {},
     "title": ""
    }
   },
   "outputs": [],
   "source": [
    "while (squares[i] == \"orange\"):\n",
    "    newsquare.append(squares[i])\n",
    "    \n",
    "    i = i + 1"
   ]
  },
  {
   "cell_type": "code",
   "execution_count": 0,
   "metadata": {
    "application/vnd.databricks.v1+cell": {
     "cellMetadata": {},
     "inputWidgets": {},
     "nuid": "0195bd83-df19-436a-86a1-d9369cf3cdfd",
     "showTitle": false,
     "tableResultSettingsMap": {},
     "title": ""
    }
   },
   "outputs": [],
   "source": [
    "squares = [\"orange\", \"orange\", \"purple\", \"orange\", \"blue\"]\n",
    "\n",
    "squares"
   ]
  },
  {
   "cell_type": "code",
   "execution_count": 0,
   "metadata": {
    "application/vnd.databricks.v1+cell": {
     "cellMetadata": {},
     "inputWidgets": {},
     "nuid": "a310e928-2b17-4e34-a255-ad6cc7531c94",
     "showTitle": false,
     "tableResultSettingsMap": {},
     "title": ""
    }
   },
   "outputs": [],
   "source": [
    "## Write a while loop to copy the strings 'orange' of the list squares to the list \n",
    "## new_squares. Stop and exit the loop if the value on the list is not 'orange':\n",
    "\n",
    "\n",
    "newsquare = []\n",
    "\n",
    "i = 0\n",
    "\n",
    "while (squares[i] == \"orange\"):\n",
    "    newsquare.append(squares[i])\n",
    "    \n",
    "    i = i + 1\n",
    "\n",
    "newsquare"
   ]
  },
  {
   "cell_type": "code",
   "execution_count": 0,
   "metadata": {
    "application/vnd.databricks.v1+cell": {
     "cellMetadata": {},
     "inputWidgets": {},
     "nuid": "393b2904-d956-472f-8f56-0b1d9f41ff08",
     "showTitle": false,
     "tableResultSettingsMap": {},
     "title": ""
    }
   },
   "outputs": [],
   "source": [
    "# While Loop Example\n",
    "\n",
    "dates = [1982, 1980, 1973, 2000]\n",
    "\n",
    "i = 0\n",
    "year = dates[0]\n",
    "\n",
    "while(year != 1973):    \n",
    "    print(year)\n",
    "    i = i + 1\n",
    "    year = dates[i]\n",
    "    \n",
    "\n",
    "print(\"It took \", i ,\"repetitions to get out of loop.\")"
   ]
  },
  {
   "cell_type": "code",
   "execution_count": 0,
   "metadata": {
    "application/vnd.databricks.v1+cell": {
     "cellMetadata": {},
     "inputWidgets": {},
     "nuid": "e5b41990-4f6f-46e2-92a2-5ee3fb66e5fd",
     "showTitle": false,
     "tableResultSettingsMap": {},
     "title": ""
    }
   },
   "outputs": [],
   "source": [
    "## Write a while loop to display the values of the Rating of an album \n",
    "## playlist stored in the list \n",
    "\n",
    "PlayListRatings = [10, 9.5, 10, 8, 7.5, 5, 10, 10]\n",
    "\n",
    "i = 0\n",
    "\n",
    "while PlayListRatings[i] > 5:\n",
    "    print(PlayListRatings[i])\n",
    "    i = i +1"
   ]
  },
  {
   "cell_type": "code",
   "execution_count": 0,
   "metadata": {
    "application/vnd.databricks.v1+cell": {
     "cellMetadata": {},
     "inputWidgets": {},
     "nuid": "e92a87c4-096a-4097-a606-46e7d91bef76",
     "showTitle": false,
     "tableResultSettingsMap": {},
     "title": ""
    }
   },
   "outputs": [],
   "source": [
    "for i,x in enumerate(['A','B','C']):\n",
    "    print(i+1,x)"
   ]
  },
  {
   "cell_type": "code",
   "execution_count": 0,
   "metadata": {
    "application/vnd.databricks.v1+cell": {
     "cellMetadata": {},
     "inputWidgets": {},
     "nuid": "ba6598c8-45cb-4904-be08-832907965966",
     "showTitle": false,
     "tableResultSettingsMap": {},
     "title": ""
    }
   },
   "outputs": [],
   "source": []
  }
 ],
 "metadata": {
  "application/vnd.databricks.v1+notebook": {
   "computePreferences": null,
   "dashboards": [],
   "environmentMetadata": null,
   "inputWidgetPreferences": null,
   "language": "python",
   "notebookMetadata": {
    "pythonIndentUnit": 4
   },
   "notebookName": "3. while loops",
   "widgets": {}
  },
  "kernelspec": {
   "display_name": "Python 3",
   "language": "python",
   "name": "python3"
  },
  "language_info": {
   "name": "python"
  }
 },
 "nbformat": 4,
 "nbformat_minor": 0
}
