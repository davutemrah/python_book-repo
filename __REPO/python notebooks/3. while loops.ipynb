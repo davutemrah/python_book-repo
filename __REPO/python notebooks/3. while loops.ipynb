{
 "cells": [
  {
   "cell_type": "markdown",
   "metadata": {
    "application/vnd.databricks.v1+cell": {
     "cellMetadata": {},
     "inputWidgets": {},
     "nuid": "f0794f83-4420-4bbc-bb02-71523cd61689",
     "showTitle": false,
     "tableResultSettingsMap": {},
     "title": ""
    }
   },
   "source": [
    "### While Loop\n",
    "\n",
    "continue the process as long as condition is met, otherwise stop"
   ]
  },
  {
   "cell_type": "code",
   "execution_count": 4,
   "metadata": {
    "application/vnd.databricks.v1+cell": {
     "cellMetadata": {
      "byteLimit": 2048000,
      "rowLimit": 10000
     },
     "inputWidgets": {},
     "nuid": "469798b1-89d3-49a6-82a5-e8a4a271ecdb",
     "showTitle": false,
     "tableResultSettingsMap": {},
     "title": ""
    }
   },
   "outputs": [
    {
     "name": "stdout",
     "output_type": "stream",
     "text": [
      "1\n",
      "2\n",
      "3\n",
      "4\n",
      "5\n"
     ]
    }
   ],
   "source": [
    "### 🟢 **Beginner Level**\n",
    "\n",
    "# 1. **Print numbers 1 to 5 using a `while` loop.**\n",
    "\n",
    "i = 1\n",
    "while i <= 5:\n",
    "    print(i)\n",
    "    i += 1"
   ]
  },
  {
   "cell_type": "code",
   "execution_count": 1,
   "metadata": {
    "application/vnd.databricks.v1+cell": {
     "cellMetadata": {},
     "inputWidgets": {},
     "nuid": "9a14820b-7a72-4903-a28d-adc1dbd8eb63",
     "showTitle": false,
     "tableResultSettingsMap": {},
     "title": ""
    }
   },
   "outputs": [
    {
     "name": "stdout",
     "output_type": "stream",
     "text": [
      "Hello\n",
      "Hello\n",
      "Hello\n"
     ]
    }
   ],
   "source": [
    "# 2. **Print \"Hello\" 3 times.**\n",
    "\n",
    "i=1\n",
    "while i<4:\n",
    "    print(\"Hello\")\n",
    "    i+=1"
   ]
  },
  {
   "cell_type": "code",
   "execution_count": null,
   "metadata": {
    "application/vnd.databricks.v1+cell": {
     "cellMetadata": {},
     "inputWidgets": {},
     "nuid": "58e7a1ae-cd63-41e2-a49c-e4900b295236",
     "showTitle": false,
     "tableResultSettingsMap": {},
     "title": ""
    }
   },
   "outputs": [
    {
     "name": "stdout",
     "output_type": "stream",
     "text": [
      "0\n",
      "2\n",
      "4\n",
      "6\n",
      "8\n",
      "10\n"
     ]
    }
   ],
   "source": [
    "# 3. **Print even numbers less than 10.**\n",
    "\n",
    "even_numbers = [x for x in range(0, 11) if x%2==0 and x <= 10] \n",
    "\n",
    "x=0\n",
    "while x <= 10:\n",
    "    if x in even_numbers:\n",
    "        print(x)\n",
    "    x+=1\n"
   ]
  },
  {
   "cell_type": "code",
   "execution_count": 7,
   "metadata": {},
   "outputs": [
    {
     "name": "stdout",
     "output_type": "stream",
     "text": [
      "0\n",
      "2\n",
      "4\n",
      "6\n",
      "8\n",
      "10\n"
     ]
    }
   ],
   "source": [
    "# 3. **Print even numbers less than 10.**\n",
    "\n",
    "x=0\n",
    "while x <= 10:\n",
    "    if x%2==0:\n",
    "        print(x)\n",
    "    x+=1"
   ]
  },
  {
   "cell_type": "code",
   "execution_count": 9,
   "metadata": {},
   "outputs": [
    {
     "data": {
      "text/plain": [
       "55"
      ]
     },
     "execution_count": 9,
     "metadata": {},
     "output_type": "execute_result"
    }
   ],
   "source": [
    "# **Calculate the sum of numbers from 1 to `n` using `while`.**\n",
    "\n",
    "x=1\n",
    "n=10\n",
    "sum=0\n",
    "while x <= n:\n",
    "    sum+=x\n",
    "    x+=1\n",
    "sum "
   ]
  },
  {
   "cell_type": "code",
   "execution_count": 12,
   "metadata": {},
   "outputs": [
    {
     "name": "stdout",
     "output_type": "stream",
     "text": [
      "factorial of 5 is 120\n"
     ]
    }
   ],
   "source": [
    "# **Find the factorial of a number using `while`.**\n",
    "\n",
    "n=5\n",
    "fact = 1\n",
    "x=1\n",
    "\n",
    "while x<=n:\n",
    "    fact *= x\n",
    "    x+=1 \n",
    "  \n",
    "print(f\"factorial of {n} is\", fact)"
   ]
  },
  {
   "cell_type": "code",
   "execution_count": null,
   "metadata": {},
   "outputs": [
    {
     "name": "stdout",
     "output_type": "stream",
     "text": [
      "54321\n"
     ]
    }
   ],
   "source": [
    "# 6. **Reverse a given number using `while`.** \n",
    "\n",
    "x = 12345\n",
    "reversed_num = 0\n",
    "\n",
    "while x > 0:\n",
    "    digit = x % 10\n",
    "    reversed_num = reversed_num * 10 + digit\n",
    "    x = x // 10\n",
    "\n",
    "print(reversed_num)  # Output: 54321\n"
   ]
  },
  {
   "cell_type": "code",
   "execution_count": null,
   "metadata": {},
   "outputs": [
    {
     "data": {
      "text/plain": [
       "321"
      ]
     },
     "execution_count": 20,
     "metadata": {},
     "output_type": "execute_result"
    }
   ],
   "source": [
    "# 6. **Reverse a given number using `while`.** -- 3 digits\n",
    "\n",
    "x = 123\n",
    "power = 2\n",
    "reversed_num=0\n",
    "\n",
    "while power>=0:\n",
    "    digit = x%10\n",
    "    x = int(x/10)\n",
    "    reversed_num += digit * 10**power\n",
    "    power-=1\n",
    "\n",
    "final"
   ]
  },
  {
   "cell_type": "code",
   "execution_count": 31,
   "metadata": {},
   "outputs": [
    {
     "name": "stdout",
     "output_type": "stream",
     "text": [
      "Palindrome 1221\n"
     ]
    }
   ],
   "source": [
    "# A palindrome is a number, word, or sequence that reads the same backward as forward.\n",
    "# For example: 121, \"radar\", \"level\" are palindromes.\n",
    "\n",
    "# **Check if a number is a palindrome using `while`.**\n",
    "\n",
    "x = 1221\n",
    "original = x  # Save the original number\n",
    "reversed_number = 0\n",
    "\n",
    "while x > 0:\n",
    "    digit = x % 10\n",
    "    reversed_number = reversed_number * 10 + digit\n",
    "    x = x // 10\n",
    "\n",
    "if original == reversed_number:\n",
    "    print(\"Palindrome\", reversed_number)\n",
    "else:\n",
    "    print(\"Not a palindrome\", reversed_number)"
   ]
  },
  {
   "cell_type": "code",
   "execution_count": null,
   "metadata": {},
   "outputs": [
    {
     "name": "stdout",
     "output_type": "stream",
     "text": [
      "[0, 1, 1, 2, 3, 5, 8, 13, 21, 34]\n"
     ]
    }
   ],
   "source": [
    "# 8. **Print the Fibonacci sequence up to `n` terms using `while`.** \n",
    "\n",
    "n = 10  # number of terms\n",
    "fib_seq = [0, 1]\n",
    "count = 2\n",
    "\n",
    "while count < n:\n",
    "    next_term = fib_seq[-1] + fib_seq[-2]\n",
    "    fib_seq.append(next_term)\n",
    "    count += 1\n",
    "\n",
    "print(fib_seq)"
   ]
  },
  {
   "cell_type": "code",
   "execution_count": 37,
   "metadata": {},
   "outputs": [
    {
     "name": "stdout",
     "output_type": "stream",
     "text": [
      "[0, 1, 1, 2, 3, 5, 8, 13, 21, 34, 55, 89]\n"
     ]
    }
   ],
   "source": [
    "# Print all Fibonacci numbers less than or equal to n (e.g., n = 100)\n",
    "\n",
    "n = 100\n",
    "fib_seq = [0, 1]\n",
    "\n",
    "while True:\n",
    "    next_term = fib_seq[-1] + fib_seq[-2]\n",
    "    if next_term > n:\n",
    "        break\n",
    "    fib_seq.append(next_term)\n",
    "\n",
    "print(fib_seq)"
   ]
  },
  {
   "cell_type": "code",
   "execution_count": null,
   "metadata": {},
   "outputs": [
    {
     "data": {
      "text/plain": [
       "[0, 1, 1, 2, 3, 5, 8, 13, 21, 34, 55, 89]"
      ]
     },
     "execution_count": 38,
     "metadata": {},
     "output_type": "execute_result"
    }
   ],
   "source": [
    "# Print all Fibonacci numbers less than or equal to n (e.g., n = 100)\n",
    "\n",
    "# this is not efficient, because i am testing each number up to the final number\n",
    "\n",
    "n=100\n",
    "x = 1\n",
    "fib_seq = [0, 1]\n",
    "\n",
    "while x <= n:\n",
    "\n",
    "    if (fib_seq[-2]+fib_seq[-1])==x:\n",
    "        fib_seq.append(x)\n",
    "    x+=1\n",
    "\n",
    "fib_seq"
   ]
  },
  {
   "cell_type": "code",
   "execution_count": null,
   "metadata": {},
   "outputs": [],
   "source": [
    "# 9. **Simulate a basic login system (3 attempts max).**\n",
    "# Ask user for password. If incorrect, allow 2 more tries. Block after 3 fails.\n"
   ]
  },
  {
   "cell_type": "code",
   "execution_count": null,
   "metadata": {},
   "outputs": [],
   "source": [
    "# **Guessing game: Generate a random number between 1-10. Let user guess until correct.**\n",
    "# Use: `import random`"
   ]
  },
  {
   "cell_type": "code",
   "execution_count": 0,
   "metadata": {
    "application/vnd.databricks.v1+cell": {
     "cellMetadata": {},
     "inputWidgets": {},
     "nuid": "803e0750-b6cd-4ce9-a260-38692647aacf",
     "showTitle": false,
     "tableResultSettingsMap": {},
     "title": ""
    }
   },
   "outputs": [],
   "source": []
  },
  {
   "cell_type": "code",
   "execution_count": 41,
   "metadata": {
    "application/vnd.databricks.v1+cell": {
     "cellMetadata": {},
     "inputWidgets": {},
     "nuid": "0195bd83-df19-436a-86a1-d9369cf3cdfd",
     "showTitle": false,
     "tableResultSettingsMap": {},
     "title": ""
    }
   },
   "outputs": [
    {
     "data": {
      "text/plain": [
       "['orange', 'orange', 'orange']"
      ]
     },
     "execution_count": 41,
     "metadata": {},
     "output_type": "execute_result"
    }
   ],
   "source": [
    "squares = [\"orange\", \"orange\", \"purple\", \"orange\", \"blue\"]\n",
    "\n",
    "newsquare =[]\n",
    "i=0\n",
    "\n",
    "while i < len(squares):\n",
    "    if (squares[i] == \"orange\"):\n",
    "        newsquare.append(squares[i])\n",
    "    i = i + 1\n",
    "\n",
    "newsquare"
   ]
  },
  {
   "cell_type": "code",
   "execution_count": 0,
   "metadata": {
    "application/vnd.databricks.v1+cell": {
     "cellMetadata": {},
     "inputWidgets": {},
     "nuid": "a310e928-2b17-4e34-a255-ad6cc7531c94",
     "showTitle": false,
     "tableResultSettingsMap": {},
     "title": ""
    }
   },
   "outputs": [],
   "source": [
    "## Write a while loop to copy the strings 'orange' of the list squares to the list \n",
    "## new_squares. Stop and exit the loop if the value on the list is not 'orange':\n",
    "\n",
    "\n",
    "newsquare = []\n",
    "\n",
    "i = 0\n",
    "\n",
    "while (squares[i] == \"orange\"):\n",
    "    newsquare.append(squares[i])\n",
    "    \n",
    "    i = i + 1\n",
    "\n",
    "newsquare"
   ]
  },
  {
   "cell_type": "code",
   "execution_count": 0,
   "metadata": {
    "application/vnd.databricks.v1+cell": {
     "cellMetadata": {},
     "inputWidgets": {},
     "nuid": "393b2904-d956-472f-8f56-0b1d9f41ff08",
     "showTitle": false,
     "tableResultSettingsMap": {},
     "title": ""
    }
   },
   "outputs": [],
   "source": [
    "# While Loop Example\n",
    "\n",
    "dates = [1982, 1980, 1973, 2000]\n",
    "\n",
    "i = 0\n",
    "year = dates[0]\n",
    "\n",
    "while(year != 1973):    \n",
    "    print(year)\n",
    "    i = i + 1\n",
    "    year = dates[i]\n",
    "    \n",
    "\n",
    "print(\"It took \", i ,\"repetitions to get out of loop.\")"
   ]
  },
  {
   "cell_type": "code",
   "execution_count": 0,
   "metadata": {
    "application/vnd.databricks.v1+cell": {
     "cellMetadata": {},
     "inputWidgets": {},
     "nuid": "e5b41990-4f6f-46e2-92a2-5ee3fb66e5fd",
     "showTitle": false,
     "tableResultSettingsMap": {},
     "title": ""
    }
   },
   "outputs": [],
   "source": [
    "## Write a while loop to display the values of the Rating of an album \n",
    "## playlist stored in the list \n",
    "\n",
    "PlayListRatings = [10, 9.5, 10, 8, 7.5, 5, 10, 10]\n",
    "\n",
    "i = 0\n",
    "\n",
    "while PlayListRatings[i] > 5:\n",
    "    print(PlayListRatings[i])\n",
    "    i = i +1"
   ]
  },
  {
   "cell_type": "code",
   "execution_count": 0,
   "metadata": {
    "application/vnd.databricks.v1+cell": {
     "cellMetadata": {},
     "inputWidgets": {},
     "nuid": "e92a87c4-096a-4097-a606-46e7d91bef76",
     "showTitle": false,
     "tableResultSettingsMap": {},
     "title": ""
    }
   },
   "outputs": [],
   "source": [
    "for i,x in enumerate(['A','B','C']):\n",
    "    print(i+1,x)"
   ]
  },
  {
   "cell_type": "code",
   "execution_count": 0,
   "metadata": {
    "application/vnd.databricks.v1+cell": {
     "cellMetadata": {},
     "inputWidgets": {},
     "nuid": "ba6598c8-45cb-4904-be08-832907965966",
     "showTitle": false,
     "tableResultSettingsMap": {},
     "title": ""
    }
   },
   "outputs": [],
   "source": []
  }
 ],
 "metadata": {
  "application/vnd.databricks.v1+notebook": {
   "computePreferences": null,
   "dashboards": [],
   "environmentMetadata": null,
   "inputWidgetPreferences": null,
   "language": "python",
   "notebookMetadata": {
    "pythonIndentUnit": 4
   },
   "notebookName": "3. while loops",
   "widgets": {}
  },
  "kernelspec": {
   "display_name": "Python 3",
   "language": "python",
   "name": "python3"
  },
  "language_info": {
   "codemirror_mode": {
    "name": "ipython",
    "version": 3
   },
   "file_extension": ".py",
   "mimetype": "text/x-python",
   "name": "python",
   "nbconvert_exporter": "python",
   "pygments_lexer": "ipython3",
   "version": "3.10.3"
  }
 },
 "nbformat": 4,
 "nbformat_minor": 0
}
