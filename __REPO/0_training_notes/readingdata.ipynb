{
 "cells": [
  {
   "cell_type": "markdown",
   "metadata": {},
   "source": [
    "## Reading Data -- Carlos"
   ]
  },
  {
   "cell_type": "code",
   "execution_count": 11,
   "metadata": {},
   "outputs": [
    {
     "data": {
      "text/plain": [
       "'/Users/d842a922/Desktop/PYTHON/data/'"
      ]
     },
     "execution_count": 11,
     "metadata": {},
     "output_type": "execute_result"
    }
   ],
   "source": [
    "string = r\"/Users/d842a922/Desktop/PYTHON/data\" + \"/\"\n",
    "\n",
    "string"
   ]
  },
  {
   "cell_type": "code",
   "execution_count": 1,
   "metadata": {},
   "outputs": [],
   "source": [
    "import pandas as pd\n",
    "import numpy as np"
   ]
  },
  {
   "cell_type": "code",
   "execution_count": 2,
   "metadata": {},
   "outputs": [
    {
     "ename": "NameError",
     "evalue": "name 'string' is not defined",
     "output_type": "error",
     "traceback": [
      "\u001b[0;31m---------------------------------------------------------------------------\u001b[0m",
      "\u001b[0;31mNameError\u001b[0m                                 Traceback (most recent call last)",
      "\u001b[1;32m/Users/deayan/Desktop/DataScience/_PYTHON/notebooks/readingdata.ipynb Cell 4\u001b[0m in \u001b[0;36m<cell line: 1>\u001b[0;34m()\u001b[0m\n\u001b[0;32m----> <a href='vscode-notebook-cell:/Users/deayan/Desktop/DataScience/_PYTHON/notebooks/readingdata.ipynb#W4sZmlsZQ%3D%3D?line=0'>1</a>\u001b[0m df \u001b[39m=\u001b[39m pd\u001b[39m.\u001b[39mread_csv(string \u001b[39m+\u001b[39m \u001b[39m\"\u001b[39m\u001b[39mcollege.csv\u001b[39m\u001b[39m\"\u001b[39m, dtype \u001b[39m=\u001b[39m {\u001b[39m'\u001b[39m\u001b[39mid\u001b[39m\u001b[39m'\u001b[39m:np\u001b[39m.\u001b[39mfloat64, \u001b[39m'\u001b[39m\u001b[39mregion\u001b[39m\u001b[39m'\u001b[39m:np\u001b[39m.\u001b[39mcharacter}, na_values \u001b[39m=\u001b[39m[\u001b[39m'\u001b[39m\u001b[39mM\u001b[39m\u001b[39m'\u001b[39m])\n\u001b[1;32m      <a href='vscode-notebook-cell:/Users/deayan/Desktop/DataScience/_PYTHON/notebooks/readingdata.ipynb#W4sZmlsZQ%3D%3D?line=2'>3</a>\u001b[0m df\u001b[39m.\u001b[39mhead()\n",
      "\u001b[0;31mNameError\u001b[0m: name 'string' is not defined"
     ]
    }
   ],
   "source": [
    "df = pd.read_csv(string + \"college.csv\", dtype = {'id':np.float64, 'region':np.character}, na_values =['M'])\n",
    "\n",
    "df.head()"
   ]
  },
  {
   "cell_type": "code",
   "execution_count": 17,
   "metadata": {},
   "outputs": [
    {
     "name": "stdout",
     "output_type": "stream",
     "text": [
      "<class 'pandas.core.frame.DataFrame'>\n",
      "RangeIndex: 1269 entries, 0 to 1268\n",
      "Data columns (total 17 columns):\n",
      "id                    1269 non-null int64\n",
      "name                  1269 non-null object\n",
      "city                  1269 non-null object\n",
      "state                 1269 non-null object\n",
      "region                1269 non-null object\n",
      "highest_degree        1269 non-null object\n",
      "control               1269 non-null object\n",
      "gender                1269 non-null object\n",
      "admission_rate        1269 non-null float64\n",
      "sat_avg               1269 non-null int64\n",
      "undergrads            1269 non-null int64\n",
      "tuition               1269 non-null int64\n",
      "faculty_salary_avg    1269 non-null int64\n",
      "loan_default_rate     1267 non-null float64\n",
      "median_debt           1269 non-null float64\n",
      "lon                   1269 non-null float64\n",
      "lat                   1269 non-null float64\n",
      "dtypes: float64(5), int64(5), object(7)\n",
      "memory usage: 168.6+ KB\n"
     ]
    }
   ],
   "source": [
    "df.info()"
   ]
  },
  {
   "cell_type": "code",
   "execution_count": 18,
   "metadata": {},
   "outputs": [
    {
     "data": {
      "text/html": [
       "<div>\n",
       "<style scoped>\n",
       "    .dataframe tbody tr th:only-of-type {\n",
       "        vertical-align: middle;\n",
       "    }\n",
       "\n",
       "    .dataframe tbody tr th {\n",
       "        vertical-align: top;\n",
       "    }\n",
       "\n",
       "    .dataframe thead th {\n",
       "        text-align: right;\n",
       "    }\n",
       "</style>\n",
       "<table border=\"1\" class=\"dataframe\">\n",
       "  <thead>\n",
       "    <tr style=\"text-align: right;\">\n",
       "      <th></th>\n",
       "      <th>id</th>\n",
       "      <th>admission_rate</th>\n",
       "      <th>sat_avg</th>\n",
       "      <th>undergrads</th>\n",
       "      <th>tuition</th>\n",
       "      <th>faculty_salary_avg</th>\n",
       "      <th>loan_default_rate</th>\n",
       "      <th>median_debt</th>\n",
       "      <th>lon</th>\n",
       "      <th>lat</th>\n",
       "    </tr>\n",
       "  </thead>\n",
       "  <tbody>\n",
       "    <tr>\n",
       "      <th>count</th>\n",
       "      <td>1269.000000</td>\n",
       "      <td>1269.000000</td>\n",
       "      <td>1269.000000</td>\n",
       "      <td>1269.000000</td>\n",
       "      <td>1269.000000</td>\n",
       "      <td>1269.000000</td>\n",
       "      <td>1267.000000</td>\n",
       "      <td>1269.000000</td>\n",
       "      <td>1269.000000</td>\n",
       "      <td>1269.000000</td>\n",
       "    </tr>\n",
       "    <tr>\n",
       "      <th>mean</th>\n",
       "      <td>186987.700552</td>\n",
       "      <td>0.650142</td>\n",
       "      <td>1059.508274</td>\n",
       "      <td>5628.720252</td>\n",
       "      <td>21024.811663</td>\n",
       "      <td>7656.030733</td>\n",
       "      <td>0.065582</td>\n",
       "      <td>23483.476359</td>\n",
       "      <td>-88.293929</td>\n",
       "      <td>38.607607</td>\n",
       "    </tr>\n",
       "    <tr>\n",
       "      <th>std</th>\n",
       "      <td>52839.750821</td>\n",
       "      <td>0.192187</td>\n",
       "      <td>133.034296</td>\n",
       "      <td>7379.619072</td>\n",
       "      <td>12545.997785</td>\n",
       "      <td>2223.440660</td>\n",
       "      <td>0.046013</td>\n",
       "      <td>4613.809463</td>\n",
       "      <td>13.937356</td>\n",
       "      <td>4.632134</td>\n",
       "    </tr>\n",
       "    <tr>\n",
       "      <th>min</th>\n",
       "      <td>100654.000000</td>\n",
       "      <td>0.050900</td>\n",
       "      <td>720.000000</td>\n",
       "      <td>47.000000</td>\n",
       "      <td>2732.000000</td>\n",
       "      <td>1451.000000</td>\n",
       "      <td>0.000000</td>\n",
       "      <td>6056.000000</td>\n",
       "      <td>-157.922555</td>\n",
       "      <td>19.707094</td>\n",
       "    </tr>\n",
       "    <tr>\n",
       "      <th>25%</th>\n",
       "      <td>153250.000000</td>\n",
       "      <td>0.533900</td>\n",
       "      <td>973.000000</td>\n",
       "      <td>1296.000000</td>\n",
       "      <td>8970.000000</td>\n",
       "      <td>6191.000000</td>\n",
       "      <td>0.035000</td>\n",
       "      <td>21250.000000</td>\n",
       "      <td>-94.171854</td>\n",
       "      <td>35.222567</td>\n",
       "    </tr>\n",
       "    <tr>\n",
       "      <th>50%</th>\n",
       "      <td>186283.000000</td>\n",
       "      <td>0.668700</td>\n",
       "      <td>1040.000000</td>\n",
       "      <td>2556.000000</td>\n",
       "      <td>20000.000000</td>\n",
       "      <td>7272.000000</td>\n",
       "      <td>0.055000</td>\n",
       "      <td>24588.500000</td>\n",
       "      <td>-84.890238</td>\n",
       "      <td>39.739236</td>\n",
       "    </tr>\n",
       "    <tr>\n",
       "      <th>75%</th>\n",
       "      <td>215284.000000</td>\n",
       "      <td>0.785900</td>\n",
       "      <td>1120.000000</td>\n",
       "      <td>6715.000000</td>\n",
       "      <td>30364.000000</td>\n",
       "      <td>8671.000000</td>\n",
       "      <td>0.083000</td>\n",
       "      <td>27000.000000</td>\n",
       "      <td>-78.630296</td>\n",
       "      <td>41.808431</td>\n",
       "    </tr>\n",
       "    <tr>\n",
       "      <th>max</th>\n",
       "      <td>484905.000000</td>\n",
       "      <td>1.000000</td>\n",
       "      <td>1545.000000</td>\n",
       "      <td>52280.000000</td>\n",
       "      <td>51008.000000</td>\n",
       "      <td>20650.000000</td>\n",
       "      <td>0.334000</td>\n",
       "      <td>41000.000000</td>\n",
       "      <td>-68.589491</td>\n",
       "      <td>61.218056</td>\n",
       "    </tr>\n",
       "  </tbody>\n",
       "</table>\n",
       "</div>"
      ],
      "text/plain": [
       "                  id  admission_rate      sat_avg    undergrads       tuition  \\\n",
       "count    1269.000000     1269.000000  1269.000000   1269.000000   1269.000000   \n",
       "mean   186987.700552        0.650142  1059.508274   5628.720252  21024.811663   \n",
       "std     52839.750821        0.192187   133.034296   7379.619072  12545.997785   \n",
       "min    100654.000000        0.050900   720.000000     47.000000   2732.000000   \n",
       "25%    153250.000000        0.533900   973.000000   1296.000000   8970.000000   \n",
       "50%    186283.000000        0.668700  1040.000000   2556.000000  20000.000000   \n",
       "75%    215284.000000        0.785900  1120.000000   6715.000000  30364.000000   \n",
       "max    484905.000000        1.000000  1545.000000  52280.000000  51008.000000   \n",
       "\n",
       "       faculty_salary_avg  loan_default_rate   median_debt          lon  \\\n",
       "count         1269.000000        1267.000000   1269.000000  1269.000000   \n",
       "mean          7656.030733           0.065582  23483.476359   -88.293929   \n",
       "std           2223.440660           0.046013   4613.809463    13.937356   \n",
       "min           1451.000000           0.000000   6056.000000  -157.922555   \n",
       "25%           6191.000000           0.035000  21250.000000   -94.171854   \n",
       "50%           7272.000000           0.055000  24588.500000   -84.890238   \n",
       "75%           8671.000000           0.083000  27000.000000   -78.630296   \n",
       "max          20650.000000           0.334000  41000.000000   -68.589491   \n",
       "\n",
       "               lat  \n",
       "count  1269.000000  \n",
       "mean     38.607607  \n",
       "std       4.632134  \n",
       "min      19.707094  \n",
       "25%      35.222567  \n",
       "50%      39.739236  \n",
       "75%      41.808431  \n",
       "max      61.218056  "
      ]
     },
     "execution_count": 18,
     "metadata": {},
     "output_type": "execute_result"
    }
   ],
   "source": [
    "df.describe()"
   ]
  },
  {
   "cell_type": "code",
   "execution_count": 31,
   "metadata": {},
   "outputs": [
    {
     "data": {
      "text/plain": [
       "0    102669.0\n",
       "1    101648.0\n",
       "2    100830.0\n",
       "3    101879.0\n",
       "4    100858.0\n",
       "Name: id, dtype: float64"
      ]
     },
     "execution_count": 31,
     "metadata": {},
     "output_type": "execute_result"
    }
   ],
   "source": [
    "id = df[\"id\"]\n",
    "\n",
    "id.head()"
   ]
  },
  {
   "cell_type": "code",
   "execution_count": 35,
   "metadata": {},
   "outputs": [
    {
     "data": {
      "text/plain": [
       "pandas.core.series.Series"
      ]
     },
     "execution_count": 35,
     "metadata": {},
     "output_type": "execute_result"
    }
   ],
   "source": [
    "type(df[\"region\"].value_counts(dropna =False))"
   ]
  },
  {
   "cell_type": "code",
   "execution_count": 36,
   "metadata": {},
   "outputs": [
    {
     "data": {
      "text/plain": [
       "South        459\n",
       "Midwest      353\n",
       "Northeast    299\n",
       "West         158\n",
       "Name: region, dtype: int64"
      ]
     },
     "execution_count": 36,
     "metadata": {},
     "output_type": "execute_result"
    }
   ],
   "source": [
    "df[\"region\"].value_counts(dropna = False)"
   ]
  },
  {
   "cell_type": "code",
   "execution_count": 34,
   "metadata": {},
   "outputs": [
    {
     "data": {
      "text/plain": [
       "1    South\n",
       "2    South\n",
       "Name: region, dtype: object"
      ]
     },
     "execution_count": 34,
     "metadata": {},
     "output_type": "execute_result"
    }
   ],
   "source": [
    "df.region[1:3]"
   ]
  }
 ],
 "metadata": {
  "kernelspec": {
   "display_name": "Python 3",
   "language": "python",
   "name": "python3"
  },
  "language_info": {
   "codemirror_mode": {
    "name": "ipython",
    "version": 3
   },
   "file_extension": ".py",
   "mimetype": "text/x-python",
   "name": "python",
   "nbconvert_exporter": "python",
   "pygments_lexer": "ipython3",
   "version": "3.10.3"
  },
  "vscode": {
   "interpreter": {
    "hash": "aee8b7b246df8f9039afb4144a1f6fd8d2ca17a180786b69acc140d282b71a49"
   }
  }
 },
 "nbformat": 4,
 "nbformat_minor": 4
}
