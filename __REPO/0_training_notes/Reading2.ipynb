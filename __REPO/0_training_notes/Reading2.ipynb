{
 "cells": [
  {
   "cell_type": "markdown",
   "metadata": {},
   "source": [
    "# Reading More Complex Data\n",
    "Sometimes data files have a more complex structure than a simple rectangular table or a rectangular table with folded lines.\n",
    "\n",
    "A common example is Census files having a hierarchical structure such as having both household and person records. Each typeof record has its own set of variables and structure. There may be some common variables. In the census example the person records would have both a person identifier (key) and a household identifier to indicate to which househld the person belonged. Each record might also have a record type variable.\n",
    "\n",
    "There are several ways that these sorts of files can be turned into DataFrames. \n"
   ]
  },
  {
   "cell_type": "markdown",
   "metadata": {},
   "source": [
    "# Setup"
   ]
  },
  {
   "cell_type": "code",
   "execution_count": 1,
   "metadata": {},
   "outputs": [
    {
     "data": {
      "text/plain": [
       "WindowsPath('C:/Users/zambrana/OneDrive - University of Kansas/LAS792_Fall2021_ForStudents/data/reading2')"
      ]
     },
     "execution_count": 1,
     "metadata": {},
     "output_type": "execute_result"
    }
   ],
   "source": [
    "import pandas as pd\n",
    "import pprint\n",
    "import warnings\n",
    "from pathlib import Path\n",
    "\n",
    "# capture the path to the data directory\n",
    "\n",
    "dataDirectory =Path.home() / r'OneDrive - University of Kansas\\LAS792_Fall2021_ForStudents\\data\\reading2'\n",
    "dataDirectory"
   ]
  },
  {
   "cell_type": "markdown",
   "metadata": {},
   "source": [
    "### Specifying Record Formats\n",
    "First, it is useful to have a method of describing the format of fixed column records in a data structure.\n",
    "\n",
    "We'll do that with a nested dictionary structure. The outer dictionary has keys that are the variable names. For each variable there is a dictionary that has keys for\n",
    "  * dataTypeFunction - a function that converts the string to the proper datatype\n",
    "  * startColumn - the index of the starting position (1 is the first position)\n",
    "  * endColumn - the index of the ending column\n",
    "  * fieldWidth - the width of the column\n",
    "\n",
    "EndColumn is preferred. If it is missing then the program will look for fieldWidth.  A value for startColumn must be supplied\n"
   ]
  },
  {
   "cell_type": "code",
   "execution_count": 52,
   "metadata": {},
   "outputs": [
    {
     "name": "stdout",
     "output_type": "stream",
     "text": [
      "\n",
      " Plain print of a dictionary\n",
      "\n",
      "{'recordType': {'dataTypeFunction': <class 'str'>, 'startPosition': 1, 'endPosition': 1}, 'householdIdGroup': {'dataTypeFunction': <class 'str'>, 'startPosition': 2, 'endPosition': 2}, 'householdId': {'dataTypeFunction': <class 'str'>, 'startPosition': 2, 'fieldWidth': 4}, 'numberOfPersons': {'dataTypeFunction': <class 'int'>, 'startPosition': 6, 'endPosition': 7, 'fieldWidth': 2}}\n",
      "\n",
      " PPRINT\n",
      "\n",
      "{'householdId': {'dataTypeFunction': <class 'str'>,\n",
      "                 'fieldWidth': 4,\n",
      "                 'startPosition': 2},\n",
      " 'householdIdGroup': {'dataTypeFunction': <class 'str'>,\n",
      "                      'endPosition': 2,\n",
      "                      'startPosition': 2},\n",
      " 'numberOfPersons': {'dataTypeFunction': <class 'int'>,\n",
      "                     'endPosition': 7,\n",
      "                     'fieldWidth': 2,\n",
      "                     'startPosition': 6},\n",
      " 'recordType': {'dataTypeFunction': <class 'str'>,\n",
      "                'endPosition': 1,\n",
      "                'startPosition': 1}}\n"
     ]
    }
   ],
   "source": [
    "import pprint\n",
    "# describe the structure of the Household records\n",
    "# This description could (should) come from the metadata for the file\n",
    "# note the mix of specifying endPosition and fieldWidth\n",
    "householdRecordStructure = {'recordType': {'dataTypeFunction':str,\n",
    "                                         'startPosition':1,\n",
    "                                         'endPosition':1                                  \n",
    "                                        },\n",
    "                            'householdIdGroup': {'dataTypeFunction':str,\n",
    "                                               'startPosition':2,\n",
    "                                               'endPosition':2                                  \n",
    "                                               }, \n",
    "                            'householdId': {'dataTypeFunction':str,\n",
    "                                          'startPosition':2,\n",
    "                                          'fieldWidth':4                                  \n",
    "                                          },                            \n",
    "                            'numberOfPersons': {'dataTypeFunction':int,\n",
    "                                              'startPosition':6,\n",
    "                                              'endPosition':7,\n",
    "                                              'fieldWidth':2                                  \n",
    "                                              },                            \n",
    "                           }\n",
    "\n",
    "print(\"\\n Plain print of a dictionary\\n\")\n",
    "print(householdRecordStructure)\n",
    "print(\"\\n PPRINT\\n\")\n",
    "pprint.pprint(householdRecordStructure)\n"
   ]
  },
  {
   "cell_type": "markdown",
   "metadata": {},
   "source": [
    "The next cell tests applying the dataTypeFunction to a string to produce an object of the right datatype. It converts the string '123' into an integer.\n",
    "\n",
    "Note that householdRecordStructure['numberOfPersons']['dataTypeFunction'] returns **int** *WHICH IS A FUNCTION*\n",
    "\n",
    "so this becomes castedValue = int('123')"
   ]
  },
  {
   "cell_type": "code",
   "execution_count": 53,
   "metadata": {},
   "outputs": [
    {
     "name": "stdout",
     "output_type": "stream",
     "text": [
      "The function to be applied is  <class 'int'>\n",
      "castedValue is an  <class 'int'>  of  123\n"
     ]
    }
   ],
   "source": [
    "print('The function to be applied is ', \n",
    "      householdRecordStructure['numberOfPersons']['dataTypeFunction'])\n",
    "castedValue = householdRecordStructure['numberOfPersons']['dataTypeFunction']('123')\n",
    "print(\"castedValue is an \", type(castedValue), \" of \", castedValue)"
   ]
  },
  {
   "cell_type": "markdown",
   "metadata": {},
   "source": [
    "What happens if we try to get endPosition when it doesn't exist?"
   ]
  },
  {
   "cell_type": "code",
   "execution_count": 54,
   "metadata": {
    "tags": [
     "raises-exception"
    ]
   },
   "outputs": [
    {
     "ename": "KeyError",
     "evalue": "'endPosition'",
     "output_type": "error",
     "traceback": [
      "\u001b[1;31m---------------------------------------------------------------------------\u001b[0m",
      "\u001b[1;31mKeyError\u001b[0m                                  Traceback (most recent call last)",
      "\u001b[1;32m<ipython-input-54-c18aeda6c93f>\u001b[0m in \u001b[0;36m<module>\u001b[1;34m\u001b[0m\n\u001b[1;32m----> 1\u001b[1;33m \u001b[0mhouseholdRecordStructure\u001b[0m\u001b[1;33m[\u001b[0m\u001b[1;34m'householdId'\u001b[0m\u001b[1;33m]\u001b[0m\u001b[1;33m[\u001b[0m\u001b[1;34m'endPosition'\u001b[0m\u001b[1;33m]\u001b[0m\u001b[1;33m\u001b[0m\u001b[1;33m\u001b[0m\u001b[0m\n\u001b[0m",
      "\u001b[1;31mKeyError\u001b[0m: 'endPosition'"
     ]
    }
   ],
   "source": [
    "householdRecordStructure['householdId']['endPosition']"
   ]
  },
  {
   "cell_type": "markdown",
   "metadata": {},
   "source": [
    "Use the dictionary **get** function to get the value and not throw an error when there is no such key. See https://docs.python.org/3/library/stdtypes.html#typesmapping\n"
   ]
  },
  {
   "cell_type": "code",
   "execution_count": 55,
   "metadata": {},
   "outputs": [
    {
     "name": "stdout",
     "output_type": "stream",
     "text": [
      "None\n"
     ]
    }
   ],
   "source": [
    "end = householdRecordStructure['householdId'].get('endPosition', None)\n",
    "print(end)"
   ]
  },
  {
   "cell_type": "markdown",
   "metadata": {},
   "source": [
    "We can use this data structure to parse a string into its component parts. We'll put those into a dictionary.\n"
   ]
  },
  {
   "cell_type": "code",
   "execution_count": 56,
   "metadata": {},
   "outputs": [
    {
     "name": "stdout",
     "output_type": "stream",
     "text": [
      "{'householdId': 'G123',\n",
      " 'householdIdGroup': 'G',\n",
      " 'numberOfPersons': 10,\n",
      " 'recordType': 'H'}\n"
     ]
    }
   ],
   "source": [
    "rawRecord='HG12310'\n",
    "dataStructure = {}\n",
    "for fieldName, fieldDict in (householdRecordStructure).items():\n",
    "    startIndex = fieldDict['startPosition']-1\n",
    "    endIndex = fieldDict.get('endPosition',None)\n",
    "    width = fieldDict.get('fieldWidth',None)\n",
    "    if endIndex != None:\n",
    "        dataString = rawRecord[startIndex:endIndex]\n",
    "    else:\n",
    "        dataString = rawRecord[startIndex:startIndex+width]\n",
    "    dataStructure[fieldName] = fieldDict['dataTypeFunction'](dataString)\n",
    "pprint.pprint(dataStructure)    "
   ]
  },
  {
   "cell_type": "markdown",
   "metadata": {},
   "source": [
    "# Creating a Function\n",
    "This code is pretty obviously code that could be reused many times. Making it a function will allow it to be reused without copying it each time.\n",
    "\n",
    "The function is defined with a *def* statement. Documentation for the function appears in a string literal immediately following the def line.\n",
    "\n",
    "\n",
    "The parameters for the function appear inside the parentheses. When the function is invoked the variables in the function code take on the values given in the function call. If these are references to mutable objects the calling object can be changed. This is called a *side effect* and is often a bad idea. The safest practice is to not change the values of arguments, only to return information through a return statement.\n",
    "\n",
    "See the invocation of the function in the code segment following the function definition to see how the function is used.\n",
    "\n",
    "This function does not do a good job of checking for valid arguments. What if both end and width are missing? What if width does not equal 1+end-start?  We could write another function that does this checking.\n"
   ]
  },
  {
   "cell_type": "code",
   "execution_count": 57,
   "metadata": {},
   "outputs": [],
   "source": [
    "def parseFwfRecord(rawRecord, recordStructure):\n",
    "    \"\"\"\n",
    "    Return a dictionary with keys as variable names and \n",
    "    values taken from the designated positions in the \n",
    "    raw string (the rawRecord).\n",
    "    \n",
    "    rawRecord is the string containing the raw data. \n",
    "    recordStructure is a nested dictionary.\n",
    "    The outer dictionary has keys that are the variable names. \n",
    "    For each variable there is a dictionary that has keys for:\n",
    "      * dataTypeFunction - a function that converts the string to the\n",
    "      proper datatype\n",
    "      * startColumn - the index of the starting position \n",
    "      (1 is the first position)\n",
    "      * endColumn - the index of the ending column\n",
    "      * fieldWidth - the width of the column\n",
    "\n",
    "    EndColumn is preferred. If it is missing then the program will \n",
    "    look for fieldWidth. \n",
    "    A value for startColumn must be supplied\n",
    "    \"\"\"\n",
    "    dataStructure = {}\n",
    "    for fieldName, fieldDict in (recordStructure).items():\n",
    "        startIndex = fieldDict['startPosition']-1\n",
    "        endIndex = fieldDict.get('endPosition',None)\n",
    "        width = fieldDict.get('fieldWidth',None)\n",
    "        if endIndex != None:\n",
    "            dataString = rawRecord[startIndex:endIndex]\n",
    "        else:\n",
    "            dataString = rawRecord[startIndex:startIndex+width]\n",
    "        dataStructure[fieldName] = fieldDict['dataTypeFunction'](dataString)\n",
    "    return dataStructure"
   ]
  },
  {
   "cell_type": "markdown",
   "metadata": {},
   "source": [
    "The function is *invoked* by listing objects for each of the function parameters (arguments). The value returned from the function is a dictionary of the parsed values from the raw data."
   ]
  },
  {
   "cell_type": "code",
   "execution_count": 58,
   "metadata": {},
   "outputs": [
    {
     "data": {
      "text/plain": [
       "{'recordType': 'H',\n",
       " 'householdIdGroup': 'M',\n",
       " 'householdId': 'M123',\n",
       " 'numberOfPersons': 2}"
      ]
     },
     "execution_count": 58,
     "metadata": {},
     "output_type": "execute_result"
    }
   ],
   "source": [
    "anotherRecord='HM12302'\n",
    "parseFwfRecord(rawRecord=anotherRecord, \n",
    "               recordStructure=householdRecordStructure)"
   ]
  },
  {
   "cell_type": "code",
   "execution_count": 59,
   "metadata": {},
   "outputs": [
    {
     "name": "stdout",
     "output_type": "stream",
     "text": [
      "\n",
      "    Return a dictionary with keys as variable names and \n",
      "    values taken from the designated positions in the \n",
      "    raw string (the rawRecord).\n",
      "    \n",
      "    rawRecord is the string containing the raw data. \n",
      "    recordStructure is a nested dictionary.\n",
      "    The outer dictionary has keys that are the variable names. \n",
      "    For each variable there is a dictionary that has keys for:\n",
      "      * dataTypeFunction - a function that converts the string to the\n",
      "      proper datatype\n",
      "      * startColumn - the index of the starting position \n",
      "      (1 is the first position)\n",
      "      * endColumn - the index of the ending column\n",
      "      * fieldWidth - the width of the column\n",
      "\n",
      "    EndColumn is preferred. If it is missing then the program will \n",
      "    look for fieldWidth. \n",
      "    A value for startColumn must be supplied\n",
      "    \n"
     ]
    }
   ],
   "source": [
    "# print the function documentation\n",
    "print(parseFwfRecord.__doc__)"
   ]
  },
  {
   "cell_type": "markdown",
   "metadata": {},
   "source": [
    "### Hierarchical Data\n",
    "Now suppose there is a data file that looks like this:\n",
    "\n",
    "`\n",
    " HierarchicalData.txt raw records follow this line\n",
    "HM45605\n",
    "PM4560001M45\n",
    "PM4560002F43\n",
    "PM4560003F09\n",
    "PM4560004M07\n",
    "PM4560005M04\n",
    "HM12302\n",
    "PM1230007M65\n",
    "PM1230008F66\n",
    "HG12903\n",
    "PG1290007M51\n",
    "PG1290009F51\n",
    "PG1290010F10\n",
    "`\n",
    "\n",
    "This file has household records like the ones above and person records that have the following structure:\n"
   ]
  },
  {
   "cell_type": "code",
   "execution_count": 60,
   "metadata": {},
   "outputs": [
    {
     "name": "stdout",
     "output_type": "stream",
     "text": [
      "{'age': {'dataTypeFunction': <class 'int'>,\n",
      "         'endPosition': 12,\n",
      "         'fieldWidth': 2,\n",
      "         'startPosition': 11},\n",
      " 'gender': {'dataTypeFunction': <class 'str'>,\n",
      "            'endPosition': 10,\n",
      "            'fieldWidth': 1,\n",
      "            'startPosition': 10},\n",
      " 'householdId': {'dataTypeFunction': <class 'str'>,\n",
      "                 'fieldWidth': 4,\n",
      "                 'startPosition': 2},\n",
      " 'householdIdGroup': {'dataTypeFunction': <class 'str'>,\n",
      "                      'endPosition': 2,\n",
      "                      'startPosition': 2},\n",
      " 'personID': {'dataTypeFunction': <class 'str'>,\n",
      "              'endPosition': 9,\n",
      "              'fieldWidth': 4,\n",
      "              'startPosition': 6},\n",
      " 'recordType': {'dataTypeFunction': <class 'str'>,\n",
      "                'endPosition': 1,\n",
      "                'startPosition': 1}}\n"
     ]
    }
   ],
   "source": [
    "personRecordStructure = {'recordType': {'dataTypeFunction':str,\n",
    "                                         'startPosition':1,\n",
    "                                         'endPosition':1                                  \n",
    "                                        },\n",
    "                            'householdIdGroup': {'dataTypeFunction':str,\n",
    "                                               'startPosition':2,\n",
    "                                               'endPosition':2                                  \n",
    "                                               }, \n",
    "                            'householdId': {'dataTypeFunction':str,\n",
    "                                          'startPosition':2,\n",
    "                                          'fieldWidth':4                                  \n",
    "                                          },                            \n",
    "                            'personID': {'dataTypeFunction':str,\n",
    "                                              'startPosition':6,\n",
    "                                              'endPosition':9,\n",
    "                                              'fieldWidth':4                                  \n",
    "                                              },                            \n",
    "                            'gender': {'dataTypeFunction':str,\n",
    "                                              'startPosition':10,\n",
    "                                              'endPosition':10,\n",
    "                                              'fieldWidth':1                                  \n",
    "                                              },\n",
    "                            'age': {'dataTypeFunction':int,\n",
    "                                              'startPosition':11,\n",
    "                                              'endPosition':12,\n",
    "                                              'fieldWidth':2                                  \n",
    "                                              },                       \n",
    "                        }\n",
    "pprint.pprint(personRecordStructure)"
   ]
  },
  {
   "cell_type": "markdown",
   "metadata": {},
   "source": [
    "To read the hierarchical file, first read a line and look at the record type, then read whole line using the correct structure. Add the structure to the appropriate DataFrame"
   ]
  },
  {
   "cell_type": "code",
   "execution_count": 61,
   "metadata": {},
   "outputs": [
    {
     "name": "stdout",
     "output_type": "stream",
     "text": [
      "HOUSEHOLDS\n",
      "\n",
      "  householdId householdIdGroup  numberOfPersons recordType\n",
      "0        M456                M              5.0          H\n",
      "1        M123                M              2.0          H\n",
      "2        G129                G              3.0          H\n",
      "\n",
      "PERSONS\n",
      "\n",
      "    age gender householdId householdIdGroup personID recordType\n",
      "0  45.0      M        M456                M     0001          P\n",
      "1  43.0      F        M456                M     0002          P\n",
      "2   9.0      F        M456                M     0003          P\n",
      "3   7.0      M        M456                M     0004          P\n",
      "4   4.0      M        M456                M     0005          P\n",
      "5  65.0      M        M123                M     0007          P\n",
      "6  66.0      F        M123                M     0008          P\n",
      "7  51.0      M        G129                G     0007          P\n",
      "8  51.0      F        G129                G     0009          P\n",
      "9  10.0      F        G129                G     0010          P\n"
     ]
    }
   ],
   "source": [
    "import pandas as pd\n",
    "personDf = pd.DataFrame()\n",
    "householdDf = pd.DataFrame()\n",
    "\n",
    "# read the hierarchical file\n",
    "hierarchicalFile=open(dataDirectory / \"HierarchicalData.txt\")\n",
    "for line in hierarchicalFile:\n",
    "    if(line[0:1]==\"H\"):\n",
    "        # this is a household record\n",
    "        houseDict = parseFwfRecord(rawRecord=line, \n",
    "                                   recordStructure=householdRecordStructure)\n",
    "        householdDf = householdDf.append(houseDict, ignore_index=True)\n",
    "    else:    \n",
    "        # this is a person record\n",
    "        personDict = parseFwfRecord(rawRecord=line, \n",
    "                                   recordStructure=personRecordStructure)\n",
    "        personDf = personDf.append(personDict, ignore_index=True)\n",
    "\n",
    "print(\"HOUSEHOLDS\\n\")\n",
    "pprint.pprint(householdDf)\n",
    "\n",
    "print(\"\\nPERSONS\\n\")\n",
    "pprint.pprint(personDf)"
   ]
  },
  {
   "cell_type": "markdown",
   "metadata": {},
   "source": [
    "### Using these DataFrames together\n",
    "Later we will see how to combiine information from the two DataFrames."
   ]
  },
  {
   "cell_type": "markdown",
   "metadata": {},
   "source": [
    "# Robust, Reusable Functions\n",
    "Even for one use writing a function like parseFwfRecord is useful. A function like this, though, is likely to be useful in many projects. If a function is to be reusable, it should not only return proper results, but also be able to handle bad input gracefully.\n",
    "\n",
    "In the record structure below each field has a different kind of error. Writing functions to check the record structure is a good first step.\n",
    "\n",
    "Note that one of the errors is caught when we try to run the next cell. The function \"foo\" is not defined."
   ]
  },
  {
   "cell_type": "code",
   "execution_count": 62,
   "metadata": {
    "tags": [
     "raises-exception"
    ]
   },
   "outputs": [
    {
     "ename": "NameError",
     "evalue": "name 'foo' is not defined",
     "output_type": "error",
     "traceback": [
      "\u001b[1;31m---------------------------------------------------------------------------\u001b[0m",
      "\u001b[1;31mNameError\u001b[0m                                 Traceback (most recent call last)",
      "\u001b[1;32m<ipython-input-62-f7fb02e8c8e1>\u001b[0m in \u001b[0;36m<module>\u001b[1;34m\u001b[0m\n\u001b[0;32m     22\u001b[0m                                               \u001b[1;34m'fieldWidth'\u001b[0m\u001b[1;33m:\u001b[0m\u001b[1;36m1\u001b[0m\u001b[1;33m\u001b[0m\u001b[1;33m\u001b[0m\u001b[0m\n\u001b[0;32m     23\u001b[0m                                               },\n\u001b[1;32m---> 24\u001b[1;33m                             'age': {'dataTypeFunction':foo,\n\u001b[0m\u001b[0;32m     25\u001b[0m                                               \u001b[1;34m'startPosition'\u001b[0m\u001b[1;33m:\u001b[0m\u001b[1;36m11\u001b[0m\u001b[1;33m,\u001b[0m\u001b[1;33m\u001b[0m\u001b[1;33m\u001b[0m\u001b[0m\n\u001b[0;32m     26\u001b[0m                                               \u001b[1;34m'endPosition'\u001b[0m\u001b[1;33m:\u001b[0m\u001b[1;36m12\u001b[0m\u001b[1;33m,\u001b[0m\u001b[1;33m\u001b[0m\u001b[1;33m\u001b[0m\u001b[0m\n",
      "\u001b[1;31mNameError\u001b[0m: name 'foo' is not defined"
     ]
    }
   ],
   "source": [
    "# this record structure has a different error in each field definition\n",
    "\n",
    "badPersonRecordStructure = {'recordType': {'dataTypeFunction':str,\n",
    "                                         'startPosition':2                              \n",
    "                                        },\n",
    "                            'householdIdGroup': {'dataTypeFunction':str,\n",
    "                                               'startPosition':2,\n",
    "                                               'endPosition':1                                  \n",
    "                                               }, \n",
    "                            'householdId': {'dataTypeFunction':str,\n",
    "                                          'startPosition':2,\n",
    "                                          'fieldWidth':0                                  \n",
    "                                          },                            \n",
    "                            'personID': {'dataTypeFunction':str,\n",
    "                                              'startPosition':6,\n",
    "                                              'endPosition':9,\n",
    "                                              'fieldWidth':3                                  \n",
    "                                              },                            \n",
    "                            'gender': {'dataTypeFunction':str,\n",
    "                                              'startPosition':100,\n",
    "                                              'endPosition':100,\n",
    "                                              'fieldWidth':1                                  \n",
    "                                              },\n",
    "                            'age': {'dataTypeFunction':foo,\n",
    "                                              'startPosition':11,\n",
    "                                              'endPosition':12,\n",
    "                                              'fieldWidth':2                                  \n",
    "                                              },                       \n",
    "                        }\n",
    "pprint.pprint(badPersonRecordStructure)"
   ]
  },
  {
   "cell_type": "code",
   "execution_count": 63,
   "metadata": {},
   "outputs": [
    {
     "name": "stdout",
     "output_type": "stream",
     "text": [
      "{'age': {'endPosition': 12, 'fieldWidth': 2, 'startPosition': 11},\n",
      " 'gender': {'dataTypeFunction': 1,\n",
      "            'endPosition': 1000,\n",
      "            'fieldWidth': 1,\n",
      "            'startPosition': 1000},\n",
      " 'householdId': {'dataTypeFunction': <class 'str'>,\n",
      "                 'fieldWidth': 0,\n",
      "                 'startPosition': -2},\n",
      " 'householdIdGroup': {'dataTypeFunction': <class 'str'>,\n",
      "                      'endPosition': 1,\n",
      "                      'startPosition': 2},\n",
      " 'personID': {'dataTypeFunction': <class 'str'>,\n",
      "              'endPosition': 9,\n",
      "              'fieldWidth': 3,\n",
      "              'startPosition': 6},\n",
      " 'recordType': {'dataTypeFunction': <class 'str'>, 'startPosition': 2}}\n"
     ]
    }
   ],
   "source": [
    "# this record structure has at least one error in each field definition\n",
    "import pprint\n",
    "badPersonRecordStructure2 = {'recordType': {'dataTypeFunction':str,\n",
    "                                         'startPosition':2                              \n",
    "                                        },\n",
    "                            'householdIdGroup': {'dataTypeFunction':str,\n",
    "                                               'startPosition':2,\n",
    "                                               'endPosition':1                                  \n",
    "                                               }, \n",
    "                            'householdId': {'dataTypeFunction':str,\n",
    "                                          'startPosition':-2,\n",
    "                                          'fieldWidth':0                                  \n",
    "                                          },                            \n",
    "                            'personID': {'dataTypeFunction':str,\n",
    "                                              'startPosition':6,\n",
    "                                              'endPosition':9,\n",
    "                                              'fieldWidth':3                                  \n",
    "                                              },                            \n",
    "                            'gender': {'dataTypeFunction':1,\n",
    "                                              'startPosition':1000,\n",
    "                                              'endPosition':1000,\n",
    "                                              'fieldWidth':1                                  \n",
    "                                              },\n",
    "                            'age': {'startPosition':11,\n",
    "                                              'endPosition':12,\n",
    "                                              'fieldWidth':2                                  \n",
    "                                              },                       \n",
    "                        }\n",
    "pprint.pprint(badPersonRecordStructure2)"
   ]
  },
  {
   "cell_type": "code",
   "execution_count": 64,
   "metadata": {},
   "outputs": [],
   "source": [
    "import warnings\n",
    "def validRecordStructure(recordStructure, verbose=True):\n",
    "    '''\n",
    "    validRecordStructure returns True if no errors are found, False if an error is found.\n",
    "    In the latter case error message is printed to the log if verbose is True (the default).\n",
    "    recordStructure is the structure to check.\n",
    "    '''\n",
    "    # assume no errors\n",
    "    hasError = False\n",
    "    \n",
    "    # examine each field \n",
    "           \n",
    "    for fieldName,structureDict in recordStructure.items():\n",
    "        # missing keys\n",
    "\n",
    "        start = structureDict.get('startPosition')\n",
    "        end = structureDict.get('endPosition')\n",
    "        width = structureDict.get('fieldWidth')       \n",
    "        dataTypeFunction = structureDict.get('dataTypeFunction')\n",
    "        \n",
    "        if dataTypeFunction == None:\n",
    "            # this could issue a warning\n",
    "            warnings.warn(fieldName + \" is missing a dataTypeFunction\")\n",
    "            hasError = True    \n",
    "        else:\n",
    "            fnType = str(type(dataTypeFunction))\n",
    "            isBadType = fnType not in [\"<class 'function'>\", \"<class 'type'>\"]\n",
    "            if isBadType:\n",
    "                # this could issue a warning\n",
    "                print('NOTE: ', fieldName, \" has a dataTypeFunction that is not a function or type: \" , fnType)\n",
    "                warnings.warn(fieldName + \" has a dataTypeFunction that is not a function or type: \" + fnType)\n",
    "                hasError = True    \n",
    "                      \n",
    "        if start == None:\n",
    "            # or it could just print warnings\n",
    "            print(\"NOTE: \", fieldName, \" is missing a valid startPosition\")\n",
    "            hasError = True \n",
    "        else:\n",
    "            if start <= 0:\n",
    "              print(\"NOTE: \", fieldName, \" startPosition must be greater than 0\")\n",
    "              hasError = True \n",
    "    \n",
    "           \n",
    "        # must have at least an end or a width. It must be positive, non-zero.   \n",
    "        \n",
    "        if (end == None) and (width == None):\n",
    "            print(\"NOTE: \", fieldName, \" is missing both an endPosition and a fieldWidth.\\n         At least one must be specified.\")\n",
    "            hasError = True  \n",
    "        elif end != None and end <= 0:\n",
    "            print(\"NOTE: \", fieldName, \" endPosition  must be greater than 0.\")\n",
    "            hasError = True  \n",
    "        elif width != None and width <= 0:\n",
    "            print(\"NOTE: \", fieldName, \" fieldWidth  must be greater than 0.\")\n",
    "            hasError = True  \n",
    "\n",
    "        \n",
    "        # end must be greater than start   \n",
    "        if (start != None and\n",
    "           end != None and\n",
    "           start > end):\n",
    "             print(\"NOTE: \", fieldName, \" start must not be greater than end.\")\n",
    "             hasError = True   \n",
    "                \n",
    " \n",
    "            \n",
    "        # start, end, and width must be consistent    \n",
    "        if (start != None and\n",
    "           end != None and \n",
    "           width != None and\n",
    "           width != 1 + end - start):\n",
    "            print(\"NOTE: \", fieldName, \" start end and width are not consistent \", \n",
    "                  \"\\n        \",\n",
    "                  width, \n",
    "                  \"  != 1 + \", end, \" - \", start  )\n",
    "            hasError = True  \n",
    "            \n",
    "    return not hasError"
   ]
  },
  {
   "cell_type": "code",
   "execution_count": 65,
   "metadata": {},
   "outputs": [
    {
     "name": "stdout",
     "output_type": "stream",
     "text": [
      "{'age': {'endPosition': 12, 'fieldWidth': 2, 'startPosition': 11},\n",
      " 'gender': {'dataTypeFunction': 1,\n",
      "            'endPosition': 1000,\n",
      "            'fieldWidth': 1,\n",
      "            'startPosition': 1000},\n",
      " 'householdId': {'dataTypeFunction': <class 'str'>,\n",
      "                 'fieldWidth': 0,\n",
      "                 'startPosition': -2},\n",
      " 'householdIdGroup': {'dataTypeFunction': <class 'str'>,\n",
      "                      'endPosition': 1,\n",
      "                      'startPosition': 2},\n",
      " 'personID': {'dataTypeFunction': <class 'str'>,\n",
      "              'endPosition': 9,\n",
      "              'fieldWidth': 3,\n",
      "              'startPosition': 6},\n",
      " 'recordType': {'dataTypeFunction': <class 'str'>, 'startPosition': 2}}\n",
      "\n",
      "\n",
      "\n",
      "\n",
      "NOTE:  recordType  is missing both an endPosition and a fieldWidth.\n",
      "         At least one must be specified.\n",
      "NOTE:  householdIdGroup  start must not be greater than end.\n",
      "NOTE:  householdId  startPosition must be greater than 0\n",
      "NOTE:  householdId  fieldWidth  must be greater than 0.\n",
      "NOTE:  personID  start end and width are not consistent  \n",
      "         3   != 1 +  9  -  6\n",
      "NOTE:  gender  has a dataTypeFunction that is not a function or type:  <class 'int'>\n",
      "\n",
      "\n",
      " Valid structure:  False\n"
     ]
    },
    {
     "name": "stderr",
     "output_type": "stream",
     "text": [
      "C:\\ProgramData\\Anaconda3\\lib\\site-packages\\ipykernel_launcher.py:31: UserWarning: gender has a dataTypeFunction that is not a function or type: <class 'int'>\n",
      "C:\\ProgramData\\Anaconda3\\lib\\site-packages\\ipykernel_launcher.py:23: UserWarning: age is missing a dataTypeFunction\n"
     ]
    }
   ],
   "source": [
    "pprint.pprint(badPersonRecordStructure2)\n",
    "print(\"\\n\\n\\n\")\n",
    "print(\"\\n\\n Valid structure: \", validRecordStructure(badPersonRecordStructure2))"
   ]
  },
  {
   "cell_type": "code",
   "execution_count": 66,
   "metadata": {},
   "outputs": [
    {
     "name": "stdout",
     "output_type": "stream",
     "text": [
      "that's all folks\n"
     ]
    }
   ],
   "source": [
    "print(\"that's all folks\")"
   ]
  },
  {
   "cell_type": "code",
   "execution_count": null,
   "metadata": {},
   "outputs": [],
   "source": []
  }
 ],
 "metadata": {
  "celltoolbar": "Tags",
  "kernelspec": {
   "display_name": "Python 3",
   "language": "python",
   "name": "python3"
  },
  "language_info": {
   "codemirror_mode": {
    "name": "ipython",
    "version": 3
   },
   "file_extension": ".py",
   "mimetype": "text/x-python",
   "name": "python",
   "nbconvert_exporter": "python",
   "pygments_lexer": "ipython3",
   "version": "3.8.8"
  }
 },
 "nbformat": 4,
 "nbformat_minor": 2
}
