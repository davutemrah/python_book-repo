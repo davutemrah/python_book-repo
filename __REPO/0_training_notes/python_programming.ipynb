{
 "cells": [
  {
   "cell_type": "markdown",
   "id": "0887529b-074d-4a45-a532-8d9ee423d002",
   "metadata": {},
   "source": [
    "# Python reserved Words for variable names\n",
    "\n",
    "False       None        True        and     as      assert      except\n",
    "class       if          def         del     elif    else        in    \n",
    "return      for         from        global  try     import      raise    \n",
    "is          lambda      while       not     or      pass     \n",
    "finally     continue    nonlocal    with    yield   break \n"
   ]
  },
  {
   "cell_type": "code",
   "execution_count": 1,
   "id": "eb1aabca-d2c0-434c-afa2-411e568c158c",
   "metadata": {},
   "outputs": [
    {
     "data": {
      "text/plain": [
       "2"
      ]
     },
     "execution_count": 1,
     "metadata": {},
     "output_type": "execute_result"
    }
   ],
   "source": [
    "# Chapter 2\n",
    "\n",
    "## Expressions\n",
    "\n",
    "x = 1\n",
    "y = 10\n",
    "\n",
    "x = x + 1  # increment\n",
    "x"
   ]
  },
  {
   "cell_type": "code",
   "execution_count": 2,
   "id": "1308508d-91a5-4c8f-aa45-4af2ac40e197",
   "metadata": {},
   "outputs": [
    {
     "data": {
      "text/plain": [
       "int"
      ]
     },
     "execution_count": 2,
     "metadata": {},
     "output_type": "execute_result"
    }
   ],
   "source": [
    "x1 = x * 2 * y  # multiplication\n",
    "x2 = y / 100    # division\n",
    "x3 = y ** 2     # power\n",
    "x4 = y % x      # remainder\n",
    "\n",
    "type(x4)\n"
   ]
  },
  {
   "cell_type": "code",
   "execution_count": 1,
   "id": "0286315d-6241-4ec6-b2d2-861b2e06a3e8",
   "metadata": {},
   "outputs": [
    {
     "data": {
      "text/plain": [
       "str"
      ]
     },
     "execution_count": 1,
     "metadata": {},
     "output_type": "execute_result"
    }
   ],
   "source": [
    "a = \"hello\"\n",
    "b = \" \"\n",
    "c = \"world\"\n",
    "\n",
    "z = a + b + c\n",
    "z\n",
    "type(z)"
   ]
  },
  {
   "cell_type": "code",
   "execution_count": 2,
   "id": "b4bc281a-4925-48c1-b9cb-7e01852f61a1",
   "metadata": {},
   "outputs": [
    {
     "data": {
      "text/plain": [
       "float"
      ]
     },
     "execution_count": 2,
     "metadata": {},
     "output_type": "execute_result"
    }
   ],
   "source": [
    "# Implicit Conversion\n",
    "\n",
    "x10 = 10.0\n",
    "type(x10)"
   ]
  },
  {
   "cell_type": "code",
   "execution_count": 4,
   "id": "aa688be7-3aed-4466-9b38-609468605c92",
   "metadata": {},
   "outputs": [
    {
     "name": "stdout",
     "output_type": "stream",
     "text": [
      "21.0   float\n"
     ]
    }
   ],
   "source": [
    "x11 = 11\n",
    "\n",
    "print(x11 + x10, \"  float\")"
   ]
  },
  {
   "cell_type": "code",
   "execution_count": 5,
   "id": "54796d3c-ce8d-4fff-a7ea-ce836d196557",
   "metadata": {},
   "outputs": [
    {
     "name": "stdout",
     "output_type": "stream",
     "text": [
      "Whats your name? Davut\n"
     ]
    },
    {
     "name": "stdout",
     "output_type": "stream",
     "text": [
      "Davut\n"
     ]
    }
   ],
   "source": [
    "## User input\n",
    "\n",
    "# input(): output will be STRING\n",
    "\n",
    "name = input(\"Whats your name?\")\n",
    "\n",
    "print(name)"
   ]
  },
  {
   "cell_type": "code",
   "execution_count": 6,
   "id": "5cc24200-9030-4c49-b90d-cec2d9b823c0",
   "metadata": {},
   "outputs": [
    {
     "name": "stdout",
     "output_type": "stream",
     "text": [
      "Europe floor? 5\n"
     ]
    },
    {
     "name": "stdout",
     "output_type": "stream",
     "text": [
      "US floor 6\n"
     ]
    }
   ],
   "source": [
    "### Example: converting elevator floors\n",
    "\n",
    "userinput = input('Europe floor?')\n",
    "\n",
    "usfloor = int(userinput) + 1\n",
    "\n",
    "print('US floor', usfloor)"
   ]
  },
  {
   "cell_type": "code",
   "execution_count": 7,
   "id": "2821cb15-561b-4591-ba94-b49efb5fbdef",
   "metadata": {},
   "outputs": [
    {
     "name": "stdout",
     "output_type": "stream",
     "text": [
      "Enter Hours: 5\n",
      "Enter rate: 10\n"
     ]
    },
    {
     "name": "stdout",
     "output_type": "stream",
     "text": [
      "Pay: 50.0\n"
     ]
    }
   ],
   "source": [
    "### Example: pay rate\n",
    "\n",
    "hrs = input(\"Enter Hours:\")\n",
    "rate = input(\"Enter rate:\")\n",
    "pay = float(hrs) * float(rate)\n",
    "\n",
    "print(\"Pay:\", pay)"
   ]
  },
  {
   "cell_type": "code",
   "execution_count": 9,
   "id": "b5d07b16-ad25-4502-af54-deb0528c8dd6",
   "metadata": {},
   "outputs": [
    {
     "name": "stdout",
     "output_type": "stream",
     "text": [
      "smaller\n",
      "Finish\n"
     ]
    }
   ],
   "source": [
    "## Conditional Steps\n",
    "x = 5\n",
    "if x < 10:\n",
    "    print(\"smaller\")\n",
    "if x > 20:\n",
    "    print(\"bigger\")\n",
    "print(\"Finish\")"
   ]
  },
  {
   "cell_type": "code",
   "execution_count": 6,
   "id": "1ed9265a-5465-4156-a83e-7d139bd9b2a2",
   "metadata": {},
   "outputs": [
    {
     "name": "stdout",
     "output_type": "stream",
     "text": [
      "1\n",
      "2\n",
      "3\n",
      "4\n",
      "5\n"
     ]
    }
   ],
   "source": [
    "## while loop\n",
    "\n",
    "i = 1\n",
    "while i < 6:\n",
    "  print(i)\n",
    "  i += 1"
   ]
  },
  {
   "cell_type": "code",
   "execution_count": 175,
   "id": "b6fff4f3-81d8-4ed9-8df8-24507b7b0300",
   "metadata": {},
   "outputs": [
    {
     "name": "stdout",
     "output_type": "stream",
     "text": [
      "5\n",
      "4\n",
      "3\n",
      "2\n",
      "1\n",
      "Blastoff!\n"
     ]
    }
   ],
   "source": [
    "## Repeated Steps:\n",
    "\n",
    "n = 5\n",
    "while n > 0:\n",
    "    print(n)\n",
    "    n -=1\n",
    "    \n",
    "print(\"Blastoff!\")"
   ]
  },
  {
   "cell_type": "code",
   "execution_count": 171,
   "id": "fd32623a-7208-4884-9865-b0c1f163d5b3",
   "metadata": {},
   "outputs": [
    {
     "name": "stdout",
     "output_type": "stream",
     "text": [
      "1\n",
      "2\n",
      "4\n",
      "5\n",
      "6\n"
     ]
    }
   ],
   "source": [
    "# The continue Statement\n",
    "# With the continue statement we can stop the current iteration, and continue with the next:\n",
    "i = 0\n",
    "while i < 6:\n",
    "  i += 1\n",
    "  if i == 3:   ## skips to next iteration when i==3\n",
    "    continue\n",
    "  print(i)"
   ]
  },
  {
   "cell_type": "code",
   "execution_count": 23,
   "id": "d39b218d-0ee5-4a31-8ebd-ab73b0e99e49",
   "metadata": {},
   "outputs": [
    {
     "name": "stdout",
     "output_type": "stream",
     "text": [
      "1\n",
      "2\n",
      "3\n"
     ]
    }
   ],
   "source": [
    "# The break Statement\n",
    "# With the break statement we can stop the loop even if the while condition is true:\n",
    "    \n",
    "i = 1\n",
    "while i < 6:\n",
    "  print(i)\n",
    "  if i == 3:\n",
    "    break\n",
    "  i += 1"
   ]
  },
  {
   "cell_type": "code",
   "execution_count": 25,
   "id": "63e485b2-1b1e-4ae8-b024-fcfeeca87651",
   "metadata": {},
   "outputs": [
    {
     "name": "stdout",
     "output_type": "stream",
     "text": [
      "1\n",
      "2\n",
      "3\n",
      "4\n",
      "5\n",
      "i is no longer less than 6\n",
      "6\n"
     ]
    }
   ],
   "source": [
    "## The else Statement\n",
    "# With the else statement we can run a block of code once when the condition no longer is true:\n",
    "    \n",
    "# Print a message once the condition is false:\n",
    "\n",
    "i = 1\n",
    "while i < 6:\n",
    "  print(i)\n",
    "  i += 1\n",
    "else:\n",
    "  print(\"i is no longer less than 6\")\n",
    "  print(i)"
   ]
  },
  {
   "cell_type": "code",
   "execution_count": 28,
   "id": "12269047-1cec-4949-a15c-bd09326974e4",
   "metadata": {},
   "outputs": [
    {
     "name": "stdout",
     "output_type": "stream",
     "text": [
      "b is greater than a\n"
     ]
    }
   ],
   "source": [
    "## if statement\n",
    "\n",
    "a = 33\n",
    "b = 200\n",
    "if b > a:\n",
    "    print(\"b is greater than a\")"
   ]
  },
  {
   "cell_type": "code",
   "execution_count": 7,
   "id": "8039cfe4-d178-4398-9b54-af88dcc47838",
   "metadata": {},
   "outputs": [
    {
     "name": "stdout",
     "output_type": "stream",
     "text": [
      "a and b are equal\n"
     ]
    }
   ],
   "source": [
    "## The elif keyword is pythons way of saying \"if the previous conditions were not true, then try this condition\".\n",
    "\n",
    "a = 33\n",
    "b = 33\n",
    "if b > a:\n",
    "  print(\"b is greater than a\")\n",
    "elif a == b:\n",
    "  print(\"a and b are equal\")"
   ]
  },
  {
   "cell_type": "code",
   "execution_count": 8,
   "id": "023390f1-ea85-43d4-b89d-9099d19147fc",
   "metadata": {},
   "outputs": [
    {
     "name": "stdout",
     "output_type": "stream",
     "text": [
      "a and b are equal\n"
     ]
    }
   ],
   "source": [
    "a = 33\n",
    "b = 33\n",
    "if b > a:\n",
    "  print(\"b is greater than a\")\n",
    "if a == b:\n",
    "  print(\"a and b are equal\")"
   ]
  },
  {
   "cell_type": "code",
   "execution_count": null,
   "id": "f3053069-a825-44a4-a4da-e833a66112f1",
   "metadata": {},
   "outputs": [],
   "source": [
    "# Two 'if' statements are mutually exclusive. They are evaluated individually.\n",
    "\n",
    "# The elif fixes this and makes the multiple if statements 'stick together' as one:\n",
    "\n",
    "# That is because BOTH if statements are being evaluated. The computer sees them as two separate statements:bb"
   ]
  },
  {
   "cell_type": "code",
   "execution_count": null,
   "id": "d710a4c9-f3ad-4b6e-9679-fddc3ccbe10a",
   "metadata": {},
   "outputs": [],
   "source": [
    "### Else\n",
    "\n",
    "# The else keyword catches anything which isn't caught by the preceding conditions.\n",
    "\n",
    "a = 200\n",
    "b = 33\n",
    "if b > a:\n",
    "  print(\"b is greater than a\")\n",
    "elif a == b:\n",
    "  print(\"a and b are equal\")\n",
    "else:\n",
    "  print(\"a is greater than b\")"
   ]
  },
  {
   "cell_type": "code",
   "execution_count": null,
   "id": "129efc57-2173-4712-b8be-dfcf38b09447",
   "metadata": {},
   "outputs": [],
   "source": [
    "## AND operator\n",
    "a = 200\n",
    "b = 33\n",
    "c = 500\n",
    "if a > b and c > a:\n",
    "  print(\"Both conditions are True\")"
   ]
  },
  {
   "cell_type": "code",
   "execution_count": null,
   "id": "8bf01fb1-ae8f-4b4e-8e5b-af02ca350ee0",
   "metadata": {},
   "outputs": [],
   "source": [
    "## OR operator\n",
    "a = 200\n",
    "b = 33\n",
    "c = 500\n",
    "if a > b or c > a:\n",
    "  print(\"At least one of the conditions is True\")"
   ]
  },
  {
   "cell_type": "code",
   "execution_count": null,
   "id": "4d7bdc76-a5f5-4ab7-988f-c7a56cf01392",
   "metadata": {},
   "outputs": [],
   "source": [
    "## Nested If\n",
    "# You can have if statements inside if statements, this is called nested if statements.\n",
    "\n",
    "x = 41\n",
    "\n",
    "if x > 10:\n",
    "  print(\"Above ten,\")\n",
    "  if x > 20:\n",
    "    print(\"and also above 20!\")\n",
    "  else:\n",
    "    print(\"but not above 20.\")"
   ]
  },
  {
   "cell_type": "code",
   "execution_count": 36,
   "id": "14f7ed64-fa2e-4cd5-bf8e-ca83106d59d8",
   "metadata": {},
   "outputs": [],
   "source": [
    "## The pass Statement\n",
    "\n",
    "'''\n",
    "if statements cannot be empty, but if you for some reason have an if statement with no content, \n",
    "put in the pass statement to avoid getting an error.\n",
    "'''\n",
    "\n",
    "a = 33\n",
    "b = 200\n",
    "\n",
    "if b > a:\n",
    "  pass"
   ]
  },
  {
   "cell_type": "code",
   "execution_count": null,
   "id": "ae7dbf34-db23-4500-959a-c7459c596b79",
   "metadata": {},
   "outputs": [],
   "source": [
    "## Casting\n",
    "\n",
    "## If you want to specify the data type of a variable, this can be done with casting.\n",
    "\n",
    "x = str(3)    # x will be '3'\n",
    "y = int(3)    # y will be 3\n",
    "z = float(3)  # z will be 3.0"
   ]
  },
  {
   "cell_type": "code",
   "execution_count": null,
   "id": "9e166e08-385e-4e6e-9f27-e45933180a9d",
   "metadata": {},
   "outputs": [],
   "source": [
    "## Get the Type\n",
    "## You can get the data type of a variable with the type() function.\n",
    "\n",
    "x = 5\n",
    "y = \"John\"\n",
    "print(type(x))\n",
    "print(type(y))"
   ]
  },
  {
   "cell_type": "code",
   "execution_count": null,
   "id": "173a4e1f-239e-4b6f-b41e-7ef6f1afb8d4",
   "metadata": {},
   "outputs": [],
   "source": [
    "## Single or Double Quotes?\n",
    "# String variables can be declared either by using single or double quotes:\n",
    "\n",
    "x = \"John\"\n",
    "# is the same as\n",
    "x = 'John'"
   ]
  },
  {
   "cell_type": "code",
   "execution_count": null,
   "id": "f3b77280-9d76-4d1b-afdd-bca7c928fd6c",
   "metadata": {},
   "outputs": [],
   "source": [
    "## Case-Sensitive\n",
    "\n",
    "## Variable names are case-sensitive.\n",
    "\n",
    "## This will create two variables:\n",
    "\n",
    "a = 4\n",
    "A = \"Sally\"\n",
    "#A will not overwrite a"
   ]
  },
  {
   "cell_type": "code",
   "execution_count": null,
   "id": "2421699e-cf7c-4907-9b2e-ac10b34ddaf4",
   "metadata": {},
   "outputs": [],
   "source": [
    "## Multi Words Variable Names\n",
    "\n",
    "'''\n",
    "Variable names with more than one word can be difficult to read.\n",
    "\n",
    "There are several techniques you can use to make them more readable:\n",
    "'''\n",
    "## Camel Case: Each word, except the first, starts with a capital letter:\n",
    "\n",
    "myVariableName = \"John\"\n",
    "\n",
    "## Pascal Case: Each word starts with a capital letter:\n",
    "\n",
    "MyVariableName = \"John\"\n",
    "\n",
    "## Snake Case: Each word is separated by an underscore character:\n",
    "\n",
    "my_variable_name = \"John\""
   ]
  },
  {
   "cell_type": "code",
   "execution_count": null,
   "id": "f01459b5-efc6-4643-a5e3-f30c2cfd9f2d",
   "metadata": {},
   "outputs": [],
   "source": [
    "## Many Values to Multiple Variables\n",
    "## Python allows you to assign values to multiple variables in one line:\n",
    "\n",
    "x, y, z = \"Orange\", \"Banana\", \"Cherry\"\n",
    "print(x)\n",
    "print(y)\n",
    "print(z)"
   ]
  },
  {
   "cell_type": "code",
   "execution_count": null,
   "id": "98a54e73-eb93-45f8-9c3d-5459d514846b",
   "metadata": {},
   "outputs": [],
   "source": [
    "## One Value to Multiple Variables: And you can assign the same value to multiple variables in one line:\n",
    "\n",
    "x = y = z = \"Orange\"\n",
    "print(x)\n",
    "print(y)\n",
    "print(z)"
   ]
  },
  {
   "cell_type": "code",
   "execution_count": 1,
   "id": "95b22e76-e1ef-4ab7-9935-e4c9bc20f736",
   "metadata": {},
   "outputs": [
    {
     "name": "stdout",
     "output_type": "stream",
     "text": [
      "apple\n",
      "banana\n",
      "cherry\n"
     ]
    }
   ],
   "source": [
    "## Unpack a Collection\n",
    "\n",
    "## If you have a collection of values in a list, tuple etc. \n",
    "## Python allows you to extract the values into variables. This is called unpacking.\n",
    "\n",
    "fruits = [\"apple\", \"banana\", \"cherry\"]\n",
    "x, y, z = fruits\n",
    "print(x)\n",
    "print(y)\n",
    "print(z)"
   ]
  },
  {
   "cell_type": "code",
   "execution_count": 3,
   "id": "48d21bf3-7343-4b97-b072-e3640b4c7c68",
   "metadata": {},
   "outputs": [
    {
     "name": "stdout",
     "output_type": "stream",
     "text": [
      "Python is awesome\n"
     ]
    }
   ],
   "source": [
    "## print\n",
    "x = \"Python\"\n",
    "y = \"is\"\n",
    "z = \"awesome\"\n",
    "print(x, y, z)"
   ]
  },
  {
   "cell_type": "code",
   "execution_count": 4,
   "id": "8b3464d9-6631-4924-8de1-ece8539ce190",
   "metadata": {},
   "outputs": [
    {
     "name": "stdout",
     "output_type": "stream",
     "text": [
      "5 John\n"
     ]
    }
   ],
   "source": [
    "x = 5\n",
    "y = \"John\"\n",
    "print(x, y)"
   ]
  },
  {
   "cell_type": "code",
   "execution_count": 5,
   "id": "5e22d11a-6dd5-425b-b2d2-7e6d1fd18d5e",
   "metadata": {},
   "outputs": [
    {
     "name": "stdout",
     "output_type": "stream",
     "text": [
      "Python is fantastic\n"
     ]
    }
   ],
   "source": [
    "## GLOBAL\n",
    "\n",
    "x = \"awesome\"\n",
    "\n",
    "def myfunc():\n",
    "  global x\n",
    "  x = \"fantastic\"\n",
    "\n",
    "myfunc()\n",
    "\n",
    "print(\"Python is \" + x)"
   ]
  },
  {
   "cell_type": "code",
   "execution_count": 7,
   "id": "d0106811-9997-4adc-8855-9b09b3153476",
   "metadata": {},
   "outputs": [
    {
     "name": "stdout",
     "output_type": "stream",
     "text": [
      "25\n"
     ]
    }
   ],
   "source": [
    "k = 25\n",
    "global k\n",
    "\n",
    "\n",
    "print(k)"
   ]
  },
  {
   "attachments": {},
   "cell_type": "markdown",
   "id": "01c37bea-b16f-4621-bc9a-f17928f1a563",
   "metadata": {
    "tags": []
   },
   "source": [
    "## DATA TYPES\n",
    "\n",
    "Text Type:\tstr  \n",
    "Numeric Types:\tint, float, complex   \n",
    "Sequence Types:\tlist, tuple, range   \n",
    "Mapping Type:\tdict    \n",
    "Set Types:\tset, frozenset    \n",
    "Boolean Type:\tbool    \n",
    "Binary Types:\tbytes, bytearray, memoryview   \n",
    "None Type:\tNoneType   "
   ]
  },
  {
   "cell_type": "code",
   "execution_count": 8,
   "id": "db87ba0a-d427-451f-b23c-833fa0eee473",
   "metadata": {},
   "outputs": [
    {
     "name": "stdout",
     "output_type": "stream",
     "text": [
      "Lorem ipsum dolor sit amet,\n",
      "consectetur adipiscing elit,\n",
      "sed do eiusmod tempor incididunt\n",
      "ut labore et dolore magna aliqua.\n"
     ]
    }
   ],
   "source": [
    "## MULTI LINE STRINGS\n",
    "\n",
    "a = '''Lorem ipsum dolor sit amet,\n",
    "consectetur adipiscing elit,\n",
    "sed do eiusmod tempor incididunt\n",
    "ut labore et dolore magna aliqua.'''\n",
    "print(a)"
   ]
  },
  {
   "cell_type": "code",
   "execution_count": 10,
   "id": "50aa362d-fe22-4e4b-80b5-d3c7b6112715",
   "metadata": {},
   "outputs": [
    {
     "name": "stdout",
     "output_type": "stream",
     "text": [
      "b\n",
      "a\n",
      "n\n",
      "a\n",
      "n\n",
      "a\n"
     ]
    }
   ],
   "source": [
    "## LOOP THROUGH STRING\n",
    "\n",
    "for x in \"banana\":\n",
    "  print(x)"
   ]
  },
  {
   "cell_type": "code",
   "execution_count": 13,
   "id": "00a58e7d-2b3b-4f9f-a0a3-f030346705eb",
   "metadata": {},
   "outputs": [
    {
     "name": "stdout",
     "output_type": "stream",
     "text": [
      "True\n"
     ]
    }
   ],
   "source": [
    "## CHECK STRING\n",
    "\n",
    "txt = \"The best things in life are free!\"\n",
    "\n",
    "print(\"free\" in txt)"
   ]
  },
  {
   "cell_type": "code",
   "execution_count": 23,
   "id": "7f4d5ba3-6f58-4262-a30b-59e705cbc28b",
   "metadata": {},
   "outputs": [
    {
     "name": "stdout",
     "output_type": "stream",
     "text": [
      "Yes, 'free' is present.\n"
     ]
    }
   ],
   "source": [
    "txt = \"The best things in life are free!\"\n",
    "\n",
    "if \"free\" in txt:\n",
    "  print(\"Yes, 'free' is present.\")\n",
    "\n",
    "else:\n",
    "    print(\"No, 'free' is not present\")"
   ]
  },
  {
   "cell_type": "code",
   "execution_count": 24,
   "id": "5921e2b8-ffe8-4be4-b032-3d91c116a858",
   "metadata": {},
   "outputs": [
    {
     "name": "stdout",
     "output_type": "stream",
     "text": [
      "True\n"
     ]
    }
   ],
   "source": [
    "## NOT IN\n",
    "\n",
    "txt = \"The best things in life are free!\"\n",
    "\n",
    "print(\"expensive\" not in txt)"
   ]
  },
  {
   "cell_type": "code",
   "execution_count": 25,
   "id": "760bd5d6-5397-4058-b6b0-fbdb14ab42a4",
   "metadata": {},
   "outputs": [
    {
     "name": "stdout",
     "output_type": "stream",
     "text": [
      "No, 'expensive' is NOT present.\n"
     ]
    }
   ],
   "source": [
    "txt = \"The best things in life are free!\"\n",
    "\n",
    "if \"expensive\" not in txt:\n",
    "  print(\"No, 'expensive' is NOT present.\")"
   ]
  },
  {
   "cell_type": "code",
   "execution_count": 26,
   "id": "a80350a0-c727-4fe6-ba0e-e386a29ced28",
   "metadata": {},
   "outputs": [
    {
     "data": {
      "text/plain": [
       "'ana'"
      ]
     },
     "execution_count": 26,
     "metadata": {},
     "output_type": "execute_result"
    }
   ],
   "source": [
    "## SLICING\n",
    "\n",
    "x = \"banana\"\n",
    "\n",
    "x[1:4]"
   ]
  },
  {
   "cell_type": "code",
   "execution_count": 27,
   "id": "110c545f-6231-417b-a036-f214d7c2bd90",
   "metadata": {},
   "outputs": [
    {
     "data": {
      "text/plain": [
       "'bana'"
      ]
     },
     "execution_count": 27,
     "metadata": {},
     "output_type": "execute_result"
    }
   ],
   "source": [
    "x = \"banana\"\n",
    "\n",
    "x[:4]"
   ]
  },
  {
   "cell_type": "code",
   "execution_count": 29,
   "id": "fcf0f5a9-9618-4b2f-88cf-7a4ed16ff4be",
   "metadata": {},
   "outputs": [
    {
     "name": "stdout",
     "output_type": "stream",
     "text": [
      "World!\n"
     ]
    }
   ],
   "source": [
    "b = \"Hello, World!\"\n",
    "\n",
    "print(b[-6:])"
   ]
  },
  {
   "cell_type": "code",
   "execution_count": 30,
   "id": "9a310250-ee61-4bf9-a73d-987f11d8a8e3",
   "metadata": {},
   "outputs": [
    {
     "name": "stdout",
     "output_type": "stream",
     "text": [
      "HELLO, WORLD!\n"
     ]
    }
   ],
   "source": [
    "## MODIFY STRINGS\n"
   ]
  },
  {
   "cell_type": "code",
   "execution_count": 31,
   "id": "28d4e089-5dd5-45b1-a347-892798ba1fed",
   "metadata": {},
   "outputs": [
    {
     "name": "stdout",
     "output_type": "stream",
     "text": [
      "HELLO, WORLD!\n"
     ]
    }
   ],
   "source": [
    "## upper case\n",
    "\n",
    "a = \"Hello, World!\"\n",
    "\n",
    "print(a.upper())"
   ]
  },
  {
   "cell_type": "code",
   "execution_count": 33,
   "id": "a9c1d375-6c28-4ab1-a278-0445e2c69b18",
   "metadata": {},
   "outputs": [
    {
     "name": "stdout",
     "output_type": "stream",
     "text": [
      "hello, world!\n"
     ]
    }
   ],
   "source": [
    "## lower case\n",
    "\n",
    "a = \"Hello, World!\"\n",
    "\n",
    "print(a.lower())"
   ]
  },
  {
   "cell_type": "code",
   "execution_count": 35,
   "id": "5738339d-8835-4c94-ad0c-c7272d6446b0",
   "metadata": {},
   "outputs": [
    {
     "name": "stdout",
     "output_type": "stream",
     "text": [
      "Hello, World!\n"
     ]
    }
   ],
   "source": [
    "## white space\n",
    "\n",
    "a = \" Hello, World! \"\n",
    "\n",
    "print(a.strip()) # returns \"Hello, World!\""
   ]
  },
  {
   "cell_type": "code",
   "execution_count": 36,
   "id": "336f908b-65f6-4a0d-bd6b-4db3e614420d",
   "metadata": {},
   "outputs": [
    {
     "name": "stdout",
     "output_type": "stream",
     "text": [
      "Jello, World!\n"
     ]
    }
   ],
   "source": [
    "## replace\n",
    "\n",
    "a = \"Hello, World!\"\n",
    "\n",
    "print(a.replace(\"H\", \"J\"))"
   ]
  },
  {
   "cell_type": "code",
   "execution_count": 37,
   "id": "aad2b206-67fb-4f68-912c-fb219b9eee38",
   "metadata": {},
   "outputs": [
    {
     "name": "stdout",
     "output_type": "stream",
     "text": [
      "['Hello', ' World!']\n"
     ]
    }
   ],
   "source": [
    "## split\n",
    "\n",
    "a = \"Hello, World!\"\n",
    "\n",
    "print(a.split(\",\")) # returns ['Hello', ' World!']"
   ]
  },
  {
   "cell_type": "code",
   "execution_count": 41,
   "id": "a9f72ceb-fc66-4566-98ed-59ec3eec2035",
   "metadata": {},
   "outputs": [
    {
     "data": {
      "text/plain": [
       "'Hello'"
      ]
     },
     "execution_count": 41,
     "metadata": {},
     "output_type": "execute_result"
    }
   ],
   "source": [
    "a.split(\",\")[0].strip()"
   ]
  },
  {
   "cell_type": "code",
   "execution_count": 42,
   "id": "25f9661e-2977-4a70-9458-b42b3876fde9",
   "metadata": {},
   "outputs": [
    {
     "data": {
      "text/plain": [
       "'World!'"
      ]
     },
     "execution_count": 42,
     "metadata": {},
     "output_type": "execute_result"
    }
   ],
   "source": [
    "a.split(\",\")[1].strip()"
   ]
  },
  {
   "cell_type": "code",
   "execution_count": 161,
   "id": "956b1283-a3e5-45ff-8ed4-19343626ae02",
   "metadata": {},
   "outputs": [
    {
     "name": "stdout",
     "output_type": "stream",
     "text": [
      "My name is John, and I am 36, she is 39\n"
     ]
    }
   ],
   "source": [
    "## FORMAT METHOD\n",
    "\n",
    "## I\n",
    "\n",
    "age1 = 36\n",
    "age2 = 39\n",
    "txt = \"My name is John, and I am {}, she is {}\"\n",
    "\n",
    "print(txt.format(age1, age2))"
   ]
  },
  {
   "cell_type": "code",
   "execution_count": 157,
   "id": "64ad5162-c69c-4110-9f2d-5759ba097585",
   "metadata": {},
   "outputs": [
    {
     "name": "stdout",
     "output_type": "stream",
     "text": [
      "My name is John, and I am 39, she is 36\n"
     ]
    }
   ],
   "source": [
    "## II\n",
    "\n",
    "age1 = 36\n",
    "age2 = 39\n",
    "txt = \"My name is John, and I am {1}, she is {0}\"\n",
    "\n",
    "print(txt.format(age1, age2))"
   ]
  },
  {
   "cell_type": "markdown",
   "id": "93d05efa-878c-4304-8516-978d10dd67b9",
   "metadata": {},
   "source": [
    "## boolean\n",
    "\n",
    "Almost any value is evaluated to True if it has some sort of content.\n",
    "\n",
    "Any string is True, except empty strings.\n",
    "\n",
    "Any number is True, except 0.\n",
    "\n",
    "Any list, tuple, set, and dictionary are True, except empty ones."
   ]
  },
  {
   "cell_type": "code",
   "execution_count": 49,
   "id": "838b1264-d271-4596-b8a7-9951544f4d5e",
   "metadata": {},
   "outputs": [
    {
     "name": "stdout",
     "output_type": "stream",
     "text": [
      "True\n",
      "True\n"
     ]
    }
   ],
   "source": [
    "print(bool(\"Hello\"))\n",
    "print(bool(15))"
   ]
  },
  {
   "cell_type": "markdown",
   "id": "e62b1273-02b7-421e-b9c6-2431b1fea934",
   "metadata": {
    "tags": []
   },
   "source": [
    "## Python Arithmetic Operators\n",
    "\n",
    "+ : Addition\n",
    "- : Subtraction\n",
    "* : Multiplication\n",
    "/ : Division\n",
    "% : Modulus\n",
    "** : Exponentiation\n",
    "// : Floor division"
   ]
  },
  {
   "cell_type": "code",
   "execution_count": 50,
   "id": "0aaaa327-15a3-4af9-b171-8676bad8483e",
   "metadata": {},
   "outputs": [
    {
     "data": {
      "text/plain": [
       "3"
      ]
     },
     "execution_count": 50,
     "metadata": {},
     "output_type": "execute_result"
    }
   ],
   "source": [
    "10 // 3"
   ]
  },
  {
   "cell_type": "code",
   "execution_count": 51,
   "id": "2681d763-b9bc-4af8-bf4f-cbcaedcbcc3b",
   "metadata": {},
   "outputs": [
    {
     "data": {
      "text/plain": [
       "1"
      ]
     },
     "execution_count": 51,
     "metadata": {},
     "output_type": "execute_result"
    }
   ],
   "source": [
    "10 % 3"
   ]
  },
  {
   "cell_type": "markdown",
   "id": "9f83c030-ca82-4ba2-a08e-b9edc5c2d36b",
   "metadata": {},
   "source": [
    "## Python Assignment Operators\n"
   ]
  },
  {
   "cell_type": "code",
   "execution_count": 52,
   "id": "ff45cf72-6af7-43a3-8f6f-345d81cfdc95",
   "metadata": {},
   "outputs": [
    {
     "name": "stdout",
     "output_type": "stream",
     "text": [
      "15\n"
     ]
    }
   ],
   "source": [
    "x = 10\n",
    "\n",
    "x += 5\n",
    "\n",
    "print(x)"
   ]
  },
  {
   "cell_type": "code",
   "execution_count": 53,
   "id": "7f307d53-67ec-43f3-9c4d-3a229e5c739c",
   "metadata": {},
   "outputs": [
    {
     "name": "stdout",
     "output_type": "stream",
     "text": [
      "8\n"
     ]
    }
   ],
   "source": [
    "y = 10\n",
    "\n",
    "y -= 2\n",
    "\n",
    "print(y)"
   ]
  },
  {
   "cell_type": "markdown",
   "id": "b40d2ef3-0aa8-4175-82f6-c0d513f403d9",
   "metadata": {},
   "source": [
    "## Python Identity Operators"
   ]
  },
  {
   "cell_type": "code",
   "execution_count": 57,
   "id": "f0f4d068-8ae4-4458-a34c-3d14c8c837fe",
   "metadata": {},
   "outputs": [
    {
     "name": "stdout",
     "output_type": "stream",
     "text": [
      "y is 10\n"
     ]
    }
   ],
   "source": [
    "x = 10.0\n",
    "x = y\n",
    "\n",
    "if y is x:\n",
    "    print(\"y is 10\")\n",
    "else: \n",
    "    print(\"y is not 10\")"
   ]
  },
  {
   "cell_type": "markdown",
   "id": "05347bdb-a08c-4a52-802f-a20539415f93",
   "metadata": {
    "tags": []
   },
   "source": [
    "## Membership Operators"
   ]
  },
  {
   "cell_type": "code",
   "execution_count": 60,
   "id": "a8b42d57-2d35-4b5c-8b79-4f957d090e1a",
   "metadata": {},
   "outputs": [
    {
     "name": "stdout",
     "output_type": "stream",
     "text": [
      "Your choice is a favorite\n"
     ]
    }
   ],
   "source": [
    "favorites = [\"apple\", \"cherry\", \"banana\"]\n",
    "\n",
    "my_fav = \"apple\"\n",
    "\n",
    "if my_fav in favorites:\n",
    "    print(\"Your choice is a favorite\")\n",
    "else: \n",
    "    print(\"not favorite\")"
   ]
  },
  {
   "cell_type": "markdown",
   "id": "8889e183-b4bd-4894-8c4e-638427aa3169",
   "metadata": {},
   "source": [
    "## LISTS\n",
    "\n",
    "List items are ordered, changeable, and allow duplicate values.\n",
    "\n",
    "List items are indexed, the first item has index [0], the second item has index [1] etc."
   ]
  },
  {
   "cell_type": "code",
   "execution_count": 61,
   "id": "14b17075-b61c-4f03-b03f-620179675f19",
   "metadata": {},
   "outputs": [
    {
     "data": {
      "text/plain": [
       "5"
      ]
     },
     "execution_count": 61,
     "metadata": {},
     "output_type": "execute_result"
    }
   ],
   "source": [
    "list1 = [\"abc\", 34, True, 40, \"male\"]\n",
    "\n",
    "len(list1)"
   ]
  },
  {
   "cell_type": "code",
   "execution_count": 142,
   "id": "36da94cc-267c-434c-b2ac-087049884ffb",
   "metadata": {},
   "outputs": [
    {
     "data": {
      "text/plain": [
       "[1, 2, 3, 4]"
      ]
     },
     "execution_count": 142,
     "metadata": {},
     "output_type": "execute_result"
    }
   ],
   "source": [
    "numbers = [1, 2, 3]\n",
    "numbers.append(4)\n",
    "numbers"
   ]
  },
  {
   "cell_type": "code",
   "execution_count": 144,
   "id": "d22b6cb5-4231-47fd-ab82-9cec4ae0ddd0",
   "metadata": {},
   "outputs": [
    {
     "name": "stdout",
     "output_type": "stream",
     "text": [
      "[1]\n",
      "[1, 2]\n",
      "[1, 2, 3]\n",
      "[1, 2, 3, 4]\n"
     ]
    }
   ],
   "source": [
    "my = []\n",
    "for i in range(len(numbers)):\n",
    "    my.append(numbers[i])\n",
    "    print(my)"
   ]
  },
  {
   "cell_type": "code",
   "execution_count": 148,
   "id": "951d5f2d-97eb-498e-82d8-5732947132aa",
   "metadata": {},
   "outputs": [],
   "source": [
    "## random number\n",
    "\n",
    "import random"
   ]
  },
  {
   "cell_type": "code",
   "execution_count": 149,
   "id": "73082c5b-1bbb-4f59-8ccd-aca5e4053dd6",
   "metadata": {},
   "outputs": [
    {
     "data": {
      "text/plain": [
       "4"
      ]
     },
     "execution_count": 149,
     "metadata": {},
     "output_type": "execute_result"
    }
   ],
   "source": [
    "random.randrange(1,10)"
   ]
  },
  {
   "cell_type": "markdown",
   "id": "c91a71dd",
   "metadata": {},
   "source": [
    "## casting"
   ]
  },
  {
   "cell_type": "code",
   "execution_count": 1,
   "id": "41f459d5-e5e2-492e-8d93-5218e81b75e0",
   "metadata": {},
   "outputs": [
    {
     "data": {
      "text/plain": [
       "1"
      ]
     },
     "execution_count": 1,
     "metadata": {},
     "output_type": "execute_result"
    }
   ],
   "source": [
    "int(1.1)"
   ]
  },
  {
   "cell_type": "code",
   "execution_count": 153,
   "id": "188c9f8a-264a-4770-a580-8cfe99c01dd6",
   "metadata": {},
   "outputs": [
    {
     "data": {
      "text/plain": [
       "3"
      ]
     },
     "execution_count": 153,
     "metadata": {},
     "output_type": "execute_result"
    }
   ],
   "source": [
    "int(\"3\") ## does not take decimals"
   ]
  },
  {
   "cell_type": "code",
   "execution_count": 154,
   "id": "7050eec5-faa4-4bfb-8347-9e00fe93d398",
   "metadata": {},
   "outputs": [
    {
     "data": {
      "text/plain": [
       "3.5"
      ]
     },
     "execution_count": 154,
     "metadata": {},
     "output_type": "execute_result"
    }
   ],
   "source": [
    "float(\"3.5\")"
   ]
  },
  {
   "cell_type": "code",
   "execution_count": 155,
   "id": "112d1c92-0849-4c76-85c7-21e5ebec2b2e",
   "metadata": {},
   "outputs": [
    {
     "data": {
      "text/plain": [
       "'5.5'"
      ]
     },
     "execution_count": 155,
     "metadata": {},
     "output_type": "execute_result"
    }
   ],
   "source": [
    "str(5.5)"
   ]
  },
  {
   "cell_type": "markdown",
   "id": "e5d1dd00",
   "metadata": {},
   "source": [
    "### Python Collections (Arrays)\n",
    "\n",
    "There are four collection data types in the Python programming language:\n",
    "\n",
    "List is a collection which is ordered and changeable. Allows duplicate members.\n",
    "\n",
    "Tuple is a collection which is ordered and unchangeable. Allows duplicate members.\n",
    "\n",
    "Set is a collection which is unordered, unchangeable*, and unindexed. No duplicate members.\n",
    "\n",
    "Dictionary is a collection which is ordered** and changeable. No duplicate members."
   ]
  },
  {
   "cell_type": "markdown",
   "id": "0163c830",
   "metadata": {},
   "source": []
  },
  {
   "cell_type": "code",
   "execution_count": 2,
   "id": "085e43f1",
   "metadata": {},
   "outputs": [
    {
     "name": "stdout",
     "output_type": "stream",
     "text": [
      "['A', 'B', 'C', 'D', 'E']\n"
     ]
    }
   ],
   "source": [
    "## LISTS\n",
    "\n",
    "list1 = ['A', 'B', 'C', 'D', 'E', 'F', 'G']\n",
    "\n",
    "## 1. Ordered\n",
    "\n",
    "list_1_5 = list1[0:5]\n",
    "print(list_1_5) "
   ]
  },
  {
   "cell_type": "code",
   "execution_count": 5,
   "id": "2cb76729",
   "metadata": {},
   "outputs": [
    {
     "data": {
      "text/plain": [
       "['A', 'B', 'insert1', 'insert2', 'D', 'E', 'F', 'G']"
      ]
     },
     "execution_count": 5,
     "metadata": {},
     "output_type": "execute_result"
    }
   ],
   "source": [
    "## 2. Lists are changable\n",
    "\n",
    "# If you insert more items than you replace, the new items will be inserted where you specified, and the remaining items will move accordingly:\n",
    "\n",
    "# If you insert less items than you replace, the new items will be inserted where you specified, and the remaining items will move accordingly:\n",
    "\n",
    "list1 = ['A', 'B', 'C', 'D', 'E', 'F', 'G']\n",
    "\n",
    "list1[2:3] = ['insert1', 'insert2'] ## inserted 2 items and replace 'C'\n",
    "\n",
    "list1"
   ]
  },
  {
   "cell_type": "markdown",
   "id": "40048df0",
   "metadata": {},
   "source": [
    "## Insert Items\n",
    "\n",
    "To insert a new list item, without replacing any of the existing values, we can use the insert() method.\n",
    "\n",
    "The insert() method inserts an item at the specified index:"
   ]
  },
  {
   "cell_type": "code",
   "execution_count": 6,
   "id": "e9c2bee6",
   "metadata": {},
   "outputs": [
    {
     "name": "stdout",
     "output_type": "stream",
     "text": [
      "['apple', 'banana', 'watermelon', 'cherry']\n"
     ]
    }
   ],
   "source": [
    "thislist = [\"apple\", \"banana\", \"cherry\"]\n",
    "\n",
    "thislist.insert(2, \"watermelon\")\n",
    "\n",
    "print(thislist)"
   ]
  },
  {
   "cell_type": "markdown",
   "id": "cded9f12",
   "metadata": {},
   "source": [
    "## Append Items\n",
    "\n",
    "To add an item to the end of the list, use the append() method:"
   ]
  },
  {
   "cell_type": "code",
   "execution_count": 7,
   "id": "eea292e4",
   "metadata": {},
   "outputs": [
    {
     "name": "stdout",
     "output_type": "stream",
     "text": [
      "['apple', 'banana', 'cherry', 'orange']\n"
     ]
    }
   ],
   "source": [
    "thislist = [\"apple\", \"banana\", \"cherry\"]\n",
    "\n",
    "thislist.append(\"orange\")\n",
    "\n",
    "print(thislist)"
   ]
  },
  {
   "cell_type": "markdown",
   "id": "ab9136fb",
   "metadata": {},
   "source": [
    "## Extend List\n",
    "\n",
    "To append elements from another list to the current list, use the extend() method."
   ]
  },
  {
   "cell_type": "code",
   "execution_count": 8,
   "id": "dac1dd78",
   "metadata": {},
   "outputs": [
    {
     "name": "stdout",
     "output_type": "stream",
     "text": [
      "['apple', 'banana', 'cherry', 'mango', 'pineapple', 'papaya']\n"
     ]
    }
   ],
   "source": [
    "thislist = [\"apple\", \"banana\", \"cherry\"]\n",
    "\n",
    "tropical = [\"mango\", \"pineapple\", \"papaya\"]\n",
    "\n",
    "thislist.extend(tropical)\n",
    "\n",
    "print(thislist)"
   ]
  },
  {
   "cell_type": "code",
   "execution_count": 9,
   "id": "4f0fc705",
   "metadata": {},
   "outputs": [
    {
     "name": "stdout",
     "output_type": "stream",
     "text": [
      "['apple', 'banana', 'cherry', 'kiwi', 'orange']\n"
     ]
    }
   ],
   "source": [
    "## extend a list by tuple\n",
    "\n",
    "thislist = [\"apple\", \"banana\", \"cherry\"]\n",
    "\n",
    "thistuple = (\"kiwi\", \"orange\")\n",
    "\n",
    "thislist.extend(thistuple)\n",
    "\n",
    "print(thislist)"
   ]
  },
  {
   "cell_type": "markdown",
   "id": "2cacb383",
   "metadata": {},
   "source": [
    "## Remove Specified Item\n",
    "\n",
    "The remove() method removes the specified item."
   ]
  },
  {
   "cell_type": "code",
   "execution_count": 10,
   "id": "0aaaa37f",
   "metadata": {},
   "outputs": [
    {
     "name": "stdout",
     "output_type": "stream",
     "text": [
      "['apple', 'cherry']\n"
     ]
    }
   ],
   "source": [
    "thislist = [\"apple\", \"banana\", \"cherry\"]\n",
    "\n",
    "thislist.remove(\"banana\")\n",
    "\n",
    "print(thislist)"
   ]
  },
  {
   "cell_type": "markdown",
   "id": "81708906",
   "metadata": {},
   "source": [
    "## Remove Specified Index\n",
    "\n",
    "The pop() method removes the specified index."
   ]
  },
  {
   "cell_type": "code",
   "execution_count": 11,
   "id": "f8c6f388",
   "metadata": {},
   "outputs": [
    {
     "name": "stdout",
     "output_type": "stream",
     "text": [
      "['apple', 'cherry']\n"
     ]
    }
   ],
   "source": [
    "thislist = [\"apple\", \"banana\", \"cherry\"]\n",
    "\n",
    "thislist.pop(1)\n",
    "\n",
    "print(thislist)"
   ]
  },
  {
   "cell_type": "code",
   "execution_count": 12,
   "id": "d12761d9",
   "metadata": {},
   "outputs": [
    {
     "name": "stdout",
     "output_type": "stream",
     "text": [
      "['apple', 'banana']\n"
     ]
    }
   ],
   "source": [
    "## Remove the last item:\n",
    "\n",
    "thislist = [\"apple\", \"banana\", \"cherry\"]\n",
    "\n",
    "thislist.pop()\n",
    "\n",
    "print(thislist)"
   ]
  },
  {
   "cell_type": "markdown",
   "id": "24cc53f0",
   "metadata": {},
   "source": [
    "## The del keyword also removes the specified index:\n",
    "\n"
   ]
  },
  {
   "cell_type": "code",
   "execution_count": 13,
   "id": "be291963",
   "metadata": {},
   "outputs": [
    {
     "name": "stdout",
     "output_type": "stream",
     "text": [
      "['banana', 'cherry']\n"
     ]
    }
   ],
   "source": [
    "thislist = [\"apple\", \"banana\", \"cherry\"]\n",
    "\n",
    "del thislist[0]\n",
    "\n",
    "print(thislist)"
   ]
  },
  {
   "cell_type": "code",
   "execution_count": 15,
   "id": "70e494d5",
   "metadata": {},
   "outputs": [],
   "source": [
    "## delete completely\n",
    "\n",
    "thislist = [\"apple\", \"banana\", \"cherry\"]\n",
    "\n",
    "del thislist"
   ]
  },
  {
   "cell_type": "markdown",
   "id": "5ffbbbfa",
   "metadata": {},
   "source": [
    "## Clear the List\n",
    "\n",
    "The clear() method empties the list.\n",
    "\n",
    "The list still remains, but it has no content."
   ]
  },
  {
   "cell_type": "code",
   "execution_count": 16,
   "id": "18c3f041",
   "metadata": {},
   "outputs": [
    {
     "name": "stdout",
     "output_type": "stream",
     "text": [
      "[]\n"
     ]
    }
   ],
   "source": [
    "## Clear the list content:\n",
    "\n",
    "thislist = [\"apple\", \"banana\", \"cherry\"]\n",
    "\n",
    "thislist.clear()\n",
    "\n",
    "print(thislist)"
   ]
  },
  {
   "cell_type": "markdown",
   "id": "99abad0c",
   "metadata": {},
   "source": [
    "## Loop Through a List\n",
    "\n",
    "You can loop through the list items by using a for loop:"
   ]
  },
  {
   "cell_type": "code",
   "execution_count": 17,
   "id": "02285032",
   "metadata": {},
   "outputs": [
    {
     "name": "stdout",
     "output_type": "stream",
     "text": [
      "apple\n",
      "banana\n",
      "cherry\n"
     ]
    }
   ],
   "source": [
    "thislist = [\"apple\", \"banana\", \"cherry\"]\n",
    "\n",
    "for x in thislist:\n",
    "  print(x)"
   ]
  },
  {
   "cell_type": "code",
   "execution_count": 18,
   "id": "470fc32b",
   "metadata": {},
   "outputs": [
    {
     "name": "stdout",
     "output_type": "stream",
     "text": [
      "apple\n",
      "banana\n",
      "cherry\n"
     ]
    }
   ],
   "source": [
    "## Print all items by referring to their index number:\n",
    "\n",
    "thislist = [\"apple\", \"banana\", \"cherry\"]\n",
    "\n",
    "for i in range(len(thislist)):\n",
    "  print(thislist[i])"
   ]
  },
  {
   "cell_type": "code",
   "execution_count": null,
   "id": "36801cb1",
   "metadata": {},
   "outputs": [],
   "source": []
  }
 ],
 "metadata": {
  "kernelspec": {
   "display_name": "Python 3.10.3 64-bit",
   "language": "python",
   "name": "python3"
  },
  "language_info": {
   "codemirror_mode": {
    "name": "ipython",
    "version": 3
   },
   "file_extension": ".py",
   "mimetype": "text/x-python",
   "name": "python",
   "nbconvert_exporter": "python",
   "pygments_lexer": "ipython3",
   "version": "3.10.3"
  },
  "vscode": {
   "interpreter": {
    "hash": "aee8b7b246df8f9039afb4144a1f6fd8d2ca17a180786b69acc140d282b71a49"
   }
  }
 },
 "nbformat": 4,
 "nbformat_minor": 5
}
