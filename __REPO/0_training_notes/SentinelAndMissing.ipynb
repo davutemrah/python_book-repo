{
 "cells": [
  {
   "cell_type": "markdown",
   "metadata": {},
   "source": [
    "# Sentinel and Missing Values in Python and Pandas\n",
    "Python has several ways of representing missing values illustrated in the cells below."
   ]
  },
  {
   "cell_type": "code",
   "execution_count": 2,
   "metadata": {},
   "outputs": [],
   "source": [
    "import pandas as pd\n",
    "import numpy as np"
   ]
  },
  {
   "cell_type": "markdown",
   "metadata": {},
   "source": [
    "### Negative zero"
   ]
  },
  {
   "cell_type": "code",
   "execution_count": 3,
   "metadata": {},
   "outputs": [
    {
     "data": {
      "text/plain": [
       "0   -0.0\n",
       "1   -0.0\n",
       "dtype: float64"
      ]
     },
     "execution_count": 3,
     "metadata": {},
     "output_type": "execute_result"
    }
   ],
   "source": [
    "sminus0 = -1.0 * pd.Series([0.0,0.0])\n",
    "sminus0"
   ]
  },
  {
   "cell_type": "markdown",
   "metadata": {},
   "source": [
    "### Positive and negative infinity   inf and -inf in Pandas\n"
   ]
  },
  {
   "cell_type": "code",
   "execution_count": 4,
   "metadata": {},
   "outputs": [
    {
     "name": "stdout",
     "output_type": "stream",
     "text": [
      "0    inf\n",
      "1   -inf\n",
      "dtype: float64\n",
      "\n",
      " datatype of 1.0/0.0 is  <class 'numpy.float64'>\n",
      "\n",
      " numpy isinf() on 1.0/0.0 returns  True\n"
     ]
    }
   ],
   "source": [
    "s1 = pd.Series([1.0,-1.0])\n",
    "s0 = pd.Series([0.0,0.0])\n",
    "sRatio = s1/s0\n",
    "print(sRatio)\n",
    "print('\\n datatype of 1.0/0.0 is ', type(sRatio[0]))\n",
    "print('\\n numpy isinf() on 1.0/0.0 returns ',  np.isinf(sRatio[0]))"
   ]
  },
  {
   "cell_type": "markdown",
   "metadata": {},
   "source": [
    "### Base Python  infinite value computations"
   ]
  },
  {
   "cell_type": "code",
   "execution_count": 5,
   "metadata": {
    "tags": [
     "raises-exception"
    ]
   },
   "outputs": [
    {
     "ename": "ZeroDivisionError",
     "evalue": "float division by zero",
     "output_type": "error",
     "traceback": [
      "\u001b[1;31m---------------------------------------------------------------------------\u001b[0m",
      "\u001b[1;31mZeroDivisionError\u001b[0m                         Traceback (most recent call last)",
      "\u001b[1;32m<ipython-input-5-0dda708f6d03>\u001b[0m in \u001b[0;36m<module>\u001b[1;34m\u001b[0m\n\u001b[1;32m----> 1\u001b[1;33m \u001b[1;36m1.0\u001b[0m\u001b[1;33m/\u001b[0m\u001b[1;36m0.0\u001b[0m\u001b[1;33m\u001b[0m\u001b[1;33m\u001b[0m\u001b[0m\n\u001b[0m",
      "\u001b[1;31mZeroDivisionError\u001b[0m: float division by zero"
     ]
    }
   ],
   "source": [
    "1.0/0.0"
   ]
  },
  {
   "cell_type": "markdown",
   "metadata": {},
   "source": [
    "### numpy inf"
   ]
  },
  {
   "cell_type": "code",
   "execution_count": 6,
   "metadata": {},
   "outputs": [
    {
     "name": "stdout",
     "output_type": "stream",
     "text": [
      "the result is  inf  having type  <class 'numpy.float64'>\n"
     ]
    },
    {
     "name": "stderr",
     "output_type": "stream",
     "text": [
      "C:\\ProgramData\\Anaconda3\\lib\\site-packages\\ipykernel_launcher.py:3: RuntimeWarning: divide by zero encountered in double_scalars\n",
      "  This is separate from the ipykernel package so we can avoid doing imports until\n"
     ]
    }
   ],
   "source": [
    "f64One = np.float64(1.0)\n",
    "f64zero = np.float64(0.0)\n",
    "rat64 = f64One / f64zero\n",
    "print('the result is ', rat64, ' having type ', type(rat64))"
   ]
  },
  {
   "cell_type": "markdown",
   "metadata": {},
   "source": [
    "# Missing Values\n"
   ]
  },
  {
   "cell_type": "markdown",
   "metadata": {},
   "source": [
    "### Numeric data"
   ]
  },
  {
   "cell_type": "code",
   "execution_count": 26,
   "metadata": {},
   "outputs": [
    {
     "name": "stdout",
     "output_type": "stream",
     "text": [
      "python None is of type  <class 'NoneType'> pd.isnull?   True\n",
      "math nan is of type  <class 'float'> pd.isnull?   True\n",
      "numpy nan is of type  <class 'float'> pd.isnull?   True\n",
      "\n",
      "numpy inf is of type  <class 'float'> pd.isnull?   False\n"
     ]
    }
   ],
   "source": [
    "import math\n",
    "print('python None is of type ', type(None),  \n",
    "      'pd.isnull?  ', pd.isnull(None))\n",
    "print('math nan is of type ', type(math.nan),  \n",
    "      'pd.isnull?  ', pd.isnull(math.nan))\n",
    "print('numpy nan is of type ', type(np.nan),  \n",
    "      'pd.isnull?  ', pd.isnull(np.nan))\n",
    "\n",
    "print('\\nnumpy inf is of type ', type(np.inf),  \n",
    "      pd.isnull?  ', pd.isnull(np.inf))\n"
   ]
  },
  {
   "cell_type": "markdown",
   "metadata": {},
   "source": [
    "### Beware of direct comparison\n",
    "NaN values do not compare as you might expect them to. They are basically incomparable. In this example compating np.nan to itself returns False.\n",
    "Instead use the isna or isnull function. The isnull method is an alias of the isna method.\n",
    "\n",
    "see\n",
    "https://pandas.pydata.org/pandas-docs/stable/reference/api/pandas.isnull.html \n",
    "\n",
    "or \n",
    "\n",
    "https://pandas.pydata.org/pandas-docs/stable/reference/api/pandas.DataFrame.isna.html"
   ]
  },
  {
   "cell_type": "code",
   "execution_count": 7,
   "metadata": {
    "scrolled": true
   },
   "outputs": [
    {
     "name": "stdout",
     "output_type": "stream",
     "text": [
      "np.nan == np.nan returns  False\n",
      "\n",
      "pd.isnull(np.nan)returns  True\n",
      " \n",
      "Are pd.isnull() and pd.isna() equivalent? True\n"
     ]
    }
   ],
   "source": [
    "print('np.nan == np.nan returns ', np.nan == np.nan) \n",
    "print('\\npd.isnull(np.nan)returns ', pd.isnull(np.nan)) \n",
    "\n",
    "print(' \\nAre pd.isnull() and pd.isna() equivalent?', pd.isnull == pd.isna)\n",
    "\n"
   ]
  },
  {
   "cell_type": "markdown",
   "metadata": {},
   "source": [
    "### Strings"
   ]
  },
  {
   "cell_type": "code",
   "execution_count": 40,
   "metadata": {},
   "outputs": [
    {
     "name": "stdout",
     "output_type": "stream",
     "text": [
      "The default datatype for a Series made from a list is:  object\n",
      "The datatype of np.nan as an object is  <class 'float'>\n",
      "\n",
      "when forced to a string:\n",
      "\n",
      "0       A\n",
      "1       B\n",
      "2       C\n",
      "3    <NA>\n",
      "4       d\n",
      "dtype: string\n",
      "The datatype of np.nan as a string is  <class 'pandas._libs.missing.NAType'> \n",
      "   is it na?  True\n"
     ]
    }
   ],
   "source": [
    "sObj = pd.Series(['A', 'B', 'C',np.nan, 'd'])\n",
    "print('The default datatype for a Series made from a list is: ',sObj.dtype)\n",
    "print('The datatype of np.nan as an object is ', type(sObj[3]))\n",
    "\n",
    "s = pd.Series(['A', 'B', 'C',  np.nan, 'd'], dtype=\"string\")\n",
    "print('\\nwhen forced to a string:\\n')\n",
    "print(s)\n",
    "print('The datatype of np.nan as a string is ', type(s[3]),\n",
    "     '\\n   is it na? ', pd.isnull(s[3]))"
   ]
  },
  {
   "cell_type": "markdown",
   "metadata": {},
   "source": [
    "### Date Times"
   ]
  },
  {
   "cell_type": "code",
   "execution_count": 41,
   "metadata": {},
   "outputs": [
    {
     "name": "stdout",
     "output_type": "stream",
     "text": [
      "Pandas NaT is of type  <class 'pandas._libs.tslibs.nattype.NaTType'> \n",
      "    pd.isnull?   True\n"
     ]
    }
   ],
   "source": [
    "print('Pandas NaT is of type ', type(pd.NaT),  \n",
    "        '\\n    pd.isnull?  ', pd.isnull(pd.NaT))\n"
   ]
  },
  {
   "cell_type": "markdown",
   "metadata": {},
   "source": [
    "### Categorical data\n",
    "The categorical datatype in pandas is a structure with an underlying integer array of codes  Each code represents a category value. Think of this as the categorical structure having a dictionary of integer keys with which to look up the values. This can save memory when the values are large (like long strings). A code of -1 represents a missing value."
   ]
  },
  {
   "cell_type": "code",
   "execution_count": 43,
   "metadata": {},
   "outputs": [
    {
     "name": "stdout",
     "output_type": "stream",
     "text": [
      "[a, b, NaN, a, b, NaN]\n",
      "Categories (2, object): [b < a]\n",
      "Codes for cat are  [ 1  0 -1  1  0 -1]\n"
     ]
    }
   ],
   "source": [
    "cat = pd.Categorical(values = ['a', 'b', np.nan, 'a', 'b', 'c'], \n",
    "               categories=['b','a'],\n",
    "              ordered=True)\n",
    "print(cat)\n",
    "print('Codes for cat are ', cat.codes)"
   ]
  },
  {
   "cell_type": "code",
   "execution_count": 46,
   "metadata": {},
   "outputs": [
    {
     "name": "stdout",
     "output_type": "stream",
     "text": [
      "0      a\n",
      "1     22\n",
      "2      c\n",
      "3    NaN\n",
      "4      a\n",
      "dtype: category\n",
      "Categories (3, object): [22, a, c]\n",
      "\n",
      "The datatype of the first value is  <class 'str'>\n",
      "\\The datatype of the second value is  <class 'int'>\n",
      "\n",
      "The datatype of np.nan as a categorical is  <class 'float'>\n"
     ]
    }
   ],
   "source": [
    "c = pd.Series([\"a\", 22, \"c\", np.nan , \"a\"], dtype=\"category\")\n",
    "print(c)\n",
    "\n",
    "print('\\nThe datatype of the first value is ', type(c[0]))\n",
    "print('\\The datatype of the second value is ', type(c[1]))\n",
    "\n",
    "print('\\nThe datatype of np.nan as a categorical is ', type(c[3]))\n"
   ]
  },
  {
   "cell_type": "code",
   "execution_count": 52,
   "metadata": {},
   "outputs": [
    {
     "name": "stdout",
     "output_type": "stream",
     "text": [
      " log of  -1.0  returns  nan \n",
      " which is of type  <class 'numpy.float64'>\n"
     ]
    }
   ],
   "source": [
    "s1 = pd.Series([1.0,-1.0])\n",
    "rottenLog = np.log(s1)\n",
    "print(' log of ', s1[1], ' returns ', rottenLog[1], \n",
    "      '\\n which is of type ', type(rottenLog[1]))"
   ]
  },
  {
   "cell_type": "code",
   "execution_count": null,
   "metadata": {},
   "outputs": [],
   "source": []
  }
 ],
 "metadata": {
  "kernelspec": {
   "display_name": "Python 3 (ipykernel)",
   "language": "python",
   "name": "python3"
  },
  "language_info": {
   "codemirror_mode": {
    "name": "ipython",
    "version": 3
   },
   "file_extension": ".py",
   "mimetype": "text/x-python",
   "name": "python",
   "nbconvert_exporter": "python",
   "pygments_lexer": "ipython3",
   "version": "3.7.11"
  }
 },
 "nbformat": 4,
 "nbformat_minor": 4
}
